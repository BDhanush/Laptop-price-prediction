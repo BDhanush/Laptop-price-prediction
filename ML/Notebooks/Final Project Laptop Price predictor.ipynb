{
 "cells": [
  {
   "cell_type": "markdown",
   "id": "a499690a",
   "metadata": {},
   "source": [
    "# Laptop price prediction\n",
    "\n"
   ]
  },
  {
   "cell_type": "markdown",
   "id": "fe9fb9ed",
   "metadata": {},
   "source": [
    "**Group members :-**\n",
    "* Dhanush Bommavaram\n",
    "* Sreevaatsav Bavana\n",
    "* Chaitanya Srikanth\n",
   ]
  },
  {
   "cell_type": "code",
   "execution_count": 1,
   "id": "4120cd30",
   "metadata": {},
   "outputs": [],
   "source": [
    "# Data-preprocessing libraries needed\n",
    "\n",
    "import time\n",
    "import numpy as np\n",
    "import pandas as pd\n",
    "from matplotlib import pyplot as plt\n",
    "import seaborn as sns"
   ]
  },
  {
   "cell_type": "code",
   "execution_count": 2,
   "id": "dca7600e",
   "metadata": {},
   "outputs": [
    {
     "data": {
      "text/html": [
       "<div>\n",
       "<style scoped>\n",
       "    .dataframe tbody tr th:only-of-type {\n",
       "        vertical-align: middle;\n",
       "    }\n",
       "\n",
       "    .dataframe tbody tr th {\n",
       "        vertical-align: top;\n",
       "    }\n",
       "\n",
       "    .dataframe thead th {\n",
       "        text-align: right;\n",
       "    }\n",
       "</style>\n",
       "<table border=\"1\" class=\"dataframe\">\n",
       "  <thead>\n",
       "    <tr style=\"text-align: right;\">\n",
       "      <th></th>\n",
       "      <th>Unnamed: 0</th>\n",
       "      <th>link</th>\n",
       "      <th>name</th>\n",
       "      <th>user rating</th>\n",
       "      <th>Price</th>\n",
       "      <th>Sales Package</th>\n",
       "      <th>Model Number</th>\n",
       "      <th>Part Number</th>\n",
       "      <th>Model Name</th>\n",
       "      <th>Series</th>\n",
       "      <th>...</th>\n",
       "      <th>Security Chip</th>\n",
       "      <th>Inbuilt 4G LTE</th>\n",
       "      <th>Cloud Storage</th>\n",
       "      <th>S-video</th>\n",
       "      <th>Dock Port</th>\n",
       "      <th>Firewire Port</th>\n",
       "      <th>RJ11</th>\n",
       "      <th>Read/Write Speed</th>\n",
       "      <th>EMMC Storage Capacity</th>\n",
       "      <th>Optane Memory</th>\n",
       "    </tr>\n",
       "  </thead>\n",
       "  <tbody>\n",
       "    <tr>\n",
       "      <th>0</th>\n",
       "      <td>0</td>\n",
       "      <td>https://www.flipkart.com/asus-rog-strix-scar-1...</td>\n",
       "      <td>asus rog strix scar 17 core i9 12th gen - (32 ...</td>\n",
       "      <td>5.0</td>\n",
       "      <td>₹2,34,990</td>\n",
       "      <td>laptop, power adaptor, user guide, warranty do...</td>\n",
       "      <td>g733zw-ll139ws</td>\n",
       "      <td>90nr08g2-m007s0</td>\n",
       "      <td>g733zw-ll139ws</td>\n",
       "      <td>rog strix scar 17</td>\n",
       "      <td>...</td>\n",
       "      <td>nan</td>\n",
       "      <td>nan</td>\n",
       "      <td>nan</td>\n",
       "      <td>nan</td>\n",
       "      <td>nan</td>\n",
       "      <td>nan</td>\n",
       "      <td>nan</td>\n",
       "      <td>nan</td>\n",
       "      <td>nan</td>\n",
       "      <td>nan</td>\n",
       "    </tr>\n",
       "    <tr>\n",
       "      <th>1</th>\n",
       "      <td>1</td>\n",
       "      <td>https://www.flipkart.com/asus-rog-strix-scar-1...</td>\n",
       "      <td>asus rog strix scar 15 core i9 12th gen - (32 ...</td>\n",
       "      <td>nan</td>\n",
       "      <td>₹2,29,990</td>\n",
       "      <td>laptop, power adaptor, user guide, warranty do...</td>\n",
       "      <td>g533zw-ln136ws</td>\n",
       "      <td>90nr0872-m007l0</td>\n",
       "      <td>g533zw-ln136ws</td>\n",
       "      <td>rog strix scar 15</td>\n",
       "      <td>...</td>\n",
       "      <td>nan</td>\n",
       "      <td>nan</td>\n",
       "      <td>nan</td>\n",
       "      <td>nan</td>\n",
       "      <td>nan</td>\n",
       "      <td>nan</td>\n",
       "      <td>nan</td>\n",
       "      <td>nan</td>\n",
       "      <td>nan</td>\n",
       "      <td>nan</td>\n",
       "    </tr>\n",
       "    <tr>\n",
       "      <th>2</th>\n",
       "      <td>2</td>\n",
       "      <td>https://www.flipkart.com/hp-victus-ryzen-7-oct...</td>\n",
       "      <td>hp victus ryzen 7 octa core 5800h - (16 gb/512...</td>\n",
       "      <td>nan</td>\n",
       "      <td>₹1,04,091</td>\n",
       "      <td>laptop, battery, adapter, cables and user manuals</td>\n",
       "      <td>16-e0351ax</td>\n",
       "      <td>552x1pa#acj</td>\n",
       "      <td>16-e0351ax</td>\n",
       "      <td>victus</td>\n",
       "      <td>...</td>\n",
       "      <td>nan</td>\n",
       "      <td>nan</td>\n",
       "      <td>nan</td>\n",
       "      <td>nan</td>\n",
       "      <td>nan</td>\n",
       "      <td>nan</td>\n",
       "      <td>nan</td>\n",
       "      <td>nan</td>\n",
       "      <td>nan</td>\n",
       "      <td>nan</td>\n",
       "    </tr>\n",
       "    <tr>\n",
       "      <th>3</th>\n",
       "      <td>3</td>\n",
       "      <td>https://www.flipkart.com/lenovo-ideapad-gaming...</td>\n",
       "      <td>lenovo ideapad gaming 3i ryzen 7 octa core r7-...</td>\n",
       "      <td>nan</td>\n",
       "      <td>₹87,717</td>\n",
       "      <td>laptop, power adaptor, user guide, warranty do...</td>\n",
       "      <td>15ach6</td>\n",
       "      <td>82k201rsin</td>\n",
       "      <td>ideapad gaming 3</td>\n",
       "      <td>ideapad gaming 3i</td>\n",
       "      <td>...</td>\n",
       "      <td>nan</td>\n",
       "      <td>nan</td>\n",
       "      <td>nan</td>\n",
       "      <td>nan</td>\n",
       "      <td>nan</td>\n",
       "      <td>nan</td>\n",
       "      <td>nan</td>\n",
       "      <td>nan</td>\n",
       "      <td>nan</td>\n",
       "      <td>nan</td>\n",
       "    </tr>\n",
       "    <tr>\n",
       "      <th>4</th>\n",
       "      <td>4</td>\n",
       "      <td>https://www.flipkart.com/lenovo-yoga-slim-7-co...</td>\n",
       "      <td>lenovo yoga slim 7 core i5 11th gen - (16 gb/5...</td>\n",
       "      <td>nan</td>\n",
       "      <td>₹75,990</td>\n",
       "      <td>laptop, adaptor</td>\n",
       "      <td>82a300mbin</td>\n",
       "      <td>1ls2b001653</td>\n",
       "      <td>yoga slim 7 14itl05</td>\n",
       "      <td>yoga slim 7</td>\n",
       "      <td>...</td>\n",
       "      <td>nan</td>\n",
       "      <td>nan</td>\n",
       "      <td>nan</td>\n",
       "      <td>nan</td>\n",
       "      <td>nan</td>\n",
       "      <td>nan</td>\n",
       "      <td>nan</td>\n",
       "      <td>nan</td>\n",
       "      <td>nan</td>\n",
       "      <td>nan</td>\n",
       "    </tr>\n",
       "    <tr>\n",
       "      <th>...</th>\n",
       "      <td>...</td>\n",
       "      <td>...</td>\n",
       "      <td>...</td>\n",
       "      <td>...</td>\n",
       "      <td>...</td>\n",
       "      <td>...</td>\n",
       "      <td>...</td>\n",
       "      <td>...</td>\n",
       "      <td>...</td>\n",
       "      <td>...</td>\n",
       "      <td>...</td>\n",
       "      <td>...</td>\n",
       "      <td>...</td>\n",
       "      <td>...</td>\n",
       "      <td>...</td>\n",
       "      <td>...</td>\n",
       "      <td>...</td>\n",
       "      <td>...</td>\n",
       "      <td>...</td>\n",
       "      <td>...</td>\n",
       "      <td>...</td>\n",
       "    </tr>\n",
       "    <tr>\n",
       "      <th>979</th>\n",
       "      <td>979</td>\n",
       "      <td>https://www.flipkart.com/nokia-purebook-x14-co...</td>\n",
       "      <td>nokia purebook x14 core i5 10th gen - (8 gb/51...</td>\n",
       "      <td>4.4</td>\n",
       "      <td>₹53,990</td>\n",
       "      <td>laptop, power adaptor, user guide with warrant...</td>\n",
       "      <td>nki510ul85s</td>\n",
       "      <td>nki510ul85s</td>\n",
       "      <td>nan</td>\n",
       "      <td>purebook x14</td>\n",
       "      <td>...</td>\n",
       "      <td>nan</td>\n",
       "      <td>nan</td>\n",
       "      <td>nan</td>\n",
       "      <td>nan</td>\n",
       "      <td>nan</td>\n",
       "      <td>nan</td>\n",
       "      <td>nan</td>\n",
       "      <td>nan</td>\n",
       "      <td>nan</td>\n",
       "      <td>nan</td>\n",
       "    </tr>\n",
       "    <tr>\n",
       "      <th>980</th>\n",
       "      <td>980</td>\n",
       "      <td>https://www.flipkart.com/hp-spectre-folio-core...</td>\n",
       "      <td>hp spectre folio core i7 10th gen - (16 gb/512...</td>\n",
       "      <td>nan</td>\n",
       "      <td>₹2,39,759</td>\n",
       "      <td>laptop, power adaptor, user guide, warranty do...</td>\n",
       "      <td>13-ak1004tu</td>\n",
       "      <td>3p296pa</td>\n",
       "      <td>nan</td>\n",
       "      <td>spectre folio</td>\n",
       "      <td>...</td>\n",
       "      <td>nan</td>\n",
       "      <td>nan</td>\n",
       "      <td>nan</td>\n",
       "      <td>nan</td>\n",
       "      <td>nan</td>\n",
       "      <td>nan</td>\n",
       "      <td>nan</td>\n",
       "      <td>nan</td>\n",
       "      <td>nan</td>\n",
       "      <td>nan</td>\n",
       "    </tr>\n",
       "    <tr>\n",
       "      <th>981</th>\n",
       "      <td>981</td>\n",
       "      <td>https://www.flipkart.com/hp-envy-x360-ryzen-5-...</td>\n",
       "      <td>hp envy x360 ryzen 5 hexa core 4500u - (8 gb/5...</td>\n",
       "      <td>nan</td>\n",
       "      <td>₹85,555</td>\n",
       "      <td>laptop, power adaptor, user guide, warranty do...</td>\n",
       "      <td>13-ay0078au</td>\n",
       "      <td>17j58pa</td>\n",
       "      <td>nan</td>\n",
       "      <td>envy x360</td>\n",
       "      <td>...</td>\n",
       "      <td>nan</td>\n",
       "      <td>nan</td>\n",
       "      <td>nan</td>\n",
       "      <td>nan</td>\n",
       "      <td>nan</td>\n",
       "      <td>nan</td>\n",
       "      <td>nan</td>\n",
       "      <td>nan</td>\n",
       "      <td>nan</td>\n",
       "      <td>nan</td>\n",
       "    </tr>\n",
       "    <tr>\n",
       "      <th>982</th>\n",
       "      <td>982</td>\n",
       "      <td>https://www.flipkart.com/hp-14a-celeron-dual-c...</td>\n",
       "      <td>hp 14a celeron dual core - (4 gb/64 gb emmc st...</td>\n",
       "      <td>3.6</td>\n",
       "      <td>₹26,990</td>\n",
       "      <td>laptop, power adaptor, user guide, warranty do...</td>\n",
       "      <td>14a- na0002tu</td>\n",
       "      <td>2z326pa</td>\n",
       "      <td>nan</td>\n",
       "      <td>14a</td>\n",
       "      <td>...</td>\n",
       "      <td>nan</td>\n",
       "      <td>nan</td>\n",
       "      <td>nan</td>\n",
       "      <td>nan</td>\n",
       "      <td>nan</td>\n",
       "      <td>nan</td>\n",
       "      <td>nan</td>\n",
       "      <td>nan</td>\n",
       "      <td>64 gb</td>\n",
       "      <td>nan</td>\n",
       "    </tr>\n",
       "    <tr>\n",
       "      <th>983</th>\n",
       "      <td>983</td>\n",
       "      <td>https://www.flipkart.com/lenovo-core-i3-10th-g...</td>\n",
       "      <td>lenovo core i3 10th gen - (4 gb/1 tb hdd/windo...</td>\n",
       "      <td>3.1</td>\n",
       "      <td>₹44,590</td>\n",
       "      <td>laptop, power adaptor, user guide, warranty do...</td>\n",
       "      <td>v14</td>\n",
       "      <td>82c4a00lih</td>\n",
       "      <td>nan</td>\n",
       "      <td>nan</td>\n",
       "      <td>...</td>\n",
       "      <td>tpm</td>\n",
       "      <td>nan</td>\n",
       "      <td>nan</td>\n",
       "      <td>nan</td>\n",
       "      <td>nan</td>\n",
       "      <td>nan</td>\n",
       "      <td>nan</td>\n",
       "      <td>nan</td>\n",
       "      <td>nan</td>\n",
       "      <td>nan</td>\n",
       "    </tr>\n",
       "  </tbody>\n",
       "</table>\n",
       "<p>984 rows × 98 columns</p>\n",
       "</div>"
      ],
      "text/plain": [
       "    Unnamed: 0                                               link  \\\n",
       "0            0  https://www.flipkart.com/asus-rog-strix-scar-1...   \n",
       "1            1  https://www.flipkart.com/asus-rog-strix-scar-1...   \n",
       "2            2  https://www.flipkart.com/hp-victus-ryzen-7-oct...   \n",
       "3            3  https://www.flipkart.com/lenovo-ideapad-gaming...   \n",
       "4            4  https://www.flipkart.com/lenovo-yoga-slim-7-co...   \n",
       "..         ...                                                ...   \n",
       "979        979  https://www.flipkart.com/nokia-purebook-x14-co...   \n",
       "980        980  https://www.flipkart.com/hp-spectre-folio-core...   \n",
       "981        981  https://www.flipkart.com/hp-envy-x360-ryzen-5-...   \n",
       "982        982  https://www.flipkart.com/hp-14a-celeron-dual-c...   \n",
       "983        983  https://www.flipkart.com/lenovo-core-i3-10th-g...   \n",
       "\n",
       "                                                  name user rating      Price  \\\n",
       "0    asus rog strix scar 17 core i9 12th gen - (32 ...         5.0  ₹2,34,990   \n",
       "1    asus rog strix scar 15 core i9 12th gen - (32 ...         nan  ₹2,29,990   \n",
       "2    hp victus ryzen 7 octa core 5800h - (16 gb/512...         nan  ₹1,04,091   \n",
       "3    lenovo ideapad gaming 3i ryzen 7 octa core r7-...         nan    ₹87,717   \n",
       "4    lenovo yoga slim 7 core i5 11th gen - (16 gb/5...         nan    ₹75,990   \n",
       "..                                                 ...         ...        ...   \n",
       "979  nokia purebook x14 core i5 10th gen - (8 gb/51...         4.4    ₹53,990   \n",
       "980  hp spectre folio core i7 10th gen - (16 gb/512...         nan  ₹2,39,759   \n",
       "981  hp envy x360 ryzen 5 hexa core 4500u - (8 gb/5...         nan    ₹85,555   \n",
       "982  hp 14a celeron dual core - (4 gb/64 gb emmc st...         3.6    ₹26,990   \n",
       "983  lenovo core i3 10th gen - (4 gb/1 tb hdd/windo...         3.1    ₹44,590   \n",
       "\n",
       "                                         Sales Package    Model Number  \\\n",
       "0    laptop, power adaptor, user guide, warranty do...  g733zw-ll139ws   \n",
       "1    laptop, power adaptor, user guide, warranty do...  g533zw-ln136ws   \n",
       "2    laptop, battery, adapter, cables and user manuals      16-e0351ax   \n",
       "3    laptop, power adaptor, user guide, warranty do...          15ach6   \n",
       "4                                      laptop, adaptor      82a300mbin   \n",
       "..                                                 ...             ...   \n",
       "979  laptop, power adaptor, user guide with warrant...     nki510ul85s   \n",
       "980  laptop, power adaptor, user guide, warranty do...     13-ak1004tu   \n",
       "981  laptop, power adaptor, user guide, warranty do...     13-ay0078au   \n",
       "982  laptop, power adaptor, user guide, warranty do...   14a- na0002tu   \n",
       "983  laptop, power adaptor, user guide, warranty do...             v14   \n",
       "\n",
       "         Part Number           Model Name             Series  ...  \\\n",
       "0    90nr08g2-m007s0       g733zw-ll139ws  rog strix scar 17  ...   \n",
       "1    90nr0872-m007l0       g533zw-ln136ws  rog strix scar 15  ...   \n",
       "2        552x1pa#acj           16-e0351ax             victus  ...   \n",
       "3         82k201rsin     ideapad gaming 3  ideapad gaming 3i  ...   \n",
       "4        1ls2b001653  yoga slim 7 14itl05        yoga slim 7  ...   \n",
       "..               ...                  ...                ...  ...   \n",
       "979      nki510ul85s                  nan       purebook x14  ...   \n",
       "980          3p296pa                  nan      spectre folio  ...   \n",
       "981          17j58pa                  nan          envy x360  ...   \n",
       "982          2z326pa                  nan                14a  ...   \n",
       "983       82c4a00lih                  nan                nan  ...   \n",
       "\n",
       "    Security Chip Inbuilt 4G LTE Cloud Storage S-video Dock Port  \\\n",
       "0             nan            nan           nan     nan       nan   \n",
       "1             nan            nan           nan     nan       nan   \n",
       "2             nan            nan           nan     nan       nan   \n",
       "3             nan            nan           nan     nan       nan   \n",
       "4             nan            nan           nan     nan       nan   \n",
       "..            ...            ...           ...     ...       ...   \n",
       "979           nan            nan           nan     nan       nan   \n",
       "980           nan            nan           nan     nan       nan   \n",
       "981           nan            nan           nan     nan       nan   \n",
       "982           nan            nan           nan     nan       nan   \n",
       "983           tpm            nan           nan     nan       nan   \n",
       "\n",
       "    Firewire Port RJ11 Read/Write Speed EMMC Storage Capacity Optane Memory  \n",
       "0             nan  nan              nan                   nan           nan  \n",
       "1             nan  nan              nan                   nan           nan  \n",
       "2             nan  nan              nan                   nan           nan  \n",
       "3             nan  nan              nan                   nan           nan  \n",
       "4             nan  nan              nan                   nan           nan  \n",
       "..            ...  ...              ...                   ...           ...  \n",
       "979           nan  nan              nan                   nan           nan  \n",
       "980           nan  nan              nan                   nan           nan  \n",
       "981           nan  nan              nan                   nan           nan  \n",
       "982           nan  nan              nan                 64 gb           nan  \n",
       "983           nan  nan              nan                   nan           nan  \n",
       "\n",
       "[984 rows x 98 columns]"
      ]
     },
     "execution_count": 2,
     "metadata": {},
     "output_type": "execute_result"
    }
   ],
   "source": [
    "# We load the data in lowercase for better data processing\n",
    "\n",
    "df1 = pd.read_excel(\"C:\\\\Users\\\\srevaatsav\\\\Downloads\\\\complete laptop data0.xlsx\").apply(lambda x: x.astype(str).str.lower())\n",
    "df1\n",
    "\n",
    "# Latest data --> Last week's data from flipkart's laptop catalogue"
   ]
  },
  {
   "cell_type": "code",
   "execution_count": 3,
   "id": "2bdb1f6f",
   "metadata": {},
   "outputs": [
    {
     "data": {
      "text/html": [
       "<div>\n",
       "<style scoped>\n",
       "    .dataframe tbody tr th:only-of-type {\n",
       "        vertical-align: middle;\n",
       "    }\n",
       "\n",
       "    .dataframe tbody tr th {\n",
       "        vertical-align: top;\n",
       "    }\n",
       "\n",
       "    .dataframe thead th {\n",
       "        text-align: right;\n",
       "    }\n",
       "</style>\n",
       "<table border=\"1\" class=\"dataframe\">\n",
       "  <thead>\n",
       "    <tr style=\"text-align: right;\">\n",
       "      <th></th>\n",
       "      <th>count</th>\n",
       "      <th>unique</th>\n",
       "      <th>top</th>\n",
       "      <th>freq</th>\n",
       "    </tr>\n",
       "  </thead>\n",
       "  <tbody>\n",
       "    <tr>\n",
       "      <th>Unnamed: 0</th>\n",
       "      <td>984</td>\n",
       "      <td>984</td>\n",
       "      <td>966</td>\n",
       "      <td>1</td>\n",
       "    </tr>\n",
       "    <tr>\n",
       "      <th>link</th>\n",
       "      <td>984</td>\n",
       "      <td>984</td>\n",
       "      <td>https://www.flipkart.com/acer-aspire-3-core-i5...</td>\n",
       "      <td>1</td>\n",
       "    </tr>\n",
       "    <tr>\n",
       "      <th>name</th>\n",
       "      <td>984</td>\n",
       "      <td>940</td>\n",
       "      <td>asus rog strix g15 (2021) ryzen 7 octa core 48...</td>\n",
       "      <td>2</td>\n",
       "    </tr>\n",
       "    <tr>\n",
       "      <th>user rating</th>\n",
       "      <td>984</td>\n",
       "      <td>29</td>\n",
       "      <td>nan</td>\n",
       "      <td>294</td>\n",
       "    </tr>\n",
       "    <tr>\n",
       "      <th>Price</th>\n",
       "      <td>984</td>\n",
       "      <td>433</td>\n",
       "      <td>₹40,990</td>\n",
       "      <td>16</td>\n",
       "    </tr>\n",
       "    <tr>\n",
       "      <th>...</th>\n",
       "      <td>...</td>\n",
       "      <td>...</td>\n",
       "      <td>...</td>\n",
       "      <td>...</td>\n",
       "    </tr>\n",
       "    <tr>\n",
       "      <th>Firewire Port</th>\n",
       "      <td>984</td>\n",
       "      <td>2</td>\n",
       "      <td>nan</td>\n",
       "      <td>950</td>\n",
       "    </tr>\n",
       "    <tr>\n",
       "      <th>RJ11</th>\n",
       "      <td>984</td>\n",
       "      <td>2</td>\n",
       "      <td>nan</td>\n",
       "      <td>943</td>\n",
       "    </tr>\n",
       "    <tr>\n",
       "      <th>Read/Write Speed</th>\n",
       "      <td>984</td>\n",
       "      <td>3</td>\n",
       "      <td>nan</td>\n",
       "      <td>980</td>\n",
       "    </tr>\n",
       "    <tr>\n",
       "      <th>EMMC Storage Capacity</th>\n",
       "      <td>984</td>\n",
       "      <td>5</td>\n",
       "      <td>nan</td>\n",
       "      <td>960</td>\n",
       "    </tr>\n",
       "    <tr>\n",
       "      <th>Optane Memory</th>\n",
       "      <td>984</td>\n",
       "      <td>2</td>\n",
       "      <td>nan</td>\n",
       "      <td>978</td>\n",
       "    </tr>\n",
       "  </tbody>\n",
       "</table>\n",
       "<p>98 rows × 4 columns</p>\n",
       "</div>"
      ],
      "text/plain": [
       "                      count unique  \\\n",
       "Unnamed: 0              984    984   \n",
       "link                    984    984   \n",
       "name                    984    940   \n",
       "user rating             984     29   \n",
       "Price                   984    433   \n",
       "...                     ...    ...   \n",
       "Firewire Port           984      2   \n",
       "RJ11                    984      2   \n",
       "Read/Write Speed        984      3   \n",
       "EMMC Storage Capacity   984      5   \n",
       "Optane Memory           984      2   \n",
       "\n",
       "                                                                     top freq  \n",
       "Unnamed: 0                                                           966    1  \n",
       "link                   https://www.flipkart.com/acer-aspire-3-core-i5...    1  \n",
       "name                   asus rog strix g15 (2021) ryzen 7 octa core 48...    2  \n",
       "user rating                                                          nan  294  \n",
       "Price                                                            ₹40,990   16  \n",
       "...                                                                  ...  ...  \n",
       "Firewire Port                                                        nan  950  \n",
       "RJ11                                                                 nan  943  \n",
       "Read/Write Speed                                                     nan  980  \n",
       "EMMC Storage Capacity                                                nan  960  \n",
       "Optane Memory                                                        nan  978  \n",
       "\n",
       "[98 rows x 4 columns]"
      ]
     },
     "execution_count": 3,
     "metadata": {},
     "output_type": "execute_result"
    }
   ],
   "source": [
    "df2 = df1.copy()\n",
    "df2.describe().T"
   ]
  },
  {
   "cell_type": "code",
   "execution_count": 4,
   "id": "86eb79c8",
   "metadata": {},
   "outputs": [
    {
     "data": {
      "text/plain": [
       "(Index(['Unnamed: 0', 'link', 'name', 'user rating', 'Price', 'Sales Package',\n",
       "        'Model Number', 'Part Number', 'Model Name', 'Series', 'Color', 'Type',\n",
       "        'Suitable For', 'Power Supply', 'Battery Cell', 'MS Office Provided',\n",
       "        'Dedicated Graphic Memory Type', 'Dedicated Graphic Memory Capacity',\n",
       "        'Processor Brand', 'Processor Name', 'Processor Generation', 'SSD',\n",
       "        'SSD Capacity', 'RAM', 'RAM Type', 'Processor Variant', 'Clock Speed',\n",
       "        'Expandable Memory', 'Cache', 'Graphic Processor', 'Number of Cores',\n",
       "        'OS Architecture', 'Operating System', 'Supported Operating System',\n",
       "        'Mic In', 'USB Port', 'HDMI Port', 'Touchscreen', 'Screen Size',\n",
       "        'Screen Resolution', 'Screen Type', 'Speakers', 'Internal Mic',\n",
       "        'Sound Properties', 'Wireless LAN', 'Bluetooth', 'Dimensions', 'Weight',\n",
       "        'Disk Drive', 'Finger Print Sensor', 'Keyboard', 'Backlit Keyboard',\n",
       "        'Additional Features', 'Warranty Summary', 'Warranty Service Type',\n",
       "        'Covered in Warranty', 'Not Covered in Warranty', 'Domestic Warranty',\n",
       "        'Ethernet', 'Web Camera', 'Pointer Device', 'Included Software',\n",
       "        'Battery Backup', 'Chipset', 'Memory Slots', 'RAM Frequency', 'RJ45',\n",
       "        'Sound Chip', 'Brightness', 'Laptop Bag', 'Other Accessories',\n",
       "        'International Warranty', 'Wireless WAN', 'Recovery Options', 'RPM',\n",
       "        'Hardware Interface', 'Face Recognition', 'System Architecture',\n",
       "        'Refresh Rate', 'Antivirus', 'Multi Card Slot', 'Lock Port',\n",
       "        'NFC Support', 'HDD Capacity', 'Stylus Included', 'TGP', 'VGA Port',\n",
       "        'Color Gamut', 'Security Chip', 'Inbuilt 4G LTE', 'Cloud Storage',\n",
       "        'S-video', 'Dock Port', 'Firewire Port', 'RJ11', 'Read/Write Speed',\n",
       "        'EMMC Storage Capacity', 'Optane Memory'],\n",
       "       dtype='object'),\n",
       " 98)"
      ]
     },
     "execution_count": 4,
     "metadata": {},
     "output_type": "execute_result"
    }
   ],
   "source": [
    "df1.columns, len(df1.columns)"
   ]
  },
  {
   "cell_type": "markdown",
   "id": "8e8e1645",
   "metadata": {},
   "source": [
    "## Data cleaning and preprocessing"
   ]
  },
  {
   "cell_type": "code",
   "execution_count": 5,
   "id": "f63ad489",
   "metadata": {},
   "outputs": [],
   "source": [
    "# Deleting some unwanted features\n",
    "\n",
    "del df1[\"Dock Port\"]\n",
    "del df1[\"Firewire Port\"]\n",
    "del df1[\"Optane Memory\"]\n",
    "del df1[\"RJ11\"]\n",
    "del df1[\"Lock Port\"]\n",
    "del df1[\"Color Gamut\"]\n",
    "del df1[\"S-video\"]\n",
    "del df1[\"Laptop Bag\"]\n",
    "del df1[\"RPM\"]\n",
    "del df1[\"Antivirus\"]\n",
    "del df1[\"Stylus Included\"]\n",
    "del df1[\"TGP\"]\n",
    "del df1[\"VGA Port\"]\n",
    "del df1[\"Security Chip\"]\n",
    "del df1[\"RJ45\"]\n",
    "del df1[\"Keyboard\"]\n",
    "del df1[\"Cache\"]\n",
    "del df1[\"Hardware Interface\"]\n",
    "del df1[\"Bluetooth\"]\n",
    "del df1[\"Other Accessories\"]\n",
    "del df1[\"Inbuilt 4G LTE\"]\n",
    "del df1[\"Domestic Warranty\"]\n",
    "del df1[\"International Warranty\"]\n",
    "del df1[\"Included Software\"]\n",
    "del df1[\"Internal Mic\"]\n",
    "del df1[\"MS Office Provided\"]\n",
    "del df1[\"Wireless LAN\"]\n",
    "del df1[\"Wireless WAN\"]\n",
    "del df1[\"Mic In\"]\n",
    "del df1[\"Cloud Storage\"]\n",
    "del df1[\"Dimensions\"]\n",
    "del df1[\"HDMI Port\"]\n",
    "del df1[\"Sound Properties\"]\n",
    "del df1[\"Sound Chip\"]\n",
    "del df1[\"Speakers\"]\n",
    "del df1[\"Additional Features\"]\n",
    "del df1[\"USB Port\"]\n",
    "del df1[\"Multi Card Slot\"]\n",
    "del df1[\"Unnamed: 0\"]\n",
    "del df1[\"Not Covered in Warranty\"]\n",
    "del df1[\"Covered in Warranty\"]\n",
    "del df1[\"Warranty Service Type\"]\n",
    "del df1[\"Warranty Summary\"]\n",
    "del df1[\"Ethernet\"]\n",
    "del df1[\"Pointer Device\"]\n",
    "del df1[\"RAM Frequency\"]\n",
    "del df1[\"Recovery Options\"]\n",
    "del df1[\"NFC Support\"]\n",
    "del df1[\"link\"]\n",
    "# del df1[\"user rating\"]\n",
    "del df1[\"user rating\"]\n",
    "del df1[\"Model Number\"]\n",
    "del df1[\"Memory Slots\"]\n",
    "del df1[\"Part Number\"]\n",
    "del df1[\"Suitable For\"]"
   ]
  },
  {
   "cell_type": "code",
   "execution_count": 6,
   "id": "390ad7a0",
   "metadata": {},
   "outputs": [
    {
     "data": {
      "text/plain": [
       "Index(['name', 'Price', 'Sales Package', 'Model Name', 'Series', 'Color',\n",
       "       'Type', 'Power Supply', 'Battery Cell', 'Dedicated Graphic Memory Type',\n",
       "       'Dedicated Graphic Memory Capacity', 'Processor Brand',\n",
       "       'Processor Name', 'Processor Generation', 'SSD', 'SSD Capacity', 'RAM',\n",
       "       'RAM Type', 'Processor Variant', 'Clock Speed', 'Expandable Memory',\n",
       "       'Graphic Processor', 'Number of Cores', 'OS Architecture',\n",
       "       'Operating System', 'Supported Operating System', 'Touchscreen',\n",
       "       'Screen Size', 'Screen Resolution', 'Screen Type', 'Weight',\n",
       "       'Disk Drive', 'Finger Print Sensor', 'Backlit Keyboard', 'Web Camera',\n",
       "       'Battery Backup', 'Chipset', 'Brightness', 'Face Recognition',\n",
       "       'System Architecture', 'Refresh Rate', 'HDD Capacity',\n",
       "       'Read/Write Speed', 'EMMC Storage Capacity'],\n",
       "      dtype='object')"
      ]
     },
     "execution_count": 6,
     "metadata": {},
     "output_type": "execute_result"
    }
   ],
   "source": [
    "df1.columns"
   ]
  },
  {
   "cell_type": "code",
   "execution_count": 7,
   "id": "5227cbdf",
   "metadata": {},
   "outputs": [],
   "source": [
    "from nltk.tokenize import word_tokenize\n",
    "\n",
    "brand_name = []\n",
    "for i in range(df1.shape[0]):\n",
    "    arr = word_tokenize(df1[\"name\"][i])\n",
    "    brand_name.append(arr[0])    "
   ]
  },
  {
   "cell_type": "code",
   "execution_count": 8,
   "id": "6bac10af",
   "metadata": {},
   "outputs": [],
   "source": [
    "brand = np.array(brand_name)"
   ]
  },
  {
   "cell_type": "code",
   "execution_count": 9,
   "id": "6cf4f845",
   "metadata": {},
   "outputs": [
    {
     "data": {
      "text/plain": [
       "array(['acer', 'apple', 'asus', 'avita', 'dell', 'hp', 'infinix',\n",
       "       'lenovo', 'lg', 'mi', 'msi', 'nokia', 'realme', 'redmibook',\n",
       "       'samsung', 'vaio'], dtype='<U9')"
      ]
     },
     "execution_count": 9,
     "metadata": {},
     "output_type": "execute_result"
    }
   ],
   "source": [
    "np.unique(brand)"
   ]
  },
  {
   "cell_type": "code",
   "execution_count": 10,
   "id": "43ce5e5a",
   "metadata": {},
   "outputs": [
    {
     "data": {
      "text/html": [
       "<div>\n",
       "<style scoped>\n",
       "    .dataframe tbody tr th:only-of-type {\n",
       "        vertical-align: middle;\n",
       "    }\n",
       "\n",
       "    .dataframe tbody tr th {\n",
       "        vertical-align: top;\n",
       "    }\n",
       "\n",
       "    .dataframe thead th {\n",
       "        text-align: right;\n",
       "    }\n",
       "</style>\n",
       "<table border=\"1\" class=\"dataframe\">\n",
       "  <thead>\n",
       "    <tr style=\"text-align: right;\">\n",
       "      <th></th>\n",
       "      <th>name</th>\n",
       "      <th>Price</th>\n",
       "      <th>Sales Package</th>\n",
       "      <th>Model Name</th>\n",
       "      <th>Series</th>\n",
       "      <th>Color</th>\n",
       "      <th>Type</th>\n",
       "      <th>Power Supply</th>\n",
       "      <th>Battery Cell</th>\n",
       "      <th>Dedicated Graphic Memory Type</th>\n",
       "      <th>...</th>\n",
       "      <th>Web Camera</th>\n",
       "      <th>Battery Backup</th>\n",
       "      <th>Chipset</th>\n",
       "      <th>Brightness</th>\n",
       "      <th>Face Recognition</th>\n",
       "      <th>System Architecture</th>\n",
       "      <th>Refresh Rate</th>\n",
       "      <th>HDD Capacity</th>\n",
       "      <th>Read/Write Speed</th>\n",
       "      <th>EMMC Storage Capacity</th>\n",
       "    </tr>\n",
       "  </thead>\n",
       "  <tbody>\n",
       "    <tr>\n",
       "      <th>4</th>\n",
       "      <td>lenovo yoga slim 7 core i5 11th gen - (16 gb/5...</td>\n",
       "      <td>₹75,990</td>\n",
       "      <td>laptop, adaptor</td>\n",
       "      <td>yoga slim 7 14itl05</td>\n",
       "      <td>yoga slim 7</td>\n",
       "      <td>slate grey</td>\n",
       "      <td>thin and light laptop</td>\n",
       "      <td>nan</td>\n",
       "      <td>nan</td>\n",
       "      <td>nan</td>\n",
       "      <td>...</td>\n",
       "      <td>yes</td>\n",
       "      <td>upto 12 hours</td>\n",
       "      <td>nan</td>\n",
       "      <td>nan</td>\n",
       "      <td>nan</td>\n",
       "      <td>nan</td>\n",
       "      <td>nan</td>\n",
       "      <td>nan</td>\n",
       "      <td>nan</td>\n",
       "      <td>nan</td>\n",
       "    </tr>\n",
       "    <tr>\n",
       "      <th>5</th>\n",
       "      <td>lenovo yoga slim 7 core i7 11th gen - (16 gb/5...</td>\n",
       "      <td>₹78,395</td>\n",
       "      <td>thin &amp; light laptop, power adaptor, user guide...</td>\n",
       "      <td>yoga slim 7</td>\n",
       "      <td>yoga slim 7</td>\n",
       "      <td>slate grey</td>\n",
       "      <td>thin and light laptop</td>\n",
       "      <td>65w usb-c ac adapter</td>\n",
       "      <td>nan</td>\n",
       "      <td>nan</td>\n",
       "      <td>...</td>\n",
       "      <td>ir + tof &amp; 720p hd with privacyshutter</td>\n",
       "      <td>upto 15 hours</td>\n",
       "      <td>intel soc</td>\n",
       "      <td>300 nits</td>\n",
       "      <td>nan</td>\n",
       "      <td>nan</td>\n",
       "      <td>nan</td>\n",
       "      <td>nan</td>\n",
       "      <td>nan</td>\n",
       "      <td>nan</td>\n",
       "    </tr>\n",
       "    <tr>\n",
       "      <th>6</th>\n",
       "      <td>lenovo lenovo v15 celeron dual core - (4 gb/25...</td>\n",
       "      <td>₹29,290</td>\n",
       "      <td>laptop &amp; adaptor</td>\n",
       "      <td>82c3(v15-igl)</td>\n",
       "      <td>lenovo v15</td>\n",
       "      <td>iron grey</td>\n",
       "      <td>thin and light laptop</td>\n",
       "      <td>nan</td>\n",
       "      <td>nan</td>\n",
       "      <td>nan</td>\n",
       "      <td>...</td>\n",
       "      <td>yes</td>\n",
       "      <td>upto 6 hours</td>\n",
       "      <td>nan</td>\n",
       "      <td>nan</td>\n",
       "      <td>nan</td>\n",
       "      <td>nan</td>\n",
       "      <td>nan</td>\n",
       "      <td>nan</td>\n",
       "      <td>nan</td>\n",
       "      <td>nan</td>\n",
       "    </tr>\n",
       "    <tr>\n",
       "      <th>7</th>\n",
       "      <td>lenovo yoga 6 ryzen 7 octa core r7-5700u 5th g...</td>\n",
       "      <td>₹91,308</td>\n",
       "      <td>2 in 1 laptop, power adaptor, user guide, warr...</td>\n",
       "      <td>yoga 6</td>\n",
       "      <td>yoga 6</td>\n",
       "      <td>abyss blue</td>\n",
       "      <td>2 in 1 laptop</td>\n",
       "      <td>45 w ac adapter</td>\n",
       "      <td>nan</td>\n",
       "      <td>nan</td>\n",
       "      <td>...</td>\n",
       "      <td>720p hd with privacyshutter</td>\n",
       "      <td>upto 18 hours</td>\n",
       "      <td>amd soc platform</td>\n",
       "      <td>300 nits</td>\n",
       "      <td>no</td>\n",
       "      <td>nan</td>\n",
       "      <td>nan</td>\n",
       "      <td>nan</td>\n",
       "      <td>nan</td>\n",
       "      <td>nan</td>\n",
       "    </tr>\n",
       "    <tr>\n",
       "      <th>9</th>\n",
       "      <td>dell inspiron pentium silver - (8 gb/256 gb ss...</td>\n",
       "      <td>₹32,999</td>\n",
       "      <td>laptop, battery, adapter, cables and user manuals</td>\n",
       "      <td>inspiron 3521</td>\n",
       "      <td>inspiron</td>\n",
       "      <td>carbon black</td>\n",
       "      <td>notebook</td>\n",
       "      <td>nan</td>\n",
       "      <td>3</td>\n",
       "      <td>nan</td>\n",
       "      <td>...</td>\n",
       "      <td>hd</td>\n",
       "      <td>upto 7 hours</td>\n",
       "      <td>nan</td>\n",
       "      <td>nan</td>\n",
       "      <td>nan</td>\n",
       "      <td>64</td>\n",
       "      <td>nan</td>\n",
       "      <td>nan</td>\n",
       "      <td>nan</td>\n",
       "      <td>nan</td>\n",
       "    </tr>\n",
       "    <tr>\n",
       "      <th>...</th>\n",
       "      <td>...</td>\n",
       "      <td>...</td>\n",
       "      <td>...</td>\n",
       "      <td>...</td>\n",
       "      <td>...</td>\n",
       "      <td>...</td>\n",
       "      <td>...</td>\n",
       "      <td>...</td>\n",
       "      <td>...</td>\n",
       "      <td>...</td>\n",
       "      <td>...</td>\n",
       "      <td>...</td>\n",
       "      <td>...</td>\n",
       "      <td>...</td>\n",
       "      <td>...</td>\n",
       "      <td>...</td>\n",
       "      <td>...</td>\n",
       "      <td>...</td>\n",
       "      <td>...</td>\n",
       "      <td>...</td>\n",
       "      <td>...</td>\n",
       "    </tr>\n",
       "    <tr>\n",
       "      <th>979</th>\n",
       "      <td>nokia purebook x14 core i5 10th gen - (8 gb/51...</td>\n",
       "      <td>₹53,990</td>\n",
       "      <td>laptop, power adaptor, user guide with warrant...</td>\n",
       "      <td>nan</td>\n",
       "      <td>purebook x14</td>\n",
       "      <td>black</td>\n",
       "      <td>thin and light laptop</td>\n",
       "      <td>65 w ac adapter</td>\n",
       "      <td>3 cell</td>\n",
       "      <td>nan</td>\n",
       "      <td>...</td>\n",
       "      <td>hd webcam</td>\n",
       "      <td>upto 6hrs</td>\n",
       "      <td>nan</td>\n",
       "      <td>nan</td>\n",
       "      <td>yes</td>\n",
       "      <td>64 bit</td>\n",
       "      <td>nan</td>\n",
       "      <td>nan</td>\n",
       "      <td>nan</td>\n",
       "      <td>nan</td>\n",
       "    </tr>\n",
       "    <tr>\n",
       "      <th>980</th>\n",
       "      <td>hp spectre folio core i7 10th gen - (16 gb/512...</td>\n",
       "      <td>₹2,39,759</td>\n",
       "      <td>laptop, power adaptor, user guide, warranty do...</td>\n",
       "      <td>nan</td>\n",
       "      <td>spectre folio</td>\n",
       "      <td>cognac brown</td>\n",
       "      <td>2 in 1 laptop</td>\n",
       "      <td>nan</td>\n",
       "      <td>6 cell</td>\n",
       "      <td>nan</td>\n",
       "      <td>...</td>\n",
       "      <td>full hd wide vision ir webcam</td>\n",
       "      <td>nan</td>\n",
       "      <td>nan</td>\n",
       "      <td>nan</td>\n",
       "      <td>nan</td>\n",
       "      <td>64 bit</td>\n",
       "      <td>nan</td>\n",
       "      <td>nan</td>\n",
       "      <td>nan</td>\n",
       "      <td>nan</td>\n",
       "    </tr>\n",
       "    <tr>\n",
       "      <th>981</th>\n",
       "      <td>hp envy x360 ryzen 5 hexa core 4500u - (8 gb/5...</td>\n",
       "      <td>₹85,555</td>\n",
       "      <td>laptop, power adaptor, user guide, warranty do...</td>\n",
       "      <td>nan</td>\n",
       "      <td>envy x360</td>\n",
       "      <td>nightfall black</td>\n",
       "      <td>2 in 1 laptop</td>\n",
       "      <td>nan</td>\n",
       "      <td>3 cell</td>\n",
       "      <td>nan</td>\n",
       "      <td>...</td>\n",
       "      <td>hd wide vision webcam</td>\n",
       "      <td>upto 16.75 hrs</td>\n",
       "      <td>nan</td>\n",
       "      <td>nan</td>\n",
       "      <td>nan</td>\n",
       "      <td>64 bit</td>\n",
       "      <td>nan</td>\n",
       "      <td>nan</td>\n",
       "      <td>nan</td>\n",
       "      <td>nan</td>\n",
       "    </tr>\n",
       "    <tr>\n",
       "      <th>982</th>\n",
       "      <td>hp 14a celeron dual core - (4 gb/64 gb emmc st...</td>\n",
       "      <td>₹26,990</td>\n",
       "      <td>laptop, power adaptor, user guide, warranty do...</td>\n",
       "      <td>nan</td>\n",
       "      <td>14a</td>\n",
       "      <td>ceramic white</td>\n",
       "      <td>chromebook</td>\n",
       "      <td>nan</td>\n",
       "      <td>2 cell</td>\n",
       "      <td>nan</td>\n",
       "      <td>...</td>\n",
       "      <td>hd wide vision webcam</td>\n",
       "      <td>upto 11 hrs</td>\n",
       "      <td>nan</td>\n",
       "      <td>nan</td>\n",
       "      <td>nan</td>\n",
       "      <td>nan</td>\n",
       "      <td>nan</td>\n",
       "      <td>nan</td>\n",
       "      <td>nan</td>\n",
       "      <td>64 gb</td>\n",
       "    </tr>\n",
       "    <tr>\n",
       "      <th>983</th>\n",
       "      <td>lenovo core i3 10th gen - (4 gb/1 tb hdd/windo...</td>\n",
       "      <td>₹44,590</td>\n",
       "      <td>laptop, power adaptor, user guide, warranty do...</td>\n",
       "      <td>nan</td>\n",
       "      <td>nan</td>\n",
       "      <td>black</td>\n",
       "      <td>laptop</td>\n",
       "      <td>45 w ac adapter</td>\n",
       "      <td>2 cell</td>\n",
       "      <td>nan</td>\n",
       "      <td>...</td>\n",
       "      <td>hd 720p webcam</td>\n",
       "      <td>upto 5 hrs</td>\n",
       "      <td>nan</td>\n",
       "      <td>nan</td>\n",
       "      <td>nan</td>\n",
       "      <td>64 bit</td>\n",
       "      <td>nan</td>\n",
       "      <td>1 tb</td>\n",
       "      <td>nan</td>\n",
       "      <td>nan</td>\n",
       "    </tr>\n",
       "  </tbody>\n",
       "</table>\n",
       "<p>674 rows × 44 columns</p>\n",
       "</div>"
      ],
      "text/plain": [
       "                                                  name      Price  \\\n",
       "4    lenovo yoga slim 7 core i5 11th gen - (16 gb/5...    ₹75,990   \n",
       "5    lenovo yoga slim 7 core i7 11th gen - (16 gb/5...    ₹78,395   \n",
       "6    lenovo lenovo v15 celeron dual core - (4 gb/25...    ₹29,290   \n",
       "7    lenovo yoga 6 ryzen 7 octa core r7-5700u 5th g...    ₹91,308   \n",
       "9    dell inspiron pentium silver - (8 gb/256 gb ss...    ₹32,999   \n",
       "..                                                 ...        ...   \n",
       "979  nokia purebook x14 core i5 10th gen - (8 gb/51...    ₹53,990   \n",
       "980  hp spectre folio core i7 10th gen - (16 gb/512...  ₹2,39,759   \n",
       "981  hp envy x360 ryzen 5 hexa core 4500u - (8 gb/5...    ₹85,555   \n",
       "982  hp 14a celeron dual core - (4 gb/64 gb emmc st...    ₹26,990   \n",
       "983  lenovo core i3 10th gen - (4 gb/1 tb hdd/windo...    ₹44,590   \n",
       "\n",
       "                                         Sales Package           Model Name  \\\n",
       "4                                      laptop, adaptor  yoga slim 7 14itl05   \n",
       "5    thin & light laptop, power adaptor, user guide...          yoga slim 7   \n",
       "6                                     laptop & adaptor        82c3(v15-igl)   \n",
       "7    2 in 1 laptop, power adaptor, user guide, warr...               yoga 6   \n",
       "9    laptop, battery, adapter, cables and user manuals        inspiron 3521   \n",
       "..                                                 ...                  ...   \n",
       "979  laptop, power adaptor, user guide with warrant...                  nan   \n",
       "980  laptop, power adaptor, user guide, warranty do...                  nan   \n",
       "981  laptop, power adaptor, user guide, warranty do...                  nan   \n",
       "982  laptop, power adaptor, user guide, warranty do...                  nan   \n",
       "983  laptop, power adaptor, user guide, warranty do...                  nan   \n",
       "\n",
       "            Series            Color                   Type  \\\n",
       "4      yoga slim 7       slate grey  thin and light laptop   \n",
       "5      yoga slim 7       slate grey  thin and light laptop   \n",
       "6       lenovo v15        iron grey  thin and light laptop   \n",
       "7           yoga 6       abyss blue          2 in 1 laptop   \n",
       "9         inspiron     carbon black               notebook   \n",
       "..             ...              ...                    ...   \n",
       "979   purebook x14            black  thin and light laptop   \n",
       "980  spectre folio     cognac brown          2 in 1 laptop   \n",
       "981      envy x360  nightfall black          2 in 1 laptop   \n",
       "982            14a    ceramic white             chromebook   \n",
       "983            nan            black                 laptop   \n",
       "\n",
       "             Power Supply Battery Cell Dedicated Graphic Memory Type  ...  \\\n",
       "4                     nan          nan                           nan  ...   \n",
       "5    65w usb-c ac adapter          nan                           nan  ...   \n",
       "6                     nan          nan                           nan  ...   \n",
       "7         45 w ac adapter          nan                           nan  ...   \n",
       "9                     nan            3                           nan  ...   \n",
       "..                    ...          ...                           ...  ...   \n",
       "979       65 w ac adapter       3 cell                           nan  ...   \n",
       "980                   nan       6 cell                           nan  ...   \n",
       "981                   nan       3 cell                           nan  ...   \n",
       "982                   nan       2 cell                           nan  ...   \n",
       "983       45 w ac adapter       2 cell                           nan  ...   \n",
       "\n",
       "                                 Web Camera  Battery Backup           Chipset  \\\n",
       "4                                       yes   upto 12 hours               nan   \n",
       "5    ir + tof & 720p hd with privacyshutter   upto 15 hours         intel soc   \n",
       "6                                       yes    upto 6 hours               nan   \n",
       "7               720p hd with privacyshutter   upto 18 hours  amd soc platform   \n",
       "9                                        hd    upto 7 hours               nan   \n",
       "..                                      ...             ...               ...   \n",
       "979                               hd webcam       upto 6hrs               nan   \n",
       "980           full hd wide vision ir webcam             nan               nan   \n",
       "981                   hd wide vision webcam  upto 16.75 hrs               nan   \n",
       "982                   hd wide vision webcam     upto 11 hrs               nan   \n",
       "983                          hd 720p webcam      upto 5 hrs               nan   \n",
       "\n",
       "    Brightness Face Recognition System Architecture Refresh Rate HDD Capacity  \\\n",
       "4          nan              nan                 nan          nan          nan   \n",
       "5     300 nits              nan                 nan          nan          nan   \n",
       "6          nan              nan                 nan          nan          nan   \n",
       "7     300 nits               no                 nan          nan          nan   \n",
       "9          nan              nan                  64          nan          nan   \n",
       "..         ...              ...                 ...          ...          ...   \n",
       "979        nan              yes              64 bit          nan          nan   \n",
       "980        nan              nan              64 bit          nan          nan   \n",
       "981        nan              nan              64 bit          nan          nan   \n",
       "982        nan              nan                 nan          nan          nan   \n",
       "983        nan              nan              64 bit          nan         1 tb   \n",
       "\n",
       "    Read/Write Speed EMMC Storage Capacity  \n",
       "4                nan                   nan  \n",
       "5                nan                   nan  \n",
       "6                nan                   nan  \n",
       "7                nan                   nan  \n",
       "9                nan                   nan  \n",
       "..               ...                   ...  \n",
       "979              nan                   nan  \n",
       "980              nan                   nan  \n",
       "981              nan                   nan  \n",
       "982              nan                 64 gb  \n",
       "983              nan                   nan  \n",
       "\n",
       "[674 rows x 44 columns]"
      ]
     },
     "execution_count": 10,
     "metadata": {},
     "output_type": "execute_result"
    }
   ],
   "source": [
    "df1[df1[\"Dedicated Graphic Memory Capacity\"] == \"nan\"]"
   ]
  },
  {
   "cell_type": "code",
   "execution_count": 11,
   "id": "1a60c004",
   "metadata": {},
   "outputs": [
    {
     "data": {
      "text/plain": [
       "((984, 44),\n",
       " Index(['name', 'Price', 'Sales Package', 'Model Name', 'Series', 'Color',\n",
       "        'Type', 'Power Supply', 'Battery Cell', 'Dedicated Graphic Memory Type',\n",
       "        'Dedicated Graphic Memory Capacity', 'Processor Brand',\n",
       "        'Processor Name', 'Processor Generation', 'SSD', 'SSD Capacity', 'RAM',\n",
       "        'RAM Type', 'Processor Variant', 'Clock Speed', 'Expandable Memory',\n",
       "        'Graphic Processor', 'Number of Cores', 'OS Architecture',\n",
       "        'Operating System', 'Supported Operating System', 'Touchscreen',\n",
       "        'Screen Size', 'Screen Resolution', 'Screen Type', 'Weight',\n",
       "        'Disk Drive', 'Finger Print Sensor', 'Backlit Keyboard', 'Web Camera',\n",
       "        'Battery Backup', 'Chipset', 'Brightness', 'Face Recognition',\n",
       "        'System Architecture', 'Refresh Rate', 'HDD Capacity',\n",
       "        'Read/Write Speed', 'EMMC Storage Capacity'],\n",
       "       dtype='object'))"
      ]
     },
     "execution_count": 11,
     "metadata": {},
     "output_type": "execute_result"
    }
   ],
   "source": [
    "df1.shape, df1.columns"
   ]
  },
  {
   "cell_type": "code",
   "execution_count": 12,
   "id": "f93422fc",
   "metadata": {},
   "outputs": [],
   "source": [
    "# Function for encoding categorical string data into integers\n",
    "\n",
    "def encode_to_int(arr):\n",
    "    d = {}\n",
    "    for p in enumerate(arr):\n",
    "        if p[1] not in d:\n",
    "            d[p[1]] = p[0]+1\n",
    "        \n",
    "    return d"
   ]
  },
  {
   "cell_type": "code",
   "execution_count": 13,
   "id": "02f930cc",
   "metadata": {},
   "outputs": [
    {
     "data": {
      "text/html": [
       "<div>\n",
       "<style scoped>\n",
       "    .dataframe tbody tr th:only-of-type {\n",
       "        vertical-align: middle;\n",
       "    }\n",
       "\n",
       "    .dataframe tbody tr th {\n",
       "        vertical-align: top;\n",
       "    }\n",
       "\n",
       "    .dataframe thead th {\n",
       "        text-align: right;\n",
       "    }\n",
       "</style>\n",
       "<table border=\"1\" class=\"dataframe\">\n",
       "  <thead>\n",
       "    <tr style=\"text-align: right;\">\n",
       "      <th></th>\n",
       "      <th>name</th>\n",
       "      <th>Price</th>\n",
       "      <th>Sales Package</th>\n",
       "      <th>Model Name</th>\n",
       "      <th>Series</th>\n",
       "      <th>Color</th>\n",
       "      <th>Type</th>\n",
       "      <th>Power Supply</th>\n",
       "      <th>Battery Cell</th>\n",
       "      <th>Dedicated Graphic Memory Type</th>\n",
       "      <th>...</th>\n",
       "      <th>Web Camera</th>\n",
       "      <th>Battery Backup</th>\n",
       "      <th>Chipset</th>\n",
       "      <th>Brightness</th>\n",
       "      <th>Face Recognition</th>\n",
       "      <th>System Architecture</th>\n",
       "      <th>Refresh Rate</th>\n",
       "      <th>HDD Capacity</th>\n",
       "      <th>Read/Write Speed</th>\n",
       "      <th>EMMC Storage Capacity</th>\n",
       "    </tr>\n",
       "  </thead>\n",
       "  <tbody>\n",
       "    <tr>\n",
       "      <th>310</th>\n",
       "      <td>acer core i3 11th gen - (4 gb/1 tb hdd/windows...</td>\n",
       "      <td>₹36,999</td>\n",
       "      <td>laptop, adaptor, warranty manual</td>\n",
       "      <td>notebook</td>\n",
       "      <td>nan</td>\n",
       "      <td>black</td>\n",
       "      <td>notebook</td>\n",
       "      <td>nan</td>\n",
       "      <td>nan</td>\n",
       "      <td>nan</td>\n",
       "      <td>...</td>\n",
       "      <td>nan</td>\n",
       "      <td>upto 4 hours</td>\n",
       "      <td>nan</td>\n",
       "      <td>nan</td>\n",
       "      <td>nan</td>\n",
       "      <td>nan</td>\n",
       "      <td>nan</td>\n",
       "      <td>1 tb</td>\n",
       "      <td>nan</td>\n",
       "      <td>nan</td>\n",
       "    </tr>\n",
       "    <tr>\n",
       "      <th>321</th>\n",
       "      <td>dell core i5 11th gen - (8 gb/1 tb hdd/256 gb ...</td>\n",
       "      <td>₹59,990</td>\n",
       "      <td>user manual, laptop, charger, adapter, warrant...</td>\n",
       "      <td>inspiron 15</td>\n",
       "      <td>nan</td>\n",
       "      <td>carbon black</td>\n",
       "      <td>laptop</td>\n",
       "      <td>nan</td>\n",
       "      <td>nan</td>\n",
       "      <td>nan</td>\n",
       "      <td>...</td>\n",
       "      <td>nan</td>\n",
       "      <td>upto 6 hrs</td>\n",
       "      <td>nan</td>\n",
       "      <td>nan</td>\n",
       "      <td>nan</td>\n",
       "      <td>nan</td>\n",
       "      <td>nan</td>\n",
       "      <td>1 tb</td>\n",
       "      <td>nan</td>\n",
       "      <td>nan</td>\n",
       "    </tr>\n",
       "    <tr>\n",
       "      <th>335</th>\n",
       "      <td>hp core i3 11th gen - (8 gb/1 tb hdd/windows 1...</td>\n",
       "      <td>₹43,990</td>\n",
       "      <td>laptop, ac adapter, user guide, manuals</td>\n",
       "      <td>240 g8</td>\n",
       "      <td>nan</td>\n",
       "      <td>black</td>\n",
       "      <td>laptop</td>\n",
       "      <td>nan</td>\n",
       "      <td>nan</td>\n",
       "      <td>nan</td>\n",
       "      <td>...</td>\n",
       "      <td>nan</td>\n",
       "      <td>upto 6 hrs</td>\n",
       "      <td>nan</td>\n",
       "      <td>nan</td>\n",
       "      <td>nan</td>\n",
       "      <td>nan</td>\n",
       "      <td>nan</td>\n",
       "      <td>1 tb</td>\n",
       "      <td>nan</td>\n",
       "      <td>nan</td>\n",
       "    </tr>\n",
       "    <tr>\n",
       "      <th>423</th>\n",
       "      <td>hp spectre x360 14 intel evo core i7 11th gen ...</td>\n",
       "      <td>₹1,52,999</td>\n",
       "      <td>laptop, power adaptor, user guide, warranty do...</td>\n",
       "      <td>nan</td>\n",
       "      <td>spectre x360 14 intel evo</td>\n",
       "      <td>poseidon blue</td>\n",
       "      <td>2 in 1 laptop</td>\n",
       "      <td>nan</td>\n",
       "      <td>4 cell</td>\n",
       "      <td>nan</td>\n",
       "      <td>...</td>\n",
       "      <td>hp true vision 720p hd ir webcam with camera s...</td>\n",
       "      <td>nan</td>\n",
       "      <td>nan</td>\n",
       "      <td>nan</td>\n",
       "      <td>nan</td>\n",
       "      <td>64</td>\n",
       "      <td>nan</td>\n",
       "      <td>nan</td>\n",
       "      <td>nan</td>\n",
       "      <td>nan</td>\n",
       "    </tr>\n",
       "    <tr>\n",
       "      <th>507</th>\n",
       "      <td>apple 2021 macbook pro m1 pro - (16 gb/1 tb ss...</td>\n",
       "      <td>₹2,25,990</td>\n",
       "      <td>14 inch macbook pro, usb-c power adapter, usb-...</td>\n",
       "      <td>mkgq3hn/a</td>\n",
       "      <td>2021 macbook pro</td>\n",
       "      <td>space grey�</td>\n",
       "      <td>thin and light laptop</td>\n",
       "      <td>96w usb-c power adapter</td>\n",
       "      <td>nan</td>\n",
       "      <td>nan</td>\n",
       "      <td>...</td>\n",
       "      <td>1080p facetime hd camera</td>\n",
       "      <td>upto 17 hrs</td>\n",
       "      <td>apple m1 pro chip</td>\n",
       "      <td>nan</td>\n",
       "      <td>nan</td>\n",
       "      <td>nan</td>\n",
       "      <td>nan</td>\n",
       "      <td>nan</td>\n",
       "      <td>nan</td>\n",
       "      <td>nan</td>\n",
       "    </tr>\n",
       "    <tr>\n",
       "      <th>511</th>\n",
       "      <td>hp spectre x360 14 intel evo core i7 11th gen ...</td>\n",
       "      <td>₹1,28,990</td>\n",
       "      <td>laptop, power adaptor, user guide, warranty do...</td>\n",
       "      <td>nan</td>\n",
       "      <td>spectre x360 14 intel evo</td>\n",
       "      <td>nightfall black</td>\n",
       "      <td>2 in 1 laptop</td>\n",
       "      <td>nan</td>\n",
       "      <td>4 cell</td>\n",
       "      <td>nan</td>\n",
       "      <td>...</td>\n",
       "      <td>hp true vision 720p hd ir webcam with camera s...</td>\n",
       "      <td>nan</td>\n",
       "      <td>nan</td>\n",
       "      <td>nan</td>\n",
       "      <td>nan</td>\n",
       "      <td>64</td>\n",
       "      <td>nan</td>\n",
       "      <td>nan</td>\n",
       "      <td>nan</td>\n",
       "      <td>nan</td>\n",
       "    </tr>\n",
       "    <tr>\n",
       "      <th>549</th>\n",
       "      <td>hp spectre x360 14 intel evo core i5 11th gen ...</td>\n",
       "      <td>₹1,15,990</td>\n",
       "      <td>laptop, power adaptor, user guide, warranty do...</td>\n",
       "      <td>nan</td>\n",
       "      <td>spectre x360 14 intel evo</td>\n",
       "      <td>nightfall black</td>\n",
       "      <td>2 in 1 laptop</td>\n",
       "      <td>nan</td>\n",
       "      <td>4 cell</td>\n",
       "      <td>nan</td>\n",
       "      <td>...</td>\n",
       "      <td>hp true vision 720p hd ir webcam with camera s...</td>\n",
       "      <td>nan</td>\n",
       "      <td>nan</td>\n",
       "      <td>nan</td>\n",
       "      <td>nan</td>\n",
       "      <td>64</td>\n",
       "      <td>nan</td>\n",
       "      <td>nan</td>\n",
       "      <td>nan</td>\n",
       "      <td>nan</td>\n",
       "    </tr>\n",
       "    <tr>\n",
       "      <th>710</th>\n",
       "      <td>lenovo core i5 11th gen - (4 gb/512 gb ssd/win...</td>\n",
       "      <td>₹58,500</td>\n",
       "      <td>laptop, power adaptor, user guide, warranty do...</td>\n",
       "      <td>idea pad 3 14itl6</td>\n",
       "      <td>nan</td>\n",
       "      <td>arctic grey</td>\n",
       "      <td>laptop</td>\n",
       "      <td>nan</td>\n",
       "      <td>nan</td>\n",
       "      <td>nan</td>\n",
       "      <td>...</td>\n",
       "      <td>nan</td>\n",
       "      <td>3hrs</td>\n",
       "      <td>nan</td>\n",
       "      <td>nan</td>\n",
       "      <td>nan</td>\n",
       "      <td>nan</td>\n",
       "      <td>nan</td>\n",
       "      <td>nan</td>\n",
       "      <td>nan</td>\n",
       "      <td>nan</td>\n",
       "    </tr>\n",
       "    <tr>\n",
       "      <th>724</th>\n",
       "      <td>apple macbook air m1 - (8 gb/512 gb ssd/mac os...</td>\n",
       "      <td>₹1,02,990</td>\n",
       "      <td>macbook air, 30 w usb-c power adapter, usb-c c...</td>\n",
       "      <td>nan</td>\n",
       "      <td>macbook air</td>\n",
       "      <td>gold</td>\n",
       "      <td>thin and light laptop</td>\n",
       "      <td>30 w ac adapter</td>\n",
       "      <td>nan</td>\n",
       "      <td>nan</td>\n",
       "      <td>...</td>\n",
       "      <td>720p facetime hd webcam</td>\n",
       "      <td>upto 15 hours</td>\n",
       "      <td>nan</td>\n",
       "      <td>nan</td>\n",
       "      <td>nan</td>\n",
       "      <td>nan</td>\n",
       "      <td>nan</td>\n",
       "      <td>nan</td>\n",
       "      <td>nan</td>\n",
       "      <td>nan</td>\n",
       "    </tr>\n",
       "    <tr>\n",
       "      <th>725</th>\n",
       "      <td>apple macbook pro m1 - (8 gb/1 tb ssd/mac os b...</td>\n",
       "      <td>₹1,49,990</td>\n",
       "      <td>macbook pro, 61 w usb-c power adapter, usb-c c...</td>\n",
       "      <td>nan</td>\n",
       "      <td>macbook pro</td>\n",
       "      <td>space grey</td>\n",
       "      <td>thin and light laptop</td>\n",
       "      <td>61 w ac adapter</td>\n",
       "      <td>nan</td>\n",
       "      <td>nan</td>\n",
       "      <td>...</td>\n",
       "      <td>720p facetime hd webcam</td>\n",
       "      <td>upto 17 hours</td>\n",
       "      <td>nan</td>\n",
       "      <td>nan</td>\n",
       "      <td>nan</td>\n",
       "      <td>nan</td>\n",
       "      <td>nan</td>\n",
       "      <td>nan</td>\n",
       "      <td>nan</td>\n",
       "      <td>nan</td>\n",
       "    </tr>\n",
       "    <tr>\n",
       "      <th>726</th>\n",
       "      <td>apple macbook air m1 - (8 gb/512 gb ssd/mac os...</td>\n",
       "      <td>₹1,02,990</td>\n",
       "      <td>macbook air, 30 w usb-c power adapter, usb-c c...</td>\n",
       "      <td>nan</td>\n",
       "      <td>macbook air</td>\n",
       "      <td>space grey</td>\n",
       "      <td>thin and light laptop</td>\n",
       "      <td>30 w ac adapter</td>\n",
       "      <td>nan</td>\n",
       "      <td>nan</td>\n",
       "      <td>...</td>\n",
       "      <td>720p facetime hd webcam</td>\n",
       "      <td>upto 15 hours</td>\n",
       "      <td>nan</td>\n",
       "      <td>nan</td>\n",
       "      <td>nan</td>\n",
       "      <td>nan</td>\n",
       "      <td>nan</td>\n",
       "      <td>nan</td>\n",
       "      <td>nan</td>\n",
       "      <td>nan</td>\n",
       "    </tr>\n",
       "    <tr>\n",
       "      <th>906</th>\n",
       "      <td>apple 2020 macbook air m1 - (8 gb/512 gb ssd/m...</td>\n",
       "      <td>₹1,02,990</td>\n",
       "      <td>macbook air, 30 w usb-c power adapter, usb-c c...</td>\n",
       "      <td>nan</td>\n",
       "      <td>2020 macbook air</td>\n",
       "      <td>silver</td>\n",
       "      <td>thin and light laptop</td>\n",
       "      <td>30 w ac adapter</td>\n",
       "      <td>nan</td>\n",
       "      <td>nan</td>\n",
       "      <td>...</td>\n",
       "      <td>720p facetime hd webcam</td>\n",
       "      <td>upto 15 hours</td>\n",
       "      <td>nan</td>\n",
       "      <td>nan</td>\n",
       "      <td>nan</td>\n",
       "      <td>nan</td>\n",
       "      <td>nan</td>\n",
       "      <td>nan</td>\n",
       "      <td>nan</td>\n",
       "      <td>nan</td>\n",
       "    </tr>\n",
       "    <tr>\n",
       "      <th>912</th>\n",
       "      <td>hp 430 g8 core i5 11th gen - (8 gb/512 gb ssd/...</td>\n",
       "      <td>₹94,000</td>\n",
       "      <td>1 x laptop, 1 x adapter, 1 x user instruction ...</td>\n",
       "      <td>probook 430 g8</td>\n",
       "      <td>430 g8</td>\n",
       "      <td>pike silver</td>\n",
       "      <td>business laptop</td>\n",
       "      <td>nan</td>\n",
       "      <td>nan</td>\n",
       "      <td>nan</td>\n",
       "      <td>...</td>\n",
       "      <td>nan</td>\n",
       "      <td>up to 8 hrs</td>\n",
       "      <td>nan</td>\n",
       "      <td>nan</td>\n",
       "      <td>nan</td>\n",
       "      <td>nan</td>\n",
       "      <td>nan</td>\n",
       "      <td>nan</td>\n",
       "      <td>nan</td>\n",
       "      <td>nan</td>\n",
       "    </tr>\n",
       "    <tr>\n",
       "      <th>948</th>\n",
       "      <td>apple 2020 macbook pro m1 - (8 gb/512 gb ssd/m...</td>\n",
       "      <td>₹1,27,990</td>\n",
       "      <td>macbook pro, 61 w usb-c power adapter, usb-c c...</td>\n",
       "      <td>nan</td>\n",
       "      <td>2020 macbook pro</td>\n",
       "      <td>silver</td>\n",
       "      <td>thin and light laptop</td>\n",
       "      <td>61 w ac adapter</td>\n",
       "      <td>nan</td>\n",
       "      <td>nan</td>\n",
       "      <td>...</td>\n",
       "      <td>720p facetime hd webcam</td>\n",
       "      <td>upto 17 hours</td>\n",
       "      <td>nan</td>\n",
       "      <td>nan</td>\n",
       "      <td>nan</td>\n",
       "      <td>nan</td>\n",
       "      <td>nan</td>\n",
       "      <td>nan</td>\n",
       "      <td>nan</td>\n",
       "      <td>nan</td>\n",
       "    </tr>\n",
       "    <tr>\n",
       "      <th>949</th>\n",
       "      <td>apple 2020 macbook pro m1 - (8 gb/256 gb ssd/m...</td>\n",
       "      <td>₹1,07,990</td>\n",
       "      <td>macbook pro, 61 w usb-c power adapter, usb-c c...</td>\n",
       "      <td>nan</td>\n",
       "      <td>2020 macbook pro</td>\n",
       "      <td>space grey</td>\n",
       "      <td>thin and light laptop</td>\n",
       "      <td>61 w ac adapter</td>\n",
       "      <td>nan</td>\n",
       "      <td>nan</td>\n",
       "      <td>...</td>\n",
       "      <td>720p facetime hd webcam</td>\n",
       "      <td>upto 17 hours</td>\n",
       "      <td>nan</td>\n",
       "      <td>nan</td>\n",
       "      <td>nan</td>\n",
       "      <td>nan</td>\n",
       "      <td>nan</td>\n",
       "      <td>nan</td>\n",
       "      <td>nan</td>\n",
       "      <td>nan</td>\n",
       "    </tr>\n",
       "    <tr>\n",
       "      <th>951</th>\n",
       "      <td>apple 2020 macbook air m1 - (8 gb/256 gb ssd/m...</td>\n",
       "      <td>₹87,990</td>\n",
       "      <td>macbook air, 30 w usb-c power adapter, usb-c c...</td>\n",
       "      <td>nan</td>\n",
       "      <td>2020 macbook air</td>\n",
       "      <td>space grey</td>\n",
       "      <td>thin and light laptop</td>\n",
       "      <td>30 w ac adapter</td>\n",
       "      <td>nan</td>\n",
       "      <td>nan</td>\n",
       "      <td>...</td>\n",
       "      <td>720p facetime hd webcam</td>\n",
       "      <td>upto 15 hours</td>\n",
       "      <td>nan</td>\n",
       "      <td>nan</td>\n",
       "      <td>nan</td>\n",
       "      <td>nan</td>\n",
       "      <td>nan</td>\n",
       "      <td>nan</td>\n",
       "      <td>nan</td>\n",
       "      <td>nan</td>\n",
       "    </tr>\n",
       "    <tr>\n",
       "      <th>954</th>\n",
       "      <td>apple 2020 macbook air m1 - (8 gb/256 gb ssd/m...</td>\n",
       "      <td>₹87,990</td>\n",
       "      <td>macbook air, 30 w usb-c power adapter, usb-c c...</td>\n",
       "      <td>nan</td>\n",
       "      <td>2020 macbook air</td>\n",
       "      <td>gold</td>\n",
       "      <td>thin and light laptop</td>\n",
       "      <td>30 w ac adapter</td>\n",
       "      <td>nan</td>\n",
       "      <td>nan</td>\n",
       "      <td>...</td>\n",
       "      <td>720p facetime hd webcam</td>\n",
       "      <td>upto 15 hours</td>\n",
       "      <td>nan</td>\n",
       "      <td>nan</td>\n",
       "      <td>nan</td>\n",
       "      <td>nan</td>\n",
       "      <td>nan</td>\n",
       "      <td>nan</td>\n",
       "      <td>nan</td>\n",
       "      <td>nan</td>\n",
       "    </tr>\n",
       "    <tr>\n",
       "      <th>955</th>\n",
       "      <td>apple 2020 macbook pro m1 - (8 gb/256 gb ssd/m...</td>\n",
       "      <td>₹1,07,990</td>\n",
       "      <td>macbook pro, 61 w usb-c power adapter, usb-c c...</td>\n",
       "      <td>nan</td>\n",
       "      <td>2020 macbook pro</td>\n",
       "      <td>silver</td>\n",
       "      <td>thin and light laptop</td>\n",
       "      <td>61 w ac adapter</td>\n",
       "      <td>nan</td>\n",
       "      <td>nan</td>\n",
       "      <td>...</td>\n",
       "      <td>720p facetime hd webcam</td>\n",
       "      <td>upto 17 hours</td>\n",
       "      <td>nan</td>\n",
       "      <td>nan</td>\n",
       "      <td>nan</td>\n",
       "      <td>nan</td>\n",
       "      <td>nan</td>\n",
       "      <td>nan</td>\n",
       "      <td>nan</td>\n",
       "      <td>nan</td>\n",
       "    </tr>\n",
       "    <tr>\n",
       "      <th>956</th>\n",
       "      <td>apple 2020 macbook air m1 - (8 gb/512 gb ssd/m...</td>\n",
       "      <td>₹1,04,990</td>\n",
       "      <td>macbook air, 30 w usb-c power adapter, usb-c c...</td>\n",
       "      <td>nan</td>\n",
       "      <td>2020 macbook air</td>\n",
       "      <td>space grey</td>\n",
       "      <td>thin and light laptop</td>\n",
       "      <td>30 w ac adapter</td>\n",
       "      <td>nan</td>\n",
       "      <td>nan</td>\n",
       "      <td>...</td>\n",
       "      <td>720p facetime hd webcam</td>\n",
       "      <td>upto 15 hours</td>\n",
       "      <td>nan</td>\n",
       "      <td>nan</td>\n",
       "      <td>nan</td>\n",
       "      <td>nan</td>\n",
       "      <td>nan</td>\n",
       "      <td>nan</td>\n",
       "      <td>nan</td>\n",
       "      <td>nan</td>\n",
       "    </tr>\n",
       "    <tr>\n",
       "      <th>957</th>\n",
       "      <td>apple 2020 macbook pro m1 - (8 gb/512 gb ssd/m...</td>\n",
       "      <td>₹1,27,990</td>\n",
       "      <td>macbook pro, 61 w usb-c power adapter, usb-c c...</td>\n",
       "      <td>nan</td>\n",
       "      <td>2020 macbook pro</td>\n",
       "      <td>space grey</td>\n",
       "      <td>thin and light laptop</td>\n",
       "      <td>61 w ac adapter</td>\n",
       "      <td>nan</td>\n",
       "      <td>nan</td>\n",
       "      <td>...</td>\n",
       "      <td>720p facetime hd webcam</td>\n",
       "      <td>upto 17 hours</td>\n",
       "      <td>nan</td>\n",
       "      <td>nan</td>\n",
       "      <td>nan</td>\n",
       "      <td>nan</td>\n",
       "      <td>nan</td>\n",
       "      <td>nan</td>\n",
       "      <td>nan</td>\n",
       "      <td>nan</td>\n",
       "    </tr>\n",
       "  </tbody>\n",
       "</table>\n",
       "<p>20 rows × 44 columns</p>\n",
       "</div>"
      ],
      "text/plain": [
       "                                                  name      Price  \\\n",
       "310  acer core i3 11th gen - (4 gb/1 tb hdd/windows...    ₹36,999   \n",
       "321  dell core i5 11th gen - (8 gb/1 tb hdd/256 gb ...    ₹59,990   \n",
       "335  hp core i3 11th gen - (8 gb/1 tb hdd/windows 1...    ₹43,990   \n",
       "423  hp spectre x360 14 intel evo core i7 11th gen ...  ₹1,52,999   \n",
       "507  apple 2021 macbook pro m1 pro - (16 gb/1 tb ss...  ₹2,25,990   \n",
       "511  hp spectre x360 14 intel evo core i7 11th gen ...  ₹1,28,990   \n",
       "549  hp spectre x360 14 intel evo core i5 11th gen ...  ₹1,15,990   \n",
       "710  lenovo core i5 11th gen - (4 gb/512 gb ssd/win...    ₹58,500   \n",
       "724  apple macbook air m1 - (8 gb/512 gb ssd/mac os...  ₹1,02,990   \n",
       "725  apple macbook pro m1 - (8 gb/1 tb ssd/mac os b...  ₹1,49,990   \n",
       "726  apple macbook air m1 - (8 gb/512 gb ssd/mac os...  ₹1,02,990   \n",
       "906  apple 2020 macbook air m1 - (8 gb/512 gb ssd/m...  ₹1,02,990   \n",
       "912  hp 430 g8 core i5 11th gen - (8 gb/512 gb ssd/...    ₹94,000   \n",
       "948  apple 2020 macbook pro m1 - (8 gb/512 gb ssd/m...  ₹1,27,990   \n",
       "949  apple 2020 macbook pro m1 - (8 gb/256 gb ssd/m...  ₹1,07,990   \n",
       "951  apple 2020 macbook air m1 - (8 gb/256 gb ssd/m...    ₹87,990   \n",
       "954  apple 2020 macbook air m1 - (8 gb/256 gb ssd/m...    ₹87,990   \n",
       "955  apple 2020 macbook pro m1 - (8 gb/256 gb ssd/m...  ₹1,07,990   \n",
       "956  apple 2020 macbook air m1 - (8 gb/512 gb ssd/m...  ₹1,04,990   \n",
       "957  apple 2020 macbook pro m1 - (8 gb/512 gb ssd/m...  ₹1,27,990   \n",
       "\n",
       "                                         Sales Package         Model Name  \\\n",
       "310                   laptop, adaptor, warranty manual           notebook   \n",
       "321  user manual, laptop, charger, adapter, warrant...        inspiron 15   \n",
       "335            laptop, ac adapter, user guide, manuals             240 g8   \n",
       "423  laptop, power adaptor, user guide, warranty do...                nan   \n",
       "507  14 inch macbook pro, usb-c power adapter, usb-...          mkgq3hn/a   \n",
       "511  laptop, power adaptor, user guide, warranty do...                nan   \n",
       "549  laptop, power adaptor, user guide, warranty do...                nan   \n",
       "710  laptop, power adaptor, user guide, warranty do...  idea pad 3 14itl6   \n",
       "724  macbook air, 30 w usb-c power adapter, usb-c c...                nan   \n",
       "725  macbook pro, 61 w usb-c power adapter, usb-c c...                nan   \n",
       "726  macbook air, 30 w usb-c power adapter, usb-c c...                nan   \n",
       "906  macbook air, 30 w usb-c power adapter, usb-c c...                nan   \n",
       "912  1 x laptop, 1 x adapter, 1 x user instruction ...     probook 430 g8   \n",
       "948  macbook pro, 61 w usb-c power adapter, usb-c c...                nan   \n",
       "949  macbook pro, 61 w usb-c power adapter, usb-c c...                nan   \n",
       "951  macbook air, 30 w usb-c power adapter, usb-c c...                nan   \n",
       "954  macbook air, 30 w usb-c power adapter, usb-c c...                nan   \n",
       "955  macbook pro, 61 w usb-c power adapter, usb-c c...                nan   \n",
       "956  macbook air, 30 w usb-c power adapter, usb-c c...                nan   \n",
       "957  macbook pro, 61 w usb-c power adapter, usb-c c...                nan   \n",
       "\n",
       "                        Series            Color                   Type  \\\n",
       "310                        nan            black               notebook   \n",
       "321                        nan     carbon black                 laptop   \n",
       "335                        nan            black                 laptop   \n",
       "423  spectre x360 14 intel evo    poseidon blue          2 in 1 laptop   \n",
       "507           2021 macbook pro      space grey�  thin and light laptop   \n",
       "511  spectre x360 14 intel evo  nightfall black          2 in 1 laptop   \n",
       "549  spectre x360 14 intel evo  nightfall black          2 in 1 laptop   \n",
       "710                        nan      arctic grey                 laptop   \n",
       "724                macbook air             gold  thin and light laptop   \n",
       "725                macbook pro       space grey  thin and light laptop   \n",
       "726                macbook air       space grey  thin and light laptop   \n",
       "906           2020 macbook air           silver  thin and light laptop   \n",
       "912                     430 g8      pike silver        business laptop   \n",
       "948           2020 macbook pro           silver  thin and light laptop   \n",
       "949           2020 macbook pro       space grey  thin and light laptop   \n",
       "951           2020 macbook air       space grey  thin and light laptop   \n",
       "954           2020 macbook air             gold  thin and light laptop   \n",
       "955           2020 macbook pro           silver  thin and light laptop   \n",
       "956           2020 macbook air       space grey  thin and light laptop   \n",
       "957           2020 macbook pro       space grey  thin and light laptop   \n",
       "\n",
       "                Power Supply Battery Cell Dedicated Graphic Memory Type  ...  \\\n",
       "310                      nan          nan                           nan  ...   \n",
       "321                      nan          nan                           nan  ...   \n",
       "335                      nan          nan                           nan  ...   \n",
       "423                      nan       4 cell                           nan  ...   \n",
       "507  96w usb-c power adapter          nan                           nan  ...   \n",
       "511                      nan       4 cell                           nan  ...   \n",
       "549                      nan       4 cell                           nan  ...   \n",
       "710                      nan          nan                           nan  ...   \n",
       "724          30 w ac adapter          nan                           nan  ...   \n",
       "725          61 w ac adapter          nan                           nan  ...   \n",
       "726          30 w ac adapter          nan                           nan  ...   \n",
       "906          30 w ac adapter          nan                           nan  ...   \n",
       "912                      nan          nan                           nan  ...   \n",
       "948          61 w ac adapter          nan                           nan  ...   \n",
       "949          61 w ac adapter          nan                           nan  ...   \n",
       "951          30 w ac adapter          nan                           nan  ...   \n",
       "954          30 w ac adapter          nan                           nan  ...   \n",
       "955          61 w ac adapter          nan                           nan  ...   \n",
       "956          30 w ac adapter          nan                           nan  ...   \n",
       "957          61 w ac adapter          nan                           nan  ...   \n",
       "\n",
       "                                            Web Camera Battery Backup  \\\n",
       "310                                                nan   upto 4 hours   \n",
       "321                                                nan     upto 6 hrs   \n",
       "335                                                nan     upto 6 hrs   \n",
       "423  hp true vision 720p hd ir webcam with camera s...            nan   \n",
       "507                           1080p facetime hd camera    upto 17 hrs   \n",
       "511  hp true vision 720p hd ir webcam with camera s...            nan   \n",
       "549  hp true vision 720p hd ir webcam with camera s...            nan   \n",
       "710                                                nan           3hrs   \n",
       "724                            720p facetime hd webcam  upto 15 hours   \n",
       "725                            720p facetime hd webcam  upto 17 hours   \n",
       "726                            720p facetime hd webcam  upto 15 hours   \n",
       "906                            720p facetime hd webcam  upto 15 hours   \n",
       "912                                                nan    up to 8 hrs   \n",
       "948                            720p facetime hd webcam  upto 17 hours   \n",
       "949                            720p facetime hd webcam  upto 17 hours   \n",
       "951                            720p facetime hd webcam  upto 15 hours   \n",
       "954                            720p facetime hd webcam  upto 15 hours   \n",
       "955                            720p facetime hd webcam  upto 17 hours   \n",
       "956                            720p facetime hd webcam  upto 15 hours   \n",
       "957                            720p facetime hd webcam  upto 17 hours   \n",
       "\n",
       "               Chipset Brightness Face Recognition System Architecture  \\\n",
       "310                nan        nan              nan                 nan   \n",
       "321                nan        nan              nan                 nan   \n",
       "335                nan        nan              nan                 nan   \n",
       "423                nan        nan              nan                  64   \n",
       "507  apple m1 pro chip        nan              nan                 nan   \n",
       "511                nan        nan              nan                  64   \n",
       "549                nan        nan              nan                  64   \n",
       "710                nan        nan              nan                 nan   \n",
       "724                nan        nan              nan                 nan   \n",
       "725                nan        nan              nan                 nan   \n",
       "726                nan        nan              nan                 nan   \n",
       "906                nan        nan              nan                 nan   \n",
       "912                nan        nan              nan                 nan   \n",
       "948                nan        nan              nan                 nan   \n",
       "949                nan        nan              nan                 nan   \n",
       "951                nan        nan              nan                 nan   \n",
       "954                nan        nan              nan                 nan   \n",
       "955                nan        nan              nan                 nan   \n",
       "956                nan        nan              nan                 nan   \n",
       "957                nan        nan              nan                 nan   \n",
       "\n",
       "    Refresh Rate HDD Capacity Read/Write Speed EMMC Storage Capacity  \n",
       "310          nan         1 tb              nan                   nan  \n",
       "321          nan         1 tb              nan                   nan  \n",
       "335          nan         1 tb              nan                   nan  \n",
       "423          nan          nan              nan                   nan  \n",
       "507          nan          nan              nan                   nan  \n",
       "511          nan          nan              nan                   nan  \n",
       "549          nan          nan              nan                   nan  \n",
       "710          nan          nan              nan                   nan  \n",
       "724          nan          nan              nan                   nan  \n",
       "725          nan          nan              nan                   nan  \n",
       "726          nan          nan              nan                   nan  \n",
       "906          nan          nan              nan                   nan  \n",
       "912          nan          nan              nan                   nan  \n",
       "948          nan          nan              nan                   nan  \n",
       "949          nan          nan              nan                   nan  \n",
       "951          nan          nan              nan                   nan  \n",
       "954          nan          nan              nan                   nan  \n",
       "955          nan          nan              nan                   nan  \n",
       "956          nan          nan              nan                   nan  \n",
       "957          nan          nan              nan                   nan  \n",
       "\n",
       "[20 rows x 44 columns]"
      ]
     },
     "execution_count": 13,
     "metadata": {},
     "output_type": "execute_result"
    }
   ],
   "source": [
    "df1[df1[\"Graphic Processor\"] == \"nan\"]"
   ]
  },
  {
   "cell_type": "code",
   "execution_count": 14,
   "id": "a4dfc6d8",
   "metadata": {},
   "outputs": [],
   "source": [
    "# df1[df1[\"Processor Generation\"]  == \"nan\"]\n",
    "\n",
    "# AMD -> processor gen not req\n",
    "# 2 models for including and excluding the processor generation\n",
    "\n",
    "# df1[df1[\"Battery Backup\"] == \"nan\"].shape #---> Custom handcrafted values"
   ]
  },
  {
   "cell_type": "code",
   "execution_count": 15,
   "id": "3ec0cb98",
   "metadata": {},
   "outputs": [],
   "source": [
    "# Max screen res in order\n",
    "\n",
    "max_screen_res = [1440, 1440, 1080, 1080, 1080, 1080, 1080, 1080, 1080, 1080, 1080, 1080, 1080, 1080, 1080, 1080, 1080, 1080, 1440, 1440, 1440, 1080, 1080, 1080, 1440, 1440, 1440, 1440, 1440, 1440, 1440, 1440, 1080, 1080, 1080, 1080, 720, 1080, 1080, 1080, 1440, 1080, 1080, 720, 1080, 1080, 1080, 1080, 1080, 1080, 1080, 1080, 1080, 1080, 1080, 1080, 720, 720, 1080, 720, 1080, 1080, 1080, 1080, 1080, 720, 720, 1080, 1080, 1080, 1080, 1080, 1440, 1440, 1080, 1080, 1080, 1080, 1080, 1080, 1080, 1080, 1080, 1080, 1080, 1080, 1080, 1080, 1080, 1080, 1440, 1440, 1440, 1080, 1080, 1080, 1080, 1080, 1080, 1080, 1080, 1080, 720, 720, 1080, 1080, 1080, 720, 1080, 1080, 1080, 720, 1080, 1080, 2160, 720, 720, 2160, 1080, 1080, 1080, 1080, 2160, 1080, 1080, 1080, 1080, 1080, 1080, 1080, 1080, 1080, 720, 1080, 1080, 1080, 1080, 1080, 1080, 1080, 1080, 1080, 1080, 1080, 720, 1080, 1080, 720, 720, 1080, 1080, 1080, 1440, 1080, 720, 1080, 1080, 1080, 720, 1440, 1440, 1080, 1080, 720, 1080, 1080, 720, 1080, 1080, 1080, 1080, 720, 1080, 1080, 1080, 720, 1080, 720, 720, 1080, 1080, 1440, 1080, 1080, 1080, 1080, 1080, 1440, 1440, 1440, 1440, 2160, 1080, 1440, 1080, 1080, 1080, 1080, 1080, 1080, 720, 1080, 1080, 1440, 1080, 1080, 1080, 1080, 1080, 1080, 1080, 720, 1080, 1080, 1080, 1080, 1080, 720, 1080, 1080, 1080, 1080, 1080, 1080, 1080, 1080, 1080, 1080, 1080, 1080, 1080, 1080, 1080, 1080, 1080, 1080, 1080, 1080, 1080, 1440, 1080, 1080, 1080, 1080, 1080, 1080, 1080, 1080, 1080, 1080, 1080, 1080, 1080, 1080, 1080, 1080, 1080, 1080, 1080, 1080, 1080, 1440, 720, 1080, 1080, 1080, 1080, 1080, 1080, 1080, 1080, 1080, 1440, 1080, 1080, 720, 1080, 1080, 1080, 1080, 1440, 1080, 1080, 1440, 1080, 1080, 1080, 1080, 1080, 1080, 1080, 1080, 1080, 1080, 1080, 1080, 1080, 2160, 1080, 1080, 1080, 1080, 1080, 1080, 1080, 720, 1080, 1080, 720, 1080, 1080, 1080, 720, 1080, 1080, 1080, 1080, 1080, 1080, 1080, 1080, 1080, 1080, 1080, 1080, 1440, 1080, 1080, 1080, 1440, 1080, 1080, 1080, 1080, 1440, 1080, 1080, 1080, 1080, 1080, 1080, 1080, 1080, 1080, 1080, 1080, 1080, 1080, 1080, 1080, 1080, 1080, 1080, 1080, 720, 1080, 720, 1080, 1080, 720, 1080, 1080, 1080, 720, 1080, 1080, 1080, 1080, 1080, 1080, 1080, 1080, 1080, 1080, 1080, 1080, 1080, 1080, 1080, 1080, 1080, 1080, 1080, 1080, 1080, 1080, 1080, 1080, 1080, 1080, 1080, 1080, 1080, 1080, 1080, 1080, 1080, 1080, 1080, 1080, 720, 1080, 1080, 1080, 1080, 1080, 1080, 1080, 1080, 1080, 1080, 1080, 1080, 1080, 720, 720, 720, 1080, 1080, 1080, 1080, 1080, 1080, 1440, 1080, 1080, 1080, 1080, 1080, 1080, 1440, 1080, 1080, 1080, 1080, 1080, 1440, 1080, 1080, 1080, 1440, 1080, 1080, 1080, 1080, 1080, 1080, 1080, 1080, 1080, 1080, 1080, 1080, 1080, 1080, 1080, 1080, 1440, 1080, 1080, 720, 1080, 720, 1080, 1080, 1080, 1080, 1080, 1080, 1080, 1080, 1080, 720, 1080, 1080, 1080, 1080, 1080, 1080, 1080, 1080, 1080, 1080, 1080, 720, 720, 1080, 1080, 1440, 1080, 1080, 1080, 1080, 1080, 1080, 1440, 1080, 1080, 1080, 1080, 720, 1080, 1440, 1080, 1080, 1080, 1080, 1440, 1080, 1080, 1080, 1080, 1080, 1080, 720, 720, 1080, 1080, 720, 1080, 1080, 1080, 1080, 1080, 1440, 1080, 1080, 1080, 1080, 1080, 1080, 1080, 1080, 1080, 1080, 1080, 1080, 1080, 720, 1080, 1080, 1080, 720, 2160, 1080, 1080, 1080, 1080, 1080, 1080, 1080, 1080, 1080, 1080, 1080, 1080, 1440, 1080, 2160, 1080, 1080, 1080, 1080, 1440, 720, 1080, 1080, 1080, 1080, 720, 1080, 1080, 1080, 1080, 1080, 1080, 1440, 1440, 1080, 1080, 1440, 1440, 1080, 1080, 1080, 1080, 720, 720, 1080, 1080, 1080, 1080, 1080, 1080, 1080, 1080, 720, 1080, 1440, 1080, 1440, 1080, 1080, 1080, 1080, 1080, 1080, 1080, 1080, 1080, 1080, 1080, 1080, 1080, 720, 1080, 720, 1080, 1080, 1080, 1080, 1080, 1080, 1080, 1080, 1080, 1080, 1080, 1080, 1440, 1080, 1080, 1080, 1440, 1080, 1080, 1080, 1080, 1080, 1080, 1080, 1080, 1080, 1080, 1080, 1080, 1080, 1080, 1080, 1080, 720, 1080, 1440, 1080, 1080, 1080, 1080, 1080, 1080, 1080, 1080, 1440, 1080, 1080, 1440, 1440, 1080, 1440, 1080, 1080, 1080, 1080, 1080, 1080, 1080, 1080, 1080, 1440, 1440, 1080, 1080, 1080, 1080, 1080, 1080, 1080, 1080, 1080, 1080, 1080, 1080, 1080, 1080, 1080, 1080, 1080, 1080, 1080, 1080, 1080, 1080, 1080, 1080, 1080, 1080, 1080, 1080, 1080, 1080, 1080, 1080, 1080, 1080, 1080, 720, 1080, 720, 1440, 1080, 1080, 1080, 1080, 720, 1080, 1440, 1440, 1440, 720, 1080, 720, 720, 720, 1440, 720, 720, 2160, 1080, 1080, 720, 1080, 1080, 720, 1080, 1080, 1080, 1080, 1080, 1080, 1080, 720, 1080, 1080, 1080, 1080, 1080, 1080, 1080, 1440, 2160, 1080, 1080, 1080, 1080, 1080, 1080, 1080, 1080, 1080, 1080, 1080, 1080, 1080, 1080, 1080, 1080, 1080, 1080, 1080, 1080, 1080, 1080, 1080, 1080, 1080, 1080, 1080, 1080, 1080, 1080, 1080, 1080, 1080, 1080, 1080, 1080, 1080, 1080, 1080, 1080, 720, 1080, 1080, 1080, 1080, 1080, 1080, 1080, 1080, 720, 1080, 1080, 1080, 1080, 1080, 1080, 1080, 1080, 1080, 720, 1080, 1080, 1080, 1080, 1080, 1080, 1080, 1080, 1080, 1080, 1080, 1080, 1080, 1080, 1080, 720, 1080, 1440, 1080, 1080, 1080, 1080, 1080, 1080, 1080, 1080, 1080, 1080, 1080, 1080, 2160, 2160, 1080, 1080, 1080, 720, 1080, 1080, 1080, 1080, 1080, 1080, 1080, 1080, 1080, 1080, 1080, 1080, 1080, 1080, 1080, 720, 1080, 1080, 720, 1080, 1080, 1080, 1080, 1080, 1080, 1080, 1080, 1080, 1080, 720, 1080, 1080, 1080, 1080, 1080, 1080, 1080, 1080, 1080, 1080, 1080, 1080, 1080, 1080, 1080, 1080, 1080, 1080, 1080, 1080, 1080, 1440, 1080, 1080, 1080, 1080, 2160, 720, 1080, 1080, 1080, 1080, 1080, 1080, 1080, 1080, 1080, 1080, 1080, 1080, 1080, 1080, 1080, 1080, 1080, 1080, 1080, 1080, 1080, 1080, 1080, 1080, 1080, 1080, 1080, 1440, 1080, 1080, 1080, 1080, 1080, 1080, 1080, 1440, 1440, 1080, 1440, 1080, 1080, 1440, 1440, 1440, 1440, 1080, 1080, 1080, 1080, 1080, 1080, 1080, 1080, 1080, 1080, 1080, 1080, 1080, 720, 1080, 1080, 1080, 1080, 1080, 2160, 1440, 1080, 1080, 1080, 720, 720]"
   ]
  },
  {
   "cell_type": "code",
   "execution_count": 16,
   "id": "7798960f",
   "metadata": {},
   "outputs": [],
   "source": [
    "df1[\"max_res\"] = pd.DataFrame(max_screen_res)"
   ]
  },
  {
   "cell_type": "code",
   "execution_count": 17,
   "id": "34fece65",
   "metadata": {},
   "outputs": [],
   "source": [
    "del df1[\"Screen Resolution\"]"
   ]
  },
  {
   "cell_type": "code",
   "execution_count": 18,
   "id": "32462c43",
   "metadata": {},
   "outputs": [],
   "source": [
    "# df1[df1[\"Graphic Processor\"] == \"nan\"]"
   ]
  },
  {
   "cell_type": "code",
   "execution_count": 19,
   "id": "05653423",
   "metadata": {},
   "outputs": [],
   "source": [
    "def gpu_comp(s):\n",
    "    \n",
    "    if s == \"nan\":\n",
    "        return \"none\"\n",
    "    \n",
    "    sr = s.split(\" \")\n",
    "    \n",
    "    if sr[0] == \"na\":\n",
    "        return \"none\"\n",
    "    \n",
    "    for ele in sr:\n",
    "        if ele == \"integrated\":\n",
    "            return \"none\"   \n",
    "    return sr[0]\n",
    "    \n",
    "# df1[\"Graphic Processor\"].unique()"
   ]
  },
  {
   "cell_type": "code",
   "execution_count": 20,
   "id": "573b1ce9",
   "metadata": {},
   "outputs": [],
   "source": [
    "df1[\"gpu_brand\"] = df1[\"Graphic Processor\"].apply(gpu_comp)"
   ]
  },
  {
   "cell_type": "code",
   "execution_count": 21,
   "id": "93814c8e",
   "metadata": {},
   "outputs": [
    {
     "data": {
      "text/plain": [
       "array(['nvidia', 'none', 'amd', 'qualcomm'], dtype=object)"
      ]
     },
     "execution_count": 21,
     "metadata": {},
     "output_type": "execute_result"
    }
   ],
   "source": [
    "# df1[df1[\"gpu_brand\"] == \"na\"]\n",
    "df1[\"gpu_brand\"].unique()"
   ]
  },
  {
   "cell_type": "code",
   "execution_count": 22,
   "id": "f365321f",
   "metadata": {},
   "outputs": [],
   "source": [
    "gpu_brand_dict = encode_to_int(list(df1[\"gpu_brand\"].unique())) \n",
    "\n",
    "def func0(s):\n",
    "    return gpu_brand_dict[s]\n",
    "\n",
    "df1[\"gpu_brand\"] = df1[\"gpu_brand\"].apply(func0)"
   ]
  },
  {
   "cell_type": "code",
   "execution_count": 23,
   "id": "219e1d0a",
   "metadata": {},
   "outputs": [
    {
     "data": {
      "text/plain": [
       "{'nvidia': 1, 'none': 2, 'amd': 3, 'qualcomm': 4}"
      ]
     },
     "execution_count": 23,
     "metadata": {},
     "output_type": "execute_result"
    }
   ],
   "source": [
    "gpu_brand_dict"
   ]
  },
  {
   "cell_type": "code",
   "execution_count": 24,
   "id": "030ad593",
   "metadata": {},
   "outputs": [],
   "source": [
    "# del df1[\"Graphic Processor\"]"
   ]
  },
  {
   "cell_type": "code",
   "execution_count": 25,
   "id": "9ec9027c",
   "metadata": {},
   "outputs": [
    {
     "data": {
      "text/plain": [
       "{1: 'nvidia', 2: 'none', 3: 'amd', 4: 'qualcomm'}"
      ]
     },
     "execution_count": 25,
     "metadata": {},
     "output_type": "execute_result"
    }
   ],
   "source": [
    "inv_gpub_dict = {v: k for k, v in gpu_brand_dict.items()}\n",
    "inv_gpub_dict"
   ]
  },
  {
   "cell_type": "code",
   "execution_count": 26,
   "id": "26d4e9d9",
   "metadata": {},
   "outputs": [
    {
     "name": "stdout",
     "output_type": "stream",
     "text": [
      "['gaming laptop' 'thin and light laptop' '2 in 1 laptop' 'notebook'\n",
      " 'laptop' '2 in 1 gaming laptop' 'business laptop' 'chromebook'\n",
      " 'creator laptop']\n"
     ]
    },
    {
     "data": {
      "text/plain": [
       "array([1, 2, 3, 4, 5, 6, 7, 8, 9], dtype=int64)"
      ]
     },
     "execution_count": 26,
     "metadata": {},
     "output_type": "execute_result"
    }
   ],
   "source": [
    "def func1(s):\n",
    "    return type_dict[s]\n",
    "\n",
    "print(df1[\"Type\"].unique())\n",
    "## No nan values in the given column\n",
    "\n",
    "type_dict = encode_to_int(df1[\"Type\"].unique())\n",
    "\n",
    "df1[\"Type\"] = df1[\"Type\"].apply(func1)\n",
    "df1[\"Type\"].unique()"
   ]
  },
  {
   "cell_type": "code",
   "execution_count": 27,
   "id": "fb56ecd6",
   "metadata": {},
   "outputs": [
    {
     "data": {
      "text/plain": [
       "{'gaming laptop': 1,\n",
       " 'thin and light laptop': 2,\n",
       " '2 in 1 laptop': 3,\n",
       " 'notebook': 4,\n",
       " 'laptop': 5,\n",
       " '2 in 1 gaming laptop': 6,\n",
       " 'business laptop': 7,\n",
       " 'chromebook': 8,\n",
       " 'creator laptop': 9}"
      ]
     },
     "execution_count": 27,
     "metadata": {},
     "output_type": "execute_result"
    }
   ],
   "source": [
    "type_dict"
   ]
  },
  {
   "cell_type": "code",
   "execution_count": 28,
   "id": "e41f4b57",
   "metadata": {},
   "outputs": [
    {
     "data": {
      "text/plain": [
       "{1: 'gaming laptop',\n",
       " 2: 'thin and light laptop',\n",
       " 3: '2 in 1 laptop',\n",
       " 4: 'notebook',\n",
       " 5: 'laptop',\n",
       " 6: '2 in 1 gaming laptop',\n",
       " 7: 'business laptop',\n",
       " 8: 'chromebook',\n",
       " 9: 'creator laptop'}"
      ]
     },
     "execution_count": 28,
     "metadata": {},
     "output_type": "execute_result"
    }
   ],
   "source": [
    "inv_type_dict = {v: k for k, v in type_dict.items()}\n",
    "inv_type_dict"
   ]
  },
  {
   "cell_type": "code",
   "execution_count": 29,
   "id": "0bbc82f5",
   "metadata": {},
   "outputs": [],
   "source": [
    "def brand(s):\n",
    "    sr = s.split(\" \")\n",
    "    brand_name = sr[0].lower()\n",
    "    return brand_name\n",
    "\n",
    "df1[\"company\"] = df1[\"name\"].apply(brand)"
   ]
  },
  {
   "cell_type": "code",
   "execution_count": 30,
   "id": "8a218daa",
   "metadata": {},
   "outputs": [
    {
     "data": {
      "text/plain": [
       "array(['asus', 'hp', 'lenovo', 'dell', 'msi', 'realme', 'avita', 'acer',\n",
       "       'samsung', 'infinix', 'lg', 'apple', 'nokia', 'redmibook', 'mi',\n",
       "       'vaio'], dtype=object)"
      ]
     },
     "execution_count": 30,
     "metadata": {},
     "output_type": "execute_result"
    }
   ],
   "source": [
    "df1[\"company\"].unique()"
   ]
  },
  {
   "cell_type": "code",
   "execution_count": 31,
   "id": "3f06d99b",
   "metadata": {},
   "outputs": [
    {
     "data": {
      "text/plain": [
       "array([ 1,  2,  3,  4,  5,  6,  7,  8,  9, 10, 11, 12, 13, 14, 15, 16],\n",
       "      dtype=int64)"
      ]
     },
     "execution_count": 31,
     "metadata": {},
     "output_type": "execute_result"
    }
   ],
   "source": [
    "def func00(s):\n",
    "    return company_dict[s]\n",
    "\n",
    "company_dict = encode_to_int(df1[\"company\"].unique())\n",
    "\n",
    "df1[\"company\"] = df1[\"company\"].apply(func00)\n",
    "df1[\"company\"].unique()"
   ]
  },
  {
   "cell_type": "code",
   "execution_count": 32,
   "id": "1471f6a0",
   "metadata": {},
   "outputs": [
    {
     "data": {
      "text/html": [
       "<div>\n",
       "<style scoped>\n",
       "    .dataframe tbody tr th:only-of-type {\n",
       "        vertical-align: middle;\n",
       "    }\n",
       "\n",
       "    .dataframe tbody tr th {\n",
       "        vertical-align: top;\n",
       "    }\n",
       "\n",
       "    .dataframe thead th {\n",
       "        text-align: right;\n",
       "    }\n",
       "</style>\n",
       "<table border=\"1\" class=\"dataframe\">\n",
       "  <thead>\n",
       "    <tr style=\"text-align: right;\">\n",
       "      <th></th>\n",
       "      <th>name</th>\n",
       "      <th>Price</th>\n",
       "      <th>Sales Package</th>\n",
       "      <th>Model Name</th>\n",
       "      <th>Series</th>\n",
       "      <th>Color</th>\n",
       "      <th>Type</th>\n",
       "      <th>Power Supply</th>\n",
       "      <th>Battery Cell</th>\n",
       "      <th>Dedicated Graphic Memory Type</th>\n",
       "      <th>...</th>\n",
       "      <th>Brightness</th>\n",
       "      <th>Face Recognition</th>\n",
       "      <th>System Architecture</th>\n",
       "      <th>Refresh Rate</th>\n",
       "      <th>HDD Capacity</th>\n",
       "      <th>Read/Write Speed</th>\n",
       "      <th>EMMC Storage Capacity</th>\n",
       "      <th>max_res</th>\n",
       "      <th>gpu_brand</th>\n",
       "      <th>company</th>\n",
       "    </tr>\n",
       "  </thead>\n",
       "  <tbody>\n",
       "    <tr>\n",
       "      <th>0</th>\n",
       "      <td>asus rog strix scar 17 core i9 12th gen - (32 ...</td>\n",
       "      <td>₹2,34,990</td>\n",
       "      <td>laptop, power adaptor, user guide, warranty do...</td>\n",
       "      <td>g733zw-ll139ws</td>\n",
       "      <td>rog strix scar 17</td>\n",
       "      <td>off black</td>\n",
       "      <td>1</td>\n",
       "      <td>280 w ac adapter</td>\n",
       "      <td>4 cell</td>\n",
       "      <td>gddr6</td>\n",
       "      <td>...</td>\n",
       "      <td>nan</td>\n",
       "      <td>nan</td>\n",
       "      <td>nan</td>\n",
       "      <td>nan</td>\n",
       "      <td>nan</td>\n",
       "      <td>nan</td>\n",
       "      <td>nan</td>\n",
       "      <td>1440</td>\n",
       "      <td>1</td>\n",
       "      <td>1</td>\n",
       "    </tr>\n",
       "    <tr>\n",
       "      <th>1</th>\n",
       "      <td>asus rog strix scar 15 core i9 12th gen - (32 ...</td>\n",
       "      <td>₹2,29,990</td>\n",
       "      <td>laptop, power adaptor, user guide, warranty do...</td>\n",
       "      <td>g533zw-ln136ws</td>\n",
       "      <td>rog strix scar 15</td>\n",
       "      <td>off black</td>\n",
       "      <td>1</td>\n",
       "      <td>280 w ac adapter</td>\n",
       "      <td>4 cell</td>\n",
       "      <td>gddr6</td>\n",
       "      <td>...</td>\n",
       "      <td>nan</td>\n",
       "      <td>nan</td>\n",
       "      <td>nan</td>\n",
       "      <td>nan</td>\n",
       "      <td>nan</td>\n",
       "      <td>nan</td>\n",
       "      <td>nan</td>\n",
       "      <td>1440</td>\n",
       "      <td>1</td>\n",
       "      <td>1</td>\n",
       "    </tr>\n",
       "    <tr>\n",
       "      <th>2</th>\n",
       "      <td>hp victus ryzen 7 octa core 5800h - (16 gb/512...</td>\n",
       "      <td>₹1,04,091</td>\n",
       "      <td>laptop, battery, adapter, cables and user manuals</td>\n",
       "      <td>16-e0351ax</td>\n",
       "      <td>victus</td>\n",
       "      <td>mica silver</td>\n",
       "      <td>1</td>\n",
       "      <td>nan</td>\n",
       "      <td>4 cell</td>\n",
       "      <td>gddr6</td>\n",
       "      <td>...</td>\n",
       "      <td>nan</td>\n",
       "      <td>nan</td>\n",
       "      <td>nan</td>\n",
       "      <td>nan</td>\n",
       "      <td>nan</td>\n",
       "      <td>nan</td>\n",
       "      <td>nan</td>\n",
       "      <td>1080</td>\n",
       "      <td>1</td>\n",
       "      <td>2</td>\n",
       "    </tr>\n",
       "    <tr>\n",
       "      <th>3</th>\n",
       "      <td>lenovo ideapad gaming 3i ryzen 7 octa core r7-...</td>\n",
       "      <td>₹87,717</td>\n",
       "      <td>laptop, power adaptor, user guide, warranty do...</td>\n",
       "      <td>ideapad gaming 3</td>\n",
       "      <td>ideapad gaming 3i</td>\n",
       "      <td>shadow black</td>\n",
       "      <td>1</td>\n",
       "      <td>slim tip 3-pin power adapter</td>\n",
       "      <td>nan</td>\n",
       "      <td>gddr6</td>\n",
       "      <td>...</td>\n",
       "      <td>250 nits</td>\n",
       "      <td>nan</td>\n",
       "      <td>nan</td>\n",
       "      <td>nan</td>\n",
       "      <td>nan</td>\n",
       "      <td>nan</td>\n",
       "      <td>nan</td>\n",
       "      <td>1080</td>\n",
       "      <td>1</td>\n",
       "      <td>3</td>\n",
       "    </tr>\n",
       "    <tr>\n",
       "      <th>4</th>\n",
       "      <td>lenovo yoga slim 7 core i5 11th gen - (16 gb/5...</td>\n",
       "      <td>₹75,990</td>\n",
       "      <td>laptop, adaptor</td>\n",
       "      <td>yoga slim 7 14itl05</td>\n",
       "      <td>yoga slim 7</td>\n",
       "      <td>slate grey</td>\n",
       "      <td>2</td>\n",
       "      <td>nan</td>\n",
       "      <td>nan</td>\n",
       "      <td>nan</td>\n",
       "      <td>...</td>\n",
       "      <td>nan</td>\n",
       "      <td>nan</td>\n",
       "      <td>nan</td>\n",
       "      <td>nan</td>\n",
       "      <td>nan</td>\n",
       "      <td>nan</td>\n",
       "      <td>nan</td>\n",
       "      <td>1080</td>\n",
       "      <td>2</td>\n",
       "      <td>3</td>\n",
       "    </tr>\n",
       "    <tr>\n",
       "      <th>...</th>\n",
       "      <td>...</td>\n",
       "      <td>...</td>\n",
       "      <td>...</td>\n",
       "      <td>...</td>\n",
       "      <td>...</td>\n",
       "      <td>...</td>\n",
       "      <td>...</td>\n",
       "      <td>...</td>\n",
       "      <td>...</td>\n",
       "      <td>...</td>\n",
       "      <td>...</td>\n",
       "      <td>...</td>\n",
       "      <td>...</td>\n",
       "      <td>...</td>\n",
       "      <td>...</td>\n",
       "      <td>...</td>\n",
       "      <td>...</td>\n",
       "      <td>...</td>\n",
       "      <td>...</td>\n",
       "      <td>...</td>\n",
       "      <td>...</td>\n",
       "    </tr>\n",
       "    <tr>\n",
       "      <th>979</th>\n",
       "      <td>nokia purebook x14 core i5 10th gen - (8 gb/51...</td>\n",
       "      <td>₹53,990</td>\n",
       "      <td>laptop, power adaptor, user guide with warrant...</td>\n",
       "      <td>nan</td>\n",
       "      <td>purebook x14</td>\n",
       "      <td>black</td>\n",
       "      <td>2</td>\n",
       "      <td>65 w ac adapter</td>\n",
       "      <td>3 cell</td>\n",
       "      <td>nan</td>\n",
       "      <td>...</td>\n",
       "      <td>nan</td>\n",
       "      <td>yes</td>\n",
       "      <td>64 bit</td>\n",
       "      <td>nan</td>\n",
       "      <td>nan</td>\n",
       "      <td>nan</td>\n",
       "      <td>nan</td>\n",
       "      <td>1080</td>\n",
       "      <td>2</td>\n",
       "      <td>13</td>\n",
       "    </tr>\n",
       "    <tr>\n",
       "      <th>980</th>\n",
       "      <td>hp spectre folio core i7 10th gen - (16 gb/512...</td>\n",
       "      <td>₹2,39,759</td>\n",
       "      <td>laptop, power adaptor, user guide, warranty do...</td>\n",
       "      <td>nan</td>\n",
       "      <td>spectre folio</td>\n",
       "      <td>cognac brown</td>\n",
       "      <td>3</td>\n",
       "      <td>nan</td>\n",
       "      <td>6 cell</td>\n",
       "      <td>nan</td>\n",
       "      <td>...</td>\n",
       "      <td>nan</td>\n",
       "      <td>nan</td>\n",
       "      <td>64 bit</td>\n",
       "      <td>nan</td>\n",
       "      <td>nan</td>\n",
       "      <td>nan</td>\n",
       "      <td>nan</td>\n",
       "      <td>1080</td>\n",
       "      <td>1</td>\n",
       "      <td>2</td>\n",
       "    </tr>\n",
       "    <tr>\n",
       "      <th>981</th>\n",
       "      <td>hp envy x360 ryzen 5 hexa core 4500u - (8 gb/5...</td>\n",
       "      <td>₹85,555</td>\n",
       "      <td>laptop, power adaptor, user guide, warranty do...</td>\n",
       "      <td>nan</td>\n",
       "      <td>envy x360</td>\n",
       "      <td>nightfall black</td>\n",
       "      <td>3</td>\n",
       "      <td>nan</td>\n",
       "      <td>3 cell</td>\n",
       "      <td>nan</td>\n",
       "      <td>...</td>\n",
       "      <td>nan</td>\n",
       "      <td>nan</td>\n",
       "      <td>64 bit</td>\n",
       "      <td>nan</td>\n",
       "      <td>nan</td>\n",
       "      <td>nan</td>\n",
       "      <td>nan</td>\n",
       "      <td>1080</td>\n",
       "      <td>3</td>\n",
       "      <td>2</td>\n",
       "    </tr>\n",
       "    <tr>\n",
       "      <th>982</th>\n",
       "      <td>hp 14a celeron dual core - (4 gb/64 gb emmc st...</td>\n",
       "      <td>₹26,990</td>\n",
       "      <td>laptop, power adaptor, user guide, warranty do...</td>\n",
       "      <td>nan</td>\n",
       "      <td>14a</td>\n",
       "      <td>ceramic white</td>\n",
       "      <td>8</td>\n",
       "      <td>nan</td>\n",
       "      <td>2 cell</td>\n",
       "      <td>nan</td>\n",
       "      <td>...</td>\n",
       "      <td>nan</td>\n",
       "      <td>nan</td>\n",
       "      <td>nan</td>\n",
       "      <td>nan</td>\n",
       "      <td>nan</td>\n",
       "      <td>nan</td>\n",
       "      <td>64 gb</td>\n",
       "      <td>720</td>\n",
       "      <td>2</td>\n",
       "      <td>2</td>\n",
       "    </tr>\n",
       "    <tr>\n",
       "      <th>983</th>\n",
       "      <td>lenovo core i3 10th gen - (4 gb/1 tb hdd/windo...</td>\n",
       "      <td>₹44,590</td>\n",
       "      <td>laptop, power adaptor, user guide, warranty do...</td>\n",
       "      <td>nan</td>\n",
       "      <td>nan</td>\n",
       "      <td>black</td>\n",
       "      <td>5</td>\n",
       "      <td>45 w ac adapter</td>\n",
       "      <td>2 cell</td>\n",
       "      <td>nan</td>\n",
       "      <td>...</td>\n",
       "      <td>nan</td>\n",
       "      <td>nan</td>\n",
       "      <td>64 bit</td>\n",
       "      <td>nan</td>\n",
       "      <td>1 tb</td>\n",
       "      <td>nan</td>\n",
       "      <td>nan</td>\n",
       "      <td>720</td>\n",
       "      <td>3</td>\n",
       "      <td>3</td>\n",
       "    </tr>\n",
       "  </tbody>\n",
       "</table>\n",
       "<p>984 rows × 46 columns</p>\n",
       "</div>"
      ],
      "text/plain": [
       "                                                  name      Price  \\\n",
       "0    asus rog strix scar 17 core i9 12th gen - (32 ...  ₹2,34,990   \n",
       "1    asus rog strix scar 15 core i9 12th gen - (32 ...  ₹2,29,990   \n",
       "2    hp victus ryzen 7 octa core 5800h - (16 gb/512...  ₹1,04,091   \n",
       "3    lenovo ideapad gaming 3i ryzen 7 octa core r7-...    ₹87,717   \n",
       "4    lenovo yoga slim 7 core i5 11th gen - (16 gb/5...    ₹75,990   \n",
       "..                                                 ...        ...   \n",
       "979  nokia purebook x14 core i5 10th gen - (8 gb/51...    ₹53,990   \n",
       "980  hp spectre folio core i7 10th gen - (16 gb/512...  ₹2,39,759   \n",
       "981  hp envy x360 ryzen 5 hexa core 4500u - (8 gb/5...    ₹85,555   \n",
       "982  hp 14a celeron dual core - (4 gb/64 gb emmc st...    ₹26,990   \n",
       "983  lenovo core i3 10th gen - (4 gb/1 tb hdd/windo...    ₹44,590   \n",
       "\n",
       "                                         Sales Package           Model Name  \\\n",
       "0    laptop, power adaptor, user guide, warranty do...       g733zw-ll139ws   \n",
       "1    laptop, power adaptor, user guide, warranty do...       g533zw-ln136ws   \n",
       "2    laptop, battery, adapter, cables and user manuals           16-e0351ax   \n",
       "3    laptop, power adaptor, user guide, warranty do...     ideapad gaming 3   \n",
       "4                                      laptop, adaptor  yoga slim 7 14itl05   \n",
       "..                                                 ...                  ...   \n",
       "979  laptop, power adaptor, user guide with warrant...                  nan   \n",
       "980  laptop, power adaptor, user guide, warranty do...                  nan   \n",
       "981  laptop, power adaptor, user guide, warranty do...                  nan   \n",
       "982  laptop, power adaptor, user guide, warranty do...                  nan   \n",
       "983  laptop, power adaptor, user guide, warranty do...                  nan   \n",
       "\n",
       "                Series            Color  Type                  Power Supply  \\\n",
       "0    rog strix scar 17        off black     1              280 w ac adapter   \n",
       "1    rog strix scar 15        off black     1              280 w ac adapter   \n",
       "2               victus      mica silver     1                           nan   \n",
       "3    ideapad gaming 3i     shadow black     1  slim tip 3-pin power adapter   \n",
       "4          yoga slim 7       slate grey     2                           nan   \n",
       "..                 ...              ...   ...                           ...   \n",
       "979       purebook x14            black     2               65 w ac adapter   \n",
       "980      spectre folio     cognac brown     3                           nan   \n",
       "981          envy x360  nightfall black     3                           nan   \n",
       "982                14a    ceramic white     8                           nan   \n",
       "983                nan            black     5               45 w ac adapter   \n",
       "\n",
       "    Battery Cell Dedicated Graphic Memory Type  ... Brightness  \\\n",
       "0         4 cell                         gddr6  ...        nan   \n",
       "1         4 cell                         gddr6  ...        nan   \n",
       "2         4 cell                         gddr6  ...        nan   \n",
       "3            nan                         gddr6  ...   250 nits   \n",
       "4            nan                           nan  ...        nan   \n",
       "..           ...                           ...  ...        ...   \n",
       "979       3 cell                           nan  ...        nan   \n",
       "980       6 cell                           nan  ...        nan   \n",
       "981       3 cell                           nan  ...        nan   \n",
       "982       2 cell                           nan  ...        nan   \n",
       "983       2 cell                           nan  ...        nan   \n",
       "\n",
       "    Face Recognition System Architecture Refresh Rate HDD Capacity  \\\n",
       "0                nan                 nan          nan          nan   \n",
       "1                nan                 nan          nan          nan   \n",
       "2                nan                 nan          nan          nan   \n",
       "3                nan                 nan          nan          nan   \n",
       "4                nan                 nan          nan          nan   \n",
       "..               ...                 ...          ...          ...   \n",
       "979              yes              64 bit          nan          nan   \n",
       "980              nan              64 bit          nan          nan   \n",
       "981              nan              64 bit          nan          nan   \n",
       "982              nan                 nan          nan          nan   \n",
       "983              nan              64 bit          nan         1 tb   \n",
       "\n",
       "    Read/Write Speed EMMC Storage Capacity max_res gpu_brand company  \n",
       "0                nan                   nan    1440         1       1  \n",
       "1                nan                   nan    1440         1       1  \n",
       "2                nan                   nan    1080         1       2  \n",
       "3                nan                   nan    1080         1       3  \n",
       "4                nan                   nan    1080         2       3  \n",
       "..               ...                   ...     ...       ...     ...  \n",
       "979              nan                   nan    1080         2      13  \n",
       "980              nan                   nan    1080         1       2  \n",
       "981              nan                   nan    1080         3       2  \n",
       "982              nan                 64 gb     720         2       2  \n",
       "983              nan                   nan     720         3       3  \n",
       "\n",
       "[984 rows x 46 columns]"
      ]
     },
     "execution_count": 32,
     "metadata": {},
     "output_type": "execute_result"
    }
   ],
   "source": [
    "df1"
   ]
  },
  {
   "cell_type": "code",
   "execution_count": 33,
   "id": "789f61ee",
   "metadata": {},
   "outputs": [
    {
     "data": {
      "text/html": [
       "<div>\n",
       "<style scoped>\n",
       "    .dataframe tbody tr th:only-of-type {\n",
       "        vertical-align: middle;\n",
       "    }\n",
       "\n",
       "    .dataframe tbody tr th {\n",
       "        vertical-align: top;\n",
       "    }\n",
       "\n",
       "    .dataframe thead th {\n",
       "        text-align: right;\n",
       "    }\n",
       "</style>\n",
       "<table border=\"1\" class=\"dataframe\">\n",
       "  <thead>\n",
       "    <tr style=\"text-align: right;\">\n",
       "      <th></th>\n",
       "      <th>name</th>\n",
       "      <th>Price</th>\n",
       "      <th>Sales Package</th>\n",
       "      <th>Model Name</th>\n",
       "      <th>Series</th>\n",
       "      <th>Color</th>\n",
       "      <th>Type</th>\n",
       "      <th>Power Supply</th>\n",
       "      <th>Battery Cell</th>\n",
       "      <th>Dedicated Graphic Memory Type</th>\n",
       "      <th>...</th>\n",
       "      <th>Brightness</th>\n",
       "      <th>Face Recognition</th>\n",
       "      <th>System Architecture</th>\n",
       "      <th>Refresh Rate</th>\n",
       "      <th>HDD Capacity</th>\n",
       "      <th>Read/Write Speed</th>\n",
       "      <th>EMMC Storage Capacity</th>\n",
       "      <th>max_res</th>\n",
       "      <th>gpu_brand</th>\n",
       "      <th>company</th>\n",
       "    </tr>\n",
       "  </thead>\n",
       "  <tbody>\n",
       "  </tbody>\n",
       "</table>\n",
       "<p>0 rows × 46 columns</p>\n",
       "</div>"
      ],
      "text/plain": [
       "Empty DataFrame\n",
       "Columns: [name, Price, Sales Package, Model Name, Series, Color, Type, Power Supply, Battery Cell, Dedicated Graphic Memory Type, Dedicated Graphic Memory Capacity, Processor Brand, Processor Name, Processor Generation, SSD, SSD Capacity, RAM, RAM Type, Processor Variant, Clock Speed, Expandable Memory, Graphic Processor, Number of Cores, OS Architecture, Operating System, Supported Operating System, Touchscreen, Screen Size, Screen Type, Weight, Disk Drive, Finger Print Sensor, Backlit Keyboard, Web Camera, Battery Backup, Chipset, Brightness, Face Recognition, System Architecture, Refresh Rate, HDD Capacity, Read/Write Speed, EMMC Storage Capacity, max_res, gpu_brand, company]\n",
       "Index: []\n",
       "\n",
       "[0 rows x 46 columns]"
      ]
     },
     "execution_count": 33,
     "metadata": {},
     "output_type": "execute_result"
    }
   ],
   "source": [
    "df1[df1[\"Weight\"] == 0]"
   ]
  },
  {
   "cell_type": "code",
   "execution_count": null,
   "id": "7cd406f9",
   "metadata": {},
   "outputs": [],
   "source": []
  },
  {
   "cell_type": "code",
   "execution_count": 34,
   "id": "554babe7",
   "metadata": {},
   "outputs": [],
   "source": [
    "del df1[\"Power Supply\"]\n",
    "del df1[\"Sales Package\"]\n",
    "del df1[\"Model Name\"]\n",
    "del df1[\"Battery Cell\"]\n",
    "del df1[\"Color\"]\n",
    "del df1[\"Processor Variant\"]\n",
    "del df1[\"Supported Operating System\"]\n",
    "del df1[\"Screen Type\"]\n",
    "del df1[\"Disk Drive\"]\n",
    "del df1[\"Backlit Keyboard\"]\n",
    "del df1[\"Chipset\"]\n",
    "del df1[\"Brightness\"]\n",
    "del df1[\"System Architecture\"]\n",
    "del df1[\"Read/Write Speed\"]\n",
    "del df1[\"Clock Speed\"]\n",
    "# del df1[\"name\"]\n",
    "del df1[\"Series\"]\n",
    "# del df1[\"Refresh Rate\"]"
   ]
  },
  {
   "cell_type": "code",
   "execution_count": 35,
   "id": "68cce932",
   "metadata": {},
   "outputs": [
    {
     "data": {
      "text/plain": [
       "array(['1 tb', '512 gb', '256 gb', '128 gb', 0, '2 tb'], dtype=object)"
      ]
     },
     "execution_count": 35,
     "metadata": {},
     "output_type": "execute_result"
    }
   ],
   "source": [
    "df1[\"SSD Capacity\"] = df1[\"SSD Capacity\"].replace(\"nan\", 0)\n",
    "df1[\"SSD Capacity\"].unique()"
   ]
  },
  {
   "cell_type": "code",
   "execution_count": 36,
   "id": "7fda4dee",
   "metadata": {},
   "outputs": [
    {
     "data": {
      "text/plain": [
       "array([0, '512 gb', '1 tb'], dtype=object)"
      ]
     },
     "execution_count": 36,
     "metadata": {},
     "output_type": "execute_result"
    }
   ],
   "source": [
    "df1[\"HDD Capacity\"].unique()\n",
    "\n",
    "df1[\"HDD Capacity\"] = df1[\"HDD Capacity\"].replace(\"nan\", 0)\n",
    "df1[\"HDD Capacity\"].unique()"
   ]
  },
  {
   "cell_type": "code",
   "execution_count": 37,
   "id": "60a52a57",
   "metadata": {},
   "outputs": [
    {
     "data": {
      "text/plain": [
       "['1', 'tb']"
      ]
     },
     "execution_count": 37,
     "metadata": {},
     "output_type": "execute_result"
    }
   ],
   "source": [
    "df1[\"SSD Capacity\"][0].split(\" \")"
   ]
  },
  {
   "cell_type": "code",
   "execution_count": 38,
   "id": "e28f0528",
   "metadata": {},
   "outputs": [
    {
     "name": "stderr",
     "output_type": "stream",
     "text": [
      "<ipython-input-38-a7c8a9a836fa>:8: SettingWithCopyWarning: \n",
      "A value is trying to be set on a copy of a slice from a DataFrame\n",
      "\n",
      "See the caveats in the documentation: https://pandas.pydata.org/pandas-docs/stable/user_guide/indexing.html#returning-a-view-versus-a-copy\n",
      "  df1[\"SSD Capacity\"][i] = int(x[0])*1000\n",
      "<ipython-input-38-a7c8a9a836fa>:10: SettingWithCopyWarning: \n",
      "A value is trying to be set on a copy of a slice from a DataFrame\n",
      "\n",
      "See the caveats in the documentation: https://pandas.pydata.org/pandas-docs/stable/user_guide/indexing.html#returning-a-view-versus-a-copy\n",
      "  df1[\"SSD Capacity\"][i] = int(x[0])\n",
      "<ipython-input-38-a7c8a9a836fa>:3: SettingWithCopyWarning: \n",
      "A value is trying to be set on a copy of a slice from a DataFrame\n",
      "\n",
      "See the caveats in the documentation: https://pandas.pydata.org/pandas-docs/stable/user_guide/indexing.html#returning-a-view-versus-a-copy\n",
      "  df1[\"SSD Capacity\"][i] = 0\n"
     ]
    }
   ],
   "source": [
    "for i in range(df1.shape[0]):\n",
    "    if(df1[\"SSD Capacity\"][i]== 0):\n",
    "        df1[\"SSD Capacity\"][i] = 0\n",
    "        continue\n",
    "    else:\n",
    "        x = df1[\"SSD Capacity\"][i].split(\" \")\n",
    "        if(x[1] == \"tb\"):\n",
    "            df1[\"SSD Capacity\"][i] = int(x[0])*1000\n",
    "        else:\n",
    "            df1[\"SSD Capacity\"][i] = int(x[0])\n",
    "        "
   ]
  },
  {
   "cell_type": "code",
   "execution_count": 39,
   "id": "730a9520",
   "metadata": {},
   "outputs": [
    {
     "name": "stderr",
     "output_type": "stream",
     "text": [
      "<ipython-input-39-d406e84a6cfd>:5: SettingWithCopyWarning: \n",
      "A value is trying to be set on a copy of a slice from a DataFrame\n",
      "\n",
      "See the caveats in the documentation: https://pandas.pydata.org/pandas-docs/stable/user_guide/indexing.html#returning-a-view-versus-a-copy\n",
      "  df1[\"EMMC Storage Capacity\"][i] = 0\n",
      "<ipython-input-39-d406e84a6cfd>:9: SettingWithCopyWarning: \n",
      "A value is trying to be set on a copy of a slice from a DataFrame\n",
      "\n",
      "See the caveats in the documentation: https://pandas.pydata.org/pandas-docs/stable/user_guide/indexing.html#returning-a-view-versus-a-copy\n",
      "  df1[\"EMMC Storage Capacity\"][i] = int(x[0])\n"
     ]
    }
   ],
   "source": [
    "# df1[\"EMMC Storage Capacity\"]\n",
    "\n",
    "for i in range(df1.shape[0]):\n",
    "    if(df1[\"EMMC Storage Capacity\"][i]== \"nan\"):\n",
    "        df1[\"EMMC Storage Capacity\"][i] = 0\n",
    "        continue\n",
    "    else:\n",
    "        x = df1[\"EMMC Storage Capacity\"][i].split(\" \")\n",
    "        df1[\"EMMC Storage Capacity\"][i] = int(x[0])"
   ]
  },
  {
   "cell_type": "code",
   "execution_count": 40,
   "id": "9fc68782",
   "metadata": {},
   "outputs": [],
   "source": [
    "# df1[df1[\"EMMC Storage Capacity\"] == \"nan\"].shape"
   ]
  },
  {
   "cell_type": "code",
   "execution_count": 41,
   "id": "0b6b5a49",
   "metadata": {},
   "outputs": [
    {
     "data": {
      "text/plain": [
       "array([1000, 512, 256, 128, 0, 2000], dtype=object)"
      ]
     },
     "execution_count": 41,
     "metadata": {},
     "output_type": "execute_result"
    }
   ],
   "source": [
    "df1[\"SSD Capacity\"].unique()"
   ]
  },
  {
   "cell_type": "code",
   "execution_count": 42,
   "id": "ed1c88dc",
   "metadata": {},
   "outputs": [
    {
     "name": "stderr",
     "output_type": "stream",
     "text": [
      "<ipython-input-42-1d48d21c2970>:3: SettingWithCopyWarning: \n",
      "A value is trying to be set on a copy of a slice from a DataFrame\n",
      "\n",
      "See the caveats in the documentation: https://pandas.pydata.org/pandas-docs/stable/user_guide/indexing.html#returning-a-view-versus-a-copy\n",
      "  df1[\"HDD Capacity\"][i] = 0\n",
      "<ipython-input-42-1d48d21c2970>:10: SettingWithCopyWarning: \n",
      "A value is trying to be set on a copy of a slice from a DataFrame\n",
      "\n",
      "See the caveats in the documentation: https://pandas.pydata.org/pandas-docs/stable/user_guide/indexing.html#returning-a-view-versus-a-copy\n",
      "  df1[\"HDD Capacity\"][i] = int(x[0])\n",
      "<ipython-input-42-1d48d21c2970>:8: SettingWithCopyWarning: \n",
      "A value is trying to be set on a copy of a slice from a DataFrame\n",
      "\n",
      "See the caveats in the documentation: https://pandas.pydata.org/pandas-docs/stable/user_guide/indexing.html#returning-a-view-versus-a-copy\n",
      "  df1[\"HDD Capacity\"][i] = int(x[0])*1000\n"
     ]
    }
   ],
   "source": [
    "for i in range(df1.shape[0]):\n",
    "    if(df1[\"HDD Capacity\"][i]== 0):\n",
    "        df1[\"HDD Capacity\"][i] = 0\n",
    "        continue\n",
    "    else:\n",
    "        x = df1[\"HDD Capacity\"][i].split(\" \")\n",
    "        if(x[1] == \"tb\"):\n",
    "            df1[\"HDD Capacity\"][i] = int(x[0])*1000\n",
    "        else:\n",
    "            df1[\"HDD Capacity\"][i] = int(x[0])\n",
    "        "
   ]
  },
  {
   "cell_type": "code",
   "execution_count": null,
   "id": "25c72c94",
   "metadata": {},
   "outputs": [],
   "source": []
  },
  {
   "cell_type": "code",
   "execution_count": 43,
   "id": "92c91ccc",
   "metadata": {},
   "outputs": [
    {
     "data": {
      "text/plain": [
       "array([0, 512, 1000], dtype=object)"
      ]
     },
     "execution_count": 43,
     "metadata": {},
     "output_type": "execute_result"
    }
   ],
   "source": [
    "df1[\"HDD Capacity\"].unique()"
   ]
  },
  {
   "cell_type": "code",
   "execution_count": 44,
   "id": "b7802946",
   "metadata": {},
   "outputs": [
    {
     "data": {
      "text/plain": [
       "Index(['name', 'Price', 'Type', 'Dedicated Graphic Memory Type',\n",
       "       'Dedicated Graphic Memory Capacity', 'Processor Brand',\n",
       "       'Processor Name', 'Processor Generation', 'SSD', 'SSD Capacity', 'RAM',\n",
       "       'RAM Type', 'Expandable Memory', 'Graphic Processor', 'Number of Cores',\n",
       "       'OS Architecture', 'Operating System', 'Touchscreen', 'Screen Size',\n",
       "       'Weight', 'Finger Print Sensor', 'Web Camera', 'Battery Backup',\n",
       "       'Face Recognition', 'Refresh Rate', 'HDD Capacity',\n",
       "       'EMMC Storage Capacity', 'max_res', 'gpu_brand', 'company'],\n",
       "      dtype='object')"
      ]
     },
     "execution_count": 44,
     "metadata": {},
     "output_type": "execute_result"
    }
   ],
   "source": [
    "df1.columns"
   ]
  },
  {
   "cell_type": "code",
   "execution_count": 45,
   "id": "a9796969",
   "metadata": {},
   "outputs": [],
   "source": [
    "df1[\"Storage\"] = df1[\"HDD Capacity\"] + df1[\"SSD Capacity\"] + df1[\"EMMC Storage Capacity\"]"
   ]
  },
  {
   "cell_type": "code",
   "execution_count": 46,
   "id": "467c5f5b",
   "metadata": {},
   "outputs": [],
   "source": [
    "# df1[\"Storage\"].unique()"
   ]
  },
  {
   "cell_type": "code",
   "execution_count": 47,
   "id": "6bb20d15",
   "metadata": {},
   "outputs": [],
   "source": [
    "del df1[\"SSD Capacity\"]\n",
    "del df1[\"HDD Capacity\"]\n",
    "del df1[\"EMMC Storage Capacity\"]"
   ]
  },
  {
   "cell_type": "code",
   "execution_count": 48,
   "id": "ccdc603c",
   "metadata": {},
   "outputs": [
    {
     "name": "stderr",
     "output_type": "stream",
     "text": [
      "C:\\Users\\srevaatsav\\anaconda3\\lib\\site-packages\\pandas\\core\\indexing.py:1637: SettingWithCopyWarning: \n",
      "A value is trying to be set on a copy of a slice from a DataFrame\n",
      "\n",
      "See the caveats in the documentation: https://pandas.pydata.org/pandas-docs/stable/user_guide/indexing.html#returning-a-view-versus-a-copy\n",
      "  self._setitem_single_block(indexer, value, name)\n"
     ]
    }
   ],
   "source": [
    "# df1[df1[\"Storage\"] == 0]\n",
    "\n",
    "df1[\"Storage\"].iloc[265] = 1000"
   ]
  },
  {
   "cell_type": "code",
   "execution_count": 49,
   "id": "914176c3",
   "metadata": {},
   "outputs": [],
   "source": [
    "# df1.iloc[265]"
   ]
  },
  {
   "cell_type": "code",
   "execution_count": 50,
   "id": "cc021eb1",
   "metadata": {},
   "outputs": [
    {
     "data": {
      "text/plain": [
       "Index(['name', 'Price', 'Type', 'Dedicated Graphic Memory Type',\n",
       "       'Dedicated Graphic Memory Capacity', 'Processor Brand',\n",
       "       'Processor Name', 'Processor Generation', 'SSD', 'RAM', 'RAM Type',\n",
       "       'Expandable Memory', 'Graphic Processor', 'Number of Cores',\n",
       "       'OS Architecture', 'Operating System', 'Touchscreen', 'Screen Size',\n",
       "       'Weight', 'Finger Print Sensor', 'Web Camera', 'Battery Backup',\n",
       "       'Face Recognition', 'Refresh Rate', 'max_res', 'gpu_brand', 'company',\n",
       "       'Storage'],\n",
       "      dtype='object')"
      ]
     },
     "execution_count": 50,
     "metadata": {},
     "output_type": "execute_result"
    }
   ],
   "source": [
    "df1.columns"
   ]
  },
  {
   "cell_type": "code",
   "execution_count": 51,
   "id": "0088982c",
   "metadata": {},
   "outputs": [],
   "source": [
    "del df1[\"Web Camera\"]"
   ]
  },
  {
   "cell_type": "code",
   "execution_count": 52,
   "id": "8f8882d9",
   "metadata": {},
   "outputs": [],
   "source": [
    "x = df1[\"Price\"][0].split(\"₹\")"
   ]
  },
  {
   "cell_type": "code",
   "execution_count": 53,
   "id": "db7dbd1b",
   "metadata": {},
   "outputs": [
    {
     "data": {
      "text/plain": [
       "['', '2,34,990']"
      ]
     },
     "execution_count": 53,
     "metadata": {},
     "output_type": "execute_result"
    }
   ],
   "source": [
    "x"
   ]
  },
  {
   "cell_type": "code",
   "execution_count": 54,
   "id": "46874cd1",
   "metadata": {},
   "outputs": [],
   "source": [
    "def ls(s): \n",
    "    \n",
    "    # initialize an empty string\n",
    "    str1 = \"\" \n",
    "    \n",
    "    # traverse in the string  \n",
    "    for ele in s: \n",
    "        str1 += ele  \n",
    "    \n",
    "    # return string  \n",
    "    return str1 "
   ]
  },
  {
   "cell_type": "code",
   "execution_count": 55,
   "id": "d8899c4a",
   "metadata": {},
   "outputs": [
    {
     "name": "stderr",
     "output_type": "stream",
     "text": [
      "<ipython-input-55-f52a6ea9442c>:8: SettingWithCopyWarning: \n",
      "A value is trying to be set on a copy of a slice from a DataFrame\n",
      "\n",
      "See the caveats in the documentation: https://pandas.pydata.org/pandas-docs/stable/user_guide/indexing.html#returning-a-view-versus-a-copy\n",
      "  df1[\"Price\"][i] = int(rate)\n"
     ]
    }
   ],
   "source": [
    "for i in range(df1.shape[0]):\n",
    "    x = df1[\"Price\"][i].split(\"₹\")\n",
    "    y = ls(x[1])\n",
    "    y = y.split(\",\")\n",
    "    temp = \"\"\n",
    "    rate = temp.join(y)\n",
    "    \n",
    "    df1[\"Price\"][i] = int(rate)"
   ]
  },
  {
   "cell_type": "code",
   "execution_count": 56,
   "id": "585e0179",
   "metadata": {},
   "outputs": [
    {
     "data": {
      "text/plain": [
       "array([234990, 229990, 104091, 87717, 75990, 78395, 29290, 91308, 64990,\n",
       "       32999, 30990, 149645, 99219, 82980, 36949, 129990, 158270, 47990,\n",
       "       103990, 69490, 21990, 74990, 94990, 89990, 134990, 104990, 114990,\n",
       "       42990, 80500, 106990, 43430, 65990, 82449, 60990, 138990, 87990,\n",
       "       127990, 36990, 74490, 117490, 49990, 50990, 67949, 71999, 62900,\n",
       "       78900, 24990, 23990, 25990, 49890, 109990, 78190, 129980, 53990,\n",
       "       44900, 36890, 66500, 89590, 68900, 92490, 116990, 90290, 40990,\n",
       "       73990, 44990, 24999, 29990, 63990, 26990, 52990, 38990, 34990,\n",
       "       61990, 208190, 27490, 163190, 54990, 60190, 44499, 54890, 35988,\n",
       "       72990, 55990, 77990, 69990, 58990, 57990, 75190, 99990, 46790,\n",
       "       155490, 104490, 125500, 40699, 37990, 83990, 61986, 43199, 133990,\n",
       "       32990, 79998, 54100, 95990, 89251, 259990, 179990, 144990, 47499,\n",
       "       118990, 29940, 86990, 52380, 53499, 48990, 26800, 46800, 31990,\n",
       "       301990, 113990, 108990, 264990, 116500, 162990, 79990, 35990,\n",
       "       52632, 33999, 114900, 41999, 68100, 82000, 62990, 45799, 44490,\n",
       "       28290, 72998, 59999, 39999, 85990, 42490, 91900, 71990, 68990,\n",
       "       72032, 41990, 55999, 33990, 139990, 169990, 34490, 50999, 37899,\n",
       "       56900, 31390, 39990, 55490, 70990, 140990, 44090, 279990, 60490,\n",
       "       59890, 51990, 40590, 37999, 89998, 130500, 46990, 76990, 44190,\n",
       "       36490, 38000, 74590, 36999, 79620, 119599, 79978, 68498, 36599,\n",
       "       85999, 40490, 41690, 41490, 59990, 39988, 97990, 34999, 135990,\n",
       "       27990, 57710, 131990, 43990, 43490, 45490, 58590, 70490, 39490,\n",
       "       59490, 66490, 37390, 74690, 39980, 30999, 111999, 47490, 84990,\n",
       "       61490, 78490, 58000, 61970, 39390, 36000, 35999, 89890, 65000,\n",
       "       56850, 73519, 50940, 86648, 109000, 32890, 34649, 32489, 34979,\n",
       "       50390, 152999, 79790, 64790, 56690, 60390, 171990, 58450, 65970,\n",
       "       97468, 82500, 37490, 54999, 42740, 57900, 45980, 48490, 38890,\n",
       "       67990, 18990, 70090, 35790, 75099, 49500, 39997, 170000, 81399,\n",
       "       137990, 30699, 29999, 119990, 74798, 225990, 80990, 128990, 43900,\n",
       "       38700, 42590, 42900, 56449, 69500, 71000, 45990, 82990, 71090,\n",
       "       41390, 83490, 46890, 38499, 105000, 79190, 61900, 49490, 115990,\n",
       "       132990, 142990, 117990, 154990, 156990, 75199, 157990, 38998,\n",
       "       96890, 65490, 53750, 56990, 97899, 80390, 92940, 54490, 28490,\n",
       "       53290, 91990, 62490, 35000, 15990, 46490, 80590, 48750, 48500,\n",
       "       41500, 47650, 68500, 99190, 112990, 83000, 90940, 88990, 207290,\n",
       "       147990, 63900, 64489, 77590, 108490, 56490, 69099, 54190, 65900,\n",
       "       40890, 56199, 41399, 76527, 58500, 35490, 21490, 141990, 53880,\n",
       "       93999, 19990, 56999, 102990, 149990, 21896, 20499, 158490, 22990,\n",
       "       239990, 88900, 20990, 75999, 27090, 72748, 101990, 28021, 71987,\n",
       "       71900, 181790, 78000, 78990, 70890, 75090, 66990, 37126, 51499,\n",
       "       68499, 43790, 155411, 81999, 96990, 110400, 84086, 46498, 72199,\n",
       "       125394, 62790, 27890, 114690, 36057, 68999, 43126, 92590, 84500,\n",
       "       64290, 67999, 44999, 44390, 102999, 67490, 136990, 80490, 51490,\n",
       "       76499, 87490, 132490, 58498, 51900, 55690, 63500, 75100, 48999,\n",
       "       43000, 122488, 20490, 58999, 265998, 45900, 81990, 43690, 32490,\n",
       "       44800, 61000, 48900, 57899, 60870, 168998, 94000, 42090, 64390,\n",
       "       40090, 68290, 58800, 56992, 62890, 159990, 50001, 107990, 49590,\n",
       "       93190, 150490, 97699, 72000, 244801, 272000, 50100, 53690, 214760,\n",
       "       239759, 85555, 44590], dtype=object)"
      ]
     },
     "execution_count": 56,
     "metadata": {},
     "output_type": "execute_result"
    }
   ],
   "source": [
    "df1[\"Price\"].unique()"
   ]
  },
  {
   "cell_type": "code",
   "execution_count": 57,
   "id": "053bef8b",
   "metadata": {},
   "outputs": [
    {
     "data": {
      "text/plain": [
       "array(['gddr6', 'nan', 'ddr4', 'gddr3', 'gddr5', 'ddr5'], dtype=object)"
      ]
     },
     "execution_count": 57,
     "metadata": {},
     "output_type": "execute_result"
    }
   ],
   "source": [
    "df1[\"Dedicated Graphic Memory Type\"].unique()"
   ]
  },
  {
   "cell_type": "code",
   "execution_count": 58,
   "id": "33ebbd7e",
   "metadata": {},
   "outputs": [],
   "source": [
    "del df1[\"Dedicated Graphic Memory Type\"]"
   ]
  },
  {
   "cell_type": "code",
   "execution_count": 59,
   "id": "2d893fd6",
   "metadata": {},
   "outputs": [
    {
     "data": {
      "text/plain": [
       "array([1, 2, 3, 4, 5, 6, 7, 8, 9], dtype=int64)"
      ]
     },
     "execution_count": 59,
     "metadata": {},
     "output_type": "execute_result"
    }
   ],
   "source": [
    "df1[\"Type\"].unique()"
   ]
  },
  {
   "cell_type": "code",
   "execution_count": 60,
   "id": "2ee4b848",
   "metadata": {},
   "outputs": [],
   "source": [
    "df1[\"Dedicated Graphic Memory Capacity\"] = df1[\"Dedicated Graphic Memory Capacity\"].replace(\"nan\", 0)"
   ]
  },
  {
   "cell_type": "code",
   "execution_count": 61,
   "id": "2ea9b074",
   "metadata": {},
   "outputs": [],
   "source": [
    "def gpu_mem(s):\n",
    "    \n",
    "    if s == 0:\n",
    "        return 0\n",
    "    s = s.split(' ')\n",
    "#     print(s)\n",
    "    \n",
    "    if s[1] == \"gb\":\n",
    "        return int(s[0])\n",
    "    \n",
    "    if s[1] == \"mb\":\n",
    "        return int(s[0])/1000"
   ]
  },
  {
   "cell_type": "code",
   "execution_count": 62,
   "id": "7e83eb77",
   "metadata": {},
   "outputs": [],
   "source": [
    "df1[\"Dedicated Graphic Memory Capacity\"] = df1[\"Dedicated Graphic Memory Capacity\"].apply(gpu_mem)"
   ]
  },
  {
   "cell_type": "code",
   "execution_count": 63,
   "id": "38d0da99",
   "metadata": {},
   "outputs": [
    {
     "data": {
      "text/plain": [
       "array([ 8.   ,  4.   ,  0.   ,  6.   ,  2.   , 16.   ,  0.128, 10.   ,\n",
       "        0.512, 12.   ])"
      ]
     },
     "execution_count": 63,
     "metadata": {},
     "output_type": "execute_result"
    }
   ],
   "source": [
    "df1[\"Dedicated Graphic Memory Capacity\"].unique()"
   ]
  },
  {
   "cell_type": "code",
   "execution_count": 64,
   "id": "b514ba50",
   "metadata": {},
   "outputs": [],
   "source": [
    "# df1[\"Dedicated Graphic Memory Capacity\"] = df1[\"Dedicated Graphic Memory Capacity\"].replace(\"nan\", 0)"
   ]
  },
  {
   "cell_type": "code",
   "execution_count": 65,
   "id": "767e1fb7",
   "metadata": {},
   "outputs": [],
   "source": [
    "# graphic_memory_dict = encode_to_int(list(df1[\"Dedicated Graphic Memory Type\"].unique())) "
   ]
  },
  {
   "cell_type": "code",
   "execution_count": 66,
   "id": "0cd465d7",
   "metadata": {},
   "outputs": [],
   "source": [
    "# def func(s):\n",
    "#     return SSD_dict[s]"
   ]
  },
  {
   "cell_type": "code",
   "execution_count": 67,
   "id": "14c850da",
   "metadata": {},
   "outputs": [
    {
     "data": {
      "text/plain": [
       "Index(['name', 'Price', 'Type', 'Dedicated Graphic Memory Capacity',\n",
       "       'Processor Brand', 'Processor Name', 'Processor Generation', 'SSD',\n",
       "       'RAM', 'RAM Type', 'Expandable Memory', 'Graphic Processor',\n",
       "       'Number of Cores', 'OS Architecture', 'Operating System', 'Touchscreen',\n",
       "       'Screen Size', 'Weight', 'Finger Print Sensor', 'Battery Backup',\n",
       "       'Face Recognition', 'Refresh Rate', 'max_res', 'gpu_brand', 'company',\n",
       "       'Storage'],\n",
       "      dtype='object')"
      ]
     },
     "execution_count": 67,
     "metadata": {},
     "output_type": "execute_result"
    }
   ],
   "source": [
    "df1.columns"
   ]
  },
  {
   "cell_type": "code",
   "execution_count": 68,
   "id": "2a393c6d",
   "metadata": {},
   "outputs": [],
   "source": [
    "# For extraction of CPU benchmarks (for recomendation sys)"
   ]
  },
  {
   "cell_type": "code",
   "execution_count": 69,
   "id": "03fb4f17",
   "metadata": {},
   "outputs": [],
   "source": [
    "processor_names = df1[\"Processor Brand\"].astype(str) +\" \"+ df1[\"Processor Name\"].astype(str) +\" \"+df1[\"Processor Generation\"].astype(str)"
   ]
  },
  {
   "cell_type": "code",
   "execution_count": 70,
   "id": "1db5c5a1",
   "metadata": {},
   "outputs": [
    {
     "data": {
      "text/plain": [
       "0             intel core i9 12th gen\n",
       "1             intel core i9 12th gen\n",
       "2          amd ryzen 7 octa core nan\n",
       "3      amd ryzen 7 octa core 5th gen\n",
       "4             intel core i5 11th gen\n",
       "                   ...              \n",
       "979           intel core i5 10th gen\n",
       "980           intel core i7 10th gen\n",
       "981        amd ryzen 5 hexa core nan\n",
       "982      intel celeron dual core nan\n",
       "983           intel core i3 10th gen\n",
       "Length: 984, dtype: object"
      ]
     },
     "execution_count": 70,
     "metadata": {},
     "output_type": "execute_result"
    }
   ],
   "source": [
    "processor_names"
   ]
  },
  {
   "cell_type": "code",
   "execution_count": 71,
   "id": "e4177265",
   "metadata": {},
   "outputs": [],
   "source": [
    "processor_names = list(processor_names.unique())"
   ]
  },
  {
   "cell_type": "code",
   "execution_count": 72,
   "id": "2434d89a",
   "metadata": {},
   "outputs": [],
   "source": [
    "final_proc_names = []\n",
    "for i in range(len(processor_names)):\n",
    "    pres_str = processor_names[i]\n",
    "    if pres_str.endswith(\"nan\"):\n",
    "        temp_str = pres_str[:-4]\n",
    "        final_proc_names.append(temp_str)\n",
    "        \n",
    "    else:\n",
    "        final_proc_names.append(pres_str)"
   ]
  },
  {
   "cell_type": "code",
   "execution_count": 73,
   "id": "b2dbf866",
   "metadata": {},
   "outputs": [],
   "source": [
    "# final_proc_names"
   ]
  },
  {
   "cell_type": "code",
   "execution_count": 74,
   "id": "0833b473",
   "metadata": {},
   "outputs": [
    {
     "data": {
      "text/plain": [
       "array(['intel', 'amd', 'qualcomm', 'apple', 'mediatek'], dtype=object)"
      ]
     },
     "execution_count": 74,
     "metadata": {},
     "output_type": "execute_result"
    }
   ],
   "source": [
    "df1[\"Processor Brand\"].unique()"
   ]
  },
  {
   "cell_type": "code",
   "execution_count": 75,
   "id": "5559abfe",
   "metadata": {},
   "outputs": [],
   "source": [
    "processor_brand_dict = encode_to_int(list(df1[\"Processor Brand\"].unique())) \n",
    "def func2(s):\n",
    "    return processor_brand_dict[s]\n",
    "df1[\"Processor Brand\"] = df1[\"Processor Brand\"].apply(func2)"
   ]
  },
  {
   "cell_type": "code",
   "execution_count": 76,
   "id": "a35efe20",
   "metadata": {},
   "outputs": [],
   "source": [
    "processor_name_dict = encode_to_int(list(df1[\"Processor Name\"].unique())) \n",
    "def func3(s):\n",
    "    return processor_name_dict[s]\n",
    "df1[\"Processor Name\"] = df1[\"Processor Name\"].apply(func3)"
   ]
  },
  {
   "cell_type": "code",
   "execution_count": 77,
   "id": "ba1442b4",
   "metadata": {},
   "outputs": [],
   "source": [
    "# processor_name_dict"
   ]
  },
  {
   "cell_type": "code",
   "execution_count": 78,
   "id": "b296cc38",
   "metadata": {},
   "outputs": [
    {
     "data": {
      "text/plain": [
       "array(['12th gen', 'nan', '5th gen', '11th gen', '10th gen', '7th gen',\n",
       "       '3rd gen', '9th gen', '4th gen', '8th gen'], dtype=object)"
      ]
     },
     "execution_count": 78,
     "metadata": {},
     "output_type": "execute_result"
    }
   ],
   "source": [
    "df1[\"Processor Generation\"].unique()"
   ]
  },
  {
   "cell_type": "code",
   "execution_count": null,
   "id": "4bc3ecfa",
   "metadata": {},
   "outputs": [],
   "source": []
  },
  {
   "cell_type": "code",
   "execution_count": 79,
   "id": "97443e9a",
   "metadata": {},
   "outputs": [
    {
     "data": {
      "text/plain": [
       "array(['yes', 'no'], dtype=object)"
      ]
     },
     "execution_count": 79,
     "metadata": {},
     "output_type": "execute_result"
    }
   ],
   "source": [
    "df1[\"SSD\"].unique()"
   ]
  },
  {
   "cell_type": "code",
   "execution_count": 80,
   "id": "ff83ca2a",
   "metadata": {},
   "outputs": [
    {
     "name": "stderr",
     "output_type": "stream",
     "text": [
      "<ipython-input-80-45239da2cb3d>:3: SettingWithCopyWarning: \n",
      "A value is trying to be set on a copy of a slice from a DataFrame\n",
      "\n",
      "See the caveats in the documentation: https://pandas.pydata.org/pandas-docs/stable/user_guide/indexing.html#returning-a-view-versus-a-copy\n",
      "  df1[\"SSD\"][i] = 1\n",
      "<ipython-input-80-45239da2cb3d>:5: SettingWithCopyWarning: \n",
      "A value is trying to be set on a copy of a slice from a DataFrame\n",
      "\n",
      "See the caveats in the documentation: https://pandas.pydata.org/pandas-docs/stable/user_guide/indexing.html#returning-a-view-versus-a-copy\n",
      "  df1[\"SSD\"][i] = 0\n"
     ]
    }
   ],
   "source": [
    "for i in range(df1.shape[0]):\n",
    "    if(df1[\"SSD\"][i] == \"yes\"):\n",
    "        df1[\"SSD\"][i] = 1\n",
    "    else:\n",
    "        df1[\"SSD\"][i] = 0"
   ]
  },
  {
   "cell_type": "code",
   "execution_count": 81,
   "id": "b8c54a95",
   "metadata": {},
   "outputs": [
    {
     "data": {
      "text/plain": [
       "array([1, 0], dtype=object)"
      ]
     },
     "execution_count": 81,
     "metadata": {},
     "output_type": "execute_result"
    }
   ],
   "source": [
    "df1[\"SSD\"].unique()"
   ]
  },
  {
   "cell_type": "code",
   "execution_count": 82,
   "id": "39c9c21f",
   "metadata": {},
   "outputs": [],
   "source": [
    "del df1[\"RAM Type\"]"
   ]
  },
  {
   "cell_type": "code",
   "execution_count": 83,
   "id": "345a870c",
   "metadata": {},
   "outputs": [
    {
     "name": "stderr",
     "output_type": "stream",
     "text": [
      "<ipython-input-83-83e7a103c5fa>:3: SettingWithCopyWarning: \n",
      "A value is trying to be set on a copy of a slice from a DataFrame\n",
      "\n",
      "See the caveats in the documentation: https://pandas.pydata.org/pandas-docs/stable/user_guide/indexing.html#returning-a-view-versus-a-copy\n",
      "  df1[\"RAM\"][i] = int(x[0])\n"
     ]
    }
   ],
   "source": [
    "for i in range(df1.shape[0]):\n",
    "    x = df1[\"RAM\"][i].split(\" \")\n",
    "    df1[\"RAM\"][i] = int(x[0])"
   ]
  },
  {
   "cell_type": "code",
   "execution_count": 84,
   "id": "7f51d4c3",
   "metadata": {},
   "outputs": [
    {
     "data": {
      "text/plain": [
       "array([32, 16, 4, 8], dtype=object)"
      ]
     },
     "execution_count": 84,
     "metadata": {},
     "output_type": "execute_result"
    }
   ],
   "source": [
    "df1[\"RAM\"].unique()"
   ]
  },
  {
   "cell_type": "code",
   "execution_count": null,
   "id": "1e9b3226",
   "metadata": {},
   "outputs": [],
   "source": []
  },
  {
   "cell_type": "code",
   "execution_count": 85,
   "id": "710f7e70",
   "metadata": {},
   "outputs": [
    {
     "name": "stderr",
     "output_type": "stream",
     "text": [
      "<ipython-input-85-a1f06d65d19a>:5: SettingWithCopyWarning: \n",
      "A value is trying to be set on a copy of a slice from a DataFrame\n",
      "\n",
      "See the caveats in the documentation: https://pandas.pydata.org/pandas-docs/stable/user_guide/indexing.html#returning-a-view-versus-a-copy\n",
      "  df1[\"Expandable Memory\"][i] = 1\n",
      "<ipython-input-85-a1f06d65d19a>:3: SettingWithCopyWarning: \n",
      "A value is trying to be set on a copy of a slice from a DataFrame\n",
      "\n",
      "See the caveats in the documentation: https://pandas.pydata.org/pandas-docs/stable/user_guide/indexing.html#returning-a-view-versus-a-copy\n",
      "  df1[\"Expandable Memory\"][i] = 0\n"
     ]
    }
   ],
   "source": [
    "for i in range(df1.shape[0]):\n",
    "    if(df1[\"Expandable Memory\"][i] == \"nan\"):\n",
    "        df1[\"Expandable Memory\"][i] = 0\n",
    "    else:\n",
    "        df1[\"Expandable Memory\"][i] = 1"
   ]
  },
  {
   "cell_type": "code",
   "execution_count": 86,
   "id": "98d002b4",
   "metadata": {},
   "outputs": [
    {
     "data": {
      "text/plain": [
       "array([1, 0], dtype=object)"
      ]
     },
     "execution_count": 86,
     "metadata": {},
     "output_type": "execute_result"
    }
   ],
   "source": [
    "df1[\"Expandable Memory\"].unique()\n"
   ]
  },
  {
   "cell_type": "code",
   "execution_count": 87,
   "id": "8771e478",
   "metadata": {},
   "outputs": [
    {
     "data": {
      "text/plain": [
       "Index(['name', 'Price', 'Type', 'Dedicated Graphic Memory Capacity',\n",
       "       'Processor Brand', 'Processor Name', 'Processor Generation', 'SSD',\n",
       "       'RAM', 'Expandable Memory', 'Graphic Processor', 'Number of Cores',\n",
       "       'OS Architecture', 'Operating System', 'Touchscreen', 'Screen Size',\n",
       "       'Weight', 'Finger Print Sensor', 'Battery Backup', 'Face Recognition',\n",
       "       'Refresh Rate', 'max_res', 'gpu_brand', 'company', 'Storage'],\n",
       "      dtype='object')"
      ]
     },
     "execution_count": 87,
     "metadata": {},
     "output_type": "execute_result"
    }
   ],
   "source": [
    "df1.columns"
   ]
  },
  {
   "cell_type": "code",
   "execution_count": 88,
   "id": "99dd7b80",
   "metadata": {},
   "outputs": [],
   "source": [
    "del df1[\"Number of Cores\"]"
   ]
  },
  {
   "cell_type": "code",
   "execution_count": 89,
   "id": "1e8d5325",
   "metadata": {},
   "outputs": [],
   "source": [
    "df1[df1[\"OS Architecture\"] == \"nan\"]\n",
    "del df1[\"OS Architecture\"]"
   ]
  },
  {
   "cell_type": "code",
   "execution_count": 90,
   "id": "afc22b71",
   "metadata": {},
   "outputs": [
    {
     "data": {
      "text/plain": [
       "0      windows 11 home\n",
       "1      windows 11 home\n",
       "2      windows 11 home\n",
       "3      windows 11 home\n",
       "4      windows 11 home\n",
       "            ...       \n",
       "979    windows 10 home\n",
       "980    windows 10 home\n",
       "981     windows 10 pro\n",
       "982             chrome\n",
       "983     windows 10 pro\n",
       "Name: Operating System, Length: 984, dtype: object"
      ]
     },
     "execution_count": 90,
     "metadata": {},
     "output_type": "execute_result"
    }
   ],
   "source": [
    "df1[\"Operating System\"]"
   ]
  },
  {
   "cell_type": "code",
   "execution_count": 91,
   "id": "d6095577",
   "metadata": {},
   "outputs": [
    {
     "name": "stderr",
     "output_type": "stream",
     "text": [
      "<ipython-input-91-a30e87c9f6fb>:6: SettingWithCopyWarning: \n",
      "A value is trying to be set on a copy of a slice from a DataFrame\n",
      "\n",
      "See the caveats in the documentation: https://pandas.pydata.org/pandas-docs/stable/user_guide/indexing.html#returning-a-view-versus-a-copy\n",
      "  df1[\"Operating System\"][i] = \"windows\"\n",
      "<ipython-input-91-a30e87c9f6fb>:8: SettingWithCopyWarning: \n",
      "A value is trying to be set on a copy of a slice from a DataFrame\n",
      "\n",
      "See the caveats in the documentation: https://pandas.pydata.org/pandas-docs/stable/user_guide/indexing.html#returning-a-view-versus-a-copy\n",
      "  df1[\"Operating System\"][i] = \"mac\"\n"
     ]
    }
   ],
   "source": [
    "df1[\"Operating System\"].unique()\n",
    "\n",
    "for i in range(df1.shape[0]):\n",
    "    x = df1[\"Operating System\"][i].split(\" \")\n",
    "    if(x[0] == \"Windows\" or x[0] == \"windows\"):\n",
    "        df1[\"Operating System\"][i] = \"windows\"\n",
    "    if(x[0] == \"mac\"):\n",
    "        df1[\"Operating System\"][i] = \"mac\""
   ]
  },
  {
   "cell_type": "code",
   "execution_count": 92,
   "id": "66ae8d21",
   "metadata": {},
   "outputs": [
    {
     "data": {
      "text/plain": [
       "array(['windows', 'chrome', 'dos', 'mac', 'ubuntu'], dtype=object)"
      ]
     },
     "execution_count": 92,
     "metadata": {},
     "output_type": "execute_result"
    }
   ],
   "source": [
    "df1[\"Operating System\"].unique()"
   ]
  },
  {
   "cell_type": "code",
   "execution_count": 93,
   "id": "7af23dee",
   "metadata": {},
   "outputs": [],
   "source": [
    "def func3(s):\n",
    "    return os_dict[s]"
   ]
  },
  {
   "cell_type": "code",
   "execution_count": 94,
   "id": "c62adaad",
   "metadata": {},
   "outputs": [],
   "source": [
    "os_dict = encode_to_int(list(df1[\"Operating System\"].unique())) \n",
    "df1[\"Operating System\"] = df1[\"Operating System\"].apply(func3)"
   ]
  },
  {
   "cell_type": "code",
   "execution_count": 95,
   "id": "b39a5df1",
   "metadata": {},
   "outputs": [
    {
     "data": {
      "text/plain": [
       "array([1, 2, 3, 4, 5], dtype=int64)"
      ]
     },
     "execution_count": 95,
     "metadata": {},
     "output_type": "execute_result"
    }
   ],
   "source": [
    "df1[\"Operating System\"].unique()"
   ]
  },
  {
   "cell_type": "code",
   "execution_count": 96,
   "id": "61a6dae4",
   "metadata": {},
   "outputs": [
    {
     "data": {
      "text/plain": [
       "array([1, 2, 3, 4, 5, 6, 7, 8, 9], dtype=int64)"
      ]
     },
     "execution_count": 96,
     "metadata": {},
     "output_type": "execute_result"
    }
   ],
   "source": [
    "df1[\"Type\"].unique()"
   ]
  },
  {
   "cell_type": "code",
   "execution_count": 97,
   "id": "21016357",
   "metadata": {},
   "outputs": [
    {
     "data": {
      "text/plain": [
       "Index(['name', 'Price', 'Type', 'Dedicated Graphic Memory Capacity',\n",
       "       'Processor Brand', 'Processor Name', 'Processor Generation', 'SSD',\n",
       "       'RAM', 'Expandable Memory', 'Graphic Processor', 'Operating System',\n",
       "       'Touchscreen', 'Screen Size', 'Weight', 'Finger Print Sensor',\n",
       "       'Battery Backup', 'Face Recognition', 'Refresh Rate', 'max_res',\n",
       "       'gpu_brand', 'company', 'Storage'],\n",
       "      dtype='object')"
      ]
     },
     "execution_count": 97,
     "metadata": {},
     "output_type": "execute_result"
    }
   ],
   "source": [
    "df1.columns"
   ]
  },
  {
   "cell_type": "code",
   "execution_count": 98,
   "id": "85cf6a06",
   "metadata": {},
   "outputs": [
    {
     "data": {
      "text/plain": [
       "array(['no', 'yes'], dtype=object)"
      ]
     },
     "execution_count": 98,
     "metadata": {},
     "output_type": "execute_result"
    }
   ],
   "source": [
    "df1[\"Touchscreen\"].unique()"
   ]
  },
  {
   "cell_type": "code",
   "execution_count": 99,
   "id": "9946d625",
   "metadata": {},
   "outputs": [
    {
     "name": "stderr",
     "output_type": "stream",
     "text": [
      "<ipython-input-99-8250a21c7007>:3: SettingWithCopyWarning: \n",
      "A value is trying to be set on a copy of a slice from a DataFrame\n",
      "\n",
      "See the caveats in the documentation: https://pandas.pydata.org/pandas-docs/stable/user_guide/indexing.html#returning-a-view-versus-a-copy\n",
      "  df1[\"Touchscreen\"][i] = 0\n",
      "<ipython-input-99-8250a21c7007>:5: SettingWithCopyWarning: \n",
      "A value is trying to be set on a copy of a slice from a DataFrame\n",
      "\n",
      "See the caveats in the documentation: https://pandas.pydata.org/pandas-docs/stable/user_guide/indexing.html#returning-a-view-versus-a-copy\n",
      "  df1[\"Touchscreen\"][i] = 1\n"
     ]
    }
   ],
   "source": [
    "for i in range(df1.shape[0]):\n",
    "    if(df1[\"Touchscreen\"][i] == \"no\"):\n",
    "        df1[\"Touchscreen\"][i] = 0\n",
    "    else:\n",
    "        df1[\"Touchscreen\"][i] = 1\n",
    "        "
   ]
  },
  {
   "cell_type": "code",
   "execution_count": 100,
   "id": "080ac310",
   "metadata": {},
   "outputs": [
    {
     "data": {
      "text/plain": [
       "array(['43.94 cm (17.3 inch)', '39.62 cm (15.6 inch)',\n",
       "       '40.89 cm (16.1 inch)', '35.56 cm (14 inch)',\n",
       "       '33.78 cm (13.3 inch)', '34.04 cm (13.4 inch)',\n",
       "       '39.62 cm (15.6 inches)', '35.81 cm (14.1 inch)',\n",
       "       '42.16 cm (16.6 inch)', '29.46 cm (11.6 inch)',\n",
       "       '40.64 cm (16 inch)', '38.0 cm (14.96 cm)', '38.0 cm (14.96 inch)',\n",
       "       '36.12 cm (14.22 inch)', '38.1 cm (15 inch)',\n",
       "       '34.29 cm (13.5 inch)', '35.56 cm (14 inches)',\n",
       "       '30.48 cm (12 inch)', '36.07 cm (14.2 inch)', '33.02 cm (13 inch)',\n",
       "       '43.94 cm (17.3 inches)', '33.78 cm (13.3 inches)',\n",
       "       '38.86 cm (15.3 inch)', '34.04 cm (13.4 inches)',\n",
       "       '37.85 cm (14.9 inch)', '36.83 cm (14.5 inch)',\n",
       "       '34.54 cm (13.6 inch)'], dtype=object)"
      ]
     },
     "execution_count": 100,
     "metadata": {},
     "output_type": "execute_result"
    }
   ],
   "source": [
    "df1[\"Screen Size\"].unique()"
   ]
  },
  {
   "cell_type": "code",
   "execution_count": 101,
   "id": "822481c6",
   "metadata": {},
   "outputs": [
    {
     "name": "stdout",
     "output_type": "stream",
     "text": [
      "pro\n"
     ]
    },
    {
     "data": {
      "text/plain": [
       "['pro']"
      ]
     },
     "execution_count": 101,
     "metadata": {},
     "output_type": "execute_result"
    }
   ],
   "source": [
    "y =x[2]\n",
    "print(y)\n",
    "y.split(\"(\")"
   ]
  },
  {
   "cell_type": "code",
   "execution_count": 102,
   "id": "61b32bbc",
   "metadata": {},
   "outputs": [],
   "source": [
    "# df1[\"Screen Size\"].unique()"
   ]
  },
  {
   "cell_type": "code",
   "execution_count": 103,
   "id": "106fadc8",
   "metadata": {},
   "outputs": [
    {
     "name": "stderr",
     "output_type": "stream",
     "text": [
      "<ipython-input-103-eb4d95a24e38>:5: SettingWithCopyWarning: \n",
      "A value is trying to be set on a copy of a slice from a DataFrame\n",
      "\n",
      "See the caveats in the documentation: https://pandas.pydata.org/pandas-docs/stable/user_guide/indexing.html#returning-a-view-versus-a-copy\n",
      "  df1[\"Screen Size\"][i] = float(size[1])\n"
     ]
    }
   ],
   "source": [
    "for i in range(df1.shape[0]):\n",
    "    x = df1[\"Screen Size\"][i].split(\" \")\n",
    "    y = x[2]\n",
    "    size = y.split(\"(\")\n",
    "    df1[\"Screen Size\"][i] = float(size[1])"
   ]
  },
  {
   "cell_type": "code",
   "execution_count": 104,
   "id": "bbb8e6dd",
   "metadata": {},
   "outputs": [
    {
     "data": {
      "text/plain": [
       "array([17.3, 15.6, 16.1, 14.0, 13.3, 13.4, 14.1, 16.6, 11.6, 16.0, 14.96,\n",
       "       14.22, 15.0, 13.5, 12.0, 14.2, 13.0, 15.3, 14.9, 14.5, 13.6],\n",
       "      dtype=object)"
      ]
     },
     "execution_count": 104,
     "metadata": {},
     "output_type": "execute_result"
    }
   ],
   "source": [
    "df1[\"Screen Size\"].unique()"
   ]
  },
  {
   "cell_type": "code",
   "execution_count": 105,
   "id": "1e80152b",
   "metadata": {},
   "outputs": [
    {
     "data": {
      "text/plain": [
       "0      17.3\n",
       "1      15.6\n",
       "2      16.1\n",
       "3      15.6\n",
       "4      14.0\n",
       "       ... \n",
       "979    14.0\n",
       "980    13.3\n",
       "981    13.3\n",
       "982    14.0\n",
       "983    14.0\n",
       "Name: Screen Size, Length: 984, dtype: object"
      ]
     },
     "execution_count": 105,
     "metadata": {},
     "output_type": "execute_result"
    }
   ],
   "source": [
    "df1[\"Screen Size\"]"
   ]
  },
  {
   "cell_type": "code",
   "execution_count": 106,
   "id": "364526b9",
   "metadata": {},
   "outputs": [],
   "source": [
    "del df1[\"Face Recognition\"]"
   ]
  },
  {
   "cell_type": "code",
   "execution_count": 107,
   "id": "64b2e42f",
   "metadata": {},
   "outputs": [
    {
     "data": {
      "image/png": "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\n",
      "text/plain": [
       "<Figure size 360x360 with 1 Axes>"
      ]
     },
     "metadata": {
      "needs_background": "light"
     },
     "output_type": "display_data"
    }
   ],
   "source": [
    "p_fs = np.array(df1[df1[\"Finger Print Sensor\"] == \"yes\"][\"Price\"])\n",
    "sns.displot(p_fs)\n",
    "plt.show()"
   ]
  },
  {
   "cell_type": "code",
   "execution_count": 108,
   "id": "1690be96",
   "metadata": {},
   "outputs": [],
   "source": [
    "del df1[\"Finger Print Sensor\"]"
   ]
  },
  {
   "cell_type": "code",
   "execution_count": 109,
   "id": "e6ff97d2",
   "metadata": {},
   "outputs": [
    {
     "data": {
      "text/html": [
       "<div>\n",
       "<style scoped>\n",
       "    .dataframe tbody tr th:only-of-type {\n",
       "        vertical-align: middle;\n",
       "    }\n",
       "\n",
       "    .dataframe tbody tr th {\n",
       "        vertical-align: top;\n",
       "    }\n",
       "\n",
       "    .dataframe thead th {\n",
       "        text-align: right;\n",
       "    }\n",
       "</style>\n",
       "<table border=\"1\" class=\"dataframe\">\n",
       "  <thead>\n",
       "    <tr style=\"text-align: right;\">\n",
       "      <th></th>\n",
       "      <th>name</th>\n",
       "      <th>Price</th>\n",
       "      <th>Type</th>\n",
       "      <th>Dedicated Graphic Memory Capacity</th>\n",
       "      <th>Processor Brand</th>\n",
       "      <th>Processor Name</th>\n",
       "      <th>Processor Generation</th>\n",
       "      <th>SSD</th>\n",
       "      <th>RAM</th>\n",
       "      <th>Expandable Memory</th>\n",
       "      <th>...</th>\n",
       "      <th>Operating System</th>\n",
       "      <th>Touchscreen</th>\n",
       "      <th>Screen Size</th>\n",
       "      <th>Weight</th>\n",
       "      <th>Battery Backup</th>\n",
       "      <th>Refresh Rate</th>\n",
       "      <th>max_res</th>\n",
       "      <th>gpu_brand</th>\n",
       "      <th>company</th>\n",
       "      <th>Storage</th>\n",
       "    </tr>\n",
       "  </thead>\n",
       "  <tbody>\n",
       "    <tr>\n",
       "      <th>0</th>\n",
       "      <td>asus rog strix scar 17 core i9 12th gen - (32 ...</td>\n",
       "      <td>234990</td>\n",
       "      <td>1</td>\n",
       "      <td>8.0</td>\n",
       "      <td>1</td>\n",
       "      <td>1</td>\n",
       "      <td>12th gen</td>\n",
       "      <td>1</td>\n",
       "      <td>32</td>\n",
       "      <td>1</td>\n",
       "      <td>...</td>\n",
       "      <td>1</td>\n",
       "      <td>0</td>\n",
       "      <td>17.3</td>\n",
       "      <td>2.90 kg</td>\n",
       "      <td>nan</td>\n",
       "      <td>nan</td>\n",
       "      <td>1440</td>\n",
       "      <td>1</td>\n",
       "      <td>1</td>\n",
       "      <td>1000</td>\n",
       "    </tr>\n",
       "    <tr>\n",
       "      <th>1</th>\n",
       "      <td>asus rog strix scar 15 core i9 12th gen - (32 ...</td>\n",
       "      <td>229990</td>\n",
       "      <td>1</td>\n",
       "      <td>8.0</td>\n",
       "      <td>1</td>\n",
       "      <td>1</td>\n",
       "      <td>12th gen</td>\n",
       "      <td>1</td>\n",
       "      <td>32</td>\n",
       "      <td>1</td>\n",
       "      <td>...</td>\n",
       "      <td>1</td>\n",
       "      <td>0</td>\n",
       "      <td>15.6</td>\n",
       "      <td>2.30 kg</td>\n",
       "      <td>nan</td>\n",
       "      <td>nan</td>\n",
       "      <td>1440</td>\n",
       "      <td>1</td>\n",
       "      <td>1</td>\n",
       "      <td>1000</td>\n",
       "    </tr>\n",
       "    <tr>\n",
       "      <th>2</th>\n",
       "      <td>hp victus ryzen 7 octa core 5800h - (16 gb/512...</td>\n",
       "      <td>104091</td>\n",
       "      <td>1</td>\n",
       "      <td>4.0</td>\n",
       "      <td>2</td>\n",
       "      <td>2</td>\n",
       "      <td>nan</td>\n",
       "      <td>1</td>\n",
       "      <td>16</td>\n",
       "      <td>0</td>\n",
       "      <td>...</td>\n",
       "      <td>1</td>\n",
       "      <td>0</td>\n",
       "      <td>16.1</td>\n",
       "      <td>2.48 kg</td>\n",
       "      <td>nan</td>\n",
       "      <td>nan</td>\n",
       "      <td>1080</td>\n",
       "      <td>1</td>\n",
       "      <td>2</td>\n",
       "      <td>512</td>\n",
       "    </tr>\n",
       "    <tr>\n",
       "      <th>3</th>\n",
       "      <td>lenovo ideapad gaming 3i ryzen 7 octa core r7-...</td>\n",
       "      <td>87717</td>\n",
       "      <td>1</td>\n",
       "      <td>4.0</td>\n",
       "      <td>2</td>\n",
       "      <td>2</td>\n",
       "      <td>5th gen</td>\n",
       "      <td>1</td>\n",
       "      <td>16</td>\n",
       "      <td>0</td>\n",
       "      <td>...</td>\n",
       "      <td>1</td>\n",
       "      <td>0</td>\n",
       "      <td>15.6</td>\n",
       "      <td>2.25 kg</td>\n",
       "      <td>upto 4 hours</td>\n",
       "      <td>nan</td>\n",
       "      <td>1080</td>\n",
       "      <td>1</td>\n",
       "      <td>3</td>\n",
       "      <td>512</td>\n",
       "    </tr>\n",
       "    <tr>\n",
       "      <th>4</th>\n",
       "      <td>lenovo yoga slim 7 core i5 11th gen - (16 gb/5...</td>\n",
       "      <td>75990</td>\n",
       "      <td>2</td>\n",
       "      <td>0.0</td>\n",
       "      <td>1</td>\n",
       "      <td>3</td>\n",
       "      <td>11th gen</td>\n",
       "      <td>1</td>\n",
       "      <td>16</td>\n",
       "      <td>0</td>\n",
       "      <td>...</td>\n",
       "      <td>1</td>\n",
       "      <td>1</td>\n",
       "      <td>14.0</td>\n",
       "      <td>nan</td>\n",
       "      <td>upto 12 hours</td>\n",
       "      <td>nan</td>\n",
       "      <td>1080</td>\n",
       "      <td>2</td>\n",
       "      <td>3</td>\n",
       "      <td>512</td>\n",
       "    </tr>\n",
       "    <tr>\n",
       "      <th>...</th>\n",
       "      <td>...</td>\n",
       "      <td>...</td>\n",
       "      <td>...</td>\n",
       "      <td>...</td>\n",
       "      <td>...</td>\n",
       "      <td>...</td>\n",
       "      <td>...</td>\n",
       "      <td>...</td>\n",
       "      <td>...</td>\n",
       "      <td>...</td>\n",
       "      <td>...</td>\n",
       "      <td>...</td>\n",
       "      <td>...</td>\n",
       "      <td>...</td>\n",
       "      <td>...</td>\n",
       "      <td>...</td>\n",
       "      <td>...</td>\n",
       "      <td>...</td>\n",
       "      <td>...</td>\n",
       "      <td>...</td>\n",
       "      <td>...</td>\n",
       "    </tr>\n",
       "    <tr>\n",
       "      <th>979</th>\n",
       "      <td>nokia purebook x14 core i5 10th gen - (8 gb/51...</td>\n",
       "      <td>53990</td>\n",
       "      <td>2</td>\n",
       "      <td>0.0</td>\n",
       "      <td>1</td>\n",
       "      <td>3</td>\n",
       "      <td>10th gen</td>\n",
       "      <td>1</td>\n",
       "      <td>8</td>\n",
       "      <td>1</td>\n",
       "      <td>...</td>\n",
       "      <td>1</td>\n",
       "      <td>0</td>\n",
       "      <td>14.0</td>\n",
       "      <td>1.1 kg</td>\n",
       "      <td>upto 6hrs</td>\n",
       "      <td>nan</td>\n",
       "      <td>1080</td>\n",
       "      <td>2</td>\n",
       "      <td>13</td>\n",
       "      <td>512</td>\n",
       "    </tr>\n",
       "    <tr>\n",
       "      <th>980</th>\n",
       "      <td>hp spectre folio core i7 10th gen - (16 gb/512...</td>\n",
       "      <td>239759</td>\n",
       "      <td>3</td>\n",
       "      <td>0.0</td>\n",
       "      <td>1</td>\n",
       "      <td>4</td>\n",
       "      <td>10th gen</td>\n",
       "      <td>1</td>\n",
       "      <td>16</td>\n",
       "      <td>0</td>\n",
       "      <td>...</td>\n",
       "      <td>1</td>\n",
       "      <td>1</td>\n",
       "      <td>13.3</td>\n",
       "      <td>1.49 kg</td>\n",
       "      <td>nan</td>\n",
       "      <td>nan</td>\n",
       "      <td>1080</td>\n",
       "      <td>1</td>\n",
       "      <td>2</td>\n",
       "      <td>512</td>\n",
       "    </tr>\n",
       "    <tr>\n",
       "      <th>981</th>\n",
       "      <td>hp envy x360 ryzen 5 hexa core 4500u - (8 gb/5...</td>\n",
       "      <td>85555</td>\n",
       "      <td>3</td>\n",
       "      <td>0.0</td>\n",
       "      <td>2</td>\n",
       "      <td>12</td>\n",
       "      <td>nan</td>\n",
       "      <td>1</td>\n",
       "      <td>8</td>\n",
       "      <td>0</td>\n",
       "      <td>...</td>\n",
       "      <td>1</td>\n",
       "      <td>1</td>\n",
       "      <td>13.3</td>\n",
       "      <td>1.32 kg</td>\n",
       "      <td>upto 16.75 hrs</td>\n",
       "      <td>nan</td>\n",
       "      <td>1080</td>\n",
       "      <td>3</td>\n",
       "      <td>2</td>\n",
       "      <td>512</td>\n",
       "    </tr>\n",
       "    <tr>\n",
       "      <th>982</th>\n",
       "      <td>hp 14a celeron dual core - (4 gb/64 gb emmc st...</td>\n",
       "      <td>26990</td>\n",
       "      <td>8</td>\n",
       "      <td>0.0</td>\n",
       "      <td>1</td>\n",
       "      <td>5</td>\n",
       "      <td>nan</td>\n",
       "      <td>0</td>\n",
       "      <td>4</td>\n",
       "      <td>0</td>\n",
       "      <td>...</td>\n",
       "      <td>2</td>\n",
       "      <td>1</td>\n",
       "      <td>14.0</td>\n",
       "      <td>1.46 kg</td>\n",
       "      <td>upto 11 hrs</td>\n",
       "      <td>nan</td>\n",
       "      <td>720</td>\n",
       "      <td>2</td>\n",
       "      <td>2</td>\n",
       "      <td>64</td>\n",
       "    </tr>\n",
       "    <tr>\n",
       "      <th>983</th>\n",
       "      <td>lenovo core i3 10th gen - (4 gb/1 tb hdd/windo...</td>\n",
       "      <td>44590</td>\n",
       "      <td>5</td>\n",
       "      <td>0.0</td>\n",
       "      <td>1</td>\n",
       "      <td>11</td>\n",
       "      <td>10th gen</td>\n",
       "      <td>0</td>\n",
       "      <td>4</td>\n",
       "      <td>0</td>\n",
       "      <td>...</td>\n",
       "      <td>1</td>\n",
       "      <td>0</td>\n",
       "      <td>14.0</td>\n",
       "      <td>1.6 kg</td>\n",
       "      <td>upto 5 hrs</td>\n",
       "      <td>nan</td>\n",
       "      <td>720</td>\n",
       "      <td>3</td>\n",
       "      <td>3</td>\n",
       "      <td>1000</td>\n",
       "    </tr>\n",
       "  </tbody>\n",
       "</table>\n",
       "<p>984 rows × 21 columns</p>\n",
       "</div>"
      ],
      "text/plain": [
       "                                                  name   Price  Type  \\\n",
       "0    asus rog strix scar 17 core i9 12th gen - (32 ...  234990     1   \n",
       "1    asus rog strix scar 15 core i9 12th gen - (32 ...  229990     1   \n",
       "2    hp victus ryzen 7 octa core 5800h - (16 gb/512...  104091     1   \n",
       "3    lenovo ideapad gaming 3i ryzen 7 octa core r7-...   87717     1   \n",
       "4    lenovo yoga slim 7 core i5 11th gen - (16 gb/5...   75990     2   \n",
       "..                                                 ...     ...   ...   \n",
       "979  nokia purebook x14 core i5 10th gen - (8 gb/51...   53990     2   \n",
       "980  hp spectre folio core i7 10th gen - (16 gb/512...  239759     3   \n",
       "981  hp envy x360 ryzen 5 hexa core 4500u - (8 gb/5...   85555     3   \n",
       "982  hp 14a celeron dual core - (4 gb/64 gb emmc st...   26990     8   \n",
       "983  lenovo core i3 10th gen - (4 gb/1 tb hdd/windo...   44590     5   \n",
       "\n",
       "     Dedicated Graphic Memory Capacity  Processor Brand  Processor Name  \\\n",
       "0                                  8.0                1               1   \n",
       "1                                  8.0                1               1   \n",
       "2                                  4.0                2               2   \n",
       "3                                  4.0                2               2   \n",
       "4                                  0.0                1               3   \n",
       "..                                 ...              ...             ...   \n",
       "979                                0.0                1               3   \n",
       "980                                0.0                1               4   \n",
       "981                                0.0                2              12   \n",
       "982                                0.0                1               5   \n",
       "983                                0.0                1              11   \n",
       "\n",
       "    Processor Generation SSD RAM Expandable Memory  ... Operating System  \\\n",
       "0               12th gen   1  32                 1  ...                1   \n",
       "1               12th gen   1  32                 1  ...                1   \n",
       "2                    nan   1  16                 0  ...                1   \n",
       "3                5th gen   1  16                 0  ...                1   \n",
       "4               11th gen   1  16                 0  ...                1   \n",
       "..                   ...  ..  ..               ...  ...              ...   \n",
       "979             10th gen   1   8                 1  ...                1   \n",
       "980             10th gen   1  16                 0  ...                1   \n",
       "981                  nan   1   8                 0  ...                1   \n",
       "982                  nan   0   4                 0  ...                2   \n",
       "983             10th gen   0   4                 0  ...                1   \n",
       "\n",
       "     Touchscreen Screen Size   Weight  Battery Backup Refresh Rate max_res  \\\n",
       "0              0        17.3  2.90 kg             nan          nan    1440   \n",
       "1              0        15.6  2.30 kg             nan          nan    1440   \n",
       "2              0        16.1  2.48 kg             nan          nan    1080   \n",
       "3              0        15.6  2.25 kg    upto 4 hours          nan    1080   \n",
       "4              1        14.0      nan   upto 12 hours          nan    1080   \n",
       "..           ...         ...      ...             ...          ...     ...   \n",
       "979            0        14.0   1.1 kg       upto 6hrs          nan    1080   \n",
       "980            1        13.3  1.49 kg             nan          nan    1080   \n",
       "981            1        13.3  1.32 kg  upto 16.75 hrs          nan    1080   \n",
       "982            1        14.0  1.46 kg     upto 11 hrs          nan     720   \n",
       "983            0        14.0   1.6 kg      upto 5 hrs          nan     720   \n",
       "\n",
       "     gpu_brand  company  Storage  \n",
       "0            1        1     1000  \n",
       "1            1        1     1000  \n",
       "2            1        2      512  \n",
       "3            1        3      512  \n",
       "4            2        3      512  \n",
       "..         ...      ...      ...  \n",
       "979          2       13      512  \n",
       "980          1        2      512  \n",
       "981          3        2      512  \n",
       "982          2        2       64  \n",
       "983          3        3     1000  \n",
       "\n",
       "[984 rows x 21 columns]"
      ]
     },
     "execution_count": 109,
     "metadata": {},
     "output_type": "execute_result"
    }
   ],
   "source": [
    "df1"
   ]
  },
  {
   "cell_type": "code",
   "execution_count": 110,
   "id": "1c0c80a9",
   "metadata": {},
   "outputs": [],
   "source": [
    "# df1[\"Weight\"]\n",
    "df1[\"Weight\"] = df1[\"Weight\"].replace(\"nan\", \"0\")\n",
    "df1[\"Weight\"] = df1[\"Weight\"].replace(\"dual array microphone kg\", \"0\")\n",
    "\n",
    "def wt_func(s):\n",
    "    \n",
    "    if s != \"0\":\n",
    "        ss = s.split(\"$$\")\n",
    "        if len(ss) >= 2:\n",
    "            return float(ss[0])\n",
    "        \n",
    "        sr = s.split(\" \")\n",
    "        if len(sr) >= 2:\n",
    "            return float(sr[0])\n",
    "        \n",
    "    else:\n",
    "        return 0\n",
    "            \n",
    "        \n",
    "df1[\"Weight\"] = df1[\"Weight\"].apply(wt_func)"
   ]
  },
  {
   "cell_type": "code",
   "execution_count": 111,
   "id": "be2e667f",
   "metadata": {},
   "outputs": [
    {
     "name": "stdout",
     "output_type": "stream",
     "text": [
      "[2 1 5 3 7 4]\n",
      "{2: 1.4946421471172964, 1: 2.0686486486486486, 5: 0.9746666666666668, 3: 1.34171875, 7: 0.8, 4: 1.6219999999999999}\n"
     ]
    }
   ],
   "source": [
    "df_wtna = df1[df1[\"Weight\"] == 0]\n",
    "print(df_wtna[\"Type\"].unique())\n",
    "\n",
    "na_wtna_arr = list(df_wtna[\"Type\"].unique())\n",
    "\n",
    "wt_dic = {}\n",
    "\n",
    "for i in range(len(na_wtna_arr)):\n",
    "    curr_type_wt = np.array(df1[df1[\"Type\"] == na_wtna_arr[i]][\"Weight\"])\n",
    "    curr_mean = curr_type_wt.mean()\n",
    "    \n",
    "    wt_dic[na_wtna_arr[i]] = curr_mean\n",
    "    \n",
    "print(wt_dic)"
   ]
  },
  {
   "cell_type": "code",
   "execution_count": 112,
   "id": "6c94485a",
   "metadata": {},
   "outputs": [
    {
     "data": {
      "text/plain": [
       "{1: 'gaming laptop',\n",
       " 2: 'thin and light laptop',\n",
       " 3: '2 in 1 laptop',\n",
       " 4: 'notebook',\n",
       " 5: 'laptop',\n",
       " 6: '2 in 1 gaming laptop',\n",
       " 7: 'business laptop',\n",
       " 8: 'chromebook',\n",
       " 9: 'creator laptop'}"
      ]
     },
     "execution_count": 112,
     "metadata": {},
     "output_type": "execute_result"
    }
   ],
   "source": [
    "inv_type_dict"
   ]
  },
  {
   "cell_type": "code",
   "execution_count": 113,
   "id": "589346f4",
   "metadata": {},
   "outputs": [
    {
     "data": {
      "text/plain": [
       "Int64Index([  4,   6,  35,  65,  76,  78, 132, 135, 215, 229, 231, 266, 306,\n",
       "            437, 506, 516, 525, 565, 567, 570, 651, 752, 972],\n",
       "           dtype='int64')"
      ]
     },
     "execution_count": 113,
     "metadata": {},
     "output_type": "execute_result"
    }
   ],
   "source": [
    "index = df1[df1[\"Weight\"] == 0].index\n",
    "\n",
    "dff = df1[df1[\"Weight\"] == 0][\"Type\"] == 2\n",
    "\n",
    "indices = index[dff]\n",
    "indices"
   ]
  },
  {
   "cell_type": "code",
   "execution_count": 114,
   "id": "2a2c62c6",
   "metadata": {},
   "outputs": [],
   "source": [
    "# dfff =  df1.loc[indices]\n",
    "# # dfff[\"Weight\"] = 2/\n",
    "# dfff[\"Weight\"].iloc[2] = 1\n",
    "# dfff"
   ]
  },
  {
   "cell_type": "code",
   "execution_count": 115,
   "id": "5057c47e",
   "metadata": {},
   "outputs": [
    {
     "name": "stderr",
     "output_type": "stream",
     "text": [
      "C:\\Users\\srevaatsav\\anaconda3\\lib\\site-packages\\pandas\\core\\indexing.py:1637: SettingWithCopyWarning: \n",
      "A value is trying to be set on a copy of a slice from a DataFrame\n",
      "\n",
      "See the caveats in the documentation: https://pandas.pydata.org/pandas-docs/stable/user_guide/indexing.html#returning-a-view-versus-a-copy\n",
      "  self._setitem_single_block(indexer, value, name)\n",
      "C:\\Users\\srevaatsav\\anaconda3\\lib\\site-packages\\pandas\\core\\indexing.py:1637: SettingWithCopyWarning: \n",
      "A value is trying to be set on a copy of a slice from a DataFrame\n",
      "\n",
      "See the caveats in the documentation: https://pandas.pydata.org/pandas-docs/stable/user_guide/indexing.html#returning-a-view-versus-a-copy\n",
      "  self._setitem_single_block(indexer, value, name)\n",
      "C:\\Users\\srevaatsav\\anaconda3\\lib\\site-packages\\pandas\\core\\indexing.py:1637: SettingWithCopyWarning: \n",
      "A value is trying to be set on a copy of a slice from a DataFrame\n",
      "\n",
      "See the caveats in the documentation: https://pandas.pydata.org/pandas-docs/stable/user_guide/indexing.html#returning-a-view-versus-a-copy\n",
      "  self._setitem_single_block(indexer, value, name)\n",
      "C:\\Users\\srevaatsav\\anaconda3\\lib\\site-packages\\pandas\\core\\indexing.py:1637: SettingWithCopyWarning: \n",
      "A value is trying to be set on a copy of a slice from a DataFrame\n",
      "\n",
      "See the caveats in the documentation: https://pandas.pydata.org/pandas-docs/stable/user_guide/indexing.html#returning-a-view-versus-a-copy\n",
      "  self._setitem_single_block(indexer, value, name)\n",
      "C:\\Users\\srevaatsav\\anaconda3\\lib\\site-packages\\pandas\\core\\indexing.py:1637: SettingWithCopyWarning: \n",
      "A value is trying to be set on a copy of a slice from a DataFrame\n",
      "\n",
      "See the caveats in the documentation: https://pandas.pydata.org/pandas-docs/stable/user_guide/indexing.html#returning-a-view-versus-a-copy\n",
      "  self._setitem_single_block(indexer, value, name)\n",
      "C:\\Users\\srevaatsav\\anaconda3\\lib\\site-packages\\pandas\\core\\indexing.py:1637: SettingWithCopyWarning: \n",
      "A value is trying to be set on a copy of a slice from a DataFrame\n",
      "\n",
      "See the caveats in the documentation: https://pandas.pydata.org/pandas-docs/stable/user_guide/indexing.html#returning-a-view-versus-a-copy\n",
      "  self._setitem_single_block(indexer, value, name)\n"
     ]
    }
   ],
   "source": [
    "dwt = df1[df1[\"Weight\"] == 0]\n",
    "for key in wt_dic.keys():\n",
    "    index = df1[df1[\"Weight\"] == 0].index\n",
    "    dff = df1[df1[\"Weight\"] == 0][\"Type\"] == key\n",
    "    indices = index[dff]\n",
    "#     print(indices, \"\\n\")\n",
    "    \n",
    "    for i in range(len(list(indices))):\n",
    "        df1[\"Weight\"].iloc[indices[i]] = wt_dic[key]\n",
    "        \n",
    "#     df1.loc[indices][\"Weight\"] = df1.loc[indices][\"Weight\"].replace(0, wt_dic[key])"
   ]
  },
  {
   "cell_type": "code",
   "execution_count": 116,
   "id": "4c3a799d",
   "metadata": {},
   "outputs": [
    {
     "data": {
      "text/plain": [
       "(0, 21)"
      ]
     },
     "execution_count": 116,
     "metadata": {},
     "output_type": "execute_result"
    }
   ],
   "source": [
    "df1[df1[\"Weight\"] == 0].shape"
   ]
  },
  {
   "cell_type": "code",
   "execution_count": 117,
   "id": "be29e7e9",
   "metadata": {},
   "outputs": [
    {
     "data": {
      "text/html": [
       "<div>\n",
       "<style scoped>\n",
       "    .dataframe tbody tr th:only-of-type {\n",
       "        vertical-align: middle;\n",
       "    }\n",
       "\n",
       "    .dataframe tbody tr th {\n",
       "        vertical-align: top;\n",
       "    }\n",
       "\n",
       "    .dataframe thead th {\n",
       "        text-align: right;\n",
       "    }\n",
       "</style>\n",
       "<table border=\"1\" class=\"dataframe\">\n",
       "  <thead>\n",
       "    <tr style=\"text-align: right;\">\n",
       "      <th></th>\n",
       "      <th>name</th>\n",
       "      <th>Price</th>\n",
       "      <th>Type</th>\n",
       "      <th>Dedicated Graphic Memory Capacity</th>\n",
       "      <th>Processor Brand</th>\n",
       "      <th>Processor Name</th>\n",
       "      <th>Processor Generation</th>\n",
       "      <th>SSD</th>\n",
       "      <th>RAM</th>\n",
       "      <th>Expandable Memory</th>\n",
       "      <th>...</th>\n",
       "      <th>Operating System</th>\n",
       "      <th>Touchscreen</th>\n",
       "      <th>Screen Size</th>\n",
       "      <th>Weight</th>\n",
       "      <th>Battery Backup</th>\n",
       "      <th>Refresh Rate</th>\n",
       "      <th>max_res</th>\n",
       "      <th>gpu_brand</th>\n",
       "      <th>company</th>\n",
       "      <th>Storage</th>\n",
       "    </tr>\n",
       "  </thead>\n",
       "  <tbody>\n",
       "    <tr>\n",
       "      <th>0</th>\n",
       "      <td>asus rog strix scar 17 core i9 12th gen - (32 ...</td>\n",
       "      <td>234990</td>\n",
       "      <td>1</td>\n",
       "      <td>8.0</td>\n",
       "      <td>1</td>\n",
       "      <td>1</td>\n",
       "      <td>12th gen</td>\n",
       "      <td>1</td>\n",
       "      <td>32</td>\n",
       "      <td>1</td>\n",
       "      <td>...</td>\n",
       "      <td>1</td>\n",
       "      <td>0</td>\n",
       "      <td>17.3</td>\n",
       "      <td>2.900000</td>\n",
       "      <td>nan</td>\n",
       "      <td>nan</td>\n",
       "      <td>1440</td>\n",
       "      <td>1</td>\n",
       "      <td>1</td>\n",
       "      <td>1000</td>\n",
       "    </tr>\n",
       "    <tr>\n",
       "      <th>1</th>\n",
       "      <td>asus rog strix scar 15 core i9 12th gen - (32 ...</td>\n",
       "      <td>229990</td>\n",
       "      <td>1</td>\n",
       "      <td>8.0</td>\n",
       "      <td>1</td>\n",
       "      <td>1</td>\n",
       "      <td>12th gen</td>\n",
       "      <td>1</td>\n",
       "      <td>32</td>\n",
       "      <td>1</td>\n",
       "      <td>...</td>\n",
       "      <td>1</td>\n",
       "      <td>0</td>\n",
       "      <td>15.6</td>\n",
       "      <td>2.300000</td>\n",
       "      <td>nan</td>\n",
       "      <td>nan</td>\n",
       "      <td>1440</td>\n",
       "      <td>1</td>\n",
       "      <td>1</td>\n",
       "      <td>1000</td>\n",
       "    </tr>\n",
       "    <tr>\n",
       "      <th>2</th>\n",
       "      <td>hp victus ryzen 7 octa core 5800h - (16 gb/512...</td>\n",
       "      <td>104091</td>\n",
       "      <td>1</td>\n",
       "      <td>4.0</td>\n",
       "      <td>2</td>\n",
       "      <td>2</td>\n",
       "      <td>nan</td>\n",
       "      <td>1</td>\n",
       "      <td>16</td>\n",
       "      <td>0</td>\n",
       "      <td>...</td>\n",
       "      <td>1</td>\n",
       "      <td>0</td>\n",
       "      <td>16.1</td>\n",
       "      <td>2.480000</td>\n",
       "      <td>nan</td>\n",
       "      <td>nan</td>\n",
       "      <td>1080</td>\n",
       "      <td>1</td>\n",
       "      <td>2</td>\n",
       "      <td>512</td>\n",
       "    </tr>\n",
       "    <tr>\n",
       "      <th>3</th>\n",
       "      <td>lenovo ideapad gaming 3i ryzen 7 octa core r7-...</td>\n",
       "      <td>87717</td>\n",
       "      <td>1</td>\n",
       "      <td>4.0</td>\n",
       "      <td>2</td>\n",
       "      <td>2</td>\n",
       "      <td>5th gen</td>\n",
       "      <td>1</td>\n",
       "      <td>16</td>\n",
       "      <td>0</td>\n",
       "      <td>...</td>\n",
       "      <td>1</td>\n",
       "      <td>0</td>\n",
       "      <td>15.6</td>\n",
       "      <td>2.250000</td>\n",
       "      <td>upto 4 hours</td>\n",
       "      <td>nan</td>\n",
       "      <td>1080</td>\n",
       "      <td>1</td>\n",
       "      <td>3</td>\n",
       "      <td>512</td>\n",
       "    </tr>\n",
       "    <tr>\n",
       "      <th>4</th>\n",
       "      <td>lenovo yoga slim 7 core i5 11th gen - (16 gb/5...</td>\n",
       "      <td>75990</td>\n",
       "      <td>2</td>\n",
       "      <td>0.0</td>\n",
       "      <td>1</td>\n",
       "      <td>3</td>\n",
       "      <td>11th gen</td>\n",
       "      <td>1</td>\n",
       "      <td>16</td>\n",
       "      <td>0</td>\n",
       "      <td>...</td>\n",
       "      <td>1</td>\n",
       "      <td>1</td>\n",
       "      <td>14.0</td>\n",
       "      <td>1.494642</td>\n",
       "      <td>upto 12 hours</td>\n",
       "      <td>nan</td>\n",
       "      <td>1080</td>\n",
       "      <td>2</td>\n",
       "      <td>3</td>\n",
       "      <td>512</td>\n",
       "    </tr>\n",
       "    <tr>\n",
       "      <th>...</th>\n",
       "      <td>...</td>\n",
       "      <td>...</td>\n",
       "      <td>...</td>\n",
       "      <td>...</td>\n",
       "      <td>...</td>\n",
       "      <td>...</td>\n",
       "      <td>...</td>\n",
       "      <td>...</td>\n",
       "      <td>...</td>\n",
       "      <td>...</td>\n",
       "      <td>...</td>\n",
       "      <td>...</td>\n",
       "      <td>...</td>\n",
       "      <td>...</td>\n",
       "      <td>...</td>\n",
       "      <td>...</td>\n",
       "      <td>...</td>\n",
       "      <td>...</td>\n",
       "      <td>...</td>\n",
       "      <td>...</td>\n",
       "      <td>...</td>\n",
       "    </tr>\n",
       "    <tr>\n",
       "      <th>979</th>\n",
       "      <td>nokia purebook x14 core i5 10th gen - (8 gb/51...</td>\n",
       "      <td>53990</td>\n",
       "      <td>2</td>\n",
       "      <td>0.0</td>\n",
       "      <td>1</td>\n",
       "      <td>3</td>\n",
       "      <td>10th gen</td>\n",
       "      <td>1</td>\n",
       "      <td>8</td>\n",
       "      <td>1</td>\n",
       "      <td>...</td>\n",
       "      <td>1</td>\n",
       "      <td>0</td>\n",
       "      <td>14.0</td>\n",
       "      <td>1.100000</td>\n",
       "      <td>upto 6hrs</td>\n",
       "      <td>nan</td>\n",
       "      <td>1080</td>\n",
       "      <td>2</td>\n",
       "      <td>13</td>\n",
       "      <td>512</td>\n",
       "    </tr>\n",
       "    <tr>\n",
       "      <th>980</th>\n",
       "      <td>hp spectre folio core i7 10th gen - (16 gb/512...</td>\n",
       "      <td>239759</td>\n",
       "      <td>3</td>\n",
       "      <td>0.0</td>\n",
       "      <td>1</td>\n",
       "      <td>4</td>\n",
       "      <td>10th gen</td>\n",
       "      <td>1</td>\n",
       "      <td>16</td>\n",
       "      <td>0</td>\n",
       "      <td>...</td>\n",
       "      <td>1</td>\n",
       "      <td>1</td>\n",
       "      <td>13.3</td>\n",
       "      <td>1.490000</td>\n",
       "      <td>nan</td>\n",
       "      <td>nan</td>\n",
       "      <td>1080</td>\n",
       "      <td>1</td>\n",
       "      <td>2</td>\n",
       "      <td>512</td>\n",
       "    </tr>\n",
       "    <tr>\n",
       "      <th>981</th>\n",
       "      <td>hp envy x360 ryzen 5 hexa core 4500u - (8 gb/5...</td>\n",
       "      <td>85555</td>\n",
       "      <td>3</td>\n",
       "      <td>0.0</td>\n",
       "      <td>2</td>\n",
       "      <td>12</td>\n",
       "      <td>nan</td>\n",
       "      <td>1</td>\n",
       "      <td>8</td>\n",
       "      <td>0</td>\n",
       "      <td>...</td>\n",
       "      <td>1</td>\n",
       "      <td>1</td>\n",
       "      <td>13.3</td>\n",
       "      <td>1.320000</td>\n",
       "      <td>upto 16.75 hrs</td>\n",
       "      <td>nan</td>\n",
       "      <td>1080</td>\n",
       "      <td>3</td>\n",
       "      <td>2</td>\n",
       "      <td>512</td>\n",
       "    </tr>\n",
       "    <tr>\n",
       "      <th>982</th>\n",
       "      <td>hp 14a celeron dual core - (4 gb/64 gb emmc st...</td>\n",
       "      <td>26990</td>\n",
       "      <td>8</td>\n",
       "      <td>0.0</td>\n",
       "      <td>1</td>\n",
       "      <td>5</td>\n",
       "      <td>nan</td>\n",
       "      <td>0</td>\n",
       "      <td>4</td>\n",
       "      <td>0</td>\n",
       "      <td>...</td>\n",
       "      <td>2</td>\n",
       "      <td>1</td>\n",
       "      <td>14.0</td>\n",
       "      <td>1.460000</td>\n",
       "      <td>upto 11 hrs</td>\n",
       "      <td>nan</td>\n",
       "      <td>720</td>\n",
       "      <td>2</td>\n",
       "      <td>2</td>\n",
       "      <td>64</td>\n",
       "    </tr>\n",
       "    <tr>\n",
       "      <th>983</th>\n",
       "      <td>lenovo core i3 10th gen - (4 gb/1 tb hdd/windo...</td>\n",
       "      <td>44590</td>\n",
       "      <td>5</td>\n",
       "      <td>0.0</td>\n",
       "      <td>1</td>\n",
       "      <td>11</td>\n",
       "      <td>10th gen</td>\n",
       "      <td>0</td>\n",
       "      <td>4</td>\n",
       "      <td>0</td>\n",
       "      <td>...</td>\n",
       "      <td>1</td>\n",
       "      <td>0</td>\n",
       "      <td>14.0</td>\n",
       "      <td>1.600000</td>\n",
       "      <td>upto 5 hrs</td>\n",
       "      <td>nan</td>\n",
       "      <td>720</td>\n",
       "      <td>3</td>\n",
       "      <td>3</td>\n",
       "      <td>1000</td>\n",
       "    </tr>\n",
       "  </tbody>\n",
       "</table>\n",
       "<p>984 rows × 21 columns</p>\n",
       "</div>"
      ],
      "text/plain": [
       "                                                  name   Price  Type  \\\n",
       "0    asus rog strix scar 17 core i9 12th gen - (32 ...  234990     1   \n",
       "1    asus rog strix scar 15 core i9 12th gen - (32 ...  229990     1   \n",
       "2    hp victus ryzen 7 octa core 5800h - (16 gb/512...  104091     1   \n",
       "3    lenovo ideapad gaming 3i ryzen 7 octa core r7-...   87717     1   \n",
       "4    lenovo yoga slim 7 core i5 11th gen - (16 gb/5...   75990     2   \n",
       "..                                                 ...     ...   ...   \n",
       "979  nokia purebook x14 core i5 10th gen - (8 gb/51...   53990     2   \n",
       "980  hp spectre folio core i7 10th gen - (16 gb/512...  239759     3   \n",
       "981  hp envy x360 ryzen 5 hexa core 4500u - (8 gb/5...   85555     3   \n",
       "982  hp 14a celeron dual core - (4 gb/64 gb emmc st...   26990     8   \n",
       "983  lenovo core i3 10th gen - (4 gb/1 tb hdd/windo...   44590     5   \n",
       "\n",
       "     Dedicated Graphic Memory Capacity  Processor Brand  Processor Name  \\\n",
       "0                                  8.0                1               1   \n",
       "1                                  8.0                1               1   \n",
       "2                                  4.0                2               2   \n",
       "3                                  4.0                2               2   \n",
       "4                                  0.0                1               3   \n",
       "..                                 ...              ...             ...   \n",
       "979                                0.0                1               3   \n",
       "980                                0.0                1               4   \n",
       "981                                0.0                2              12   \n",
       "982                                0.0                1               5   \n",
       "983                                0.0                1              11   \n",
       "\n",
       "    Processor Generation SSD RAM Expandable Memory  ... Operating System  \\\n",
       "0               12th gen   1  32                 1  ...                1   \n",
       "1               12th gen   1  32                 1  ...                1   \n",
       "2                    nan   1  16                 0  ...                1   \n",
       "3                5th gen   1  16                 0  ...                1   \n",
       "4               11th gen   1  16                 0  ...                1   \n",
       "..                   ...  ..  ..               ...  ...              ...   \n",
       "979             10th gen   1   8                 1  ...                1   \n",
       "980             10th gen   1  16                 0  ...                1   \n",
       "981                  nan   1   8                 0  ...                1   \n",
       "982                  nan   0   4                 0  ...                2   \n",
       "983             10th gen   0   4                 0  ...                1   \n",
       "\n",
       "     Touchscreen Screen Size    Weight  Battery Backup Refresh Rate max_res  \\\n",
       "0              0        17.3  2.900000             nan          nan    1440   \n",
       "1              0        15.6  2.300000             nan          nan    1440   \n",
       "2              0        16.1  2.480000             nan          nan    1080   \n",
       "3              0        15.6  2.250000    upto 4 hours          nan    1080   \n",
       "4              1        14.0  1.494642   upto 12 hours          nan    1080   \n",
       "..           ...         ...       ...             ...          ...     ...   \n",
       "979            0        14.0  1.100000       upto 6hrs          nan    1080   \n",
       "980            1        13.3  1.490000             nan          nan    1080   \n",
       "981            1        13.3  1.320000  upto 16.75 hrs          nan    1080   \n",
       "982            1        14.0  1.460000     upto 11 hrs          nan     720   \n",
       "983            0        14.0  1.600000      upto 5 hrs          nan     720   \n",
       "\n",
       "     gpu_brand  company  Storage  \n",
       "0            1        1     1000  \n",
       "1            1        1     1000  \n",
       "2            1        2      512  \n",
       "3            1        3      512  \n",
       "4            2        3      512  \n",
       "..         ...      ...      ...  \n",
       "979          2       13      512  \n",
       "980          1        2      512  \n",
       "981          3        2      512  \n",
       "982          2        2       64  \n",
       "983          3        3     1000  \n",
       "\n",
       "[984 rows x 21 columns]"
      ]
     },
     "execution_count": 117,
     "metadata": {},
     "output_type": "execute_result"
    }
   ],
   "source": [
    "df1"
   ]
  },
  {
   "cell_type": "code",
   "execution_count": 118,
   "id": "0678f829",
   "metadata": {},
   "outputs": [
    {
     "data": {
      "text/plain": [
       "{1: 'gaming laptop',\n",
       " 2: 'thin and light laptop',\n",
       " 3: '2 in 1 laptop',\n",
       " 4: 'notebook',\n",
       " 5: 'laptop',\n",
       " 6: '2 in 1 gaming laptop',\n",
       " 7: 'business laptop',\n",
       " 8: 'chromebook',\n",
       " 9: 'creator laptop'}"
      ]
     },
     "execution_count": 118,
     "metadata": {},
     "output_type": "execute_result"
    }
   ],
   "source": [
    "inv_type_dict"
   ]
  },
  {
   "cell_type": "code",
   "execution_count": 119,
   "id": "423be9bb",
   "metadata": {
    "scrolled": false
   },
   "outputs": [
    {
     "name": "stdout",
     "output_type": "stream",
     "text": [
      "294\n"
     ]
    },
    {
     "name": "stderr",
     "output_type": "stream",
     "text": [
      "C:\\Users\\srevaatsav\\anaconda3\\lib\\site-packages\\seaborn\\distributions.py:2557: FutureWarning: `distplot` is a deprecated function and will be removed in a future version. Please adapt your code to use either `displot` (a figure-level function with similar flexibility) or `histplot` (an axes-level function for histograms).\n",
      "  warnings.warn(msg, FutureWarning)\n"
     ]
    },
    {
     "data": {
      "text/plain": [
       "<AxesSubplot:ylabel='Density'>"
      ]
     },
     "execution_count": 119,
     "metadata": {},
     "output_type": "execute_result"
    },
    {
     "data": {
      "image/png": "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\n",
      "text/plain": [
       "<Figure size 432x288 with 1 Axes>"
      ]
     },
     "metadata": {
      "needs_background": "light"
     },
     "output_type": "display_data"
    }
   ],
   "source": [
    "p_gen = np.array(df1[df1[\"Processor Generation\"] == \"nan\"][\"Price\"])\n",
    "print(df1[df1[\"Processor Generation\"] == \"nan\"].shape[0])\n",
    "sns.distplot(p_gen)"
   ]
  },
  {
   "cell_type": "code",
   "execution_count": 120,
   "id": "2f32a844",
   "metadata": {},
   "outputs": [],
   "source": [
    "del df1[\"Processor Generation\"]"
   ]
  },
  {
   "cell_type": "code",
   "execution_count": 121,
   "id": "78bc1a99",
   "metadata": {},
   "outputs": [
    {
     "data": {
      "text/html": [
       "<div>\n",
       "<style scoped>\n",
       "    .dataframe tbody tr th:only-of-type {\n",
       "        vertical-align: middle;\n",
       "    }\n",
       "\n",
       "    .dataframe tbody tr th {\n",
       "        vertical-align: top;\n",
       "    }\n",
       "\n",
       "    .dataframe thead th {\n",
       "        text-align: right;\n",
       "    }\n",
       "</style>\n",
       "<table border=\"1\" class=\"dataframe\">\n",
       "  <thead>\n",
       "    <tr style=\"text-align: right;\">\n",
       "      <th></th>\n",
       "      <th>name</th>\n",
       "      <th>Price</th>\n",
       "      <th>Type</th>\n",
       "      <th>Dedicated Graphic Memory Capacity</th>\n",
       "      <th>Processor Brand</th>\n",
       "      <th>Processor Name</th>\n",
       "      <th>SSD</th>\n",
       "      <th>RAM</th>\n",
       "      <th>Expandable Memory</th>\n",
       "      <th>Graphic Processor</th>\n",
       "      <th>Operating System</th>\n",
       "      <th>Touchscreen</th>\n",
       "      <th>Screen Size</th>\n",
       "      <th>Weight</th>\n",
       "      <th>Battery Backup</th>\n",
       "      <th>Refresh Rate</th>\n",
       "      <th>max_res</th>\n",
       "      <th>gpu_brand</th>\n",
       "      <th>company</th>\n",
       "      <th>Storage</th>\n",
       "    </tr>\n",
       "  </thead>\n",
       "  <tbody>\n",
       "    <tr>\n",
       "      <th>0</th>\n",
       "      <td>asus rog strix scar 17 core i9 12th gen - (32 ...</td>\n",
       "      <td>234990</td>\n",
       "      <td>1</td>\n",
       "      <td>8.0</td>\n",
       "      <td>1</td>\n",
       "      <td>1</td>\n",
       "      <td>1</td>\n",
       "      <td>32</td>\n",
       "      <td>1</td>\n",
       "      <td>nvidia geforce rtx 3070 ti</td>\n",
       "      <td>1</td>\n",
       "      <td>0</td>\n",
       "      <td>17.3</td>\n",
       "      <td>2.900000</td>\n",
       "      <td>nan</td>\n",
       "      <td>nan</td>\n",
       "      <td>1440</td>\n",
       "      <td>1</td>\n",
       "      <td>1</td>\n",
       "      <td>1000</td>\n",
       "    </tr>\n",
       "    <tr>\n",
       "      <th>1</th>\n",
       "      <td>asus rog strix scar 15 core i9 12th gen - (32 ...</td>\n",
       "      <td>229990</td>\n",
       "      <td>1</td>\n",
       "      <td>8.0</td>\n",
       "      <td>1</td>\n",
       "      <td>1</td>\n",
       "      <td>1</td>\n",
       "      <td>32</td>\n",
       "      <td>1</td>\n",
       "      <td>nvidia geforce rtx 3070 ti</td>\n",
       "      <td>1</td>\n",
       "      <td>0</td>\n",
       "      <td>15.6</td>\n",
       "      <td>2.300000</td>\n",
       "      <td>nan</td>\n",
       "      <td>nan</td>\n",
       "      <td>1440</td>\n",
       "      <td>1</td>\n",
       "      <td>1</td>\n",
       "      <td>1000</td>\n",
       "    </tr>\n",
       "    <tr>\n",
       "      <th>2</th>\n",
       "      <td>hp victus ryzen 7 octa core 5800h - (16 gb/512...</td>\n",
       "      <td>104091</td>\n",
       "      <td>1</td>\n",
       "      <td>4.0</td>\n",
       "      <td>2</td>\n",
       "      <td>2</td>\n",
       "      <td>1</td>\n",
       "      <td>16</td>\n",
       "      <td>0</td>\n",
       "      <td>nvidia geforce rtx 3050</td>\n",
       "      <td>1</td>\n",
       "      <td>0</td>\n",
       "      <td>16.1</td>\n",
       "      <td>2.480000</td>\n",
       "      <td>nan</td>\n",
       "      <td>nan</td>\n",
       "      <td>1080</td>\n",
       "      <td>1</td>\n",
       "      <td>2</td>\n",
       "      <td>512</td>\n",
       "    </tr>\n",
       "    <tr>\n",
       "      <th>3</th>\n",
       "      <td>lenovo ideapad gaming 3i ryzen 7 octa core r7-...</td>\n",
       "      <td>87717</td>\n",
       "      <td>1</td>\n",
       "      <td>4.0</td>\n",
       "      <td>2</td>\n",
       "      <td>2</td>\n",
       "      <td>1</td>\n",
       "      <td>16</td>\n",
       "      <td>0</td>\n",
       "      <td>nvidia geforce rtx 3050</td>\n",
       "      <td>1</td>\n",
       "      <td>0</td>\n",
       "      <td>15.6</td>\n",
       "      <td>2.250000</td>\n",
       "      <td>upto 4 hours</td>\n",
       "      <td>nan</td>\n",
       "      <td>1080</td>\n",
       "      <td>1</td>\n",
       "      <td>3</td>\n",
       "      <td>512</td>\n",
       "    </tr>\n",
       "    <tr>\n",
       "      <th>4</th>\n",
       "      <td>lenovo yoga slim 7 core i5 11th gen - (16 gb/5...</td>\n",
       "      <td>75990</td>\n",
       "      <td>2</td>\n",
       "      <td>0.0</td>\n",
       "      <td>1</td>\n",
       "      <td>3</td>\n",
       "      <td>1</td>\n",
       "      <td>16</td>\n",
       "      <td>0</td>\n",
       "      <td>intel integrated intel</td>\n",
       "      <td>1</td>\n",
       "      <td>1</td>\n",
       "      <td>14.0</td>\n",
       "      <td>1.494642</td>\n",
       "      <td>upto 12 hours</td>\n",
       "      <td>nan</td>\n",
       "      <td>1080</td>\n",
       "      <td>2</td>\n",
       "      <td>3</td>\n",
       "      <td>512</td>\n",
       "    </tr>\n",
       "    <tr>\n",
       "      <th>...</th>\n",
       "      <td>...</td>\n",
       "      <td>...</td>\n",
       "      <td>...</td>\n",
       "      <td>...</td>\n",
       "      <td>...</td>\n",
       "      <td>...</td>\n",
       "      <td>...</td>\n",
       "      <td>...</td>\n",
       "      <td>...</td>\n",
       "      <td>...</td>\n",
       "      <td>...</td>\n",
       "      <td>...</td>\n",
       "      <td>...</td>\n",
       "      <td>...</td>\n",
       "      <td>...</td>\n",
       "      <td>...</td>\n",
       "      <td>...</td>\n",
       "      <td>...</td>\n",
       "      <td>...</td>\n",
       "      <td>...</td>\n",
       "    </tr>\n",
       "    <tr>\n",
       "      <th>979</th>\n",
       "      <td>nokia purebook x14 core i5 10th gen - (8 gb/51...</td>\n",
       "      <td>53990</td>\n",
       "      <td>2</td>\n",
       "      <td>0.0</td>\n",
       "      <td>1</td>\n",
       "      <td>3</td>\n",
       "      <td>1</td>\n",
       "      <td>8</td>\n",
       "      <td>1</td>\n",
       "      <td>intel integrated uhd</td>\n",
       "      <td>1</td>\n",
       "      <td>0</td>\n",
       "      <td>14.0</td>\n",
       "      <td>1.100000</td>\n",
       "      <td>upto 6hrs</td>\n",
       "      <td>nan</td>\n",
       "      <td>1080</td>\n",
       "      <td>2</td>\n",
       "      <td>13</td>\n",
       "      <td>512</td>\n",
       "    </tr>\n",
       "    <tr>\n",
       "      <th>980</th>\n",
       "      <td>hp spectre folio core i7 10th gen - (16 gb/512...</td>\n",
       "      <td>239759</td>\n",
       "      <td>3</td>\n",
       "      <td>0.0</td>\n",
       "      <td>1</td>\n",
       "      <td>4</td>\n",
       "      <td>1</td>\n",
       "      <td>16</td>\n",
       "      <td>0</td>\n",
       "      <td>nvidia geforce gtx</td>\n",
       "      <td>1</td>\n",
       "      <td>1</td>\n",
       "      <td>13.3</td>\n",
       "      <td>1.490000</td>\n",
       "      <td>nan</td>\n",
       "      <td>nan</td>\n",
       "      <td>1080</td>\n",
       "      <td>1</td>\n",
       "      <td>2</td>\n",
       "      <td>512</td>\n",
       "    </tr>\n",
       "    <tr>\n",
       "      <th>981</th>\n",
       "      <td>hp envy x360 ryzen 5 hexa core 4500u - (8 gb/5...</td>\n",
       "      <td>85555</td>\n",
       "      <td>3</td>\n",
       "      <td>0.0</td>\n",
       "      <td>2</td>\n",
       "      <td>12</td>\n",
       "      <td>1</td>\n",
       "      <td>8</td>\n",
       "      <td>0</td>\n",
       "      <td>amd radeon</td>\n",
       "      <td>1</td>\n",
       "      <td>1</td>\n",
       "      <td>13.3</td>\n",
       "      <td>1.320000</td>\n",
       "      <td>upto 16.75 hrs</td>\n",
       "      <td>nan</td>\n",
       "      <td>1080</td>\n",
       "      <td>3</td>\n",
       "      <td>2</td>\n",
       "      <td>512</td>\n",
       "    </tr>\n",
       "    <tr>\n",
       "      <th>982</th>\n",
       "      <td>hp 14a celeron dual core - (4 gb/64 gb emmc st...</td>\n",
       "      <td>26990</td>\n",
       "      <td>8</td>\n",
       "      <td>0.0</td>\n",
       "      <td>1</td>\n",
       "      <td>5</td>\n",
       "      <td>0</td>\n",
       "      <td>4</td>\n",
       "      <td>0</td>\n",
       "      <td>intel integrated uhd 605</td>\n",
       "      <td>2</td>\n",
       "      <td>1</td>\n",
       "      <td>14.0</td>\n",
       "      <td>1.460000</td>\n",
       "      <td>upto 11 hrs</td>\n",
       "      <td>nan</td>\n",
       "      <td>720</td>\n",
       "      <td>2</td>\n",
       "      <td>2</td>\n",
       "      <td>64</td>\n",
       "    </tr>\n",
       "    <tr>\n",
       "      <th>983</th>\n",
       "      <td>lenovo core i3 10th gen - (4 gb/1 tb hdd/windo...</td>\n",
       "      <td>44590</td>\n",
       "      <td>5</td>\n",
       "      <td>0.0</td>\n",
       "      <td>1</td>\n",
       "      <td>11</td>\n",
       "      <td>0</td>\n",
       "      <td>4</td>\n",
       "      <td>0</td>\n",
       "      <td>amd radeon r4</td>\n",
       "      <td>1</td>\n",
       "      <td>0</td>\n",
       "      <td>14.0</td>\n",
       "      <td>1.600000</td>\n",
       "      <td>upto 5 hrs</td>\n",
       "      <td>nan</td>\n",
       "      <td>720</td>\n",
       "      <td>3</td>\n",
       "      <td>3</td>\n",
       "      <td>1000</td>\n",
       "    </tr>\n",
       "  </tbody>\n",
       "</table>\n",
       "<p>984 rows × 20 columns</p>\n",
       "</div>"
      ],
      "text/plain": [
       "                                                  name   Price  Type  \\\n",
       "0    asus rog strix scar 17 core i9 12th gen - (32 ...  234990     1   \n",
       "1    asus rog strix scar 15 core i9 12th gen - (32 ...  229990     1   \n",
       "2    hp victus ryzen 7 octa core 5800h - (16 gb/512...  104091     1   \n",
       "3    lenovo ideapad gaming 3i ryzen 7 octa core r7-...   87717     1   \n",
       "4    lenovo yoga slim 7 core i5 11th gen - (16 gb/5...   75990     2   \n",
       "..                                                 ...     ...   ...   \n",
       "979  nokia purebook x14 core i5 10th gen - (8 gb/51...   53990     2   \n",
       "980  hp spectre folio core i7 10th gen - (16 gb/512...  239759     3   \n",
       "981  hp envy x360 ryzen 5 hexa core 4500u - (8 gb/5...   85555     3   \n",
       "982  hp 14a celeron dual core - (4 gb/64 gb emmc st...   26990     8   \n",
       "983  lenovo core i3 10th gen - (4 gb/1 tb hdd/windo...   44590     5   \n",
       "\n",
       "     Dedicated Graphic Memory Capacity  Processor Brand  Processor Name SSD  \\\n",
       "0                                  8.0                1               1   1   \n",
       "1                                  8.0                1               1   1   \n",
       "2                                  4.0                2               2   1   \n",
       "3                                  4.0                2               2   1   \n",
       "4                                  0.0                1               3   1   \n",
       "..                                 ...              ...             ...  ..   \n",
       "979                                0.0                1               3   1   \n",
       "980                                0.0                1               4   1   \n",
       "981                                0.0                2              12   1   \n",
       "982                                0.0                1               5   0   \n",
       "983                                0.0                1              11   0   \n",
       "\n",
       "    RAM Expandable Memory           Graphic Processor  Operating System  \\\n",
       "0    32                 1  nvidia geforce rtx 3070 ti                 1   \n",
       "1    32                 1  nvidia geforce rtx 3070 ti                 1   \n",
       "2    16                 0     nvidia geforce rtx 3050                 1   \n",
       "3    16                 0     nvidia geforce rtx 3050                 1   \n",
       "4    16                 0      intel integrated intel                 1   \n",
       "..   ..               ...                         ...               ...   \n",
       "979   8                 1        intel integrated uhd                 1   \n",
       "980  16                 0          nvidia geforce gtx                 1   \n",
       "981   8                 0                  amd radeon                 1   \n",
       "982   4                 0    intel integrated uhd 605                 2   \n",
       "983   4                 0               amd radeon r4                 1   \n",
       "\n",
       "    Touchscreen Screen Size    Weight  Battery Backup Refresh Rate  max_res  \\\n",
       "0             0        17.3  2.900000             nan          nan     1440   \n",
       "1             0        15.6  2.300000             nan          nan     1440   \n",
       "2             0        16.1  2.480000             nan          nan     1080   \n",
       "3             0        15.6  2.250000    upto 4 hours          nan     1080   \n",
       "4             1        14.0  1.494642   upto 12 hours          nan     1080   \n",
       "..          ...         ...       ...             ...          ...      ...   \n",
       "979           0        14.0  1.100000       upto 6hrs          nan     1080   \n",
       "980           1        13.3  1.490000             nan          nan     1080   \n",
       "981           1        13.3  1.320000  upto 16.75 hrs          nan     1080   \n",
       "982           1        14.0  1.460000     upto 11 hrs          nan      720   \n",
       "983           0        14.0  1.600000      upto 5 hrs          nan      720   \n",
       "\n",
       "     gpu_brand  company Storage  \n",
       "0            1        1    1000  \n",
       "1            1        1    1000  \n",
       "2            1        2     512  \n",
       "3            1        3     512  \n",
       "4            2        3     512  \n",
       "..         ...      ...     ...  \n",
       "979          2       13     512  \n",
       "980          1        2     512  \n",
       "981          3        2     512  \n",
       "982          2        2      64  \n",
       "983          3        3    1000  \n",
       "\n",
       "[984 rows x 20 columns]"
      ]
     },
     "execution_count": 121,
     "metadata": {},
     "output_type": "execute_result"
    }
   ],
   "source": [
    "df1"
   ]
  },
  {
   "cell_type": "code",
   "execution_count": 124,
   "id": "447bc3b4",
   "metadata": {},
   "outputs": [],
   "source": [
    "def bat_back_1(s):\n",
    "    return 0"
   ]
  },
  {
   "cell_type": "code",
   "execution_count": 125,
   "id": "2032cedd",
   "metadata": {},
   "outputs": [],
   "source": [
    "df1[\"battery_back\"] = df1[\"Battery Backup\"].apply(bat_back_1)"
   ]
  },
  {
   "cell_type": "code",
   "execution_count": 127,
   "id": "8db96085",
   "metadata": {},
   "outputs": [
    {
     "data": {
      "text/plain": [
       "{1: 'gaming laptop',\n",
       " 2: 'thin and light laptop',\n",
       " 3: '2 in 1 laptop',\n",
       " 4: 'notebook',\n",
       " 5: 'laptop',\n",
       " 6: '2 in 1 gaming laptop',\n",
       " 7: 'business laptop',\n",
       " 8: 'chromebook',\n",
       " 9: 'creator laptop'}"
      ]
     },
     "execution_count": 127,
     "metadata": {},
     "output_type": "execute_result"
    }
   ],
   "source": [
    "inv_type_dict"
   ]
  },
  {
   "cell_type": "code",
   "execution_count": 128,
   "id": "ce0c2929",
   "metadata": {},
   "outputs": [
    {
     "name": "stdout",
     "output_type": "stream",
     "text": [
      "***Average battery lifes***\n",
      "\n",
      "gaming laptop  ===>  2\n",
      "thin and light laptop  ===>  4.5\n",
      "2 in 1 laptop  ===>  5\n",
      "notebook  ===>  4.5\n",
      "laptop  ===>  5\n",
      "2 in 1 gaming laptop  ===>  4\n",
      "business laptop  ===>  6\n",
      "chromebook  ===>  8\n",
      "creator laptop  ===>  4\n"
     ]
    }
   ],
   "source": [
    "battery_dict = {1:2, 2:4.5, 3:5, 4:4.5 , 5:5, 6:4, 7:6, 8:8 , 9:4}\n",
    "battery_dict\n",
    "print(\"***Average battery lifes***\\n\")\n",
    "for k1 in inv_type_dict.values():\n",
    "    print(k1, \" ===> \", battery_dict[type_dict[k1]])"
   ]
  },
  {
   "cell_type": "code",
   "execution_count": 129,
   "id": "072e7f22",
   "metadata": {},
   "outputs": [
    {
     "data": {
      "text/plain": [
       "(984, 21)"
      ]
     },
     "execution_count": 129,
     "metadata": {},
     "output_type": "execute_result"
    }
   ],
   "source": [
    "df1[df1[\"battery_back\"] == 0].shape"
   ]
  },
  {
   "cell_type": "code",
   "execution_count": 130,
   "id": "5f7e8636",
   "metadata": {
    "scrolled": true
   },
   "outputs": [
    {
     "name": "stderr",
     "output_type": "stream",
     "text": [
      "C:\\Users\\srevaatsav\\anaconda3\\lib\\site-packages\\pandas\\core\\indexing.py:1637: SettingWithCopyWarning: \n",
      "A value is trying to be set on a copy of a slice from a DataFrame\n",
      "\n",
      "See the caveats in the documentation: https://pandas.pydata.org/pandas-docs/stable/user_guide/indexing.html#returning-a-view-versus-a-copy\n",
      "  self._setitem_single_block(indexer, value, name)\n",
      "C:\\Users\\srevaatsav\\anaconda3\\lib\\site-packages\\pandas\\core\\indexing.py:1637: SettingWithCopyWarning: \n",
      "A value is trying to be set on a copy of a slice from a DataFrame\n",
      "\n",
      "See the caveats in the documentation: https://pandas.pydata.org/pandas-docs/stable/user_guide/indexing.html#returning-a-view-versus-a-copy\n",
      "  self._setitem_single_block(indexer, value, name)\n",
      "C:\\Users\\srevaatsav\\anaconda3\\lib\\site-packages\\pandas\\core\\indexing.py:1637: SettingWithCopyWarning: \n",
      "A value is trying to be set on a copy of a slice from a DataFrame\n",
      "\n",
      "See the caveats in the documentation: https://pandas.pydata.org/pandas-docs/stable/user_guide/indexing.html#returning-a-view-versus-a-copy\n",
      "  self._setitem_single_block(indexer, value, name)\n",
      "C:\\Users\\srevaatsav\\anaconda3\\lib\\site-packages\\pandas\\core\\indexing.py:1637: SettingWithCopyWarning: \n",
      "A value is trying to be set on a copy of a slice from a DataFrame\n",
      "\n",
      "See the caveats in the documentation: https://pandas.pydata.org/pandas-docs/stable/user_guide/indexing.html#returning-a-view-versus-a-copy\n",
      "  self._setitem_single_block(indexer, value, name)\n",
      "C:\\Users\\srevaatsav\\anaconda3\\lib\\site-packages\\pandas\\core\\indexing.py:1637: SettingWithCopyWarning: \n",
      "A value is trying to be set on a copy of a slice from a DataFrame\n",
      "\n",
      "See the caveats in the documentation: https://pandas.pydata.org/pandas-docs/stable/user_guide/indexing.html#returning-a-view-versus-a-copy\n",
      "  self._setitem_single_block(indexer, value, name)\n",
      "C:\\Users\\srevaatsav\\anaconda3\\lib\\site-packages\\pandas\\core\\indexing.py:1637: SettingWithCopyWarning: \n",
      "A value is trying to be set on a copy of a slice from a DataFrame\n",
      "\n",
      "See the caveats in the documentation: https://pandas.pydata.org/pandas-docs/stable/user_guide/indexing.html#returning-a-view-versus-a-copy\n",
      "  self._setitem_single_block(indexer, value, name)\n",
      "C:\\Users\\srevaatsav\\anaconda3\\lib\\site-packages\\pandas\\core\\indexing.py:1637: SettingWithCopyWarning: \n",
      "A value is trying to be set on a copy of a slice from a DataFrame\n",
      "\n",
      "See the caveats in the documentation: https://pandas.pydata.org/pandas-docs/stable/user_guide/indexing.html#returning-a-view-versus-a-copy\n",
      "  self._setitem_single_block(indexer, value, name)\n",
      "C:\\Users\\srevaatsav\\anaconda3\\lib\\site-packages\\pandas\\core\\indexing.py:1637: SettingWithCopyWarning: \n",
      "A value is trying to be set on a copy of a slice from a DataFrame\n",
      "\n",
      "See the caveats in the documentation: https://pandas.pydata.org/pandas-docs/stable/user_guide/indexing.html#returning-a-view-versus-a-copy\n",
      "  self._setitem_single_block(indexer, value, name)\n",
      "C:\\Users\\srevaatsav\\anaconda3\\lib\\site-packages\\pandas\\core\\indexing.py:1637: SettingWithCopyWarning: \n",
      "A value is trying to be set on a copy of a slice from a DataFrame\n",
      "\n",
      "See the caveats in the documentation: https://pandas.pydata.org/pandas-docs/stable/user_guide/indexing.html#returning-a-view-versus-a-copy\n",
      "  self._setitem_single_block(indexer, value, name)\n"
     ]
    }
   ],
   "source": [
    "dwt = df1[df1[\"battery_back\"] == 0]\n",
    "\n",
    "for key in inv_type_dict.keys():\n",
    "    index = df1[df1[\"battery_back\"] == 0].index\n",
    "    dff = df1[df1[\"battery_back\"] == 0][\"Type\"] == key\n",
    "    indices = index[dff]\n",
    "#     print(indices, \"\\n\")\n",
    "    \n",
    "    for i in range(len(list(indices))):\n",
    "        df1[\"battery_back\"].iloc[indices[i]] = battery_dict[key]"
   ]
  },
  {
   "cell_type": "code",
   "execution_count": 131,
   "id": "c58f3eba",
   "metadata": {},
   "outputs": [
    {
     "data": {
      "text/plain": [
       "(0, 21)"
      ]
     },
     "execution_count": 131,
     "metadata": {},
     "output_type": "execute_result"
    }
   ],
   "source": [
    "df1[df1[\"battery_back\"] == 0].shape"
   ]
  },
  {
   "cell_type": "code",
   "execution_count": 132,
   "id": "d073797d",
   "metadata": {},
   "outputs": [
    {
     "data": {
      "image/png": "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\n",
      "text/plain": [
       "<Figure size 360x360 with 1 Axes>"
      ]
     },
     "metadata": {
      "needs_background": "light"
     },
     "output_type": "display_data"
    }
   ],
   "source": [
    "sns.displot(df1[\"battery_back\"])\n",
    "plt.show()"
   ]
  },
  {
   "cell_type": "code",
   "execution_count": 133,
   "id": "eb55bd66",
   "metadata": {},
   "outputs": [],
   "source": [
    "del df1[\"Battery Backup\"]"
   ]
  },
  {
   "cell_type": "code",
   "execution_count": 134,
   "id": "ab04bd3f",
   "metadata": {},
   "outputs": [
    {
     "data": {
      "text/html": [
       "<div>\n",
       "<style scoped>\n",
       "    .dataframe tbody tr th:only-of-type {\n",
       "        vertical-align: middle;\n",
       "    }\n",
       "\n",
       "    .dataframe tbody tr th {\n",
       "        vertical-align: top;\n",
       "    }\n",
       "\n",
       "    .dataframe thead th {\n",
       "        text-align: right;\n",
       "    }\n",
       "</style>\n",
       "<table border=\"1\" class=\"dataframe\">\n",
       "  <thead>\n",
       "    <tr style=\"text-align: right;\">\n",
       "      <th></th>\n",
       "      <th>name</th>\n",
       "      <th>Price</th>\n",
       "      <th>Type</th>\n",
       "      <th>Dedicated Graphic Memory Capacity</th>\n",
       "      <th>Processor Brand</th>\n",
       "      <th>Processor Name</th>\n",
       "      <th>SSD</th>\n",
       "      <th>RAM</th>\n",
       "      <th>Expandable Memory</th>\n",
       "      <th>Graphic Processor</th>\n",
       "      <th>Operating System</th>\n",
       "      <th>Touchscreen</th>\n",
       "      <th>Screen Size</th>\n",
       "      <th>Weight</th>\n",
       "      <th>Refresh Rate</th>\n",
       "      <th>max_res</th>\n",
       "      <th>gpu_brand</th>\n",
       "      <th>company</th>\n",
       "      <th>Storage</th>\n",
       "      <th>battery_back</th>\n",
       "    </tr>\n",
       "  </thead>\n",
       "  <tbody>\n",
       "    <tr>\n",
       "      <th>0</th>\n",
       "      <td>asus rog strix scar 17 core i9 12th gen - (32 ...</td>\n",
       "      <td>234990</td>\n",
       "      <td>1</td>\n",
       "      <td>8.0</td>\n",
       "      <td>1</td>\n",
       "      <td>1</td>\n",
       "      <td>1</td>\n",
       "      <td>32</td>\n",
       "      <td>1</td>\n",
       "      <td>nvidia geforce rtx 3070 ti</td>\n",
       "      <td>1</td>\n",
       "      <td>0</td>\n",
       "      <td>17.3</td>\n",
       "      <td>2.900000</td>\n",
       "      <td>nan</td>\n",
       "      <td>1440</td>\n",
       "      <td>1</td>\n",
       "      <td>1</td>\n",
       "      <td>1000</td>\n",
       "      <td>2.0</td>\n",
       "    </tr>\n",
       "    <tr>\n",
       "      <th>1</th>\n",
       "      <td>asus rog strix scar 15 core i9 12th gen - (32 ...</td>\n",
       "      <td>229990</td>\n",
       "      <td>1</td>\n",
       "      <td>8.0</td>\n",
       "      <td>1</td>\n",
       "      <td>1</td>\n",
       "      <td>1</td>\n",
       "      <td>32</td>\n",
       "      <td>1</td>\n",
       "      <td>nvidia geforce rtx 3070 ti</td>\n",
       "      <td>1</td>\n",
       "      <td>0</td>\n",
       "      <td>15.6</td>\n",
       "      <td>2.300000</td>\n",
       "      <td>nan</td>\n",
       "      <td>1440</td>\n",
       "      <td>1</td>\n",
       "      <td>1</td>\n",
       "      <td>1000</td>\n",
       "      <td>2.0</td>\n",
       "    </tr>\n",
       "    <tr>\n",
       "      <th>2</th>\n",
       "      <td>hp victus ryzen 7 octa core 5800h - (16 gb/512...</td>\n",
       "      <td>104091</td>\n",
       "      <td>1</td>\n",
       "      <td>4.0</td>\n",
       "      <td>2</td>\n",
       "      <td>2</td>\n",
       "      <td>1</td>\n",
       "      <td>16</td>\n",
       "      <td>0</td>\n",
       "      <td>nvidia geforce rtx 3050</td>\n",
       "      <td>1</td>\n",
       "      <td>0</td>\n",
       "      <td>16.1</td>\n",
       "      <td>2.480000</td>\n",
       "      <td>nan</td>\n",
       "      <td>1080</td>\n",
       "      <td>1</td>\n",
       "      <td>2</td>\n",
       "      <td>512</td>\n",
       "      <td>2.0</td>\n",
       "    </tr>\n",
       "    <tr>\n",
       "      <th>3</th>\n",
       "      <td>lenovo ideapad gaming 3i ryzen 7 octa core r7-...</td>\n",
       "      <td>87717</td>\n",
       "      <td>1</td>\n",
       "      <td>4.0</td>\n",
       "      <td>2</td>\n",
       "      <td>2</td>\n",
       "      <td>1</td>\n",
       "      <td>16</td>\n",
       "      <td>0</td>\n",
       "      <td>nvidia geforce rtx 3050</td>\n",
       "      <td>1</td>\n",
       "      <td>0</td>\n",
       "      <td>15.6</td>\n",
       "      <td>2.250000</td>\n",
       "      <td>nan</td>\n",
       "      <td>1080</td>\n",
       "      <td>1</td>\n",
       "      <td>3</td>\n",
       "      <td>512</td>\n",
       "      <td>2.0</td>\n",
       "    </tr>\n",
       "    <tr>\n",
       "      <th>4</th>\n",
       "      <td>lenovo yoga slim 7 core i5 11th gen - (16 gb/5...</td>\n",
       "      <td>75990</td>\n",
       "      <td>2</td>\n",
       "      <td>0.0</td>\n",
       "      <td>1</td>\n",
       "      <td>3</td>\n",
       "      <td>1</td>\n",
       "      <td>16</td>\n",
       "      <td>0</td>\n",
       "      <td>intel integrated intel</td>\n",
       "      <td>1</td>\n",
       "      <td>1</td>\n",
       "      <td>14.0</td>\n",
       "      <td>1.494642</td>\n",
       "      <td>nan</td>\n",
       "      <td>1080</td>\n",
       "      <td>2</td>\n",
       "      <td>3</td>\n",
       "      <td>512</td>\n",
       "      <td>4.5</td>\n",
       "    </tr>\n",
       "    <tr>\n",
       "      <th>...</th>\n",
       "      <td>...</td>\n",
       "      <td>...</td>\n",
       "      <td>...</td>\n",
       "      <td>...</td>\n",
       "      <td>...</td>\n",
       "      <td>...</td>\n",
       "      <td>...</td>\n",
       "      <td>...</td>\n",
       "      <td>...</td>\n",
       "      <td>...</td>\n",
       "      <td>...</td>\n",
       "      <td>...</td>\n",
       "      <td>...</td>\n",
       "      <td>...</td>\n",
       "      <td>...</td>\n",
       "      <td>...</td>\n",
       "      <td>...</td>\n",
       "      <td>...</td>\n",
       "      <td>...</td>\n",
       "      <td>...</td>\n",
       "    </tr>\n",
       "    <tr>\n",
       "      <th>979</th>\n",
       "      <td>nokia purebook x14 core i5 10th gen - (8 gb/51...</td>\n",
       "      <td>53990</td>\n",
       "      <td>2</td>\n",
       "      <td>0.0</td>\n",
       "      <td>1</td>\n",
       "      <td>3</td>\n",
       "      <td>1</td>\n",
       "      <td>8</td>\n",
       "      <td>1</td>\n",
       "      <td>intel integrated uhd</td>\n",
       "      <td>1</td>\n",
       "      <td>0</td>\n",
       "      <td>14.0</td>\n",
       "      <td>1.100000</td>\n",
       "      <td>nan</td>\n",
       "      <td>1080</td>\n",
       "      <td>2</td>\n",
       "      <td>13</td>\n",
       "      <td>512</td>\n",
       "      <td>4.5</td>\n",
       "    </tr>\n",
       "    <tr>\n",
       "      <th>980</th>\n",
       "      <td>hp spectre folio core i7 10th gen - (16 gb/512...</td>\n",
       "      <td>239759</td>\n",
       "      <td>3</td>\n",
       "      <td>0.0</td>\n",
       "      <td>1</td>\n",
       "      <td>4</td>\n",
       "      <td>1</td>\n",
       "      <td>16</td>\n",
       "      <td>0</td>\n",
       "      <td>nvidia geforce gtx</td>\n",
       "      <td>1</td>\n",
       "      <td>1</td>\n",
       "      <td>13.3</td>\n",
       "      <td>1.490000</td>\n",
       "      <td>nan</td>\n",
       "      <td>1080</td>\n",
       "      <td>1</td>\n",
       "      <td>2</td>\n",
       "      <td>512</td>\n",
       "      <td>5.0</td>\n",
       "    </tr>\n",
       "    <tr>\n",
       "      <th>981</th>\n",
       "      <td>hp envy x360 ryzen 5 hexa core 4500u - (8 gb/5...</td>\n",
       "      <td>85555</td>\n",
       "      <td>3</td>\n",
       "      <td>0.0</td>\n",
       "      <td>2</td>\n",
       "      <td>12</td>\n",
       "      <td>1</td>\n",
       "      <td>8</td>\n",
       "      <td>0</td>\n",
       "      <td>amd radeon</td>\n",
       "      <td>1</td>\n",
       "      <td>1</td>\n",
       "      <td>13.3</td>\n",
       "      <td>1.320000</td>\n",
       "      <td>nan</td>\n",
       "      <td>1080</td>\n",
       "      <td>3</td>\n",
       "      <td>2</td>\n",
       "      <td>512</td>\n",
       "      <td>5.0</td>\n",
       "    </tr>\n",
       "    <tr>\n",
       "      <th>982</th>\n",
       "      <td>hp 14a celeron dual core - (4 gb/64 gb emmc st...</td>\n",
       "      <td>26990</td>\n",
       "      <td>8</td>\n",
       "      <td>0.0</td>\n",
       "      <td>1</td>\n",
       "      <td>5</td>\n",
       "      <td>0</td>\n",
       "      <td>4</td>\n",
       "      <td>0</td>\n",
       "      <td>intel integrated uhd 605</td>\n",
       "      <td>2</td>\n",
       "      <td>1</td>\n",
       "      <td>14.0</td>\n",
       "      <td>1.460000</td>\n",
       "      <td>nan</td>\n",
       "      <td>720</td>\n",
       "      <td>2</td>\n",
       "      <td>2</td>\n",
       "      <td>64</td>\n",
       "      <td>8.0</td>\n",
       "    </tr>\n",
       "    <tr>\n",
       "      <th>983</th>\n",
       "      <td>lenovo core i3 10th gen - (4 gb/1 tb hdd/windo...</td>\n",
       "      <td>44590</td>\n",
       "      <td>5</td>\n",
       "      <td>0.0</td>\n",
       "      <td>1</td>\n",
       "      <td>11</td>\n",
       "      <td>0</td>\n",
       "      <td>4</td>\n",
       "      <td>0</td>\n",
       "      <td>amd radeon r4</td>\n",
       "      <td>1</td>\n",
       "      <td>0</td>\n",
       "      <td>14.0</td>\n",
       "      <td>1.600000</td>\n",
       "      <td>nan</td>\n",
       "      <td>720</td>\n",
       "      <td>3</td>\n",
       "      <td>3</td>\n",
       "      <td>1000</td>\n",
       "      <td>5.0</td>\n",
       "    </tr>\n",
       "  </tbody>\n",
       "</table>\n",
       "<p>984 rows × 20 columns</p>\n",
       "</div>"
      ],
      "text/plain": [
       "                                                  name   Price  Type  \\\n",
       "0    asus rog strix scar 17 core i9 12th gen - (32 ...  234990     1   \n",
       "1    asus rog strix scar 15 core i9 12th gen - (32 ...  229990     1   \n",
       "2    hp victus ryzen 7 octa core 5800h - (16 gb/512...  104091     1   \n",
       "3    lenovo ideapad gaming 3i ryzen 7 octa core r7-...   87717     1   \n",
       "4    lenovo yoga slim 7 core i5 11th gen - (16 gb/5...   75990     2   \n",
       "..                                                 ...     ...   ...   \n",
       "979  nokia purebook x14 core i5 10th gen - (8 gb/51...   53990     2   \n",
       "980  hp spectre folio core i7 10th gen - (16 gb/512...  239759     3   \n",
       "981  hp envy x360 ryzen 5 hexa core 4500u - (8 gb/5...   85555     3   \n",
       "982  hp 14a celeron dual core - (4 gb/64 gb emmc st...   26990     8   \n",
       "983  lenovo core i3 10th gen - (4 gb/1 tb hdd/windo...   44590     5   \n",
       "\n",
       "     Dedicated Graphic Memory Capacity  Processor Brand  Processor Name SSD  \\\n",
       "0                                  8.0                1               1   1   \n",
       "1                                  8.0                1               1   1   \n",
       "2                                  4.0                2               2   1   \n",
       "3                                  4.0                2               2   1   \n",
       "4                                  0.0                1               3   1   \n",
       "..                                 ...              ...             ...  ..   \n",
       "979                                0.0                1               3   1   \n",
       "980                                0.0                1               4   1   \n",
       "981                                0.0                2              12   1   \n",
       "982                                0.0                1               5   0   \n",
       "983                                0.0                1              11   0   \n",
       "\n",
       "    RAM Expandable Memory           Graphic Processor  Operating System  \\\n",
       "0    32                 1  nvidia geforce rtx 3070 ti                 1   \n",
       "1    32                 1  nvidia geforce rtx 3070 ti                 1   \n",
       "2    16                 0     nvidia geforce rtx 3050                 1   \n",
       "3    16                 0     nvidia geforce rtx 3050                 1   \n",
       "4    16                 0      intel integrated intel                 1   \n",
       "..   ..               ...                         ...               ...   \n",
       "979   8                 1        intel integrated uhd                 1   \n",
       "980  16                 0          nvidia geforce gtx                 1   \n",
       "981   8                 0                  amd radeon                 1   \n",
       "982   4                 0    intel integrated uhd 605                 2   \n",
       "983   4                 0               amd radeon r4                 1   \n",
       "\n",
       "    Touchscreen Screen Size    Weight Refresh Rate  max_res  gpu_brand  \\\n",
       "0             0        17.3  2.900000          nan     1440          1   \n",
       "1             0        15.6  2.300000          nan     1440          1   \n",
       "2             0        16.1  2.480000          nan     1080          1   \n",
       "3             0        15.6  2.250000          nan     1080          1   \n",
       "4             1        14.0  1.494642          nan     1080          2   \n",
       "..          ...         ...       ...          ...      ...        ...   \n",
       "979           0        14.0  1.100000          nan     1080          2   \n",
       "980           1        13.3  1.490000          nan     1080          1   \n",
       "981           1        13.3  1.320000          nan     1080          3   \n",
       "982           1        14.0  1.460000          nan      720          2   \n",
       "983           0        14.0  1.600000          nan      720          3   \n",
       "\n",
       "     company Storage  battery_back  \n",
       "0          1    1000           2.0  \n",
       "1          1    1000           2.0  \n",
       "2          2     512           2.0  \n",
       "3          3     512           2.0  \n",
       "4          3     512           4.5  \n",
       "..       ...     ...           ...  \n",
       "979       13     512           4.5  \n",
       "980        2     512           5.0  \n",
       "981        2     512           5.0  \n",
       "982        2      64           8.0  \n",
       "983        3    1000           5.0  \n",
       "\n",
       "[984 rows x 20 columns]"
      ]
     },
     "execution_count": 134,
     "metadata": {},
     "output_type": "execute_result"
    }
   ],
   "source": [
    "df1"
   ]
  },
  {
   "cell_type": "code",
   "execution_count": 135,
   "id": "beb1dca8",
   "metadata": {},
   "outputs": [],
   "source": [
    "# Processed GPU names\n",
    "\n",
    "new_gpu = ['nvidia geforce rtx 3070 ti', 'nvidia geforce rtx 3050',\n",
    "       'integrated', 'iris xe',\n",
    "       'intel hd',\n",
    "       'amd radeon',\n",
    "       'nvidia geforce gtx 1650', 'intel uhd',\n",
    "       'amd radeon', 'intel iris xe',\n",
    "       'amd radeon',\n",
    "       'nvidia geforce rtx 3050', 'amd radeon',\n",
    "       'nvidia geforce rtx 3070', 'intel uhd',\n",
    "       'nvidia geforce rtx 3050 ti', 'amd radeon vega 8',\n",
    "       'nvidia geforce rtx 3050', 'nvidia geforce rtx 3060',\n",
    "       'intel hd',\n",
    "       'nvidia geforce gtx 1650', 'intel uhd',\n",
    "       'nvidia geforce rtx 3060', 'nvidia geforce mx 450',\n",
    "       'amd radeon', 'nvidia geforce rtx 3050',\n",
    "       'intel uhd 600', 'intel uhd',\n",
    "       'amd radeon', 'nvidia geforce rtx 3050', 'amd radeon',\n",
    "       'nvidia geforce rtx 3050 ti', 'amd radeon rx vega 10',\n",
    "       'nvidia geforce rtx 3050',\n",
    "       'intel uhd',\n",
    "       'amd radeon rx vega 10', 'intel hd',\n",
    "       'qualcomm adreno 618 gpu', 'amd radeon vega ',\n",
    "       'amd radeon rx 6600m', 'integrated',\n",
    "       'nvidia geforce gtx 1650',\n",
    "       'nvidia geforce rtx 3050',\n",
    "       'nvidia geforce rtx 3060',\n",
    "       'nvidia geforce rtx 3050',\n",
    "       'qualcomm adreno', 'integrated',\n",
    "       'nvidia geforce rtx 3050ti',\n",
    "       'intel uhd 600',\n",
    "       'nvidia geforce rtx 3080 ti', 'intel iris plus',\n",
    "       'amd radeon', 'nvidia geforce gtx',\n",
    "       'intel uhd 605', 'nvidia geforce rtx',\n",
    "       'intel uhd',\n",
    "       'intel uhd 600', 'amd radeon',\n",
    "       'intel iris xe',\n",
    "       'amd radeon', 'intel iris',\n",
    "       'amd radeon', 'intel uhd',\n",
    "       'nvidia geforce mx 350', 'amd radeon',\n",
    "       'intel iris xe', 'nvidia geforce mx 330',\n",
    "       'intel hd', 'amd radeon rx 6700m', 'integrated',\n",
    "       'nvidia geforce gtx 1650', 'nan',\n",
    "       'nvidia geforce gtx 1650',\n",
    "       'amd radeon',\n",
    "       'nvidia geforce rtx 3060', 'nvidia geforce',\n",
    "       'nvidia geforce gtx 1650 ti',\n",
    "       'amd radeon', 'nvidia geforce rtx 3050',\n",
    "       'intel iris xe', 'amd radeon vega 8',\n",
    "       'intel uhd',\n",
    "       'nvidia geforce gtx 1650',\n",
    "       'amd radeon', 'nvidia geforce rtx 3050ti',\n",
    "       'nvidia geforce mx 330',\n",
    "       'intel uhd',\n",
    "       'nvidia geforce gtx 1650', 'nvidia geforce mx 330',\n",
    "       'nvidia geforce mx 350', 'amd radeon vega',\n",
    "       'nvidia geforce gtx', 'intel iris xe',\n",
    "       'intel uhd',\n",
    "       'intel hd 520', 'intel uhd',\n",
    "       'amd radeon rx6600m', 'intel iris xe',\n",
    "       'nvidia geforce rtx', 'intel iris xe',\n",
    "       'amd radeon rx 6800m', 'nvidia geforce mx 330',\n",
    "       'amd radeon 5500u', 'amd radeon 5500m', 'nvidia geforce mx 130',\n",
    "       'amd radeon r4', 'integrated', 'intel uhd 600',\n",
    "       'intel hd 500', 'amd radeon r5',\n",
    "       'amd radeon r4 (stoney ridge)', 'intel iris xe',\n",
    "       'nvidia geforce gtx 1650 ti', 'nvidia geforce gtx 1650 max q',\n",
    "       'nvidia geforce mx 250',\n",
    "       'nvidia geforce gtx 1650 ti', 'nvidia geforce gtx 1650 ti',\n",
    "       'nvidia geforce gtx 1650 ti', 'nvidia geforce gtx 1660 ti',\n",
    "       'nvidia geforce rtx 2060', 'intel uhd 620',\n",
    "       'intel hd 5500', 'integrated',\n",
    "       'nvidia geforce rtx 2080 super max-q', 'nvidia geforce',\n",
    "       'amd radeon', 'nvidia geforce mx 250',\n",
    "       'amd radeon vega 6', 'intel iris xe max',\n",
    "       'nvidia geforce gtx 1650 ti max-q', 'amd radeon 520',\n",
    "       'nvidia geforce rtx 2070 max-q',\n",
    "       'nvidia geforce gtx mx 330', 'nvidia geforce mx 230',\n",
    "       'intel uhd', 'intel hd 620',\n",
    "       'nvidia quadro p520', 'nvidia quadro t2000',\n",
    "       'intel uhd 620', 'nvidia geforce mx 110',\n",
    "       'nvidia geforce gtx']"
   ]
  },
  {
   "cell_type": "code",
   "execution_count": 137,
   "id": "8dba7d00",
   "metadata": {
    "scrolled": true
   },
   "outputs": [
    {
     "data": {
      "text/plain": [
       "['nvidia geforce rtx 3070 ti',\n",
       " 'nvidia geforce rtx 3050',\n",
       " 'intel integrated intel',\n",
       " 'intel integrated iris xe graphics',\n",
       " 'intel integrated intel hd',\n",
       " 'amd radeon integrated amd radeon™ graphics',\n",
       " 'nvidia geforce gtx 1650',\n",
       " 'intel integrated uhd graphics',\n",
       " 'amd radeon radeon graphics',\n",
       " 'intel integrated iris xe',\n",
       " 'amd radeon integrated amd radeon graphics',\n",
       " 'nvidia geforce rtx3050- 4gb',\n",
       " 'amd radeon amd redeon',\n",
       " 'nvidia geforce rtx 3070',\n",
       " 'intel integrated intel® uhd graphics',\n",
       " 'nvidia geforce rtx 3050 ti',\n",
       " 'amd radeon vega 8',\n",
       " 'nvidia geforce rtx 3050 rts',\n",
       " 'nvidia geforce rtx rtx3060-6gb',\n",
       " 'intel integrated intel hd graphics',\n",
       " 'nvidia geforce gtx gtx 1650 4gb graphics',\n",
       " 'intel integrated uhd',\n",
       " 'nvidia geforce rtx 3060',\n",
       " 'nvidia geforce mx450',\n",
       " 'amd radeon amd',\n",
       " 'nvidia geforce rtx rtx3050-4g',\n",
       " 'intel integrated uhd graphics 600',\n",
       " 'intel integrated intel uhd',\n",
       " 'amd radeon',\n",
       " 'amd radeon rtx3050- 4gb',\n",
       " 'amd radeon intgrated',\n",
       " 'nvidia geforce rtx 3050ti',\n",
       " 'amd radeon rx vega 10',\n",
       " 'nvidia geforce rtx rtx 3050',\n",
       " 'intel integrated intel uhd graphics',\n",
       " 'amd radeon radeon rx vega 10 graphics',\n",
       " 'intel integrated hd',\n",
       " 'qualcomm adreno adreno 618 gpu',\n",
       " 'amd radeon vega graphics',\n",
       " 'amd radeon rx 6600m',\n",
       " 'intel integrated',\n",
       " 'nvidia geforce gtx gtx 1650',\n",
       " 'nvidia geforce rtx geforce rtx 3050',\n",
       " 'nvidia geforce rtx rtx 3060',\n",
       " 'nvidia geforce rtx nvidia geforce rtx 3050',\n",
       " 'qualcomm adreno adreno',\n",
       " 'na integrated_graphics',\n",
       " 'nvidia geforce rtx rtx 3050ti',\n",
       " 'intel integrated intel® uhd graphics 600',\n",
       " 'nvidia geforce rtx 3080 ti',\n",
       " 'intel integrated iris plus',\n",
       " 'amd radeon amd radeon graphics',\n",
       " 'nvidia geforce gtx nvidia',\n",
       " 'intel integrated uhd 605',\n",
       " 'nvidia geforce rtx nvidia',\n",
       " 'intel integrated intel uhd graphics for 11th gen intel processors',\n",
       " 'intel integrated intel uhd graphics 600',\n",
       " 'amd radeon radeon',\n",
       " 'intel integrated integrated intel iris xe graphics',\n",
       " 'amd radeon amd radeon™',\n",
       " 'intel integrated intel iris',\n",
       " 'intel integrated amd radeon graphics',\n",
       " 'na uhd graphic',\n",
       " 'nvidia geforce mx350',\n",
       " 'amd radeon amd radeon™ graphics',\n",
       " 'intel integrated intel iris xe graphics',\n",
       " 'nvidia geforce mx330',\n",
       " 'na intel hd',\n",
       " 'amd radeon rx 6700m',\n",
       " 'intel integrated ddr4',\n",
       " 'nvidia geforce gtx nvidia geforce gtx 1650 4gb gddr6',\n",
       " 'nan',\n",
       " 'nvidia geforce nvidia geforce gtx 1650 4gb gddr6',\n",
       " 'intel integrated integrated amd radeon graphics',\n",
       " 'nvidia geforce rtx rtx 3060 6gb graphics',\n",
       " 'nvidia geforce ddr5',\n",
       " 'nvidia geforce gtx nvidia(r) geforce gtx(r) 1650 ti 4gb gddr6',\n",
       " 'amd radeon amd radeon',\n",
       " 'nvidia geforce gtx 3050',\n",
       " 'na intel iris xe graphics',\n",
       " 'amd radeon wega 8',\n",
       " 'intel integrated intel intergrated uhd',\n",
       " 'nvidia geforce gtx nvidia® geforce® gtx 1650 (4gb gddr6)',\n",
       " 'amd radeon integrated',\n",
       " 'nvidia geforce rtx3050ti',\n",
       " 'nvidia geforce gtx 2 gb mx330',\n",
       " 'intel integrated intel integrated uhd',\n",
       " 'nvidia geforce gtx gtx1650- 4gb',\n",
       " 'nvidia geforce mx 330',\n",
       " 'intel integrated mx350',\n",
       " 'amd radeon vega',\n",
       " 'nvidia geforce gtx gtx',\n",
       " 'intel integrated irix xe',\n",
       " 'intel integrated integrated intel® uhd graphics',\n",
       " 'intel integrated hd 520',\n",
       " 'intel integrated intel uhd graphic',\n",
       " 'amd radeon rx6600m',\n",
       " 'intel integrated intel iris x? graphics',\n",
       " 'nvidia geforce rtx rtx',\n",
       " 'intel integrated intel iris xe',\n",
       " 'amd radeon rx 6800m',\n",
       " 'nvidia geforce nvidia mx330-2gb',\n",
       " 'amd radeon 5500u',\n",
       " 'amd radeon rx5500m',\n",
       " 'nvidia geforce mx130',\n",
       " 'amd radeon r4',\n",
       " 'mediatek integrated',\n",
       " 'intel integrated uhd 600',\n",
       " 'intel integrated hd 500',\n",
       " 'amd radeon r5',\n",
       " 'amd radeon r4 (stoney ridge)',\n",
       " 'na intel® iris® xe graphics',\n",
       " 'nvidia geforce gtx 1650ti',\n",
       " 'nvidia geforce gtx 1650 max q',\n",
       " 'nvidia geforce gtx nvidia(r) geforce(r) mx250 with 2gb gddr5',\n",
       " 'nvidia geforce 1650ti',\n",
       " 'nvidia geforce gtx 1650 ti',\n",
       " 'nvidia geforce gtx gtx 1650ti',\n",
       " 'nvidia geforce gtx 1660 ti',\n",
       " 'nvidia geforce rtx 2060',\n",
       " 'intel integrated uhd 620',\n",
       " 'amd radeon intel hd graphics 5500',\n",
       " 'intel integrated core i5',\n",
       " 'nvidia geforce rtx 2080 super max-q',\n",
       " 'nvidia geforce nvidia',\n",
       " 'amd radeon amd readon',\n",
       " 'nvidia geforce mx250',\n",
       " 'amd radeon vega 6',\n",
       " 'intel integrated iris xe max',\n",
       " 'nvidia geforce gtx 1650 ti max-q',\n",
       " 'amd radeon amd radeon 520',\n",
       " 'nvidia geforce rtx 2070 with max-q design',\n",
       " 'nvidia geforce gtx mx330',\n",
       " 'nvidia geforce mx230',\n",
       " 'intel integrated integrated intel uhd',\n",
       " 'intel integrated hd 620',\n",
       " 'nvidia quadro p520',\n",
       " 'nvidia quadro t2000',\n",
       " 'intel integrated intel uhd graphics 620',\n",
       " 'nvidia geforce mx110',\n",
       " 'nvidia geforce gtx']"
      ]
     },
     "execution_count": 137,
     "metadata": {},
     "output_type": "execute_result"
    }
   ],
   "source": [
    "gpu_arr = list(df1[\"Graphic Processor\"].unique())\n",
    "gpu_arr"
   ]
  },
  {
   "cell_type": "code",
   "execution_count": 138,
   "id": "e3464ac1",
   "metadata": {},
   "outputs": [
    {
     "data": {
      "text/plain": [
       "(141, 141)"
      ]
     },
     "execution_count": 138,
     "metadata": {},
     "output_type": "execute_result"
    }
   ],
   "source": [
    "len(gpu_arr), len(new_gpu)"
   ]
  },
  {
   "cell_type": "code",
   "execution_count": 139,
   "id": "30f65c2d",
   "metadata": {},
   "outputs": [
    {
     "data": {
      "text/plain": [
       "62"
      ]
     },
     "execution_count": 139,
     "metadata": {},
     "output_type": "execute_result"
    }
   ],
   "source": [
    "len(set(new_gpu))"
   ]
  },
  {
   "cell_type": "code",
   "execution_count": 140,
   "id": "edb34c30",
   "metadata": {},
   "outputs": [
    {
     "data": {
      "text/plain": [
       "(20, 20)"
      ]
     },
     "execution_count": 140,
     "metadata": {},
     "output_type": "execute_result"
    }
   ],
   "source": [
    "df1[df1[\"Graphic Processor\"] == \"nan\"].shape"
   ]
  },
  {
   "cell_type": "code",
   "execution_count": 141,
   "id": "efdb8290",
   "metadata": {},
   "outputs": [],
   "source": [
    "# for i in range(len(df1)):\n",
    "    \n",
    "#     curr_gpu = df1[\"Graphic Processor\"][i]\n",
    "#     new_ind = gpu_arr.index(curr_gpu)\n",
    "#     df1[\"Graphic Processor\"][i] = new_gpu[new_ind]\n",
    "    \n",
    "    \n",
    "\n",
    "# gpu.index(\"amd radeon intel hd graphics 5500\")"
   ]
  },
  {
   "cell_type": "code",
   "execution_count": 142,
   "id": "d599dd56",
   "metadata": {},
   "outputs": [
    {
     "data": {
      "text/plain": [
       "array(['nvidia geforce rtx 3070 ti', 'nvidia geforce rtx 3050',\n",
       "       'intel integrated intel', 'intel integrated iris xe graphics',\n",
       "       'intel integrated intel hd',\n",
       "       'amd radeon integrated amd radeon™ graphics',\n",
       "       'nvidia geforce gtx 1650', 'intel integrated uhd graphics',\n",
       "       'amd radeon radeon graphics', 'intel integrated iris xe',\n",
       "       'amd radeon integrated amd radeon graphics',\n",
       "       'nvidia geforce rtx3050- 4gb', 'amd radeon amd redeon',\n",
       "       'nvidia geforce rtx 3070', 'intel integrated intel® uhd graphics',\n",
       "       'nvidia geforce rtx 3050 ti', 'amd radeon vega 8',\n",
       "       'nvidia geforce rtx 3050 rts', 'nvidia geforce rtx rtx3060-6gb',\n",
       "       'intel integrated intel hd graphics',\n",
       "       'nvidia geforce gtx gtx 1650 4gb graphics', 'intel integrated uhd',\n",
       "       'nvidia geforce rtx 3060', 'nvidia geforce mx450',\n",
       "       'amd radeon amd', 'nvidia geforce rtx rtx3050-4g',\n",
       "       'intel integrated uhd graphics 600', 'intel integrated intel uhd',\n",
       "       'amd radeon', 'amd radeon rtx3050- 4gb', 'amd radeon intgrated',\n",
       "       'nvidia geforce rtx 3050ti', 'amd radeon rx vega 10',\n",
       "       'nvidia geforce rtx rtx 3050',\n",
       "       'intel integrated intel uhd graphics',\n",
       "       'amd radeon radeon rx vega 10 graphics', 'intel integrated hd',\n",
       "       'qualcomm adreno adreno 618 gpu', 'amd radeon vega graphics',\n",
       "       'amd radeon rx 6600m', 'intel integrated',\n",
       "       'nvidia geforce gtx gtx 1650',\n",
       "       'nvidia geforce rtx geforce rtx 3050',\n",
       "       'nvidia geforce rtx rtx 3060',\n",
       "       'nvidia geforce rtx nvidia geforce rtx 3050',\n",
       "       'qualcomm adreno adreno', 'na integrated_graphics',\n",
       "       'nvidia geforce rtx rtx 3050ti',\n",
       "       'intel integrated intel® uhd graphics 600',\n",
       "       'nvidia geforce rtx 3080 ti', 'intel integrated iris plus',\n",
       "       'amd radeon amd radeon graphics', 'nvidia geforce gtx nvidia',\n",
       "       'intel integrated uhd 605', 'nvidia geforce rtx nvidia',\n",
       "       'intel integrated intel uhd graphics for 11th gen intel processors',\n",
       "       'intel integrated intel uhd graphics 600', 'amd radeon radeon',\n",
       "       'intel integrated integrated intel iris xe graphics',\n",
       "       'amd radeon amd radeon™', 'intel integrated intel iris',\n",
       "       'intel integrated amd radeon graphics', 'na uhd graphic',\n",
       "       'nvidia geforce mx350', 'amd radeon amd radeon™ graphics',\n",
       "       'intel integrated intel iris xe graphics', 'nvidia geforce mx330',\n",
       "       'na intel hd', 'amd radeon rx 6700m', 'intel integrated ddr4',\n",
       "       'nvidia geforce gtx nvidia geforce gtx 1650 4gb gddr6', 'nan',\n",
       "       'nvidia geforce nvidia geforce gtx 1650 4gb gddr6',\n",
       "       'intel integrated integrated amd radeon graphics',\n",
       "       'nvidia geforce rtx rtx 3060 6gb graphics', 'nvidia geforce ddr5',\n",
       "       'nvidia geforce gtx nvidia(r) geforce gtx(r) 1650 ti 4gb gddr6',\n",
       "       'amd radeon amd radeon', 'nvidia geforce gtx 3050',\n",
       "       'na intel iris xe graphics', 'amd radeon wega 8',\n",
       "       'intel integrated intel intergrated uhd',\n",
       "       'nvidia geforce gtx nvidia® geforce® gtx 1650 (4gb gddr6)',\n",
       "       'amd radeon integrated', 'nvidia geforce rtx3050ti',\n",
       "       'nvidia geforce gtx 2 gb mx330',\n",
       "       'intel integrated intel integrated uhd',\n",
       "       'nvidia geforce gtx gtx1650- 4gb', 'nvidia geforce mx 330',\n",
       "       'intel integrated mx350', 'amd radeon vega',\n",
       "       'nvidia geforce gtx gtx', 'intel integrated irix xe',\n",
       "       'intel integrated integrated intel® uhd graphics',\n",
       "       'intel integrated hd 520', 'intel integrated intel uhd graphic',\n",
       "       'amd radeon rx6600m', 'intel integrated intel iris x? graphics',\n",
       "       'nvidia geforce rtx rtx', 'intel integrated intel iris xe',\n",
       "       'amd radeon rx 6800m', 'nvidia geforce nvidia mx330-2gb',\n",
       "       'amd radeon 5500u', 'amd radeon rx5500m', 'nvidia geforce mx130',\n",
       "       'amd radeon r4', 'mediatek integrated', 'intel integrated uhd 600',\n",
       "       'intel integrated hd 500', 'amd radeon r5',\n",
       "       'amd radeon r4 (stoney ridge)', 'na intel® iris® xe graphics',\n",
       "       'nvidia geforce gtx 1650ti', 'nvidia geforce gtx 1650 max q',\n",
       "       'nvidia geforce gtx nvidia(r) geforce(r) mx250 with 2gb gddr5',\n",
       "       'nvidia geforce 1650ti', 'nvidia geforce gtx 1650 ti',\n",
       "       'nvidia geforce gtx gtx 1650ti', 'nvidia geforce gtx 1660 ti',\n",
       "       'nvidia geforce rtx 2060', 'intel integrated uhd 620',\n",
       "       'amd radeon intel hd graphics 5500', 'intel integrated core i5',\n",
       "       'nvidia geforce rtx 2080 super max-q', 'nvidia geforce nvidia',\n",
       "       'amd radeon amd readon', 'nvidia geforce mx250',\n",
       "       'amd radeon vega 6', 'intel integrated iris xe max',\n",
       "       'nvidia geforce gtx 1650 ti max-q', 'amd radeon amd radeon 520',\n",
       "       'nvidia geforce rtx 2070 with max-q design',\n",
       "       'nvidia geforce gtx mx330', 'nvidia geforce mx230',\n",
       "       'intel integrated integrated intel uhd', 'intel integrated hd 620',\n",
       "       'nvidia quadro p520', 'nvidia quadro t2000',\n",
       "       'intel integrated intel uhd graphics 620', 'nvidia geforce mx110',\n",
       "       'nvidia geforce gtx'], dtype=object)"
      ]
     },
     "execution_count": 142,
     "metadata": {},
     "output_type": "execute_result"
    }
   ],
   "source": [
    "df1[\"Graphic Processor\"].unique()"
   ]
  },
  {
   "cell_type": "code",
   "execution_count": 143,
   "id": "6e757bf7",
   "metadata": {},
   "outputs": [
    {
     "data": {
      "text/plain": [
       "(20, 20)"
      ]
     },
     "execution_count": 143,
     "metadata": {},
     "output_type": "execute_result"
    }
   ],
   "source": [
    "df1[df1[\"Graphic Processor\"] == \"nan\"].shape"
   ]
  },
  {
   "cell_type": "code",
   "execution_count": 144,
   "id": "970e87a4",
   "metadata": {},
   "outputs": [],
   "source": [
    "gpu_dict = {}\n",
    "\n",
    "for i in range(len(gpu_arr)):\n",
    "    if gpu_arr[i] == \"nan\":\n",
    "        gpu_dict[gpu_arr[i]] = \"nan\"\n",
    "        \n",
    "    else:\n",
    "        gpu_dict[gpu_arr[i]] = new_gpu[i]\n",
    "    \n",
    "def gpu_func(s):\n",
    "    return gpu_dict[s]"
   ]
  },
  {
   "cell_type": "code",
   "execution_count": 146,
   "id": "1c78a8a5",
   "metadata": {},
   "outputs": [],
   "source": [
    "inv_gpu_dict = {v: k for k, v in gpu_dict.items()}"
   ]
  },
  {
   "cell_type": "code",
   "execution_count": 147,
   "id": "4366ecc9",
   "metadata": {},
   "outputs": [],
   "source": [
    "df1[\"gpu_prcessor\"] = df1[\"Graphic Processor\"].apply(gpu_func)"
   ]
  },
  {
   "cell_type": "code",
   "execution_count": 148,
   "id": "8b53ed15",
   "metadata": {},
   "outputs": [
    {
     "data": {
      "text/plain": [
       "(62,)"
      ]
     },
     "execution_count": 148,
     "metadata": {},
     "output_type": "execute_result"
    }
   ],
   "source": [
    "df1[\"gpu_prcessor\"].unique().shape"
   ]
  },
  {
   "cell_type": "code",
   "execution_count": 149,
   "id": "ccbd13f8",
   "metadata": {},
   "outputs": [
    {
     "data": {
      "text/plain": [
       "{1: 'asus',\n",
       " 2: 'hp',\n",
       " 3: 'lenovo',\n",
       " 4: 'dell',\n",
       " 5: 'msi',\n",
       " 6: 'realme',\n",
       " 7: 'avita',\n",
       " 8: 'acer',\n",
       " 9: 'samsung',\n",
       " 10: 'infinix',\n",
       " 11: 'lg',\n",
       " 12: 'apple',\n",
       " 13: 'nokia',\n",
       " 14: 'redmibook',\n",
       " 15: 'mi',\n",
       " 16: 'vaio'}"
      ]
     },
     "execution_count": 149,
     "metadata": {},
     "output_type": "execute_result"
    }
   ],
   "source": [
    "# company_dict\n",
    "inv_comp_dict  = {v: k for k, v in company_dict.items()}\n",
    "inv_comp_dict"
   ]
  },
  {
   "cell_type": "code",
   "execution_count": 151,
   "id": "4be44828",
   "metadata": {},
   "outputs": [
    {
     "data": {
      "text/plain": [
       "array(['nvidia geforce rtx 3070 ti', 'nvidia geforce rtx 3050',\n",
       "       'integrated', 'iris xe', 'intel hd', 'amd radeon',\n",
       "       'nvidia geforce gtx 1650', 'intel uhd', 'intel iris xe',\n",
       "       'nvidia geforce rtx 3070', 'nvidia geforce rtx 3050 ti',\n",
       "       'amd radeon vega 8', 'nvidia geforce rtx 3060',\n",
       "       'nvidia geforce mx 450', 'intel uhd 600', 'amd radeon rx vega 10',\n",
       "       'qualcomm adreno 618 gpu', 'amd radeon vega ',\n",
       "       'amd radeon rx 6600m', 'qualcomm adreno',\n",
       "       'nvidia geforce rtx 3050ti', 'nvidia geforce rtx 3080 ti',\n",
       "       'intel iris plus', 'nvidia geforce gtx', 'intel uhd 605',\n",
       "       'nvidia geforce rtx', 'intel iris', 'nvidia geforce mx 350',\n",
       "       'nvidia geforce mx 330', 'amd radeon rx 6700m', 'nan',\n",
       "       'nvidia geforce', 'nvidia geforce gtx 1650 ti', 'amd radeon vega',\n",
       "       'intel hd 520', 'amd radeon rx6600m', 'amd radeon rx 6800m',\n",
       "       'amd radeon 5500u', 'amd radeon 5500m', 'nvidia geforce mx 130',\n",
       "       'amd radeon r4', 'intel hd 500', 'amd radeon r5',\n",
       "       'amd radeon r4 (stoney ridge)', 'nvidia geforce gtx 1650 max q',\n",
       "       'nvidia geforce mx 250', 'nvidia geforce gtx 1660 ti',\n",
       "       'nvidia geforce rtx 2060', 'intel uhd 620', 'intel hd 5500',\n",
       "       'nvidia geforce rtx 2080 super max-q', 'amd radeon vega 6',\n",
       "       'intel iris xe max', 'nvidia geforce gtx 1650 ti max-q',\n",
       "       'amd radeon 520', 'nvidia geforce rtx 2070 max-q',\n",
       "       'nvidia geforce gtx mx 330', 'nvidia geforce mx 230',\n",
       "       'intel hd 620', 'nvidia quadro p520', 'nvidia quadro t2000',\n",
       "       'nvidia geforce mx 110'], dtype=object)"
      ]
     },
     "execution_count": 151,
     "metadata": {},
     "output_type": "execute_result"
    }
   ],
   "source": [
    "df1[\"gpu_prcessor\"].unique()\n",
    "\n",
    "# integrated / nan  ---> i"
   ]
  },
  {
   "cell_type": "code",
   "execution_count": 152,
   "id": "879539e6",
   "metadata": {},
   "outputs": [
    {
     "data": {
      "text/plain": [
       "Int64Index([310, 321, 335, 423, 507, 511, 549, 710, 724, 725, 726, 906, 912,\n",
       "            948, 949, 951, 954, 955, 956, 957],\n",
       "           dtype='int64')"
      ]
     },
     "execution_count": 152,
     "metadata": {},
     "output_type": "execute_result"
    }
   ],
   "source": [
    "index1 = df1[df1[\"gpu_prcessor\"] == \"nan\"].index\n",
    "index1"
   ]
  },
  {
   "cell_type": "code",
   "execution_count": 153,
   "id": "845f9163",
   "metadata": {},
   "outputs": [
    {
     "data": {
      "text/plain": [
       "{'nvidia': 1, 'none': 2, 'amd': 3, 'qualcomm': 4}"
      ]
     },
     "execution_count": 153,
     "metadata": {},
     "output_type": "execute_result"
    }
   ],
   "source": [
    "gpu_brand_dict"
   ]
  },
  {
   "cell_type": "code",
   "execution_count": 154,
   "id": "ec7f8985",
   "metadata": {},
   "outputs": [
    {
     "data": {
      "text/plain": [
       "{'intel': 1, 'amd': 2, 'qualcomm': 3, 'apple': 4, 'mediatek': 5}"
      ]
     },
     "execution_count": 154,
     "metadata": {},
     "output_type": "execute_result"
    }
   ],
   "source": [
    "processor_brand_dict"
   ]
  },
  {
   "cell_type": "code",
   "execution_count": 156,
   "id": "f7462e99",
   "metadata": {},
   "outputs": [],
   "source": [
    "# from pandas import index\n",
    "\n",
    "def cleaned_gpu():\n",
    "    \n",
    "    #CASE1\n",
    "    index1 = df1[df1[\"gpu_prcessor\"] == \"nan\"].index\n",
    "    for i in range(len(list(index1))):\n",
    "        if df1[\"Processor Brand\"].iloc[index1[i]] == 1:\n",
    "            df1[\"gpu_prcessor\"].iloc[index1[i]] = \"intel hd\"\n",
    "            \n",
    "        if df1[\"Processor Brand\"].iloc[index1[i]] == 2:\n",
    "            df1[\"gpu_prcessor\"].iloc[index1[i]] = \"amd radeon\"\n",
    "            \n",
    "        if df1[\"Processor Brand\"].iloc[index1[i]] == 4:\n",
    "            df1[\"gpu_prcessor\"].iloc[index1[i]] = \"m1\"\n",
    "            \n",
    "        if df1[\"Processor Brand\"].iloc[index1[i]] == 5:\n",
    "            df1[\"gpu_prcessor\"].iloc[index1[i]] = \"mediatek\"\n",
    "\n",
    "                \n",
    "    # CASE 2\n",
    "    index2 = df1[df1[\"gpu_prcessor\"] == \"integrated\"].index\n",
    "    for i in range(len(list(index2))):\n",
    "        if df1[\"Processor Brand\"].iloc[index2[i]] == 1:\n",
    "            df1[\"gpu_prcessor\"].iloc[index2[i]] = \"intel hd\"\n",
    "            \n",
    "        if df1[\"Processor Brand\"].iloc[index2[i]] == 2:\n",
    "            df1[\"gpu_prcessor\"].iloc[index2[i]] = \"amd radeon\"\n",
    "            \n",
    "        if df1[\"Processor Brand\"].iloc[index2[i]] == 4:\n",
    "            df1[\"gpu_prcessor\"].iloc[index2[i]] = \"m1\"\n",
    "            \n",
    "        if df1[\"Processor Brand\"].iloc[index2[i]] == 5:\n",
    "            df1[\"gpu_prcessor\"].iloc[index2[i]] = \"mediatek\""
   ]
  },
  {
   "cell_type": "code",
   "execution_count": 157,
   "id": "5ac94cdb",
   "metadata": {
    "scrolled": true
   },
   "outputs": [
    {
     "name": "stderr",
     "output_type": "stream",
     "text": [
      "C:\\Users\\srevaatsav\\anaconda3\\lib\\site-packages\\pandas\\core\\indexing.py:1637: SettingWithCopyWarning: \n",
      "A value is trying to be set on a copy of a slice from a DataFrame\n",
      "\n",
      "See the caveats in the documentation: https://pandas.pydata.org/pandas-docs/stable/user_guide/indexing.html#returning-a-view-versus-a-copy\n",
      "  self._setitem_single_block(indexer, value, name)\n"
     ]
    }
   ],
   "source": [
    "cleaned_gpu()"
   ]
  },
  {
   "cell_type": "code",
   "execution_count": 158,
   "id": "3c5154f5",
   "metadata": {},
   "outputs": [
    {
     "data": {
      "text/plain": [
       "(array(['nvidia geforce rtx 3070 ti', 'nvidia geforce rtx 3050',\n",
       "        'intel hd', 'iris xe', 'amd radeon', 'nvidia geforce gtx 1650',\n",
       "        'intel uhd', 'intel iris xe', 'nvidia geforce rtx 3070',\n",
       "        'nvidia geforce rtx 3050 ti', 'amd radeon vega 8',\n",
       "        'nvidia geforce rtx 3060', 'nvidia geforce mx 450',\n",
       "        'intel uhd 600', 'amd radeon rx vega 10',\n",
       "        'qualcomm adreno 618 gpu', 'amd radeon vega ',\n",
       "        'amd radeon rx 6600m', 'qualcomm adreno',\n",
       "        'nvidia geforce rtx 3050ti', 'nvidia geforce rtx 3080 ti',\n",
       "        'intel iris plus', 'nvidia geforce gtx', 'intel uhd 605',\n",
       "        'nvidia geforce rtx', 'intel iris', 'nvidia geforce mx 350',\n",
       "        'nvidia geforce mx 330', 'amd radeon rx 6700m', 'nvidia geforce',\n",
       "        'nvidia geforce gtx 1650 ti', 'm1', 'amd radeon vega',\n",
       "        'intel hd 520', 'amd radeon rx6600m', 'amd radeon rx 6800m',\n",
       "        'amd radeon 5500u', 'amd radeon 5500m', 'nvidia geforce mx 130',\n",
       "        'amd radeon r4', 'mediatek', 'intel hd 500', 'amd radeon r5',\n",
       "        'amd radeon r4 (stoney ridge)', 'nvidia geforce gtx 1650 max q',\n",
       "        'nvidia geforce mx 250', 'nvidia geforce gtx 1660 ti',\n",
       "        'nvidia geforce rtx 2060', 'intel uhd 620', 'intel hd 5500',\n",
       "        'nvidia geforce rtx 2080 super max-q', 'amd radeon vega 6',\n",
       "        'intel iris xe max', 'nvidia geforce gtx 1650 ti max-q',\n",
       "        'amd radeon 520', 'nvidia geforce rtx 2070 max-q',\n",
       "        'nvidia geforce gtx mx 330', 'nvidia geforce mx 230',\n",
       "        'intel hd 620', 'nvidia quadro p520', 'nvidia quadro t2000',\n",
       "        'nvidia geforce mx 110'], dtype=object),\n",
       " (62,))"
      ]
     },
     "execution_count": 158,
     "metadata": {},
     "output_type": "execute_result"
    }
   ],
   "source": [
    "df1[\"gpu_prcessor\"].unique(), df1[\"gpu_prcessor\"].unique().shape"
   ]
  },
  {
   "cell_type": "code",
   "execution_count": 159,
   "id": "0b651a9a",
   "metadata": {},
   "outputs": [],
   "source": [
    "gpu_dict = encode_to_int(list(df1[\"gpu_prcessor\"].unique())) \n",
    "\n",
    "def func11(s):\n",
    "    return gpu_dict[s]\n",
    "\n",
    "df1[\"gpu_processor\"] = df1[\"gpu_prcessor\"].apply(func11)"
   ]
  },
  {
   "cell_type": "code",
   "execution_count": 160,
   "id": "71a5ab35",
   "metadata": {},
   "outputs": [
    {
     "data": {
      "text/plain": [
       "62"
      ]
     },
     "execution_count": 160,
     "metadata": {},
     "output_type": "execute_result"
    }
   ],
   "source": [
    "len(gpu_dict)"
   ]
  },
  {
   "cell_type": "code",
   "execution_count": 161,
   "id": "ee351c26",
   "metadata": {},
   "outputs": [],
   "source": [
    "del df1[\"gpu_prcessor\"]"
   ]
  },
  {
   "cell_type": "code",
   "execution_count": 162,
   "id": "cc28f4ce",
   "metadata": {},
   "outputs": [],
   "source": [
    "del df1[\"Refresh Rate\"]"
   ]
  },
  {
   "cell_type": "code",
   "execution_count": 163,
   "id": "b455e8b5",
   "metadata": {},
   "outputs": [],
   "source": [
    "del df1[\"name\"]"
   ]
  },
  {
   "cell_type": "code",
   "execution_count": 164,
   "id": "010c73aa",
   "metadata": {},
   "outputs": [],
   "source": [
    "del df1[\"Graphic Processor\"]"
   ]
  },
  {
   "cell_type": "markdown",
   "id": "b8569c1f",
   "metadata": {},
   "source": [
    "## Data Visualization"
   ]
  },
  {
   "cell_type": "code",
   "execution_count": 368,
   "id": "aa1305f5",
   "metadata": {},
   "outputs": [
    {
     "data": {
      "text/plain": [
       "(Index(['Type', 'Dedicated Graphic Memory Capacity', 'Processor Brand',\n",
       "        'Processor Name', 'SSD', 'RAM', 'Expandable Memory', 'Operating System',\n",
       "        'Touchscreen', 'Screen Size', 'Weight', 'max_res', 'gpu_brand',\n",
       "        'company', 'Storage', 'battery_back', 'gpu_processor'],\n",
       "       dtype='object'),\n",
       " 17)"
      ]
     },
     "execution_count": 368,
     "metadata": {},
     "output_type": "execute_result"
    }
   ],
   "source": [
    "df1.columns, df1.columns.shape[0]"
   ]
  },
  {
   "cell_type": "code",
   "execution_count": 166,
   "id": "8f25a76f",
   "metadata": {},
   "outputs": [
    {
     "data": {
      "image/png": "iVBORw0KGgoAAAANSUhEUgAAAWAAAAFgCAYAAACFYaNMAAAAOXRFWHRTb2Z0d2FyZQBNYXRwbG90bGliIHZlcnNpb24zLjMuNCwgaHR0cHM6Ly9tYXRwbG90bGliLm9yZy8QVMy6AAAACXBIWXMAAAsTAAALEwEAmpwYAAAhY0lEQVR4nO3df5hdVX3v8feHBEJAfiQQuCGBBiVUA2IoI6ZqaxQKEX0M9kaJrRJr7o3loYoWb4Xqc0G5eMFWuEUKLZqQgAikCJJSAkQQudqQMEAghB+XFCIMpCQ4AWKVkITv/WOtU04OJ5OZM3POOpn5vJ7nPGefdfbea+0zM5/ZZ++111ZEYGZmrbdL6QaYmQ1VDmAzs0IcwGZmhTiAzcwKcQCbmRUyvHQD2sW0adPitttuK90MMxucVK/Qe8DZiy++WLoJZjbEOIDNzApxAJuZFeIANjMrxAFsZlaIA9jMrBAHsJlZIQ5gM7NCHMBmZoU4gM3MCnEAm5kV4gA2MyukaQEsaXdJyyU9JGmVpG/k8tGSlkh6Mj+PqlrmbEmrJT0h6cSq8mMkrczvXSJJuXyEpOtz+TJJE6qWmZXreFLSrGZtp5lZo5o5Gtom4EMR8WtJuwI/l7QY+GPgzoi4QNJZwFnAVyVNAmYCRwAHAT+RdHhEbAUuB+YA9wK3AtOAxcBsYENEHCZpJnAhcIqk0cA5QAcQwP2SFkXEhiZur5ntZG5Y1vdImPGeUTueqZeatgccya/zy13zI4DpwIJcvgA4OU9PB66LiE0R8TSwGjhW0lhg74hYGukOolfVLFNZ1w3AcXnv+ERgSUR059BdQgptM7O20dRjwJKGSVoBrCMF4jLgwIhYC5CfD8izjwOerVq8K5eNy9O15dssExFbgJeB/XpYV2375kjqlNS5fv36fmypmVnfNTWAI2JrREwGxpP2Zo/sYfZ6AxZHD+WNLlPdvisioiMiOsaMGdND08zMBl5LekFExEvA3aTDAC/kwwrk53V5ti7g4KrFxgPP5/Lxdcq3WUbScGAfoLuHdZmZtY1m9oIYI2nfPD0SOB54HFgEVHolzAJuztOLgJm5Z8OhwERgeT5MsVHSlHx899SaZSrrmgHclY8T3w6cIGlU7mVxQi4zM2sbzewFMRZYIGkYKegXRsQtkpYCCyXNBp4BPgEQEaskLQQeBbYAp+ceEACnAfOBkaTeD4tz+VzgakmrSXu+M/O6uiWdB9yX5/tmRHQ3cVvNzPpMaYfROjo6orOzs3QzzKyFWtgNre5NOX1XZDMbsgayT28jfCmymVkhDmAzs0IcwGZmhTiAzcwKcQCbmRXiADYzK8Td0MwaUHoYQxscvAdsZlaIA9jMrBAHsJlZIQ5gM7NCHMBmZoU4gM3MCnEAm5kV4n7A1pBG+sGC+8KaVXMAmzXA/0hsIPgQhJlZIQ5gM7NCHMBmZoU4gM3MCnEAm5kV4l4QZg3wcJSDQ+mfowPYGuIwMes/H4IwMyvEAWxmVogD2MysEAewmVkhDmAzs0IcwGZmhTiAzcwKcT9gMxuySvdn9x6wmVkhDmAzs0IcwGZmhTiAzcwKcQCbmRXiADYzK8Td0MwaULr7kg0O3gM2MyukaQEs6WBJP5X0mKRVks7I5edKek7Sivw4qWqZsyWtlvSEpBOryo+RtDK/d4kk5fIRkq7P5cskTahaZpakJ/NjVrO208ysUc08BLEFODMiHpC0F3C/pCX5vYsj4m+rZ5Y0CZgJHAEcBPxE0uERsRW4HJgD3AvcCkwDFgOzgQ0RcZikmcCFwCmSRgPnAB1A5LoXRUTf7z9iZtYkTdsDjoi1EfFAnt4IPAaM62GR6cB1EbEpIp4GVgPHShoL7B0RSyMigKuAk6uWWZCnbwCOy3vHJwJLIqI7h+4SUmibmbWNlhwDzocGjgaW5aK/kPSwpHmSKmczxgHPVi3WlcvG5ena8m2WiYgtwMvAfj2sq7ZdcyR1Supcv3594xtoZtaApgewpLcAPwK+FBGvkA4nvA2YDKwFvlOZtc7i0UN5o8u8URBxRUR0RETHmDFjetoMM7MB19RuaJJ2JYXvNRFxI0BEvFD1/veAW/LLLuDgqsXHA8/n8vF1yquX6ZI0HNgH6M7lU2uWuXsgtqnVGrltNriblNnOoJm9IATMBR6LiIuqysdWzfZx4JE8vQiYmXs2HApMBJZHxFpgo6QpeZ2nAjdXLVPp4TADuCsfJ74dOEHSqHyI44RcZmbWNpq5B/w+4DPASkkrctlfA5+SNJl0SGAN8HmAiFglaSHwKKkHxem5BwTAacB8YCSp98PiXD4XuFrSatKe78y8rm5J5wH35fm+GRHdTdlKM7MGKe0wWkdHR3R2dpZuxpv4EITZoFDvvJSvhDMzK8UBbGZWiAPYzKwQj4bWD40cnx0sx2aH+rHphQ1s/ycHybbbwHEAt7nBElhm9mY+BGFmVogD2MysEAewmVkhDmAzs0IcwGZmhTiAzcwKcQCbmRXifsDWEPdPNus/7wGbmRXiADYzK8QBbGZWiAPYzKwQB7CZWSEOYDOzQtwNrR/cFWvo8ti+NhC8B2xmVogD2MysEAewmVkhDmAzs0IcwGZmhTiAzcwKcTe0fhjKt6U3s/7zHrCZWSEOYDOzQhzAZmaFOIDNzApxAJuZFeIANjMrxAFsZlaI+wFb22qknzW0pq+1+4DbQHAA94P/oMysP3wIwsysEAewmVkhDmAzs0IcwGZmhTQtgCUdLOmnkh6TtErSGbl8tKQlkp7Mz6Oqljlb0mpJT0g6sar8GEkr83uXSFIuHyHp+ly+TNKEqmVm5TqelDSrWdtpZtaoZu4BbwHOjIh3AFOA0yVNAs4C7oyIicCd+TX5vZnAEcA04DJJw/K6LgfmABPzY1ounw1siIjDgIuBC/O6RgPnAO8BjgXOqQ56M7N20LRuaBGxFlibpzdKegwYB0wHpubZFgB3A1/N5ddFxCbgaUmrgWMlrQH2joilAJKuAk4GFudlzs3rugG4NO8dnwgsiYjuvMwSUmhf26zttYHXzt382rlttvNoyTHgfGjgaGAZcGAO50pIH5BnGwc8W7VYVy4bl6dry7dZJiK2AC8D+/Wwrtp2zZHUKalz/fr1/dhCM7O+a3oAS3oL8CPgSxHxSk+z1imLHsobXeaNgogrIqIjIjrGjBnTQ9PMzAZeUwNY0q6k8L0mIm7MxS9IGpvfHwusy+VdwMFVi48Hns/l4+uUb7OMpOHAPkB3D+syM2sbzewFIWAu8FhEXFT11iKg0ithFnBzVfnM3LPhUNLJtuX5MMVGSVPyOk+tWaayrhnAXRERwO3ACZJG5ZNvJ+QyM7O20cyxIN4HfAZYKWlFLvtr4AJgoaTZwDPAJwAiYpWkhcCjpB4Up0fE1rzcacB8YCTp5NviXD4XuDqfsOsm9aIgIrolnQfcl+f7ZuWEnJlZu1DaYbSOjo7o7Ows3QwzG5zqnZfylXBmZqU4gM3MCnEAm5kV4gA2MyvEAWxmVogD2MysEAewmVkhvilnP/jOuM3VzndFXthA2z7pn73V8B6wmVkhDmAzs0IcwGZmhTiAzcwKcQCbmRXiADYzK8QBbGZWiAPYzKwQX4jRD76oorna+fP1nosNBP8emZkV4gA2MyvEAWxmVogD2MysEAewmVkh7gXRD60YjrJdh2S87t6XGlpu5pR9B7QdZjsz7wGbmRXiADYzK6RXASzpcEl3Snokvz5K0teb2zQzs8Gtt3vA3wPOBjYDRMTDwMxmNcrMbCjobQDvERHLa8q2DHRjzMyGkt4G8IuS3gYEgKQZwNqmtcrMbAjobTe004ErgLdLeg54Gvh001plZjYE9CqAI+Ip4HhJewK7RMTG5jbLrLFbv4Nv/247j14FsKRvAd+OiJfy61HAmRHhnhBN1q5DMg5XlG5CUa+9rtJNsEGgt8eAP1wJX4CI2ACc1JQWmZkNEb0N4GGSRlReSBoJjOhhfjMz24HenoT7AXCnpCtJPSE+ByxoWqvMzIaA3p6E+7aklcBxgIDzIuL2prbMzGyQ6/VoaBGxGFjcxLaYmQ0pPQawpJ9HxPslbSRfhFF5C4iI2LuprTOzttOuQ6TujHoM4Ih4f37eqzXN2bm4K9LQtdsuQ7sbng2MHfaCkLRLZRQ0MzMbODsM4Ih4HXhI0iF9WbGkeZLWVYe3pHMlPSdpRX6cVPXe2ZJWS3pC0olV5cdIWpnfu0SScvkISdfn8mWSJlQtM0vSk/kxqy/tNjNrld72Ax4LrMpjAi+qPHawzHxgWp3yiyNicn7cCiBpEml4yyPyMpdJGpbnvxyYA0zMj8o6ZwMbIuIw4GLgwryu0cA5wHuAY4Fz8pV7ZmZtpbe9IL7R1xVHxD3Ve6U7MB24LiI2AU9LWg0cK2kNsHdELAWQdBVwMqk3xnTg3Lz8DcClee/4RGBJRHTnZZaQQvvavm6DmVkz7agXxO7AnwOHASuBuRHR33GA/0LSqUAnaTyJDcA44N6qebpy2eY8XVtOfn4WICK2SHoZ2K+6vM4y25A0h7R3zSGH9OkIi5lZv+3oEMQCoIMUvh8GvtPP+i4H3gZMJo0nXFlfve4E0UN5o8tsWxhxRUR0RETHmDFjemi2mdnA29EhiEkR8U4ASXOB2rti9ElEvFCZlvQ94Jb8sgs4uGrW8cDzuXx8nfLqZbokDQf2Abpz+dSaZe7uT7vNzJphRwG8uTKRv+b3qzJJYyOicieNjwOVHhKLgB9Kugg4iHSybXlEbJW0UdIUYBlwKvDdqmVmAUuBGcBdERGSbge+VXXi7QTS/ewG3FDuC/p6C+p4dUv79rMeyhcVDOVtH2g7CuB3SXolTwsYmV/v8Eo4SdeS9kT3l9RF6pkwVdJk0iGBNcDnSStaJWkh8CjpXnOnR8TWvKrTSD0qRpJOvlUuh54LXJ1P2HWTbxIaEd2SzgPuy/N9s3JCzsysnezoSrhhPb2/g2U/Vad4bg/znw+cX6e8EziyTvmrwCe2s655wLxeN9bMrIDe9gM2M7MB5gA2MyvEAWxmVkivxwO2Mnxn4PbUyJCM7j1gtRzA/dCKrljtqhVfnbZ4uE8b5HwIwsysEAewmVkhDmAzs0IcwGZmhTiAzcwKcQCbmRXibmhmbcq3fx/8HMD98NrW5vdTbdcLKn69ufnbvseu7Tvcp0POBoIPQZiZFeIANjMrxAFsZlaIA9jMrBAHsJlZIQ5gM7NC3A3NrAEeD9gGggO4H4YP4e8Pm1swVu/MKfs2vY525sAe/IZwhJiZleUANjMrxAFsZlaIA9jMrBAHsJlZIe4F0eauu/elhpYbDD0Ifrj0pYaW+5Pf33dA22HWLA7gfvhNC4ZkbFdb23ekyJZwFzEbCD4EYWZWiAPYzKwQB7CZWSEOYDOzQhzAZmaFOIDNzApxAJuZFeJ+wP3wagtuS9+uF1QMa0EX6N12GeKdjW3Q8x6wmVkhDmAzs0IcwGZmhTiAzcwKaVoAS5onaZ2kR6rKRktaIunJ/Dyq6r2zJa2W9ISkE6vKj5G0Mr93iSTl8hGSrs/lyyRNqFpmVq7jSUmzmrWNZmb90cxeEPOBS4GrqsrOAu6MiAsknZVff1XSJGAmcARwEPATSYdHxFbgcmAOcC9wKzANWAzMBjZExGGSZgIXAqdIGg2cA3QAAdwvaVFE9P02tm2gkbvvgkfrajbfFdkGQtMCOCLuqd4rzaYDU/P0AuBu4Ku5/LqI2AQ8LWk1cKykNcDeEbEUQNJVwMmkAJ4OnJvXdQNwad47PhFYEhHdeZklpNC+dqC38fUh3Evqlc3NP3q1JYbucJ82NLT6GPCBEbEWID8fkMvHAc9WzdeVy8bl6drybZaJiC3Ay8B+PazrTSTNkdQpqXP9+vX92Cwzs75rl5Nw9XZ1oofyRpfZtjDiiojoiIiOMWPG9KqhZmYDpdUB/IKksQD5eV0u7wIOrppvPPB8Lh9fp3ybZSQNB/YBuntYl5lZW2l1AC8CKr0SZgE3V5XPzD0bDgUmAsvzYYqNkqbk47un1ixTWdcM4K6ICOB24ARJo3IvixNymZlZW2naSThJ15JOuO0vqYvUM+ECYKGk2cAzwCcAImKVpIXAo8AW4PTcAwLgNFKPipGkk2+Lc/lc4Op8wq6b1IuCiOiWdB5wX57vm5UTcmZm7aSZvSA+tZ23jtvO/OcD59cp7wSOrFP+KjnA67w3D5jX68aamRXQLifhzMyGHA9H2Q8vt+C29K0Y8rIRvi29L6qw/vMesJlZIQ5gM7NCHMBmZoU4gM3MCnEAm5kV4gA2MyvE3dD64YVNw5pex2tt2g2t67fN33azwc57wGZmhTiAzcwKcQCbmRXiADYzK8QBbGZWiAPYzKwQB7CZWSHuB9wPW1owJONQHvZxuIbwxtuQ4D1gM7NCHMBmZoU4gM3MCnEAm5kV4gA2MyvEAWxmVoi7ofXDPS9sbGCpPfo0d7t2xHplS3sOk2m2M/EesJlZIQ5gM7NCHMBmZoU4gM3MCnEAm5kV4gA2MyvEAWxmVoj7AffDW564q4GlPtWnuX/bprelP3rfzQ0uObLXc854z6gG6zDbOXgP2MysEAewmVkhDmAzs0IcwGZmhTiAzcwKcQCbmRXiADYzK6RIP2BJa4CNwFZgS0R0SBoNXA9MANYAn4yIDXn+s4HZef4vRsTtufwYYD6pc+mtwBkREZJGAFcBxwC/Ak6JiDUDvyHN//81ZvfXm15HIw4c2Z7tMtuZlNwD/mBETI6Ijvz6LODOiJgI3JlfI2kSMBM4ApgGXCZpWF7mcmAOMDE/puXy2cCGiDgMuBi4sAXbY2bWJ+10CGI6sCBPLwBOriq/LiI2RcTTwGrgWEljgb0jYmlEBGmP9+Q667oBOE5Se15SZmZDVqkADuAOSfdLmpPLDoyItQD5+YBcPg54tmrZrlw2Lk/Xlm+zTERsAV4G9mvCdpiZNazUWBDvi4jnJR0ALJH0eA/z1ttzjR7Ke1pm2xWn8J8DcMghh/TcYjOzAVZkDzgins/P64CbgGOBF/JhBfLzujx7F3Bw1eLjgedz+fg65dssI2k4sA/QXacdV0RER0R0jBkzZmA2zsysl1oewJL2lLRXZRo4AXgEWATMyrPNAm7O04uAmZJGSDqUdLJteT5MsVHSlHx899SaZSrrmgHclY8Tm5m1jRKHIA4EbsrnxIYDP4yI2yTdByyUNBt4BvgEQESskrQQeBTYApweEVvzuk7jjW5oi/MDYC5wtaTVpD3fmc3YkN3W/GsDS53Stzp2ac//GzOn7Fu6CWY7vZYHcEQ8BbyrTvmvgOO2s8z5wPl1yjuBI+uUv0oOcDOzdtVO3dDMzIYUB7CZWSEOYDOzQhzAZmaFOIDNzApxAJuZFeLb0vfDaxPe2/Q6fGt2s8HLe8BmZoU4gM3MCnEAm5kV4gA2MyvEAWxmVogD2MysEHdD64c9OqaXboKZ7cS8B2xmVogD2MysEAewmVkhDmAzs0IcwGZmhTiAzcwKcQCbmRXifsD98JH9Nzew1O4D3g4z2zl5D9jMrBAHsJlZIQ5gM7NCHMBmZoU4gM3MCnEAm5kV4m5o/XDmcXuVboKZ7cS8B2xmVogD2MysEAewmVkhDmAzs0IcwGZmhTiAzcwKcQCbmRXiADYzK8QBbGZWiAPYzKwQB7CZWSEOYDOzQhzAZmaFKCJKt6EtSFoP/LKPi+0PvNiE5rj+9q57qNc/lLe90fpfjIhptYUO4H6Q1BkRHa5/aNU91Osfyts+0PX7EISZWSEOYDOzQhzA/XOF6x+SdQ/1+ofytg9o/T4GbGZWiPeAzcwKcQCbmRXiAG6QpGmSnpC0WtJZLaz3YEk/lfSYpFWSzmhV3TXtGCbpQUm3FKh7X0k3SHo8fw6/38K6v5w/90ckXStp9ybXN0/SOkmPVJWNlrRE0pP5eVSL6/+b/Nk/LOkmSfu2sv6q974iKSTt3+r6JX0h//2vkvTtRtfvAG6ApGHA3wMfBiYBn5I0qUXVbwHOjIh3AFOA01tYd7UzgMcK1Avwd8BtEfF24F2taoekccAXgY6IOBIYBsxscrXzgdoO/GcBd0bERODO/LqV9S8BjoyIo4D/B5zd4vqRdDDwR8AzTay7bv2SPghMB46KiCOAv2105Q7gxhwLrI6IpyLiNeA60g+k6SJibUQ8kKc3ksJnXCvqrpA0HvgI8P1W1pvr3hv4Q2AuQES8FhEvtbAJw4GRkoYDewDPN7OyiLgH6K4png4syNMLgJNbWX9E3BERW/LLe4Hxraw/uxj4K6CpvQi2U/9pwAURsSnPs67R9TuAGzMOeLbqdRctDkEASROAo4FlLa76/5B++V9vcb0AbwXWA1fmQyDfl7RnKyqOiOdIezvPAGuBlyPijlbUXePAiFib27QWOKBAGyo+ByxuZYWSPgY8FxEPtbLeKocDfyBpmaSfSXp3oytyADdGdcpa2p9P0luAHwFfiohXWljvR4F1EXF/q+qsMRz4PeDyiDga+A+a+xX8P+VjrdOBQ4GDgD0lfboVdbcjSV8jHRK7poV17gF8DfifraqzjuHAKNIhwP8BLJRULxN2yAHcmC7g4KrX42nyV9FqknYlhe81EXFjq+rN3gd8TNIa0qGXD0n6QQvr7wK6IqKy138DKZBb4Xjg6YhYHxGbgRuB97ao7movSBoLkJ8b/grcKEmzgI8CfxqtvZjgbaR/gA/l38HxwAOS/ksL29AF3BjJctI3wYZOBDqAG3MfMFHSoZJ2I52IWdSKivN/2rnAYxFxUSvqrBYRZ0fE+IiYQNruuyKiZXuBEfHvwLOSfjcXHQc82qLqnwGmSNoj/xyOo8yJyEXArDw9C7i5lZVLmgZ8FfhYRPymlXVHxMqIOCAiJuTfwS7g9/LvRav8GPgQgKTDgd1odHS2iPCjgQdwEukM8L8BX2thve8nHe54GFiRHycV+gymArcUqHcy0Jk/gx8Do1pY9zeAx4FHgKuBEU2u71rS8ebNpLCZDexH6v3wZH4e3eL6V5POgVR+//6hlfXXvL8G2L/F278b8IP8O/AA8KFG1+9Lkc3MCvEhCDOzQhzAZmaFOIDNzApxAJuZFeIANjMrxAE8iEjaKmlFHqHpIUl/KalPP2NJ8yXNyNPfb2SgH0mTJZ3UwHJ3S3rTzQ4lDZf0rTz614r8+Fpf199Dvf+5zTXlB0m6oY/r+Y2kvarK/q7ZI3Y1StLhkm5VGtHvMUkLJR3Ygno7JF2Sp6dKKnExS1twAA8uv42IyZFGaPojUl/lcxpdWUT8t4ho5CKHybnugfK/SJf+vjMiJgN/AOxaO5OSAfudjojnI+JNwbwDq8kDM+W2fBB4bqDatCN5kKDezLc78C+kS7oPizS63uXAmGa2DyAiOiPii/nlVMpcTdgemtmJ3I/WPoBf17x+K/Ar0tgVw4C/IV3F9zDw+TyPgEtJV5P9C3ArMCO/dzdp6EVIQ/I9ADxEGgoR0qhw/wo8mJ9/l9RJ/RnSgDkrgFOAPYF5ue4Hgel5+ZGky5kfBq4nDSrUUbMNe+Rt2Gs72zyBdDXaZXndv0MKkk5gFfCNqnnXABcCy/PjsFw+H7gkb8NTVds/AXgkTw8jDcSzMrf3C3XaMp80NOM/59cfym1ZQ75YAPh0rnsF8I/AsMrPLrftfuAn+bO9O7fnY3me3YErcxseBD6Yyz8L/BPwz8BdpAtEple165rKOqrKPgdc1cNn+n/zz/sB4L25fCpwD3AT6fflH4Bd8nvb+8zfnT/Xh/J275XXc0uu599J/6BWkP6xPg3smpfdO392u5b+22ra32zpBvgxgD/MmgDOZRuAA4E5wNdz2Yj8x3Io8Mek8V2HkfYyX6ImgEl7Rc8Ch+by0fl5b2B4nj4e+FGe/ixwaVUbvgV8Ok/vS7qCcE/gL4F5ufwo0sAutQF8FPBgD9s8gXQt/pSqskr7huVtOCq/XkO+ahE4lXwVHyk4/4n0jXASaajRyrorAXwaafyN4dV11LRlPjCDNETjKOB7wAdyvfsD7yCFZCVgLgNOzdMBfDhP3wTcQdrLfxewIpefCVyZp99O+ke3e/68u6q2+wPAj/P0PqRQG17T1ouAM7bzme4B7J6nJwKdeXoq8CrpH/sw0u/NjO195qR/xk8B767+faHqCkrgXOArVXVfCZycp+cA3yn9d9XMR6++rthOrTJK0wnAUVXHOvch/XH9IXBtRGwFnpd0V511TAHuiYinASKiu2odCyRNJAXImw4LVNX9MUlfya93Bw7JdV+S1/mwpId3uDHSn5EGg9+PN766/jIi7q2a7ZOS5pD+2MeSQrWy7murni+uWubHEfE68Oh2joMeT7rkdktub70xaituJI2T8R7g81XlxwHHAPflwbNG8sZAOq8Bt+XplcCmiNgsaSXpHwGky9C/m+t/XNIvSUMjAiyptCkifibp7yUdQPoH+6N4Y/ze3tgVuFTSZGBrVR0AyyPiKQBJ1+Y23UD9zzyAtRFxX27XK3m5nur+Pmmo0x8Dfwb89z60e6fjAB7EJL2V9Ae0jhTEX4iI22vmOYkdD6Wp7cxzHvDTiPh4Hpv47h6W/68R8URN3fSi7tXAIZL2ioiNEXElaSzgR0h7W5CGpKys81DgK6S9rg2S5pMCvyK2M72ppr31tqG31+1fR/rqviAiXq8KHOWyeneQ2Bx5t4+0R18Z7Pv1quO6PSXXf9S8vhr4U9I/gs/VmX8VaU+5ni8DL5D2vnch7fVW1H4G0cNn3pfPLK0s4heSJkj6AOnwzJtuRTSY+CTcICVpDOkY3aX5D/t24LQ8lGXlDPiepGN6M5Xu8TaWdNKo1lLgA/kPDUmjc/k+vHGC6bNV828kHeuruB34QmXMVElH5/J7SCGBpCNJX1u3EWm0rbmkPbLd87zDSF9v69mbFEYv5z3ZD9e8f0rV89LtrKOeO4A/r4Rh1WfwJhHxDGnM2stq3roTmJH3TCv3dvudPrSh+vM6nPQt4ontzDsf+FJuz6o67/8QeK+kj1QKlO5z+E7Sz3Vt/kbwGd74RwdwbB4FcBfSZ/hztv+ZPw4cpDxguaS96pwkrP1dAbiK9A3lyu1s26DhAB5cRla6oZFO5NxBGr0L0le7R0ljpz5COgE0nHS88UnS197LgZ/VrjQi1pOOx90o6SHSCTOAbwP/W9Iv2PaP9KfApNyWU0h7yrsCD+e6z8vzXQ68JR96+CvSSZp6vkYakeoRSQ+SThAtoM4YzJHukvAgaQ9vHvCLmllGSFpGOozx5e3UV8/3ScdcH86fwZ/0NHNE/GNE/FtN2aPA14E78jYvIX1d763LgGH5sMT1wGcj3xanTv0vkE5O1g2xiPgtaTzfL+TufY+S/omuy/XMknQv6fBD9d71UuAC0khgTwM3be8zj3S7rlOA7+bPbAnbfhuBdEz84/l35Q9y2TWkY+jXMsh5NDQbMpQG8O6IiMbGbt2JKN05YiVprNyXB2idU0knzD46EOvroZ4ZpF4cn2lmPe3Ax4DNBhlJx5P2RC8aqPBtFUnfJR3CGMh+5G3Le8BmZoX4GLCZWSEOYDOzQhzAZmaFOIDNzApxAJuZFfL/AdboUBL7u4+kAAAAAElFTkSuQmCC\n",
      "text/plain": [
       "<Figure size 360x360 with 1 Axes>"
      ]
     },
     "metadata": {
      "needs_background": "light"
     },
     "output_type": "display_data"
    }
   ],
   "source": [
    "sns.displot(x = df1[\"Dedicated Graphic Memory Capacity\"], y = df1[\"Price\"])\n",
    "plt.show()"
   ]
  },
  {
   "cell_type": "code",
   "execution_count": 168,
   "id": "2bdca28c",
   "metadata": {},
   "outputs": [
    {
     "data": {
      "text/plain": [
       "({'gaming laptop': 1,\n",
       "  'thin and light laptop': 2,\n",
       "  '2 in 1 laptop': 3,\n",
       "  'notebook': 4,\n",
       "  'laptop': 5,\n",
       "  '2 in 1 gaming laptop': 6,\n",
       "  'business laptop': 7,\n",
       "  'chromebook': 8,\n",
       "  'creator laptop': 9},\n",
       " {'asus': 1,\n",
       "  'hp': 2,\n",
       "  'lenovo': 3,\n",
       "  'dell': 4,\n",
       "  'msi': 5,\n",
       "  'realme': 6,\n",
       "  'avita': 7,\n",
       "  'acer': 8,\n",
       "  'samsung': 9,\n",
       "  'infinix': 10,\n",
       "  'lg': 11,\n",
       "  'apple': 12,\n",
       "  'nokia': 13,\n",
       "  'redmibook': 14,\n",
       "  'mi': 15,\n",
       "  'vaio': 16},\n",
       " {'nvidia': 1, 'none': 2, 'amd': 3, 'qualcomm': 4},\n",
       " {'intel': 1, 'amd': 2, 'qualcomm': 3, 'apple': 4, 'mediatek': 5},\n",
       " {'core i9': 1,\n",
       "  'ryzen 7 octa core': 2,\n",
       "  'core i5': 3,\n",
       "  'core i7': 4,\n",
       "  'celeron dual core': 5,\n",
       "  'pentium silver': 6,\n",
       "  'athlon dual core': 7,\n",
       "  'ryzen 7 dual core': 8,\n",
       "  'ryzen 3 quad core': 9,\n",
       "  'ryzen 9 octa core': 10,\n",
       "  'core i3': 11,\n",
       "  'ryzen 5 hexa core': 12,\n",
       "  'ryzen 5 quad core': 13,\n",
       "  'ryzen 7 hexa core': 14,\n",
       "  'ryzen 7 quad core': 15,\n",
       "  'pentium quad core': 16,\n",
       "  'celeron quad core': 17,\n",
       "  'snapdragon 7c gen 2': 18,\n",
       "  'ryzen 5 dual core': 19,\n",
       "  'ryzen 3 dual core': 20,\n",
       "  'dual core': 21,\n",
       "  'ryzen 5 octa core': 22,\n",
       "  'm1 pro': 23,\n",
       "  'ryzen 3 hexa core': 24,\n",
       "  'apu dual core a6': 25,\n",
       "  'mediatek kompanio 500': 26,\n",
       "  'm1': 27,\n",
       "  'apu dual core a9': 28,\n",
       "  'hexa core i5': 29,\n",
       "  'octa core i7': 30},\n",
       " {'windows': 1, 'chrome': 2, 'dos': 3, 'mac': 4, 'ubuntu': 5},\n",
       " {'nvidia geforce rtx 3070 ti': 1,\n",
       "  'nvidia geforce rtx 3050': 2,\n",
       "  'intel hd': 3,\n",
       "  'iris xe': 4,\n",
       "  'amd radeon': 5,\n",
       "  'nvidia geforce gtx 1650': 6,\n",
       "  'intel uhd': 7,\n",
       "  'intel iris xe': 8,\n",
       "  'nvidia geforce rtx 3070': 9,\n",
       "  'nvidia geforce rtx 3050 ti': 10,\n",
       "  'amd radeon vega 8': 11,\n",
       "  'nvidia geforce rtx 3060': 12,\n",
       "  'nvidia geforce mx 450': 13,\n",
       "  'intel uhd 600': 14,\n",
       "  'amd radeon rx vega 10': 15,\n",
       "  'qualcomm adreno 618 gpu': 16,\n",
       "  'amd radeon vega ': 17,\n",
       "  'amd radeon rx 6600m': 18,\n",
       "  'qualcomm adreno': 19,\n",
       "  'nvidia geforce rtx 3050ti': 20,\n",
       "  'nvidia geforce rtx 3080 ti': 21,\n",
       "  'intel iris plus': 22,\n",
       "  'nvidia geforce gtx': 23,\n",
       "  'intel uhd 605': 24,\n",
       "  'nvidia geforce rtx': 25,\n",
       "  'intel iris': 26,\n",
       "  'nvidia geforce mx 350': 27,\n",
       "  'nvidia geforce mx 330': 28,\n",
       "  'amd radeon rx 6700m': 29,\n",
       "  'nvidia geforce': 30,\n",
       "  'nvidia geforce gtx 1650 ti': 31,\n",
       "  'm1': 32,\n",
       "  'amd radeon vega': 33,\n",
       "  'intel hd 520': 34,\n",
       "  'amd radeon rx6600m': 35,\n",
       "  'amd radeon rx 6800m': 36,\n",
       "  'amd radeon 5500u': 37,\n",
       "  'amd radeon 5500m': 38,\n",
       "  'nvidia geforce mx 130': 39,\n",
       "  'amd radeon r4': 40,\n",
       "  'mediatek': 41,\n",
       "  'intel hd 500': 42,\n",
       "  'amd radeon r5': 43,\n",
       "  'amd radeon r4 (stoney ridge)': 44,\n",
       "  'nvidia geforce gtx 1650 max q': 45,\n",
       "  'nvidia geforce mx 250': 46,\n",
       "  'nvidia geforce gtx 1660 ti': 47,\n",
       "  'nvidia geforce rtx 2060': 48,\n",
       "  'intel uhd 620': 49,\n",
       "  'intel hd 5500': 50,\n",
       "  'nvidia geforce rtx 2080 super max-q': 51,\n",
       "  'amd radeon vega 6': 52,\n",
       "  'intel iris xe max': 53,\n",
       "  'nvidia geforce gtx 1650 ti max-q': 54,\n",
       "  'amd radeon 520': 55,\n",
       "  'nvidia geforce rtx 2070 max-q': 56,\n",
       "  'nvidia geforce gtx mx 330': 57,\n",
       "  'nvidia geforce mx 230': 58,\n",
       "  'intel hd 620': 59,\n",
       "  'nvidia quadro p520': 60,\n",
       "  'nvidia quadro t2000': 61,\n",
       "  'nvidia geforce mx 110': 62})"
      ]
     },
     "execution_count": 168,
     "metadata": {},
     "output_type": "execute_result"
    }
   ],
   "source": [
    "type_dict, company_dict, gpu_brand_dict, processor_brand_dict, processor_name_dict, os_dict, gpu_dict"
   ]
  },
  {
   "cell_type": "code",
   "execution_count": 169,
   "id": "070a8c68",
   "metadata": {},
   "outputs": [],
   "source": [
    "inv_type_dict = {v: k for k, v in type_dict.items()}\n",
    "inv_company_dict = {v: k for k, v in company_dict.items()}\n",
    "inv_gpu_brand_dict = {v: k for k, v in gpu_brand_dict.items()}\n",
    "inv_processor_brand_dict = {v: k for k, v in processor_brand_dict.items()}\n",
    "inv_processor_name_dict = {v: k for k, v in processor_name_dict.items()}\n",
    "inv_os_dict = {v: k for k, v in os_dict.items()}\n",
    "inv_gpu_dict = {v: k for k, v in gpu_dict.items()}"
   ]
  },
  {
   "cell_type": "code",
   "execution_count": 170,
   "id": "ccdddf7d",
   "metadata": {},
   "outputs": [],
   "source": [
    "df_visualize = df1.copy()"
   ]
  },
  {
   "cell_type": "code",
   "execution_count": 171,
   "id": "ce83e16b",
   "metadata": {},
   "outputs": [],
   "source": [
    "def funcc1(s):\n",
    "    return inv_type_dict[s]\n",
    "df_visualize[\"Type\"] = df_visualize[\"Type\"].apply(funcc1)"
   ]
  },
  {
   "cell_type": "code",
   "execution_count": 172,
   "id": "14cd609f",
   "metadata": {},
   "outputs": [],
   "source": [
    "def funcc2(s):\n",
    "    return inv_company_dict[s]\n",
    "df_visualize[\"company\"] = df_visualize[\"company\"].apply(funcc2)\n",
    "\n",
    "def funcc3(s):\n",
    "    return inv_gpu_brand_dict[s]\n",
    "df_visualize[\"gpu_brand\"] = df_visualize[\"gpu_brand\"].apply(funcc3)\n",
    "\n",
    "def funcc4(s):\n",
    "    return inv_processor_brand_dict[s]\n",
    "df_visualize[\"Processor Brand\"] = df_visualize[\"Processor Brand\"].apply(funcc4)\n",
    "\n",
    "def funcc5(s):\n",
    "    return inv_processor_name_dict[s]\n",
    "df_visualize[\"Processor Name\"] = df_visualize[\"Processor Name\"].apply(funcc5)\n",
    "\n",
    "def funcc6(s):\n",
    "    return inv_os_dict[s]\n",
    "df_visualize[\"Operating System\"] = df_visualize[\"Operating System\"].apply(funcc6)\n",
    "\n",
    "def funcc7(s):\n",
    "    return inv_gpu_dict[s]\n",
    "df_visualize[\"gpu_processor\"] = df_visualize[\"gpu_processor\"].apply(funcc7)"
   ]
  },
  {
   "cell_type": "code",
   "execution_count": 174,
   "id": "c1c42308",
   "metadata": {},
   "outputs": [
    {
     "data": {
      "image/png": "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\n",
      "text/plain": [
       "<Figure size 1296x504 with 1 Axes>"
      ]
     },
     "metadata": {
      "needs_background": "light"
     },
     "output_type": "display_data"
    }
   ],
   "source": [
    "fig = plt.figure(figsize = (18,7))\n",
    "sns.boxplot(y = df_visualize[\"Weight\"], x = df_visualize[\"Type\"])\n",
    "plt.show()"
   ]
  },
  {
   "cell_type": "code",
   "execution_count": 339,
   "id": "5ec3247d",
   "metadata": {},
   "outputs": [
    {
     "data": {
      "image/png": "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\n",
      "text/plain": [
       "<Figure size 720x504 with 1 Axes>"
      ]
     },
     "metadata": {
      "needs_background": "light"
     },
     "output_type": "display_data"
    }
   ],
   "source": [
    "fig = plt.figure(figsize = (10,7))\n",
    "sns.boxplot(x = df_visualize[\"gpu_brand\"], y = df_visualize[\"Price\"])\n",
    "plt.show()\n",
    "\n",
    "# Here, none denotes intel chipsets"
   ]
  },
  {
   "cell_type": "code",
   "execution_count": 317,
   "id": "195a5bd2",
   "metadata": {},
   "outputs": [
    {
     "data": {
      "image/png": "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\n",
      "text/plain": [
       "<Figure size 720x432 with 1 Axes>"
      ]
     },
     "metadata": {
      "needs_background": "light"
     },
     "output_type": "display_data"
    }
   ],
   "source": [
    "fig = plt.figure(figsize = (10,6))\n",
    "sns.boxplot(x = df_visualize[\"max_res\"], y = df_visualize[\"Price\"])\n",
    "plt.show()"
   ]
  },
  {
   "cell_type": "code",
   "execution_count": 321,
   "id": "4ff6c0d6",
   "metadata": {},
   "outputs": [
    {
     "data": {
      "image/png": "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\n",
      "text/plain": [
       "<Figure size 1080x576 with 1 Axes>"
      ]
     },
     "metadata": {
      "needs_background": "light"
     },
     "output_type": "display_data"
    }
   ],
   "source": [
    "fig = plt.figure(figsize = (15,8))\n",
    "sns.boxplot(x = df_visualize[\"Operating System\"], y = df_visualize[\"Price\"])\n",
    "plt.show()"
   ]
  },
  {
   "cell_type": "code",
   "execution_count": 305,
   "id": "04a2667d",
   "metadata": {},
   "outputs": [
    {
     "data": {
      "text/plain": [
       "Index(['Price', 'Type', 'Dedicated Graphic Memory Capacity', 'Processor Brand',\n",
       "       'Processor Name', 'SSD', 'RAM', 'Expandable Memory', 'Operating System',\n",
       "       'Touchscreen', 'Screen Size', 'Weight', 'max_res', 'gpu_brand',\n",
       "       'company', 'Storage', 'battery_back', 'gpu_processor'],\n",
       "      dtype='object')"
      ]
     },
     "execution_count": 305,
     "metadata": {},
     "output_type": "execute_result"
    }
   ],
   "source": [
    "df_visualize.columns"
   ]
  },
  {
   "cell_type": "code",
   "execution_count": 333,
   "id": "01189bf4",
   "metadata": {},
   "outputs": [
    {
     "data": {
      "image/png": "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\n",
      "text/plain": [
       "<Figure size 1080x576 with 1 Axes>"
      ]
     },
     "metadata": {
      "needs_background": "light"
     },
     "output_type": "display_data"
    }
   ],
   "source": [
    "fig = plt.figure(figsize = (15,8))\n",
    "sns.boxplot(x = df_visualize[\"company\"], y = df_visualize[\"Price\"])\n",
    "plt.show()"
   ]
  },
  {
   "cell_type": "code",
   "execution_count": 359,
   "id": "ed9bbf86",
   "metadata": {},
   "outputs": [
    {
     "data": {
      "image/png": "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\n",
      "text/plain": [
       "<Figure size 864x432 with 1 Axes>"
      ]
     },
     "metadata": {
      "needs_background": "light"
     },
     "output_type": "display_data"
    }
   ],
   "source": [
    "fig = plt.figure(figsize = (12,6))\n",
    "sns.boxplot(x = df_visualize[\"RAM\"], y = df_visualize[\"Price\"])\n",
    "plt.show()"
   ]
  },
  {
   "cell_type": "code",
   "execution_count": 365,
   "id": "c4e09d2d",
   "metadata": {},
   "outputs": [
    {
     "data": {
      "image/png": "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\n",
      "text/plain": [
       "<Figure size 864x432 with 1 Axes>"
      ]
     },
     "metadata": {
      "needs_background": "light"
     },
     "output_type": "display_data"
    }
   ],
   "source": [
    "fig = plt.figure(figsize = (12,6))\n",
    "sns.boxplot(x = df_visualize[\"Dedicated Graphic Memory Capacity\"], y = df_visualize[\"Price\"])\n",
    "plt.show()"
   ]
  },
  {
   "cell_type": "code",
   "execution_count": 338,
   "id": "e6c75270",
   "metadata": {},
   "outputs": [
    {
     "data": {
      "image/png": "iVBORw0KGgoAAAANSUhEUgAAA3sAAAGDCAYAAACSkwm+AAAAOXRFWHRTb2Z0d2FyZQBNYXRwbG90bGliIHZlcnNpb24zLjMuNCwgaHR0cHM6Ly9tYXRwbG90bGliLm9yZy8QVMy6AAAACXBIWXMAAAsTAAALEwEAmpwYAAAxmklEQVR4nO3deZhkZX3//feHRURAARmQTUcJRkEjKuIeiUtAo4KKgkECaoIa45IHE9TESDQkmrgG44JLQEUB2d2iiCJRUBgQ2VUCKAjCoKwa+QX4Pn+cu6FsqntqZrq6es68X9fVV5866/c+der0+dRZOlWFJEmSJKlf1ph0AZIkSZKkuWfYkyRJkqQeMuxJkiRJUg8Z9iRJkiSphwx7kiRJktRDhj1JkiRJ6iHDnqRVVpInJ/lJkluT7D7Pyz4syT+NOO4VSZ65nPPfOclVK1bd+C30+vooyd5Jvj7wupL8Xuv+aJK3te5Z35vl2XaHTHtrkoesyLRD5rVfku/Mxbw0miQHJfnspOuQNH8Me5LmVAs21yZZb6Dfnyc5dQyLewfwoapav6pOGMP8pQWjqo6oqj+eYdirq+qd81DD+lV12fJOl2RxC6drjaOuVcGqHG4NidKqy7AnaRzWAt4wD8t5EHDhPCxHUk+sroFzdW23tLoz7Ekah38D3pRkw2EDkzwpyVlJbmq/nzTTjJL8RZJLk/wqyUlJtmj9/wd4CPDFdmnZOkOmvSLJ3yQ5L8mvk3wyyWZJvprkliTfSLLRwPjPT3JhkhuTnJrk4QPDHp3knDbdUcC9py3ruUnObdOenuQPZmjPTkmWJLm5nQF932wrMslbk1zf2rJ36/e4Nu1aA+O9KMm5M8xjnSTvSfKzNt1Hk6zbhm2U5EtJlia5oXVvNTDtxkn+M8nVbfgJ0+Z9QJLrklyT5OWztGPG+cz0HrdhleQv012ue0uSdybZJskZbR0eneRebdydk1w1bJ214X+S5AdtuiuTHDQwbOrM075tPV2f5O/asAck+U2S+w+M/9i2ztYe0tadWn03tvXyoYEaP5rkPdPGPzHJ/9e635zkf1pbL0rygoHxZjwzlCGXZs60HoZMO9K228YdvHT0sCT/keTLrd7vJ9lmhklPa79vTPd5feLAPN/TtonLkzx7oP/90n1mr0ny8yT/lGTNGeo6KMkxSY5qtZyT5FEDw69IcmCS84BfJ1kryRNae29M8sMkOw+Mv1+Sy9q8Lp+2Hb0iycWt5q8ledC09fPqtr3e0NZP0u1LPgo8sbX/xhnacWpr5+ltvC8muX+SI9p2e1aSxQPjf7BtyzcnOTvJU4esk88muRnYb9qy1k7y+STHJrlXki1a99LW5te38XYF3grs2Wr64bDaJS1QVeWPP/74M2c/wBXAM4HjgH9q/f4cOLV1bwzcAOxDdwbwpe31/YfM6+nA9cBjgHWAQ4DTpi9rGbV8D9gM2BK4DjgHeHSb3zeBt7dxHwr8GngWsDbwt8ClwL3az0+Bv27D9gD+b6B9j2nzfjywJrBvW/Y60+sEzgD2ad3rA0+YofadgduB97Van9bq+/02/CLg2QPjHw8cMMO8PgCc1Nb9BsAXgX9pw+4PvAi4Txv2BeCEgWm/DBwFbNTa/rRp9b2j9X8O8BtgoxlqmGk+y3qPq9V+X2B74DbgFLqgf7+2HvYdcZ3tDDyS7ovOPwCuBXZvwxa3ZX0cWBd4VFvWw9vwrwCvGajr/cAhM7T1scAT6LbvxcDFwBvbsD8ErgTSXm8E/C+wRXv9YmCLVuOerf7N27D9gO9MWze/17oP4+7tcVnrYXDcWbfdIW2bvsxfATu1th4BHDnDdFPrd62BfvvRfY7+oi37NcDVA+vmBOBjwHrApsCZwKtmmP9BbV570G1fbwIuB9Ye+AyeC2zd3t8tgV/Sbbdr0H3ufwksasu7eWB9bQ5s37p3p9svPLy1+e+B06etny8BGwIPBJYCuw57/2Zox6lt/ttw9/b9Y7p96lrAp4H/HBj/ZXSf4bWAA4BfAPeetk52b21ct/X7bOv+cnsP12zDzwb+gW5/9xDgMmCXgXl9dlx/N/zxx5/x/Uy8AH/88adfP9wd9h4B3NQOngbD3j7AmdOmOQPYb8i8Pgn868Dr9dvBy+LBZS2jlr0HXh8LfGTg9etowQZ4G3D0wLA1gJ/THTj/IQMHoW346dx9wPwR4J3Tlv0j7g40d9VJd4bjH4FNlrEed6Y7YF9voN/RwNta94HAEa17Y7qgtfmQ+YTuQH+bgX5PBC6fYbk7ADe07s2BOxkS4Fp9/8vvHrxfx5Dwuoz5LOs9LuDJA8PPBg4ceP1e4AOjrLMhy/4A8P7Wvbgta6uB4WcCe7XuPYHvtu416Q6qdxrxM/FG4PiB9+NnwB+2138BfHOWac8Fdmvd+7F8YW+mbWdw3Fm33SH1TF/mJwaGPQe4ZIbpptbv9LB36cDr+7RxHkD3Bc1twLoDw18KfGuG+R8EfG/a5/ca4KkDn8FXDAw/EPjMtHl8jS7srgfcSPclyLrTxvkq8Mppy/kN8KCB9fOUaev9zcPevxnacSrwd9O2768OvH4ecO4s098APGpgnZw2bfhBdF+efBv4d+4O1o8HfjZt3LfQgiWGPX/8WWV/vIxT0lhU1QV033C/edqgLejOkg36Kd037dP9zrhVdSvdt+/Dxp3JtQPd/zvk9fozLOtOujMwW7ZhP6+qmlbzlAcBB7TLwW5sl2ht3aab7pV0ZxEvaZdkPXeW2m+oql9PW+bUPD8LPC/J+sBLgP+uqmuGzGMR3UH02QO1/VfrT5L7JPlYkp+2S71OAzZsl8ttDfyqqm6Yob5fVtXtA69/w93rc9Bs8xnlPR71PYRZ1lmSxyf5VrtM7Sbg1cAm0+r5xQztORHYLt2TKJ8F3FRVZw5pD0kemu5y2F+0dfrPU8tp29CRdMEF4E/pzohNTftnA5dU3kj3pcn0Gkcx27YzaHm23WFmWl+jumv6qvpN61y/1bU2cM1AXR+jO8M3kysH5nUncBW/244rB7ofBLx4WrufQveFya/pwv2r2/K/nORhA9N9cGCaX9EF+MHtdWXXycjbe7rLqC9Od0n8jXRnAwe3l8E2T3kC3Zntdw3s0x4EbDFtfbyVLnRLWoUZ9iSN09vpzlwMHghdTXdgMeiBdGfRpvudcdM94fP+M4y7sqYvK3QHvT+nO0OwZes3WPOUK4GDq2rDgZ/7VNXnpy+kqn5SVS+lO2h9N3BMBp5cOs1G04Y9sNVJVf2c7ozoC+jOln5mhnlcT3eAuP1AbferqqkDxgOA3wceX1X3pTuLCd0B7JXAxpnh3svlMNt85vo9nnGdAZ+jO6uxdVXdj+4eqjCCqvot3VmavZl9fUN3tuwSYNu2Tt86bTmfB/Zo93o9nu6MM+31x4G/oruseUPgglFrnGa29TBo5G13JdWyR7lHXbfRnQGfquu+VbX9LNNsPdWRZA1gK363zYM1XEl3Zm+w3etV1bsAquprVfUsurPSl9C9L1PTvWradOtW1ekjtGl518Gs2v15B9J92bNR215u4ne3l2HL/DrwL8ApSabC3JV0Z/sH27VBVT1nHLVLmj+GPUljU1WX0t2n9fqB3l8BHprkT9M9JGFPYDu6s4DTfQ54eZId0j2A5Z+B71fVFWMo92jgT5I8I91DNw6gO9g8nS5U3Q68vtX8Qrr7lKZ8HHh1O3OUJOulexjIBtMXkuRlSRa1Mw83tt53zFLXP7aHJzwVeC7dPXVTPk13b+Ej6e7Zu4e2nI8D70+yaathyyS7tFE2oAuDNybZmC6gT017Dd1lax9O9yCXtZP8IctpGfMZx3s80zrbgO4M42+T7ER3Vm15fJruUrzn051ZnckGdPd83drOCL1mcGBV/YDuXq5PAF+rqhvboPXoDqqXAqR74M0jlrPGQbNtO1NG3nZX0lK6S3lH+h99bZv5OvDeJPdNska6B/M8bZbJHpvkhekeXPRGus/v92YYd+rM+C5J1kxy73QP+Nkq3UOcnt/C8m3Ardz9Gf0o8JYk28NdD5F58ShtojtDt1Xaw3rmwAZ0+6WlwFpJ/oHu3tZlqqp/pfvsnZJkE7pLlm9O9xCbdds6eUSSxw3UvriFaEmrED+0ksbtHXQHsQBU1S/pDjwPoLtc72+B51bV9QDpnoa5dxv3FLp76Y6lO7u2DbDXOIqsqh/RPezgELqzYc8DnldV/6+q/h/wQroD/RvoLvE6bmDaJXRnMD/Uhl/KtCffDdgVuDDJrcAH6e4J++0M4/6ize9qukv9Xl1VlwwMP57urNjx0y7Zm+7AVtP30l1W+A26s3nQ3be2bmvz9+gu8Ry0D909dJfQ3ZP3xlmWM5uh8xnDezzbOvtL4B1JbqF7EMXRyzPjqvouXWA5Zxlh9E10QfIWujB11JBxPk93b+vnBuZ/Ed09WmfQHVw/Evju8tQ4YFnbztQyl2fbXWHtEs2Dge+2ywSfMMJkf0b3sJCLWm3H0J1pm8mJdJ/NG+i2txdW1f/NUM+VwG50Z12X0p3Z+hu646I16PZPV9Ndpvk0um2Hqjqe7oz8ke2zdAHw7Onzn8E36f5VzC+SXD/iNLP5Gt2XKD+mu0z3twy/bHOo6v4v4wl0+4P70e3zdqB7sM31dF9G3K+NPvVFwS+TnLPypUuaL1M35kqSVkHp/gXFq6rqG5OuZdLSPTr/s1W11TJGXZllfBP4XFV9YlzL0PJL9280fq+qXjbpWiRpIfEfbErSKirJi+gu+/vmpGtZHbRL2h5Dd0ZIkqQFz7AnSaugJKfS3eu4T7svT2OU5HC6/1f2hqq6ZcLlSJI0Ei/jlCRJkqQe8gEtkiRJktRDhj1JkiRJ6qFV+p69TTbZpBYvXjzpMiRJkiRpIs4+++zrq2rRsGGrdNhbvHgxS5YsmXQZkiRJkjQRSX460zAv45QkSZKkHjLsSZIkSVIPGfYkSZIkqYcMe5IkSZLUQ4Y9SZIkSeohw54kSZIk9dDYwl6Seyc5M8kPk1yY5B9b/42TnJzkJ+33RgPTvCXJpUl+lGSXcdUmSZIkSX03zjN7twFPr6pHATsAuyZ5AvBm4JSq2hY4pb0myXbAXsD2wK7Ah5OsOcb6JEmSJKm3xhb2qnNre7l2+ylgN+Dw1v9wYPfWvRtwZFXdVlWXA5cCO42rPkmSJEnqs7Hes5dkzSTnAtcBJ1fV94HNquoagPZ70zb6lsCVA5Nf1fpNn+f+SZYkWbJ06dJxli9JkiRJq6yxhr2quqOqdgC2AnZK8ohZRs+wWQyZ56FVtWNV7bho0aI5qlSSJEmS+mVensZZVTcCp9Ldi3dtks0B2u/r2mhXAVsPTLYVcPV81CdJkiRJfTPOp3EuSrJh614XeCZwCXASsG8bbV/gxNZ9ErBXknWSPBjYFjhzXPVJkiRJUp+tNcZ5bw4c3p6ouQZwdFV9KckZwNFJXgn8DHgxQFVdmORo4CLgduC1VXXHiix46Uc+OycNGKdFr3nZpEuQJEmS1GNjC3tVdR7w6CH9fwk8Y4ZpDgYOHldNkiRJkrS6mJd79iRJkiRJ88uwJ0mSJEk9ZNiTJEmSpB4y7EmSJElSDxn2JEmSJKmHDHuSJEmS1EOGPUmSJEnqIcOeJEmSJPWQYU+SJEmSesiwJ0mSJEk9ZNiTJEmSpB4y7EmSJElSDxn2JEmSJKmHDHuSJEmS1EOGPUmSJEnqIcOeJEmSJPWQYU+SJEmSesiwJ0mSJEk9ZNiTJEmSpB4y7EmSJElSDxn2JEmSJKmHDHuSJEmS1EOGPUmSJEnqIcOeJEmSJPWQYU+SJEmSesiwJ0mSJEk9ZNiTJEmSpB4y7EmSJElSDxn2JEmSJKmHDHuSJEmS1EOGPUmSJEnqIcOeJEmSJPWQYU+SJEmSesiwJ0mSJEk9ZNiTJEmSpB4y7EmSJElSDxn2JEmSJKmHDHuSJEmS1EOGPUmSJEnqIcOeJEmSJPWQYU+SJEmSesiwJ0mSJEk9ZNiTJEmSpB4aW9hLsnWSbyW5OMmFSd7Q+h+U5OdJzm0/zxmY5i1JLk3yoyS7jKs2SZIkSeq7tcY479uBA6rqnCQbAGcnObkNe39VvWdw5CTbAXsB2wNbAN9I8tCqumOMNUqSJElSL43tzF5VXVNV57TuW4CLgS1nmWQ34Miquq2qLgcuBXYaV32SJEmS1Gfzcs9eksXAo4Hvt15/leS8JJ9KslHrtyVw5cBkVzEkHCbZP8mSJEuWLl06zrIlSZIkaZU19rCXZH3gWOCNVXUz8BFgG2AH4BrgvVOjDpm87tGj6tCq2rGqdly0aNF4ipYkSZKkVdxYw16StemC3hFVdRxAVV1bVXdU1Z3Ax7n7Us2rgK0HJt8KuHqc9UmSJElSX43zaZwBPglcXFXvG+i/+cBoLwAuaN0nAXslWSfJg4FtgTPHVZ8kSZIk9dk4n8b5ZGAf4Pwk57Z+bwVemmQHuks0rwBeBVBVFyY5GriI7kmer/VJnJIkSZK0YsYW9qrqOwy/D+8rs0xzMHDwuGqSJEmSpNXFvDyNU5IkSZI0vwx7kiRJktRDhj1JkiRJ6iHDniRJkiT1kGFPkiRJknrIsCdJkiRJPWTYkyRJkqQeMuxJkiRJUg8Z9iRJkiSphwx7kiRJktRDhj1JkiRJ6iHDniRJkiT1kGFPkiRJknrIsCdJkiRJPWTYkyRJkqQeMuxJkiRJUg8Z9iRJkiSphwx7kiRJktRDhj1JkiRJ6iHDniRJkiT1kGFPkiRJknrIsCdJkiRJPWTYkyRJkqQeMuxJkiRJUg8Z9iRJkiSphwx7kiRJktRDhj1JkiRJ6iHDniRJkiT1kGFPkiRJknrIsCdJkiRJPWTYkyRJkqQeMuxJkiRJUg8Z9iRJkiSphwx7kiRJktRDhj1JkiRJ6iHDniRJkiT1kGFPkiRJknrIsCdJkiRJPWTYkyRJkqQeMuxJkiRJUg8Z9iRJkiSphwx7kiRJktRDhj1JkiRJ6qGxhb0kWyf5VpKLk1yY5A2t/8ZJTk7yk/Z7o4Fp3pLk0iQ/SrLLuGqTJEmSpL4b55m924EDqurhwBOA1ybZDngzcEpVbQuc0l7Thu0FbA/sCnw4yZpjrE+SJEmSemtsYa+qrqmqc1r3LcDFwJbAbsDhbbTDgd1b927AkVV1W1VdDlwK7DSu+iRJkiSpz+blnr0ki4FHA98HNquqa6ALhMCmbbQtgSsHJruq9ZMkSZIkLaexh70k6wPHAm+sqptnG3VIvxoyv/2TLEmyZOnSpXNVpiRJkiT1yljDXpK16YLeEVV1XOt9bZLN2/DNgeta/6uArQcm3wq4evo8q+rQqtqxqnZctGjR+IqXJEmSpFXYOJ/GGeCTwMVV9b6BQScB+7bufYETB/rvlWSdJA8GtgXOHFd9kiRJktRna41x3k8G9gHOT3Ju6/dW4F3A0UleCfwMeDFAVV2Y5GjgIroneb62qu4YY32SJEmS1FtjC3tV9R2G34cH8IwZpjkYOHhcNUmSJEnS6mJensYpSZIkSZpfhj1JkiRJ6iHDniRJkiT1kGFPkiRJknrIsCdJkiRJPWTYkyRJkqQeMuxJkiRJUg8Z9iRJkiSph8b2T9Wl1cWJn3r2pEsYyW6v+OqkS5AkSdI88syeJEmSJPWQYU+SJEmSesiwJ0mSJEk95D17mndnfex5ky5hJI971RcnXYIkSZK0wjyzJ0mSJEk9ZNiTJEmSpB4y7EmSJElSDxn2JEmSJKmHDHuSJEmS1EOGPUmSJEnqIcOeJEmSJPWQYU+SJEmSesiwJ0mSJEk9ZNiTJEmSpB4y7EmSJElSDxn2JEmSJKmHDHuSJEmS1EOGPUmSJEnqIcOeJEmSJPWQYU+SJEmSesiwJ0mSJEk9NFLYS3LKKP0kSZIkSQvDWrMNTHJv4D7AJkk2AtIG3RfYYsy1SZIkSZJW0KxhD3gV8Ea6YHc2d4e9m4H/GF9ZkiRJkqSVMWvYq6oPAh9M8rqqOmSeapIkSZIkraRlndkDoKoOSfIkYPHgNFX16THVJUmSJElaCSOFvSSfAbYBzgXuaL0LMOxJkiRJ0gI0UtgDdgS2q6oaZzGSJEmSpLkx6v/ZuwB4wDgLkSRJkiTNnVHP7G0CXJTkTOC2qZ5V9fyxVCVJkiRJWimjhr2DxlmEJEmSJGlujfo0zm+PuxBJkiRJ0twZ9Wmct9A9fRPgXsDawK+r6r7jKkySJEmStOJGPbO3weDrJLsDO42jIEmSJEnSyhv1aZy/o6pOAJ4+t6VIkiRJkubKqJdxvnDg5Rp0/3dv1v+5l+RTwHOB66rqEa3fQcBfAEvbaG+tqq+0YW8BXkn3T9tfX1VfG70ZkiRJkqRBoz6N83kD3bcDVwC7LWOaw4APAZ+e1v/9VfWewR5JtgP2ArYHtgC+keShVXXHiPX12jUfPnDSJYxk879896RLkCRJktSMes/ey5d3xlV1WpLFI46+G3BkVd0GXJ7kUrp7As9Y3uVKkiRJkka8Zy/JVkmOT3JdkmuTHJtkqxVc5l8lOS/Jp5Js1PptCVw5MM5Vrd+wWvZPsiTJkqVLlw4bRZIkSZJWe6M+oOU/gZPoLrHcEvhi67e8PgJsA+wAXAO8t/XPkHGH3hNYVYdW1Y5VteOiRYtWoARJkiRJ6r9Rw96iqvrPqrq9/RwGLHfSqqprq+qOqroT+Dh3//uGq4CtB0bdCrh6eecvSZIkSeqMGvauT/KyJGu2n5cBv1zehSXZfODlC4ALWvdJwF5J1knyYGBb4Mzlnb8kSZIkqTPq0zhfQfdkzffTXV55OjDrQ1uSfB7YGdgkyVXA24Gdk+zQ5nEF8CqAqrowydHARXRP+3ytT+KUJEmSpBU3ath7J7BvVd0AkGRj4D10IXCoqnrpkN6fnGX8g4GDR6xHkiRJkjSLUS/j/IOpoAdQVb8CHj2ekiRJkiRJK2vUsLfGwL9JmDqzN+pZQUmSJEnSPBs1sL0XOD3JMXT3270EL7mUJEmSpAVrpLBXVZ9OsgR4Ot3/xHthVV001sokSZIkSSts5EsxW7gz4EmSJEnSKmDUe/YkSZIkSasQw54kSZIk9ZBhT5IkSZJ6yLAnSZIkST1k2JMkSZKkHjLsSZIkSVIPGfYkSZIkqYcMe5IkSZLUQ4Y9SZIkSeohw54kSZIk9ZBhT5IkSZJ6yLAnSZIkST1k2JMkSZKkHjLsSZIkSVIPGfYkSZIkqYcMe5IkSZLUQ4Y9SZIkSeohw54kSZIk9ZBhT5IkSZJ6yLAnSZIkST1k2JMkSZKkHjLsSZIkSVIPGfYkSZIkqYcMe5IkSZLUQ4Y9SZIkSeohw54kSZIk9ZBhT5IkSZJ6yLAnSZIkST1k2JMkSZKkHjLsSZIkSVIPGfYkSZIkqYcMe5IkSZLUQ4Y9SZIkSeohw54kSZIk9ZBhT5IkSZJ6yLAnSZIkST1k2JMkSZKkHjLsSZIkSVIPjS3sJflUkuuSXDDQb+MkJyf5Sfu90cCwtyS5NMmPkuwyrrokSZIkaXUwzjN7hwG7Tuv3ZuCUqtoWOKW9Jsl2wF7A9m2aDydZc4y1SZIkSVKvjS3sVdVpwK+m9d4NOLx1Hw7sPtD/yKq6raouBy4FdhpXbZIkSZLUd/N9z95mVXUNQPu9aeu/JXDlwHhXtX6SJEmSpBWwUB7QkiH9auiIyf5JliRZsnTp0jGXJUmSJEmrpvkOe9cm2Ryg/b6u9b8K2HpgvK2Aq4fNoKoOraodq2rHRYsWjbVYSZIkSVpVzXfYOwnYt3XvC5w40H+vJOskeTCwLXDmPNcmSZIkSb2x1rhmnOTzwM7AJkmuAt4OvAs4OskrgZ8BLwaoqguTHA1cBNwOvLaq7hhXbZIkSZLUd2MLe1X10hkGPWOG8Q8GDh5XPZIkSZK0OlkoD2iRJEmSJM0hw54kSZIk9ZBhT5IkSZJ6yLAnSZIkST1k2JMkSZKkHjLsSZIkSVIPGfYkSZIkqYcMe5IkSZLUQ4Y9SZIkSeohw54kSZIk9ZBhT5IkSZJ6yLAnSZIkST1k2JMkSZKkHjLsSZIkSVIPGfYkSZIkqYcMe5IkSZLUQ4Y9SZIkSeohw54kSZIk9ZBhT5IkSZJ6yLAnSZIkST1k2JMkSZKkHjLsSZIkSVIPGfYkSZIkqYcMe5IkSZLUQ4Y9SZIkSeohw54kSZIk9ZBhT5IkSZJ6yLAnSZIkST1k2JMkSZKkHjLsSZIkSVIPGfYkSZIkqYcMe5IkSZLUQ4Y9SZIkSeohw54kSZIk9ZBhT5IkSZJ6yLAnSZIkST1k2JMkSZKkHlpr0gVIkvQnxx0y6RJG8uUXvm7SJUiSNDLP7EmSJElSDxn2JEmSJKmHDHuSJEmS1EOGPUmSJEnqIcOeJEmSJPWQYU+SJEmSemgi/3ohyRXALcAdwO1VtWOSjYGjgMXAFcBLquqGSdQnre4+9pldJl3CSF61z9cmXYIkSdKCNckze39UVTtU1Y7t9ZuBU6pqW+CU9lqSJEmStAIW0mWcuwGHt+7Dgd0nV4okSZIkrdomFfYK+HqSs5Ps3/ptVlXXALTfmw6bMMn+SZYkWbJ06dJ5KleSJEmSVi0TuWcPeHJVXZ1kU+DkJJeMOmFVHQocCrDjjjvWuAqUJEmSpFXZRM7sVdXV7fd1wPHATsC1STYHaL+vm0RtkiRJktQH8x72kqyXZIOpbuCPgQuAk4B922j7AifOd22SJEmS1BeTuIxzM+D4JFPL/1xV/VeSs4Cjk7wS+Bnw4gnUJkmSJEm9MO9hr6ouAx41pP8vgWfMdz2SJEmS1EcL6V8vSJIkSZLmiGFPkiRJknrIsCdJkiRJPWTYkyRJkqQeMuxJkiRJUg8Z9iRJkiSphwx7kiRJktRDhj1JkiRJ6iHDniRJkiT1kGFPkiRJknrIsCdJkiRJPWTYkyRJkqQeMuxJkiRJUg8Z9iRJkiSphwx7kiRJktRDhj1JkiRJ6iHDniRJkiT1kGFPkiRJknrIsCdJkiRJPWTYkyRJkqQeMuxJkiRJUg8Z9iRJkiSphwx7kiRJktRDhj1JkiRJ6iHDniRJkiT1kGFPkiRJknrIsCdJkiRJPWTYkyRJkqQeMuxJkiRJUg8Z9iRJkiSphwx7kiRJktRDhj1JkiRJ6iHDniRJkiT1kGFPkiRJknporUkXIEmSpJXz7uOvmXQJIznwBZtPugRpteKZPUmSJEnqIcOeJEmSJPWQl3FK6r0Dj9l10iWM5N17/NekS5AkST1i2JMkSbPa7ZivTrqEkZy4x7MnXYIkLShexilJkiRJPWTYkyRJkqQeMuxJkiRJUg95z54kSZKk1dp1h3xr0iWMZNPX/dFyjb/gwl6SXYEPAmsCn6iqd024JElaUJ5zwgGTLmEkX9n9vZMuQdIq6qtHXT/pEkby7D03mXQJ0qwWVNhLsibwH8CzgKuAs5KcVFUXTbYySZLUJ3sce86kSxjJMS96zKRL0By58KPXTrqEZdr+1ZtNugTNsQUV9oCdgEur6jKAJEcCuwGGPUmSJGmB+MV7L5l0CSN5wAEPm3QJE7XQwt6WwJUDr68CHj+hWiRJWiHPPeaISZcwki/tsfekS5AkjVGqatI13CXJi4FdqurP2+t9gJ2q6nUD4+wP7N9e/j7wo3kobRNg1bh4fHR9a5PtWfj61ibbs/D1rU22Z+HrW5tsz8LXtzbZnhXzoKpaNGzAQjuzdxWw9cDrrYCrB0eoqkOBQ+ezqCRLqmrH+VzmuPWtTbZn4etbm2zPwte3Ntmeha9vbbI9C1/f2mR75t5C+z97ZwHbJnlwknsBewEnTbgmSZIkSVrlLKgze1V1e5K/Ar5G968XPlVVF064LEmSJEla5SyosAdQVV8BvjLpOqaZ18tG50nf2mR7Fr6+tcn2LHx9a5PtWfj61ibbs/D1rU22Z44tqAe0SJIkSZLmxkK7Z0+SJEmSNAcMez2XZHGSCyZdx7IkuXXSNUxSkoOSvGmU4UkOS7LH/FU3Xkm2SHLMpOtYXkmuSLLJpOuYS0lOb78XJ/nTSdejVcPUdrOMcZ6a5MIk5ybZcpTPfJKvJNlwToock9Xxb1eS/ZJ8aNJ1rIgkpya5x5MRF8q2tqxjgRmmmdpv75zkS3NUx4LYrpM8P8mbJ13HXBhlPzkuhj1JE1VVV1fVRMNrOqv9/rCqntQ6FwOrRdhLsuDuXV/VDGw3s9kbeE9V7VBVPx/lM19Vz6mqG1e6QGkZxr2tjfNvzIifv1VSVZ1UVe+adB1zYZLv02p/cJPkhCRnt28c90+yZjtzckGS85P8dRvvrm+DkmyS5IrWvX2SM9u3lecl2XaCzZnJmkk+3tr49STrtvZ8IMnpra07TbrIKUn+JslZbX3+Y+u3OMnF09vRhu2Q5Htt/OOTbJTk4UnOHJjn4iTnte5nJPlBe38/lWSdCbXz75L8KMk3gN9v/bZJ8l9tm/zvJA+bRG0roq3jS5J8om1TRyR5ZpLvJvlJkp2SPK19Vs5t78EGkzr7PLBNfRg4B3jb9O2ujfc7+4gZ5jNru9t467Xt7azW9t3mqZ3T93GvSfKvA8P3S3JI6576NvddwFPb+/TXrY3/neSc9jPRg4th70mSXVttP0xySus3dJ23Nn8hyReBr4+hvvWSfLnVckGSPZP8Q6vjgiSHJkkb99Qk709yWtseH5fkuLbt/NNM82v97zq7nGTHJKe27oNau09NclmS1w/U9ra2vZ6c5PNZzrMIM7T31vZ757bMY9oyjkjnz4GXAP/Q+t31mW/vxXHp9ns/mbZtXpHu7+3j2ufy3m1dXJjkEStb91xKskaSD7favpTuTNGCuwJjhs/OrUne2z4/pyRZ1Pov8zghyaIkx7Zt+6wkT57n9gw9NsiQ44Jp062R5PCBz9jgZ2nWff4K1LasvzH3OBZo/Ze5b2jjDZ6Fu29r70VJPpoWMJO8NN0xzwVJ3j0w7dD+A8M3SXJGkj9Z0fUwk4x2zLBgzyIneXeSvxx4fVCSt7fP0Dltve42MHxqP5kk/5a7c8aeYy+2qlbrH2Dj9ntd4ALgscDJA8M3bL9PBXZs3ZsAV7TuQ4C9W/e9gHUn3aZp7VsM3A7s0F4fDbystefjrd8fAhdMuM5b2+8/pntyUei+jPhSq29oO1r3ecDTWvc7gA+07nOBh7TuA4G/B+4NXAk8tPX/NPDGCbT3scD5wH2A+wKXAm8CTgG2beM8Hvhm6z4IeFPrPgzYY9Lb1izb2iPbe3c28Kn2Xu4GnAB8EXhyG399uicCL57E9teWeyfwhJm2uzbe9H3E/dvrK9q+YJntbuP/88A2uyHwY2C9eWjn9Po3Ay4dGP5V4Cmte+pzuDPwpYFx7gPcu3VvCyyZ8LY2rE1XAg+eNnzoOgf2A66aGm8M9b2Itn9tr+83uCzgM8DzWvepwLtb9xuAq4HNgXVajfcfNr/BbbB17wic2roPAk5v89gE+CWwdhvn3LbeNgB+QtuvrGR7B7ebm4Ct2mfhjIFt6zDafouBz3x7Ly5r6+jewE+BrYe075+A9wD/AbxlktvfDG3fg+5J4msADwBuYGHup++xPwOKu49j/gH40MC2eY/jhPaeTY3zuYH3+IHAxfPcnsUMP8aZ6bjgVLp9/ueBvxuYz+C2NnSfv4K1zfo3hhmOBQZqnXXfMG0b3Bn4LfAQun9fdnLbLrcAfgYsovub+01g95n6T82Tbr/6feBZY37vZjtmuGtbW2g/wKOBbw+8vqh9Bu7bXm/S3s+ph2FOvU8vau/Nmm0d/wzYfJy1rvZn9oDXJ/kh8D1ga7rA9pAkhyTZFbh5GdOfAbw1yYHAg6rqf8db7gq5vKrObd1n033AoNvZUVWn0X0btOG8V3ZPf9x+fkD3TdjD6A4uYUg7ktyPLpB/u/U/nG4HCt1O/yWte0/gKLpvzS6vqh8PGX8+PRU4vqp+U1U3AyfRHeg8CfhCknOBj9Ht2Fcll1fV+VV1J3AhcEp1e7fz6ba77wLvS3emYcOqun1ypQLw06r6HrNvd9P3EcPO3i+r3bT5v7m9t6fSvd8PHEObppte/4OBy5I8Icn96T4T313GPNYGPp7kfOALwHbjLHgE09u0P3BaVV0OUFW/auPNts5PHhhvrp0PPLN98/vUqroJ+KMk32/r8OnA9gPjnzQw3YVVdU1V3UYXgraeYX7L8uWquq2qrgeuozuoeApwYlX9b1XdQvfly1w7s6quap+Fc7l7+5/NKVV1U1X9lu6A6UFDxnkH8Cy6wPqvQ4ZP2lOAL1TVnVX1C+Bbky5oBsP2Z3fS/X0E+CxdW6Ys6zjhmcCH2mfspDbOBmOrfrjpxwbbMPNxAXR/Wy+oqoNnmN8o+/xRLetvzLBjgUHL2jdMd2ZVXVZVd9C9d08BHkf3RdDS9jf3CLr1MVN/6Pb5pwB/W1Unr0T7l2WUv50LUlX9ANg03XMHHkX3Bc81wD+nu5LsG8CWdPveQU8BPl9Vd1TVtcC36d6LsVmt71VIsjPdjuqJVfWbdJfArAM8CtgFeC1dWHgF3bcPU+H43lPzqKrPJfk+8CfA15L8eVV9c77aMKLbBrrvoPu2Crpv8wYthP/DEeBfqupjv9MzWczM7ZjJUXTB6TigquonSXaYw1pX1vT1vQZwY1XtMIFa5srge3TnwOs7gbWq6l1Jvgw8B/hekmfSfRM5Kb9uv2fa7nbmnvuIe3NPs7Z7YBkvqqofzUnlI5il/qPo9m2X0B1oLOuz/9fAtXT7xjWY4Hs2Q5t+yMDlT4OjM2SdJ3k8d7/3c66qfpzksXTb+b8k+Trd35Mdq+rKJAfxu9vR4PYyfVtaa9j8quodzPB3ado8odtfrkW3PsZt2HLnYpqN6a4GWJuurWN7/1bQfKzblbIc+7OaoXvY6zXa/Cb5Rff07WfDZYx/Ot2XL+9tXzDcZTnW0aiW9Tfmjcx+7DXrvmHI+MPer5m2zdm22dvpgvMudGFkXEb527mQHUN39vQBwJF09yYvAh5bVf+X7pav6dvPvO8rVvcze/cDbmgf6IfRnWrfBFijqo4F3gY8po17Bd3pdujeWACSPAS4rKr+ne4bmD+Yp9rnwtR9H08Bbhrx2+Jx+xrwiiTrA6R7atumM43car4hyVNbr31oO6aq+h+6Hf/buPtby0vozgj+3vTx59lpwAvS3VuwAfA84DfA5UleDHdd1/2oCdQ2Nkm2ad/ivRtYQvft5kIw03Y3bB+xMst4XXLXvVqPXtmiRzBT/cfRXcbzUu7+bAy6he4yv8H5XNO+fd2H7vKTSRnWpnWApyV5MECSjdu4k1jnJNkC+E1VfZbu0sOpvyPXt21sue7lmmV+V3D336UXjTCr7wDPS3fv2/p0X1KuKg6l25cfAdzj3qIF4DvAi9LdC7YZ3SV1C81M+4M1uHub/FO6tkxZ1nHC14G/mnqxQL5QnfG4oPkk3SW3X8g9H9A0l/v8QTP9jRl2LLAydkry4HT36u1J915+n27/uEmSNen2+9+epT90IfEVwMPSk6dhjsmRwF50n59j6Laf61rQ+yOGX6VwGrBnumeELKI7m3rmkPHmzKqQmsfpv4BXt9OtP6I7Zb8lcGrufmrSW9rv9wBHJ9mH7rrmKXsCL0vyf8Av6C41WVXckO5RsPel+1BPXFV9PcnDgTPa8dmtdNff3zHLZPsCH01yH7pLG14+MOwo4N/oLl2jqn6b5OXcvZM/C/jonDdkGarqnCRH0V3m9FPgv9ugvYGPJPl7um+wj6Q7a9EXb2w7wDvoLtf6KgvgUtVZtrth+4gV9U7gA8B5LXxcATx3JeY3iqH1V9UNSS4CtquqYX9kzgNub5cyHQZ8GDi2fRHxLSZ7VmVYm5bSXcp5XNt3X0d3yd8k1jl096D8W5I7gf8DXkMXrs9vNZw1B/MD+Efgk0neSnfgNquqOivJSXT7lJ/SfeGyEL7km1WSPwNub1fSrAmcnuTpC+wqmmOBZ9Dd4/Vjuvdjoa3bmfZnvwa2T3I2Xc2DD4xY1nHC64H/aPNci+5A9tVjqn95zHZcQFW9L91tIJ9JsvfAoLnc5w8ub+jfmFmOBVbUGXQP2Hok3XtxfFXdmeQtdPvuAF+pqhMBZurfar4jyV7AF5PcXFUfXsnaeqeqLmwh/edVdU2SI+jW1xK69/SSIZMdDzyRbj9cdJfK/mKcdU7dNKjVTLs04U1VtWTStUiS5keS9avq1nYQfBqwf1WdM+m6+mBg3d6f7pv6J4/7IG4uJLm1qtYf0v9UPE6QVnmr+5k9SZJWJ4cm2Y7uPpLDDXpz6kvpHmByL+Cdq0LQk9R/ntmTJEmSpB5a3R/QIkmSJEm9ZNiTJEmSpB4y7EmSJElSDxn2JEmSJKmHDHuSJEmS1EOGPUnSaiHJnyU5L8kPk3wmyYOSnNL6nZLkgW28w5J8JMm3klyW5GlJPpXk4iSHDczv1iTvTXJOm35R6/8XSc5qyzm2/U+7qfn+e5LT23z3aP0/k2S3gfkekeT587pyJEm9ZNiTJPVeku2BvwOeXlWPAt4AfAj4dFX9AXAE8O8Dk2wEPB34a+CLwPuB7YFHJtmhjbMecE5VPQb4NvD21v+4qnpcW87FwCsH5rs58BTgucC7Wr9PAC9vdd4PeBLwlblpuSRpdWbYkyStDp4OHFNV1wNU1a+AJwKfa8M/QxfCpnyxun9Eez5wbVWdX1V3AhcCi9s4dwJHte7PDkz/iCT/neR8YG+6kDjlhKq6s6ouAjZrtXwb+L0kmwIvBY6tqtvnqN2SpNXYWpMuQJKkeRCgljHO4PDb2u87B7qnXs/0t3Nq+sOA3avqh0n2A3YeMt+pmqZ8hi4Y7gW8Yhl1SpI0Es/sSZJWB6cAL0lyf4AkGwOn04Ur6ILWd5ZznmsAe7TuPx2YfgPgmiRrt/mO4jDgjQBVdeFy1iFJ0lCe2ZMk9V5VXZjkYODbSe4AfgC8HvhUkr8BltLum1sOvwa2T3I2cBOwZ+v/NuD7wE/pLgPdYIT6rk1yMXDCctYgSdKM0t2SIEmSlkeSW6tq/Tma133oguFjquqmuZinJElexilJ0gQleSZwCXCIQU+SNJc8sydJkiRJPeSZPUmSJEnqIcOeJEmSJPWQYU+SJEmSesiwJ0mSJEk9ZNiTJEmSpB4y7EmSJElSD/3/Id4JFkLf+GYAAAAASUVORK5CYII=\n",
      "text/plain": [
       "<Figure size 1080x432 with 1 Axes>"
      ]
     },
     "metadata": {
      "needs_background": "light"
     },
     "output_type": "display_data"
    }
   ],
   "source": [
    "fig = plt.figure(figsize = (15,6))\n",
    "sns.countplot(x = df_visualize[\"company\"])\n",
    "plt.title(\"No.of models by each company availible in the present market\")\n",
    "plt.show()"
   ]
  },
  {
   "cell_type": "code",
   "execution_count": null,
   "id": "2ba6312a",
   "metadata": {},
   "outputs": [],
   "source": []
  },
  {
   "cell_type": "code",
   "execution_count": null,
   "id": "2fb3e97d",
   "metadata": {},
   "outputs": [],
   "source": []
  },
  {
   "cell_type": "code",
   "execution_count": 299,
   "id": "c1fb9c63",
   "metadata": {},
   "outputs": [
    {
     "data": {
      "text/plain": [
       "Index(['Type', 'Dedicated Graphic Memory Capacity', 'Processor Brand',\n",
       "       'Processor Name', 'SSD', 'RAM', 'Expandable Memory', 'Operating System',\n",
       "       'Touchscreen', 'Screen Size', 'Weight', 'max_res', 'gpu_brand',\n",
       "       'company', 'Storage', 'battery_back', 'gpu_processor'],\n",
       "      dtype='object')"
      ]
     },
     "execution_count": 299,
     "metadata": {},
     "output_type": "execute_result"
    }
   ],
   "source": [
    "df1.columns"
   ]
  },
  {
   "cell_type": "code",
   "execution_count": 177,
   "id": "cadf7929",
   "metadata": {},
   "outputs": [
    {
     "name": "stdout",
     "output_type": "stream",
     "text": [
      "(984,)\n",
      "(984, 17)\n"
     ]
    }
   ],
   "source": [
    "Y = np.array(df1[\"Price\"])\n",
    "print(Y.shape)\n",
    "\n",
    "del df1[\"Price\"]\n",
    "\n",
    "X = np.array(df1)\n",
    "print(X.shape)"
   ]
  },
  {
   "cell_type": "code",
   "execution_count": 178,
   "id": "d8b72654",
   "metadata": {},
   "outputs": [
    {
     "data": {
      "image/png": "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\n",
      "text/plain": [
       "<Figure size 432x288 with 2 Axes>"
      ]
     },
     "metadata": {
      "needs_background": "light"
     },
     "output_type": "display_data"
    }
   ],
   "source": [
    "sns.heatmap(df1.corr())\n",
    "corr = df1.corr()\n",
    "\n",
    "# We see that not many features are highly correlated."
   ]
  },
  {
   "cell_type": "markdown",
   "id": "54c46d9b",
   "metadata": {},
   "source": [
    "## Scaling our data"
   ]
  },
  {
   "cell_type": "code",
   "execution_count": 179,
   "id": "69a5ff69",
   "metadata": {},
   "outputs": [],
   "source": [
    "from sklearn.model_selection import train_test_split\n",
    "\n",
    "x_train,x_test,y_train,y_test = train_test_split(X,Y,random_state = 6)"
   ]
  },
  {
   "cell_type": "code",
   "execution_count": 180,
   "id": "0001c07f",
   "metadata": {},
   "outputs": [
    {
     "name": "stdout",
     "output_type": "stream",
     "text": [
      "(738, 17)\n",
      "(246, 17)\n",
      "(738,)\n",
      "(246,)\n"
     ]
    }
   ],
   "source": [
    "print(x_train.shape)\n",
    "print(x_test.shape)\n",
    "print(y_train.shape)\n",
    "print(y_test.shape)"
   ]
  },
  {
   "cell_type": "code",
   "execution_count": 181,
   "id": "a6201128",
   "metadata": {},
   "outputs": [],
   "source": [
    "from sklearn.preprocessing import MinMaxScaler\n",
    "\n",
    "scaler = MinMaxScaler()"
   ]
  },
  {
   "cell_type": "code",
   "execution_count": 182,
   "id": "2696665a",
   "metadata": {},
   "outputs": [],
   "source": [
    "x_train = scaler.fit_transform(x_train)\n",
    "\n",
    "x_test = scaler.transform(x_test)"
   ]
  },
  {
   "cell_type": "markdown",
   "id": "6ff2e438",
   "metadata": {},
   "source": [
    "## Using regression techniques\n"
   ]
  },
  {
   "cell_type": "markdown",
   "id": "e0bf4dca",
   "metadata": {},
   "source": [
    "### Random forest regressor"
   ]
  },
  {
   "cell_type": "code",
   "execution_count": 183,
   "id": "d0948d0e",
   "metadata": {},
   "outputs": [],
   "source": [
    "from sklearn.ensemble import RandomForestRegressor\n",
    "from sklearn.metrics import mean_squared_log_error, mean_absolute_error"
   ]
  },
  {
   "cell_type": "code",
   "execution_count": 184,
   "id": "d542bce3",
   "metadata": {},
   "outputs": [],
   "source": [
    "n = []\n",
    "\n",
    "for i in range(40,100):\n",
    "    n.append(i)\n",
    "    \n",
    "split = []\n",
    "\n",
    "for i in range(5,15):\n",
    "    split.append(i)"
   ]
  },
  {
   "cell_type": "code",
   "execution_count": 185,
   "id": "19b61f0f",
   "metadata": {},
   "outputs": [],
   "source": [
    "n_estimators = [int(x) for x in np.linspace(start = 40, stop = 50, num =10)]\n",
    "\n",
    "max_depth = [5,6,7,8,9,10,11,12,13,14,15]\n",
    "\n",
    "min_samples_split = [2,3,4,5]\n",
    "\n",
    "bootstrap = [True,False]"
   ]
  },
  {
   "cell_type": "code",
   "execution_count": 186,
   "id": "434dc655",
   "metadata": {},
   "outputs": [],
   "source": [
    "param_grid = {\"n_estimators\": n_estimators,     \n",
    "             'min_samples_split': min_samples_split,\n",
    "             \"max_depth\" : max_depth,\n",
    "             \"bootstrap\": bootstrap}"
   ]
  },
  {
   "cell_type": "code",
   "execution_count": 187,
   "id": "767cac36",
   "metadata": {},
   "outputs": [],
   "source": [
    "rf = RandomForestRegressor()"
   ]
  },
  {
   "cell_type": "code",
   "execution_count": 188,
   "id": "1fa877fa",
   "metadata": {},
   "outputs": [],
   "source": [
    "from sklearn.model_selection import GridSearchCV\n",
    "\n",
    "rf_Grid = GridSearchCV(estimator = rf, param_grid = param_grid, cv = 5, verbose = 2, n_jobs = 2)"
   ]
  },
  {
   "cell_type": "code",
   "execution_count": 189,
   "id": "8a62df9a",
   "metadata": {},
   "outputs": [
    {
     "name": "stdout",
     "output_type": "stream",
     "text": [
      "Fitting 5 folds for each of 880 candidates, totalling 4400 fits\n"
     ]
    },
    {
     "data": {
      "text/plain": [
       "GridSearchCV(cv=5, estimator=RandomForestRegressor(), n_jobs=2,\n",
       "             param_grid={'bootstrap': [True, False],\n",
       "                         'max_depth': [5, 6, 7, 8, 9, 10, 11, 12, 13, 14, 15],\n",
       "                         'min_samples_split': [2, 3, 4, 5],\n",
       "                         'n_estimators': [40, 41, 42, 43, 44, 45, 46, 47, 48,\n",
       "                                          50]},\n",
       "             verbose=2)"
      ]
     },
     "execution_count": 189,
     "metadata": {},
     "output_type": "execute_result"
    }
   ],
   "source": [
    "rf_Grid.fit(x_train,y_train)"
   ]
  },
  {
   "cell_type": "code",
   "execution_count": 190,
   "id": "65dc6fc5",
   "metadata": {},
   "outputs": [
    {
     "data": {
      "text/plain": [
       "{'bootstrap': True,\n",
       " 'max_depth': 13,\n",
       " 'min_samples_split': 2,\n",
       " 'n_estimators': 48}"
      ]
     },
     "execution_count": 190,
     "metadata": {},
     "output_type": "execute_result"
    }
   ],
   "source": [
    "rf_Grid.best_params_"
   ]
  },
  {
   "cell_type": "code",
   "execution_count": 191,
   "id": "25b18325",
   "metadata": {},
   "outputs": [],
   "source": [
    "rf = RandomForestRegressor(max_depth = 10, min_samples_split= 2, n_estimators = 45, bootstrap = True)"
   ]
  },
  {
   "cell_type": "code",
   "execution_count": 192,
   "id": "4468d648",
   "metadata": {},
   "outputs": [
    {
     "data": {
      "text/plain": [
       "RandomForestRegressor(max_depth=10, n_estimators=45)"
      ]
     },
     "execution_count": 192,
     "metadata": {},
     "output_type": "execute_result"
    }
   ],
   "source": [
    "rf.fit(x_train,y_train)"
   ]
  },
  {
   "cell_type": "code",
   "execution_count": 193,
   "id": "203c4970",
   "metadata": {},
   "outputs": [],
   "source": [
    "y_pred = rf.predict(x_test)"
   ]
  },
  {
   "cell_type": "code",
   "execution_count": 194,
   "id": "bd57f928",
   "metadata": {},
   "outputs": [
    {
     "data": {
      "text/plain": [
       "8617.31963587843"
      ]
     },
     "execution_count": 194,
     "metadata": {},
     "output_type": "execute_result"
    }
   ],
   "source": [
    "mean_absolute_error(y_test,y_pred)"
   ]
  },
  {
   "cell_type": "code",
   "execution_count": 195,
   "id": "5ee1848e",
   "metadata": {},
   "outputs": [
    {
     "data": {
      "text/plain": [
       "0.022987671157360064"
      ]
     },
     "execution_count": 195,
     "metadata": {},
     "output_type": "execute_result"
    }
   ],
   "source": [
    "mean_squared_log_error(y_test,y_pred)"
   ]
  },
  {
   "cell_type": "code",
   "execution_count": 196,
   "id": "4a057783",
   "metadata": {},
   "outputs": [
    {
     "data": {
      "text/plain": [
       "0.8257671128176713"
      ]
     },
     "execution_count": 196,
     "metadata": {},
     "output_type": "execute_result"
    }
   ],
   "source": [
    "rf.score(x_test,y_test)"
   ]
  },
  {
   "cell_type": "code",
   "execution_count": 197,
   "id": "23195270",
   "metadata": {},
   "outputs": [
    {
     "data": {
      "text/plain": [
       "0.9602813804616355"
      ]
     },
     "execution_count": 197,
     "metadata": {},
     "output_type": "execute_result"
    }
   ],
   "source": [
    "rf.score(x_train,y_train)"
   ]
  },
  {
   "cell_type": "code",
   "execution_count": 198,
   "id": "eb2f2237",
   "metadata": {},
   "outputs": [],
   "source": [
    "from sklearn.model_selection import cross_validate\n",
    "\n",
    "cv_val = cross_validate(rf, x_train, y_train, cv=5, scoring=('r2', 'neg_mean_absolute_error'))"
   ]
  },
  {
   "cell_type": "code",
   "execution_count": 199,
   "id": "9cb388f9",
   "metadata": {},
   "outputs": [],
   "source": [
    "import sklearn\n",
    "\n",
    "# sklearn.metrics.SCORERS.keys()"
   ]
  },
  {
   "cell_type": "code",
   "execution_count": 200,
   "id": "54900353",
   "metadata": {},
   "outputs": [
    {
     "data": {
      "text/plain": [
       "array([0.77464777, 0.90489854, 0.81337537, 0.74322338, 0.74383863])"
      ]
     },
     "execution_count": 200,
     "metadata": {},
     "output_type": "execute_result"
    }
   ],
   "source": [
    "cv_val[\"test_r2\"]\n",
    "# cv_val.keys()"
   ]
  },
  {
   "cell_type": "code",
   "execution_count": 201,
   "id": "adcbf294",
   "metadata": {},
   "outputs": [
    {
     "data": {
      "text/plain": [
       "array([ 9571.5227721 ,  7284.21990579, 10782.28258108,  9815.18969175,\n",
       "        8023.5558658 ])"
      ]
     },
     "execution_count": 201,
     "metadata": {},
     "output_type": "execute_result"
    }
   ],
   "source": [
    "-1*cv_val[\"test_neg_mean_absolute_error\"]"
   ]
  },
  {
   "cell_type": "code",
   "execution_count": 371,
   "id": "3b209e4c",
   "metadata": {},
   "outputs": [
    {
     "data": {
      "text/plain": [
       "9095.354163302338"
      ]
     },
     "execution_count": 371,
     "metadata": {},
     "output_type": "execute_result"
    }
   ],
   "source": [
    "-1*cv_val[\"test_neg_mean_absolute_error\"].mean()"
   ]
  },
  {
   "cell_type": "markdown",
   "id": "21128cb4",
   "metadata": {},
   "source": [
    "### KNN regressor\n"
   ]
  },
  {
   "cell_type": "code",
   "execution_count": 202,
   "id": "17184cf2",
   "metadata": {},
   "outputs": [],
   "source": [
    "# Parameters for KNN:- Performing grid_search  \n",
    "\n",
    "weights = [\"uniform\", \"distance\"]\n",
    "p = [1,2]  # Minkowski parameter\n",
    "\n",
    "n_neighbors = [int(x) for x in np.linspace(start = 3, stop = 8, num = 10)]"
   ]
  },
  {
   "cell_type": "code",
   "execution_count": 203,
   "id": "843a2652",
   "metadata": {},
   "outputs": [],
   "source": [
    "param_grid_knn = {\"weights\":weights, \n",
    "                  \"p\" : p, \n",
    "                  \"n_neighbors\" : n_neighbors}"
   ]
  },
  {
   "cell_type": "code",
   "execution_count": 204,
   "id": "be2b4ada",
   "metadata": {},
   "outputs": [],
   "source": [
    "from sklearn.neighbors import KNeighborsRegressor\n",
    "\n",
    "knn = KNeighborsRegressor()"
   ]
  },
  {
   "cell_type": "code",
   "execution_count": 205,
   "id": "cf64c392",
   "metadata": {},
   "outputs": [],
   "source": [
    "knn_grid = GridSearchCV(estimator = knn, param_grid = param_grid_knn, cv = 5 , verbose = 2, n_jobs = -1)"
   ]
  },
  {
   "cell_type": "code",
   "execution_count": 206,
   "id": "80ce39d1",
   "metadata": {},
   "outputs": [
    {
     "name": "stdout",
     "output_type": "stream",
     "text": [
      "Fitting 5 folds for each of 40 candidates, totalling 200 fits\n"
     ]
    },
    {
     "data": {
      "text/plain": [
       "GridSearchCV(cv=5, estimator=KNeighborsRegressor(), n_jobs=-1,\n",
       "             param_grid={'n_neighbors': [3, 3, 4, 4, 5, 5, 6, 6, 7, 8],\n",
       "                         'p': [1, 2], 'weights': ['uniform', 'distance']},\n",
       "             verbose=2)"
      ]
     },
     "execution_count": 206,
     "metadata": {},
     "output_type": "execute_result"
    }
   ],
   "source": [
    "knn_grid.fit(x_train,y_train)"
   ]
  },
  {
   "cell_type": "code",
   "execution_count": 207,
   "id": "85165f97",
   "metadata": {},
   "outputs": [
    {
     "data": {
      "text/plain": [
       "{'n_neighbors': 8, 'p': 1, 'weights': 'distance'}"
      ]
     },
     "execution_count": 207,
     "metadata": {},
     "output_type": "execute_result"
    }
   ],
   "source": [
    "knn_grid.best_params_"
   ]
  },
  {
   "cell_type": "code",
   "execution_count": 208,
   "id": "7a6b1db9",
   "metadata": {},
   "outputs": [],
   "source": [
    "Knn = KNeighborsRegressor(algorithm = \"auto\", n_neighbors = 8, p = 1, weights = \"distance\")"
   ]
  },
  {
   "cell_type": "code",
   "execution_count": 209,
   "id": "34e9e419",
   "metadata": {},
   "outputs": [
    {
     "data": {
      "text/plain": [
       "KNeighborsRegressor(n_neighbors=8, p=1, weights='distance')"
      ]
     },
     "execution_count": 209,
     "metadata": {},
     "output_type": "execute_result"
    }
   ],
   "source": [
    "Knn.fit(x_train,y_train)"
   ]
  },
  {
   "cell_type": "code",
   "execution_count": 210,
   "id": "9b2eb16d",
   "metadata": {},
   "outputs": [],
   "source": [
    "y_pred_knn = Knn.predict(x_test)"
   ]
  },
  {
   "cell_type": "code",
   "execution_count": 211,
   "id": "e98ead30",
   "metadata": {},
   "outputs": [
    {
     "data": {
      "text/plain": [
       "0.9990669351945767"
      ]
     },
     "execution_count": 211,
     "metadata": {},
     "output_type": "execute_result"
    }
   ],
   "source": [
    "Knn.score(x_train,y_train)"
   ]
  },
  {
   "cell_type": "code",
   "execution_count": 212,
   "id": "a787eb20",
   "metadata": {},
   "outputs": [
    {
     "data": {
      "text/plain": [
       "0.8164056032724044"
      ]
     },
     "execution_count": 212,
     "metadata": {},
     "output_type": "execute_result"
    }
   ],
   "source": [
    "Knn.score(x_test,y_test)"
   ]
  },
  {
   "cell_type": "code",
   "execution_count": 213,
   "id": "a5ac1aff",
   "metadata": {},
   "outputs": [
    {
     "data": {
      "text/plain": [
       "8911.2363672928"
      ]
     },
     "execution_count": 213,
     "metadata": {},
     "output_type": "execute_result"
    }
   ],
   "source": [
    "mean_absolute_error(y_pred_knn, y_test)"
   ]
  },
  {
   "cell_type": "markdown",
   "id": "581629df",
   "metadata": {},
   "source": [
    "  "
   ]
  },
  {
   "cell_type": "markdown",
   "id": "63eb0a0f",
   "metadata": {},
   "source": [
    "### Simple linear regression"
   ]
  },
  {
   "cell_type": "code",
   "execution_count": 214,
   "id": "29177daf",
   "metadata": {},
   "outputs": [
    {
     "data": {
      "text/plain": [
       "LinearRegression()"
      ]
     },
     "execution_count": 214,
     "metadata": {},
     "output_type": "execute_result"
    }
   ],
   "source": [
    "from sklearn.linear_model import LinearRegression\n",
    "\n",
    "alg = LinearRegression()\n",
    "\n",
    "alg.fit(x_train,y_train)"
   ]
  },
  {
   "cell_type": "code",
   "execution_count": 215,
   "id": "f7f00d33",
   "metadata": {},
   "outputs": [],
   "source": [
    "y_pred_LR = alg.predict(x_test)"
   ]
  },
  {
   "cell_type": "code",
   "execution_count": 216,
   "id": "6907e0c4",
   "metadata": {},
   "outputs": [
    {
     "data": {
      "text/plain": [
       "13824.064674926278"
      ]
     },
     "execution_count": 216,
     "metadata": {},
     "output_type": "execute_result"
    }
   ],
   "source": [
    "mean_absolute_error(y_test,y_pred_LR)"
   ]
  },
  {
   "cell_type": "code",
   "execution_count": 217,
   "id": "ca2a63e4",
   "metadata": {},
   "outputs": [
    {
     "data": {
      "text/plain": [
       "0.7621769265315894"
      ]
     },
     "execution_count": 217,
     "metadata": {},
     "output_type": "execute_result"
    }
   ],
   "source": [
    "alg.score(x_test,y_test)"
   ]
  },
  {
   "cell_type": "code",
   "execution_count": 218,
   "id": "d6b2d3c2",
   "metadata": {},
   "outputs": [
    {
     "data": {
      "text/plain": [
       "0.7398927837430731"
      ]
     },
     "execution_count": 218,
     "metadata": {},
     "output_type": "execute_result"
    }
   ],
   "source": [
    "alg.score(x_train,y_train)"
   ]
  },
  {
   "cell_type": "markdown",
   "id": "e4a96038",
   "metadata": {},
   "source": [
    "### Using Neural networks to fit our data (tensorflow / keras)"
   ]
  },
  {
   "cell_type": "code",
   "execution_count": 219,
   "id": "6748a93d",
   "metadata": {},
   "outputs": [],
   "source": [
    "import matplotlib.pyplot as plt\n",
    "\n",
    "from tensorflow import keras\n",
    "import tensorflow as tf\n",
    "from keras.models import Sequential\n",
    "from keras import layers\n",
    "\n",
    "def plots(hist):\n",
    "    # Loss curves\n",
    "    plt.figure(figsize=[12,4])\n",
    "    plt.plot(hist.history['loss'],'red',linewidth=3.0)\n",
    "    plt.plot(hist.history['val_loss'],'orange',linewidth=3.0)\n",
    "    plt.legend(['Training loss', 'Validation Loss'],fontsize=15)"
   ]
  },
  {
   "cell_type": "code",
   "execution_count": 220,
   "id": "faad36b9",
   "metadata": {},
   "outputs": [],
   "source": [
    "y_train = np.asarray(y_train).astype('float32')\n",
    "y_test = np.asarray(y_test).astype('float32')"
   ]
  },
  {
   "cell_type": "code",
   "execution_count": 221,
   "id": "63b83439",
   "metadata": {},
   "outputs": [],
   "source": [
    "import tensorflow as tf\n",
    "import keras\n",
    "from keras import layers\n",
    "from keras.models import Sequential"
   ]
  },
  {
   "cell_type": "code",
   "execution_count": 222,
   "id": "c6d23363",
   "metadata": {},
   "outputs": [],
   "source": [
    "input_shape = (17,)"
   ]
  },
  {
   "cell_type": "code",
   "execution_count": 223,
   "id": "24032045",
   "metadata": {},
   "outputs": [
    {
     "name": "stdout",
     "output_type": "stream",
     "text": [
      "Model: \"sequential\"\n",
      "_________________________________________________________________\n",
      " Layer (type)                Output Shape              Param #   \n",
      "=================================================================\n",
      " dense (Dense)               (None, 128)               2304      \n",
      "                                                                 \n",
      " dense_1 (Dense)             (None, 64)                8256      \n",
      "                                                                 \n",
      " dense_2 (Dense)             (None, 16)                1040      \n",
      "                                                                 \n",
      " dense_3 (Dense)             (None, 8)                 136       \n",
      "                                                                 \n",
      " dense_4 (Dense)             (None, 1)                 9         \n",
      "                                                                 \n",
      "=================================================================\n",
      "Total params: 11,745\n",
      "Trainable params: 11,745\n",
      "Non-trainable params: 0\n",
      "_________________________________________________________________\n"
     ]
    }
   ],
   "source": [
    "import time\n",
    "\n",
    "model1 = Sequential()\n",
    "\n",
    "model1.add(keras.Input(shape=input_shape))\n",
    "model1.add(layers.Dense(128, activation='elu', kernel_regularizer=\"l2\"))\n",
    "model1.add(layers.Dense(64, activation='relu', kernel_regularizer=\"l2\"))\n",
    "model1.add(layers.Dense(16, activation='elu', kernel_regularizer=\"l2\"))\n",
    "model1.add(layers.Dense(8, activation='relu', kernel_regularizer=\"l2\"))\n",
    "model1.add(layers.Dense(units = 1, activation = \"elu\"))\n",
    "model1.summary()"
   ]
  },
  {
   "cell_type": "code",
   "execution_count": 224,
   "id": "43650203",
   "metadata": {
    "scrolled": true
   },
   "outputs": [
    {
     "name": "stdout",
     "output_type": "stream",
     "text": [
      "Epoch 1/35\n",
      "24/24 - 1s - loss: 67639.7188 - mean_squared_logarithmic_error: 42.0036 - val_loss: 62708.3359 - val_mean_squared_logarithmic_error: 3.6192 - 710ms/epoch - 30ms/step\n",
      "Epoch 2/35\n",
      "24/24 - 0s - loss: 33390.4375 - mean_squared_logarithmic_error: 0.7080 - val_loss: 30502.0039 - val_mean_squared_logarithmic_error: 0.3050 - 80ms/epoch - 3ms/step\n",
      "Epoch 3/35\n",
      "24/24 - 0s - loss: 22640.1152 - mean_squared_logarithmic_error: 0.1697 - val_loss: 22596.2852 - val_mean_squared_logarithmic_error: 0.1508 - 70ms/epoch - 3ms/step\n",
      "Epoch 4/35\n",
      "24/24 - 0s - loss: 18455.8906 - mean_squared_logarithmic_error: 0.1144 - val_loss: 15162.0674 - val_mean_squared_logarithmic_error: 0.0707 - 80ms/epoch - 3ms/step\n",
      "Epoch 5/35\n",
      "24/24 - 0s - loss: 14943.4336 - mean_squared_logarithmic_error: 0.0795 - val_loss: 13537.7246 - val_mean_squared_logarithmic_error: 0.0574 - 90ms/epoch - 4ms/step\n",
      "Epoch 6/35\n",
      "24/24 - 0s - loss: 13177.9199 - mean_squared_logarithmic_error: 0.0622 - val_loss: 14726.2979 - val_mean_squared_logarithmic_error: 0.0592 - 80ms/epoch - 3ms/step\n",
      "Epoch 7/35\n",
      "24/24 - 0s - loss: 13004.7168 - mean_squared_logarithmic_error: 0.0589 - val_loss: 12734.7090 - val_mean_squared_logarithmic_error: 0.0528 - 90ms/epoch - 4ms/step\n",
      "Epoch 8/35\n",
      "24/24 - 0s - loss: 12457.7383 - mean_squared_logarithmic_error: 0.0529 - val_loss: 13021.0254 - val_mean_squared_logarithmic_error: 0.0602 - 90ms/epoch - 4ms/step\n",
      "Epoch 9/35\n",
      "24/24 - 0s - loss: 12652.1396 - mean_squared_logarithmic_error: 0.0566 - val_loss: 13127.6074 - val_mean_squared_logarithmic_error: 0.0530 - 94ms/epoch - 4ms/step\n",
      "Epoch 10/35\n",
      "24/24 - 0s - loss: 12346.7979 - mean_squared_logarithmic_error: 0.0551 - val_loss: 15233.9795 - val_mean_squared_logarithmic_error: 0.0614 - 77ms/epoch - 3ms/step\n",
      "Epoch 11/35\n",
      "24/24 - 0s - loss: 12464.7314 - mean_squared_logarithmic_error: 0.0536 - val_loss: 14659.5430 - val_mean_squared_logarithmic_error: 0.0581 - 80ms/epoch - 3ms/step\n",
      "Epoch 12/35\n",
      "24/24 - 0s - loss: 13375.5801 - mean_squared_logarithmic_error: 0.0624 - val_loss: 12869.6846 - val_mean_squared_logarithmic_error: 0.0593 - 80ms/epoch - 3ms/step\n",
      "Epoch 13/35\n",
      "24/24 - 0s - loss: 12628.2471 - mean_squared_logarithmic_error: 0.0552 - val_loss: 14169.9805 - val_mean_squared_logarithmic_error: 0.0772 - 90ms/epoch - 4ms/step\n",
      "Epoch 14/35\n",
      "24/24 - 0s - loss: 12922.4229 - mean_squared_logarithmic_error: 0.0628 - val_loss: 13241.4492 - val_mean_squared_logarithmic_error: 0.0515 - 80ms/epoch - 3ms/step\n",
      "Epoch 15/35\n",
      "24/24 - 0s - loss: 12081.4365 - mean_squared_logarithmic_error: 0.0500 - val_loss: 12678.4355 - val_mean_squared_logarithmic_error: 0.0579 - 90ms/epoch - 4ms/step\n",
      "Epoch 16/35\n",
      "24/24 - 0s - loss: 12005.8662 - mean_squared_logarithmic_error: 0.0499 - val_loss: 13275.3848 - val_mean_squared_logarithmic_error: 0.0660 - 80ms/epoch - 3ms/step\n",
      "Epoch 17/35\n",
      "24/24 - 0s - loss: 14246.2510 - mean_squared_logarithmic_error: 0.0705 - val_loss: 13616.6162 - val_mean_squared_logarithmic_error: 0.0531 - 80ms/epoch - 3ms/step\n",
      "Epoch 18/35\n",
      "24/24 - 0s - loss: 12125.0254 - mean_squared_logarithmic_error: 0.0497 - val_loss: 12525.9844 - val_mean_squared_logarithmic_error: 0.0554 - 80ms/epoch - 3ms/step\n",
      "Epoch 19/35\n",
      "24/24 - 0s - loss: 12084.8330 - mean_squared_logarithmic_error: 0.0504 - val_loss: 14114.5000 - val_mean_squared_logarithmic_error: 0.0547 - 90ms/epoch - 4ms/step\n",
      "Epoch 20/35\n",
      "24/24 - 0s - loss: 12549.0342 - mean_squared_logarithmic_error: 0.0525 - val_loss: 12556.3828 - val_mean_squared_logarithmic_error: 0.0574 - 90ms/epoch - 4ms/step\n",
      "Epoch 21/35\n",
      "24/24 - 0s - loss: 11837.5234 - mean_squared_logarithmic_error: 0.0469 - val_loss: 12723.6143 - val_mean_squared_logarithmic_error: 0.0485 - 80ms/epoch - 3ms/step\n",
      "Epoch 22/35\n",
      "24/24 - 0s - loss: 11870.6084 - mean_squared_logarithmic_error: 0.0480 - val_loss: 13124.6836 - val_mean_squared_logarithmic_error: 0.0504 - 92ms/epoch - 4ms/step\n",
      "Epoch 23/35\n",
      "24/24 - 0s - loss: 13242.5879 - mean_squared_logarithmic_error: 0.0626 - val_loss: 12757.0801 - val_mean_squared_logarithmic_error: 0.0560 - 78ms/epoch - 3ms/step\n",
      "Epoch 24/35\n",
      "24/24 - 0s - loss: 11793.4717 - mean_squared_logarithmic_error: 0.0475 - val_loss: 12563.8604 - val_mean_squared_logarithmic_error: 0.0496 - 90ms/epoch - 4ms/step\n",
      "Epoch 25/35\n",
      "24/24 - 0s - loss: 11780.6123 - mean_squared_logarithmic_error: 0.0462 - val_loss: 12476.1338 - val_mean_squared_logarithmic_error: 0.0487 - 80ms/epoch - 3ms/step\n",
      "Epoch 26/35\n",
      "24/24 - 0s - loss: 11639.6123 - mean_squared_logarithmic_error: 0.0446 - val_loss: 12587.6846 - val_mean_squared_logarithmic_error: 0.0473 - 80ms/epoch - 3ms/step\n",
      "Epoch 27/35\n",
      "24/24 - 0s - loss: 11721.8457 - mean_squared_logarithmic_error: 0.0484 - val_loss: 12693.9941 - val_mean_squared_logarithmic_error: 0.0473 - 80ms/epoch - 3ms/step\n",
      "Epoch 28/35\n",
      "24/24 - 0s - loss: 11679.4961 - mean_squared_logarithmic_error: 0.0446 - val_loss: 12653.6865 - val_mean_squared_logarithmic_error: 0.0555 - 90ms/epoch - 4ms/step\n",
      "Epoch 29/35\n",
      "24/24 - 0s - loss: 11614.9658 - mean_squared_logarithmic_error: 0.0448 - val_loss: 12409.5020 - val_mean_squared_logarithmic_error: 0.0462 - 80ms/epoch - 3ms/step\n",
      "Epoch 30/35\n",
      "24/24 - 0s - loss: 11751.9639 - mean_squared_logarithmic_error: 0.0447 - val_loss: 13200.3213 - val_mean_squared_logarithmic_error: 0.0483 - 90ms/epoch - 4ms/step\n",
      "Epoch 31/35\n",
      "24/24 - 0s - loss: 11556.6436 - mean_squared_logarithmic_error: 0.0440 - val_loss: 12676.2119 - val_mean_squared_logarithmic_error: 0.0474 - 80ms/epoch - 3ms/step\n",
      "Epoch 32/35\n",
      "24/24 - 0s - loss: 11580.5381 - mean_squared_logarithmic_error: 0.0456 - val_loss: 12265.7393 - val_mean_squared_logarithmic_error: 0.0480 - 91ms/epoch - 4ms/step\n",
      "Epoch 33/35\n",
      "24/24 - 0s - loss: 11317.1738 - mean_squared_logarithmic_error: 0.0417 - val_loss: 12248.6260 - val_mean_squared_logarithmic_error: 0.0463 - 79ms/epoch - 3ms/step\n",
      "Epoch 34/35\n",
      "24/24 - 0s - loss: 11299.7627 - mean_squared_logarithmic_error: 0.0425 - val_loss: 13671.3672 - val_mean_squared_logarithmic_error: 0.0501 - 90ms/epoch - 4ms/step\n",
      "Epoch 35/35\n",
      "24/24 - 0s - loss: 11514.9834 - mean_squared_logarithmic_error: 0.0419 - val_loss: 12533.0781 - val_mean_squared_logarithmic_error: 0.0478 - 90ms/epoch - 4ms/step\n"
     ]
    }
   ],
   "source": [
    "model1.compile(loss = tf.keras.losses.MAE, \n",
    "    optimizer = tf.optimizers.Adam(learning_rate = 0.025), \n",
    "    metrics=[tf.keras.metrics.MSLE])\n",
    "\n",
    "\n",
    "batch_size = 32\n",
    "epochs = 35\n",
    "\n",
    "es = tf.keras.callbacks.EarlyStopping(monitor='msle', patience = 3, min_delta=0.005)\n",
    "\n",
    "hist1 = model1.fit(x_train, y_train, batch_size=batch_size, epochs=epochs, validation_data= (x_test ,y_test), verbose = 2)"
   ]
  },
  {
   "cell_type": "code",
   "execution_count": 225,
   "id": "f87189b8",
   "metadata": {},
   "outputs": [
    {
     "data": {
      "image/png": "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\n",
      "text/plain": [
       "<Figure size 864x288 with 1 Axes>"
      ]
     },
     "metadata": {
      "needs_background": "light"
     },
     "output_type": "display_data"
    }
   ],
   "source": [
    "plots(hist1)"
   ]
  },
  {
   "cell_type": "code",
   "execution_count": 226,
   "id": "9ace4e3f",
   "metadata": {},
   "outputs": [
    {
     "data": {
      "text/plain": [
       "0.7789469942439873"
      ]
     },
     "execution_count": 226,
     "metadata": {},
     "output_type": "execute_result"
    }
   ],
   "source": [
    "from sklearn.metrics import r2_score, mean_absolute_percentage_error\n",
    "y_pred_m1 = model1.predict(x_test)\n",
    "r2_score(y_test, y_pred_m1)"
   ]
  },
  {
   "cell_type": "code",
   "execution_count": 227,
   "id": "09a52284",
   "metadata": {},
   "outputs": [
    {
     "data": {
      "text/plain": [
       "(0.047777563, 16.14082157611847)"
      ]
     },
     "execution_count": 227,
     "metadata": {},
     "output_type": "execute_result"
    }
   ],
   "source": [
    "mean_squared_log_error(y_test, y_pred_m1), mean_absolute_percentage_error(y_test, y_pred_m1)*100"
   ]
  },
  {
   "cell_type": "code",
   "execution_count": 228,
   "id": "01997260",
   "metadata": {},
   "outputs": [
    {
     "data": {
      "image/png": "iVBORw0KGgoAAAANSUhEUgAAAfoAAAE/CAYAAACuMAFOAAAAOXRFWHRTb2Z0d2FyZQBNYXRwbG90bGliIHZlcnNpb24zLjMuNCwgaHR0cHM6Ly9tYXRwbG90bGliLm9yZy8QVMy6AAAACXBIWXMAAAsTAAALEwEAmpwYAABdOElEQVR4nO3deXxU1fn48c8zM5msLAmbEMSIIopbhdSCW921lbrVhbqAVWsFi4r2q6i0LsUFq1VB0VJXWutStb9a3OpStxZQwCLKIggB2SEJ2ZPZzu+PcxMmYbLMZJKZTJ7365UXuWfm3rlnEvLM2Z4jxhiUUkoplZpcib4BpZRSSnUcDfRKKaVUCtNAr5RSSqUwDfRKKaVUCtNAr5RSSqUwDfRKKaVUCtNAr1Q3JyJ3iMhfEn0f7SEil4nIp4m+D6WSkQZ6pTqZiBSJyDYRyQ4ru1JEPkzgbcWdiBwvIhsTfR/REhGviLzi/JyMiByf6HtSqj000CuVGB7guo5+ERHxdPRrJFoH1fFT4BJgawdcW6lOpYFeqcT4PfBrEekd6UEROVBE3hWREhFZJSIXhD32oYhcGXbcqNvaaYVeIyKrgdVO2SMi8p2IlIvIYhE5ti03Wd8qF5EbRWS7iGwRkZ+HPZ4uIg+IyAanl+IJEcl0eiveAgaJSKXzNUhEakSkr3PuNBEJiEhP53i6iDzsfN9LROaKyA4RWe881xVW3/+IyEMiUgLcEeG+fy8in4pIr7bUM5wxxmeMedgY8ykQjPZ8pZKNBnqlEmMR8CHw66YPOEHyXeCvQH/gZ8BsETk4iuufDfwAGOEcfw58D8hzrvs3Eclo47X2AnoB+cAVwGMikus8NgM4wLn2/s5zfmuMqQJ+BGw2xuQ4X5ud+/ihc+5xwHrg6LDjj5zvZzmvOdR5/nig4QOGU7e12Pfn7vpCEXGJyJ+Aw4BTjTFlbayjUilLA71SifNbYLKI9GtSPhYoMsY8Y4wJGGOWAK8C50Vx7XuNMSXGmBoAY8xfjDHFzvUeBNKB4W28lh+4yxjjN8a8CVQCw0VEgF8AU5zXqgDuAca1cK2PgB863e2HATOd4wzg+8AnIuIGLgRuMcZUGGOKgAeBS8Ous9kYM8upT41Tlga8gP0w8xNjTHUb66dUSkv58TulkpUx5isRmQdMBVaEPbQP8AMR2RVW5gH+HMXlvws/EJEbgSuBQYABegJ923itYmNMIOy4GsgB+gFZwGIb8+1LAe4WrvUR8AdgJLAM23PxFDAaWGOM2SkiAwAvtrVfbz22tyBi/Rz7A4cDRxpjfM3dgIhUhh2OMMZsaOF+leryNNArlVi3A0uwLdZ63wEfGWNOaeacKmyArbdXhOc0bEvpjMffDJwEfG2MCYlIKTYot8dOoAY42BizqaV7CPNfbE/COdg6LheRIcAZ7O6234ntRdgHWO6UDQHCXyPStVcAjwFviciJxphVkW7aGJPTYq2USjHada9UAhlj1gAvAdeGFc8DDhCRS0Ukzfn6vogc5Dz+P+BcEckSkf2x4+Yt6QEEgB2AR0R+i23Rt/feQ8CfgIdEpD+AiOSLyGnOU7YBfcInxDnd6YuBa9gd2P8L/LL+2BgTBF4G7haRHiKyD3AD0Opaf2PMC8CtwHsisl+sdXMmGdbPYfCKSIaEdVso1ZVooFcq8e4CGtbUO2Pdp2LHujdjl3jNwI6rAzwE+LCB9Dng+Vau/w52Bvw32C7wWiJ3fcfiZmANsEBEyoH3cMb+jTErsWPma0Vkl4gMcs75CDue/lnYcQ/g47DrTsb2XKzFLnX7K/B0W27IGPMc9j39QEQKYqzXKmxvRT72/avB9jAo1eWIMZF6wJRSSimVCrRFr5RSSqUwDfRKKaVUCtNAr5RSSqUwDfRKKaVUCtNAr5RSSqWwlEuY07dvX1NQUJDo21Aq5VXVBSiu8uELhPB6XPTJ9pKdnnJ/UpRKTuXlsGED1NUBsBh2GmOaptMGUjDQFxQUsGjRokTfhlJKKRV/330HU6bAq6/aY48HbrwRmTFjfXOnaNe9Ukoplez8fnjgATjooN1B/vjjYelSuO++Fk9NuRa9UkqpxFqwtpi584vYUFLNkLwsxo8pYPTQPom+ra7rk09g4kT4+mt7PGAAPPggXHQRtCEzs7bolVJKxc2CtcVMn7ecnRU++uWks7PCx/R5y1mwtjjRt9b1bN8OEybAccfZIO9yweTJsHIlXHxxm4I8aKBXSikVR3PnF5Hl9dAjw4NLhB4ZHrK8HubOL0r0rXUdwSA8/jgMHw5z59qyI4+Ezz+HmTOhd++oLqeBXimlVNxsKKkmO93dqCw73c2GkuoE3VEXs2gRjB4NkybBrl2Qmwt//CPMnw8jR8Z0SQ30Siml4mZIXhZVdcFGZVV1QYbkZSXojrqI0lK45hrbcq9fOfbzn8OqVXDVVbbbPkYa6JVSSsXN+DEFVPsCVNQGCBlDRW2Aal+A8WMKEn1ryckY2z1/4IEwe7Y9PvRQOwHv6aehX8Sl8VHRQK+UUipuRg/tw7SxI+jbw8uOyjr69vAybewInXUfyddf2yVyEybYiXc5OXY2/eLFcMwxcXsZXV6nlFIqrkYP7aOBvSWVlXDXXfDQQxAI2LILLoA//AHy8+P+cq226EXkaRHZLiJfRXjs1yJiRKRvWNktIrJGRFaJyGlh5aNEZJnz2EwRuy5ARNJF5CWnfKGIFISdM0FEVjtfE9pdW6WUUipRjIHXXrNJb37/exvk998f3nkHXnqpQ4I8tK3r/lng9KaFIrI3cAqwIaxsBDAOONg5Z7aI1E+/fBy4ChjmfNVf8wqg1BizP/AQMMO5Vh5wO/AD4EjgdhHJja56SimlVBL49ls44wz46U9h40bIyLCt+mXL4NRTO/SlWw30xpiPgZIIDz0E3ASYsLKzgBeNMXXGmHXAGuBIERkI9DTGzDfGGGAucHbYOc85378CnOS09k8D3jXGlBhjSoF3ifCBQymllEpatbVw551w8MHw1lu27Mc/tuPzv/mNDfgdLKYxehE5E9hkjFkqjTPz5AMLwo43OmV+5/um5fXnfAdgjAmISBnQJ7w8wjlKKaVSXJdPpfvOO3bJ3Lff2uO994ZHHoGzz25zVrt4iHrWvYhkAbcBv430cIQy00J5rOc0vaerRGSRiCzasWNHpKcopZTqQrp0Kt2NG+H88+H0022Q93jg5pthxQo455xODfIQ2/K6/YB9gaUiUgQMBpaIyF7YVvfeYc8dDGx2ygdHKCf8HBHxAL2wQwXNXWsPxpg5xphCY0xhvzisOVRKKZVYXTKVrt9vl8cdeCC88oot++EPd+8wl52dkNuKuuveGLMM6F9/7AT7QmPMThF5HfiriPwBGISddPeZMSYoIhUiMhpYCIwHZjmXeB2YAMwHzgM+MMYYEXkHuCdsAt6pwC2xVFIppVTniFd3+4aSavrlpDcqS+pUup98YtPWfuUsUOvf3wb9KDaf6ShtWV73AjYIDxeRjSJyRXPPNcZ8DbwMLAfeBq4xxtTnQpwIPImdoPct4MxK4Cmgj4isAW4ApjrXKgF+B3zufN3llCmllEpC8exu7zKpdLdvh8suszvMffWVDerXXGNT115yScKDPIDYSfCpo7Cw0CyqzxOslFKq00x6fjE7K3z0yNjdWVxRG6BvDy+zLx4V1bXqPzRkeT1kp7upqgtS7QskT5a9YBD+9Ce45Ra7+QzA979vd50bFV1d40FEFhtjCiM9pilwlVJKxUU8d65L6lS6ixfDmDEwcaIN8r17wxNP2B3mEhDkW6MpcJVSSsXFkLysPVr07eluT7pUurt2wbRpuzefAdttP2OGHZNPUtqiV0opFRcpu3OdMfCXv8Dw4fDYY/b4kEPg44/hmWeSOsiDtuiVUkrFSX13e+NZ9we02ipP6sQ4y5fb2fQffWSPc3Lgjjvg2mshLS2ht9ZWOhlPKaVUwiTtpLvKSvjd7+yOcvU7zJ1/vj0ePLjlcxNAJ+MppZRKSkmXGMcY+PvfYcQIuP/+3TvMvf02vPxyUgb51migV0oplTDxnKnfbmvXwtixcO658N13kJ5uN6RZtgxOO63185OUjtErpZRKmHjP1I9Jba3dH/6ee+z3YPPUP/oo7Ldf591HB9EWvVJKqYRJ+Ez9f/0LDj0UfvtbG+QHD4ZXX4U330yJIA8a6JVSSiVQwhLjbNoEF1xgu+TXrLE7zN10k91h7txzkyJ1bbxo171SSqmE6tTEOH4/zJoFt99uZ9aDzVM/ezYcfHDn3EMn00CvlFKqe/j0U7smftkye9y/PzzwQNJsPtNRtOteKaVUatuxAy6/HI491gZ5ERvwV66ESy9N6SAP2qJXSimVqkKh3TvMlZbassJCu8NcYcTcMilJA71SSqnUs2SJ3V3us8/sce/ecO+98ItfgNvd4qmpRrvulVJKpY5du2DyZLs3fH2QnzABVq2Cq6/udkEetEWvlFIqFRgDf/0r3HgjbNtmyw4+2M6mP+64xN5bgmmLXimlVNe2fDmceKKdPb9tG2Rn20x3X3zR7YM8aIteKaVUV1VVZXeYe/DB3TvMnXcePPRQl9x8pqNooFdKJYWk3pNcJRdj4B//gOuugw0bbNl++9nc9Kefnth7S0Lada+USrj6Pcl3Vvjol5POzgof0+ctZ8Ha4kTfmko2a9fCT34C55xjg3x6OtxxB3z1lQb5ZmigV0olXNLtSa6ST10dTJ9uJ9i98YYtO/10G+Bvvx0yMhJ7f0lMu+6VUgm3oaSafjnpjcoStie5Sj7vvgvXXAOrV9vjwYPhkUdsqz7Fs9rFg7bolVIJNyQvi6q6YKOyTt+TXCWfTZvgwgvh1FNtkPd44P/+LyV3mOtIGuiVUglXvyf5pl01fLlxF/PXFrNyazmF++Qm+tZUIgQCdub8gQfCyy/bsmOPtcvl7r8fcnISe39djAZ6pVTCjR7ah3NH5rN5Vw1VviDZXjeDemXw2pJNOiGvu/nPf2DUKLjhBruNbL9+8Nxz8NFHcMghib67LknH6JVSSWHR+lIO3KsnPTJ2/1mqqA0wd36RLrPrDnbsgJtvhmeescciNlf99OmQqz077aGBXimVFHRCXjcVCsGTT8LUqbt3mBs1yu4w9/3vJ/beUkSrXfci8rSIbBeRr8LKfi8iK0XkSxH5u4j0DnvsFhFZIyKrROS0sPJRIrLMeWymiJ1FISLpIvKSU75QRArCzpkgIqudrwnxqrRSKvnohLxuaMkSOOoo+OUvbZDv1cvmpl+4UIN8HLVljP5ZoGkWgneBQ4wxhwHfALcAiMgIYBxwsHPObBGp3yroceAqYJjzVX/NK4BSY8z+wEPADOdaecDtwA+AI4HbRUT7b5RKUfUT8ipqA4SMoaI2QLUvwPgxBYm+NRVvZWVw7bU2mC9caMvGj7c7zE2c2C13mOtIrQZ6Y8zHQEmTsn8ZY5zEwiwA6pMKnwW8aIypM8asA9YAR4rIQKCnMWa+McYAc4Gzw855zvn+FeAkp7V/GvCuMabEGFOK/XChaY+USlGjh/Zh2tgR9O3hZUdlHX17eJk2doSOz6eS+h3mhg+HWbNst/2IEfDhh3bC3YABib7DlBSPMfrLgZec7/Oxgb/eRqfM73zftLz+nO8AjDEBESkD+oSXRzinERG5CttbwJAhQ9pRFaVUIo0e2kcDe6pascImvfn3v+1xVpZNXXv99ZCWlsg7S3ntWl4nIrcBAeD5+qIITzMtlMd6TuNCY+YYYwqNMYX9+vVr+aaVUkp1nqoquOUWOPzw3UH+pz+FlStt8hsN8h0u5kDvTI4bC1zsdMeDbXXvHfa0wcBmp3xwhPJG54iIB+iFHSpo7lpKKaWSXf0OcyNGwH33gd8PQ4fCm2/CK6/A3nu3fg0VFzEFehE5HbgZONMYE7725XVgnDOTfl/spLvPjDFbgAoRGe2Mv48H/hF2Tv2M+vOAD5wPDu8Ap4pIrjMJ71SnTCmlEmrB2mImPb+YsbM+YdLzizWpT1Pr1sGZZ8LZZ+/eYe722+0GND/6UaLvrttpy/K6F4D5wHAR2SgiVwCPAj2Ad0XkfyLyBIAx5mvgZWA58DZwjTGmfr3MROBJ7AS9b4G3nPKngD4isga4AZjqXKsE+B3wufN1l1OmlFIJo1vqtqCuDu6+27bi582zZaedBsuW2fH4zMyE3l53Jbt73VNDYWGhWbRoUaJvQ3UTC9YWM3d+ERtKqhmSl8X4MQU6mSzFTXp+MTsrfHtk8Ovbw8vsi0cl8M4S7L337GS7b76xx/n58PDDdjxeN5/pcCKy2BhTGOkxzXWvVIy0Zdc9bSipJju98Trvbp3Bb/NmGDcOTjnFBnm3G379azvL/rzzNMgnAU2Bq1SM5s4vIsvraWjZ1f+rudlT25C8rD1a9Mmcwa8jep0WrC3mL5+u4bD/9xcufesZMmurACgvHM3Mn17PguxBDHn9m4bXivc9aE9adLTrXqkYjZ31Cf1y0nGFtVhCxrCjso55k49N4J2pjlTfk5Pl9ZCd7qaqLki1L9ChyX1iDWwdca8L1hbzyqyX+NXfHqJg0xoAduX05strb+X+/j8gKz2t0WudOzKf15Zsits9JOL97wq0616pDqC52bunzs7g154hovBeJ5cIPTI8ZHk9zJ1fFNvN7NxJ8PIreODhayjYtIaQCP8+4Vym3PEiN2UfQVZ62h6vNefjtXG9h7jXqRvQrnulYjR+TAHT5y0HaNSyGD/mgATfmeponZnBrz1DRHHbETAUgqefhptv5ugSu/ipqOBA/nzpVIqGjgBj2LW2mIMizF3YVeOPWB7rnIaO2OUw1YcCtEWvVIw0N7vqDO2Z/BeXXqcvvoCjj4Zf/AJKSqjOyuHJcTcy/TfP2CDvXLN3ZlrE12quPNaer3j3pHWHSbUa6JVqh9FD+zD74lHMm3wssy8epUFexV17Alu7dgQsK4PrroPCQljgbGFy6aWs+Pdn/L8xZ1HuM42uedVxQyO+VnPlse5KGO9dDrvDUIAGeqWUSmLtCWwx9ToZAy+8AAceCDNnNt5hbu5cRh15UMRrXn7M0KjKY/1QHO+etO6wXFJn3SulVJLrtDHklStt0psPPrDHWVk2de3114PXG//XSwKpkgCppVn3OhlPKaUcyTopq8Mn/1VXw/Tp8MADdvMZgHPPhYceghTf+rs7TKrVFr1SKmbJGhhj0W3XZ7/+Olx7Laxfb4+HDoVZs+DHP07sfTXRkb9rqfB73FKLXgO9UiomqRYYU6ULt83WrbOT7f75T3vs9cLUqfYryTafSbXftY6gCXOUUnGXarOVu8OkLMDuMHfPPXDwwbuD/Kmn2i1k77wz6YI8pN7vWmfTQK+UikmqBcZukenw/ffh8MPhttugpsbuMPfyy/D22zBsWKLvrlmp9rvW2TTQK6VikmqBMd7rs5PK5s3ws5/BySfDqlV2h7kbb7Q7zJ1/ftLvMJdqv2udTQO9UiomqRYYUzLTYSAAjzxi18S/+KItO/pom+3ugQegR4/E3l8bpdrvWmfTyXhKqZilwmzllDV/PkycCEuX2uO+feH3v4fx48HV9dp4+rvWMp11r5RS3UVxsZ05/+ST9lgErrrKTsDLy0vsvakOowlzlFIq1dXvMDd1qg32ACNHwuOPw5FHJvbeVEJpoFdKqThIaNfy//5nu+nrN5/p1QvuvhuuvtpOvFPdWtcbqFFKqSSTsK1Oy8ttHvpRo3YH+Usu2Z2zXoO8Qlv0SqluKN6t7/CELkDDv3PnF0W8brtf3xh46SW44QbYssWWHXQQzJ4Nxx8fcz1UatIWvVKqW+mI1nc0CV3a/fqrVsEpp9h18Vu22B3m7rvPdt9rkFcRaKBXSnUrHZFONZqELjG/fnW1zWh36KE2wx3AOefYpDc335yy28iq9tOue6W6ue62PnlDSTX9ctIblbU3nWo0W53G9Pr//CdMnrx7h7l997U7zJ1xRsz3DN3vZ99daYteqW4sYZPIEqgj0qlGk1UvqtcvKoKzzoIzz7RB3uuF3/wGvv46LkG+u/3suytt0SvVjUU7iSwVRNP6jsbooX3a9J616fV9PnjwQfjd7+zmM2DH5R99FA5o333W644/++6q1Ra9iDwtIttF5KuwsjwReVdEVjv/5oY9douIrBGRVSJyWlj5KBFZ5jw2U8TuoiAi6SLyklO+UEQKws6Z4LzGahGZELdaK6WA7rkrWKJz2rf6+h98YHeYu/VWG+QHDbI7zL3zTtyCPHTPn3131ZYW/bPAo8DcsLKpwPvGmPtEZKpzfLOIjADGAQcDg4D3ROQAY0wQeBy4ClgAvAmcDrwFXAGUGmP2F5FxwAzgQhHJA24HCgEDLBaR140xpe2ttFLKGpKXxc4KX0NrDlJ/V7AFa4t56N1VrNhSAUC2t30dm7GMc0ds/W/ZYneUe+EFe+x2w3XXwR13dMjmMx3xs+9OY/5dqa6ttuiNMR8DJU2KzwKec75/Djg7rPxFY0ydMWYdsAY4UkQGAj2NMfONTa4/t8k59dd6BTjJae2fBrxrjClxgvu72A8HSqk46W67gi1YW8zUV5aybFM5IiDAso1l3PLalzGNTcdlnDsQgJkz7Q5z9UH+qKNgyRLbfd9BO8zF+2ffncb8u1pdY52MN8AYswXA+be/U54PfBf2vI1OWb7zfdPyRucYYwJAGdCnhWsppeIk0d3YnW3u/CLKagN43UKay0Wa24XX46Ks2h/T8rp2L9VbsICqw0falnt5OZU5vfh2xkz45BM47LCo7yca8f7Zd8SyxWTV1eoa78l4EqHMtFAe6zmNX1TkKuywAEOGDGn9LpVSDdo6iSwVbCipxh8Mke7e3cZxu4S6QDCmsemYl+qF7TCXDYRE+Pi4s5g79pds92Yzrai0U34m8fzZd8SyxWTV1eoaa4t+m9Mdj/Pvdqd8I7B32PMGA5ud8sERyhudIyIeoBd2qKC5a+3BGDPHGFNojCns169fjFVSSqW6IXlZpLldBMO25w6GDF63K6ax6aiX6oVC8NRTMHx4wzaya/c+gHtve5I/X3Yr0rdPUrcMW9IRyxaTVVera6yB/nWgfhb8BOAfYeXjnJn0+wLDgM+c7v0KERntjL+Pb3JO/bXOAz5wxvHfAU4VkVxnVv+pTplSSsVk/JgCemV48AUN/lAIfzCELxCiV1ZaTGPTUY1zL10KxxwDV15pW/Q9e/LET6/j7t8+w9r9Dm14WjK3DFvSneZ7dLW6tmV53QvAfGC4iGwUkSuA+4BTRGQ1cIpzjDHma+BlYDnwNnCNM+MeYCLwJHaC3rfYGfcATwF9RGQNcAN2Bj/GmBLgd8DnztddTplSSsVk9NA+3Hfe4Rya3xNj7FjgoYN7ce+5h8XUhd2mce7ycpgyxe4wN3++Lbv4Yli1ii/PuZSKQONRymRuGbakO8336Gp1FWMiDnt3WYWFhWbRokWJvg2lVHdnjF3/PmXK7h3mDjzQ7jB3wgnA7tnbWV5Po+Q5yRw0VHISkcXGmMJIj2kKXKWUirdVq+DUU2HcOBvkMzPh3ntt970T5KHrtQxV16QpcJVSnaYrJRmJSXU13HMP3H8/+P227Oyz4eGHYZ99Ip7SFVc9pPzPMcVoi14p1Sm6WpKRqM2bBwcfDHffbYN8QYHdde7vf282yHdFKf9zTEEa6JVSnaKrJRlps/Xrbav9Jz+xu815vTBtmt1hbuzYRN9d3KXszzGFade9UqpTdLUkI63y+eAPf4C77tq9w9zJJ9sd5oYPT+y9daCU+zl2AxrolVKdIqU20PngA7jmGli50h4PHAgPPQQXXAASKalnx+ns8fKU+jl2E9p1r5SKaMHaYiY9v5ixsz5h0vOL2z0G29WSjES0dStccgmcdJIN8m43XH+9/f7CCxMS5Dt7vDwlfo7djK6jV0rtoaPWd8ez9dmpLdlAAB5/3I69l5fbsjFjbNnhh3fMa9J6HSc9v3iP1nVFbYC+PbzMvnhUwu5Ldb6W1tFroFdK7SFRAaStOjXRzMKFMHEifPGFPe7Txy6fu+wycHVcp2hb6jh21if0y0nHFdaTEDKGHZV1zJt8bLPX1SCdejRhjlIqKhtKqslOdzcqS6YJV50y87u4GH75S9tyrw/yv/iFTYZz+eUdGuShbXWMdnMVXRrXPWmgV0rtIdl35+rQDyKhEDzzjE1XO2eOTWX7ve/ZPPVz5tgWfSdoSx2jHS/XpXHdkwZ6pdQekn3CVYd9EPnySzj2WNti37kTevaEmTPh889h9OioLtXeyYxtqWO0KXSTvadGdQxdXqdSko5Dtk99AGn8Hh6QNO/h+DEFTJ+3HKDR+PX4MQfEdsGKCrj9dhvUg05wvegieOABu3QuSuHj6+Fd5NHMIWhrHaNJoatL47onnYynUo7uCNY9xOXDnDHwt7/ZHeY2b7Zlw4fbHeZOPDHme4vXZMbm6hhr3fX/RurSWfeqW0n2GeMqSXzzDfzqV/Duu/Y4MxN+8xu48UabxrYdYpkN31btDdba25WaWgr02nWvUo6m6FQtqqnZvcOcz2fLzjrL7jBXUBCXl+jILvLwCXVAw79z5xe1KWB3xd3yVPtooFcpR8chVbPeeAMmT4Z16+xxQYEdl//JTyI+PdbWb9znEITRD7IqWjrrXqWcZJ8xrhJgwwY45xy7m9y6dZCWBrfdZneYayHIR1pz/vSna1udTR/tbPhoJPvSR5V8dIxepSQdh2yflHn/fD672cxdd0G10+I96SR47LFWd5iLNNdj064aNu+q4cC9eiZsMptOqFOR6Bi96nZ0HDJ28VgalhQ+/BAmTYIVK+zxwIF2W9k2bj4TqYu8uLKOQMjEPD4eD8m+9FElHw30SqlG2jvZK+G2boVf/xqef94eu1xw7bVw5502AU4bRZrrUV7rxxj4bF0JmWlu8nMz6J3l7fTx8c7+IJsyPTzdlI7RK6Ua6bLZ04JBePRR2yVfH+THjIHFi233fRRBHvac67FpVw3+oMEtgtct+IJB1myvYsuumpQeH9f8+F2fBnqluqB47xUfrktO9lq4EI480s6oLy+HvDx48kn49FObpz4GTSfU7ar2kd87E4/bRdCA29nUZnNZbUpP9NT8+F2fdt0r1cV09Bh6Ry4NCxeX7uCSErj11t2bzwBceSXcey/07dvuewzvIq9PglNW42djaQ01/iAZaS5yMtI6vRu7M7vSdTlf16cteqW6mGhbWNG2/jtyaVj4PbWrO7h+h7nhw+GPf7RB/vDD4b//hT/9KS5Bvqn6no7cLC+H5vfiyII89u2bw0EDe8T9tVrS2V3pXbKHRzWigV6pLiaaMfRYg8LooX0YP6aAIXlZbCipZu78orgGknZ1B3/5JRx33O4d5nr0gEcegUWL7Jh8B0mW/Ayd3ZWeLPVWsdNAr1QXE00LK9ag0NGtxpgm/FVU2Dz0I0fCf/5jy372M1i50s6q93TsSGRn9HS0RWdPlkyWeqvY6Ri9Ul1MNGPosY6vdvQSu6jSFBsDr7wC11/feIe5xx6zyW86UTLkZ4hXiudoxvmTod4qdu1q0YvIFBH5WkS+EpEXRCRDRPJE5F0RWe38mxv2/FtEZI2IrBKR08LKR4nIMuexmSI2m4WIpIvIS075QhEpaM/9KpUKomlhhbf+S6t9LNtUxsJ1JeysqGuxdd7RrcY2dwevXg2nnw4XXGCDfGYm3H03LF3a6UE+ko5c/dCceHSl65K57iXmFLgikg98CowwxtSIyMvAm8AIoMQYc5+ITAVyjTE3i8gI4AXgSGAQ8B5wgDEmKCKfAdcBC5xrzDTGvCUik4DDjDFXi8g44BxjzIUt3ZemwFVqt/o/6IGQYWNJNSKCwTDYWSbW3AeESc8vZu32Skqq/NT4g2SmuUn3CP6QoW+P9DbN9G6txdji4zU1dub8jBm7d5j7yU/sBjRhO8wlMpFLc6lozx2Zz6L1pQ33VLhPbqPjlu6xrfVpb711K+fU0yH70TuBfgFwOFAO/D9gJjALON4Ys0VEBgIfGmOGi8gtAMaYe53z3wHuAIqAfxtjDnTKf+ac/8v65xhj5ouIB9gK9DMt3LQGeqUaW7C2mOtf/ILy2gA5Xg/5uRnkZae3+If96U/Xcv87q0hzuUhzCzW+ILWBEINzM9m/f06r+dXblY/9zTftPvH1O8zts48N8GeeGb/XiIO25MLfUlZLUXEVBXlZDOyd2eI9dmZ96pcKusJSAYeMYUdlHfMmHxvX10oFXSEzYEuBPuaue2PMJuABYAOwBSgzxvwLGGCM2eI8ZwvQ3zklH/gu7BIbnbJ85/um5Y3OMcYEgDIgud5dpZLc6KF96NsjnR/sm8ehg3uRl23H7Fvqil+0vpSCPtlket34Q4YQkJHmos4fatOkvrZMAmza7b3k06Vw7rlwxhm7d5i79VZYvnyPIN/W1+hIkYY3wnPh76r2sW5nFb5AiHU7q9lV7WvxHjuzPrpkru1SYZgj5kDvjL2fBeyL7YrPFpFLWjolQplpobylc5rey1UiskhEFu3YsaPlG1eqG4r2D/uGkmoG9spoWC/u9bjITHNT4999jZY+KLQ2xh/+x3OvDBdHvfo0I04aDX//u33yiSfaZXR33w1Zzd9jIlP1RnxPfUGyvW5KqupYs70KfzCEC/CHQqzZXkVJVV2z99iZ9dElc22X6A+U8dCeWfcnA+uMMTsAROQ14Chgm4gMDOu63+48fyOwd9j5g4HNTvngCOXh52x0uu57ASVNb8QYMweYA7brvh11UiolRZvtrunM7sw0NzU+O1ZfL/yDQtOuzWyvh6q6YLMzw+v/eI4q+pJL/jyD/M22m76sVx96PT4Lxo1rdYe5eM0+j1Wk99TjEvpke9lUWovbBR6Xi6AxeERwu2BTaS1pbnfEexySl8XaHVWUVPka5kXkZXsZ2i877veuO+C1XSpkBmzPrPsNwGgRyXJmyZ8ErABeByY4z5kA/MP5/nVgnDOTfl9gGPCZ071fISKjneuMb3JO/bXOAz5oaXxeKRVZtGuhm7b48rK9+EMh8rLT9mgBRura3FZWw47K2mZbjOVFG7l+7l3cPONq8jevIyQu/nXyhfzi1j/btfFt2EY20a3SSO/p9ScPw+N2UekL4BIhzSMYY0hzCy4RKn3N32PhPrkUFVdR4wuS5rLzIoqKqyjcJ3fPF4/T/c++eBTzJh/L7ItHaZBvRioMc8Q8GQ9ARO4ELgQCwBfAlUAO8DIwBPth4HxjTInz/NuAy53nX2+MecspLwSeBTKBt4DJxhgjIhnAn4EjsC35ccaYtS3dk07GUyo+mrbSm5s93twMbhFDn5z0xs/fpzc88QTVN00lq7oSgG/3O4Q/j5/K8v5Do571nYyTpBpNfkz30CszjbIaP5V1AXpmeHh43BFtXumQl53G0P45OhM+gRI96bOtOmTWfbLSQK+SVUcFpUQHuzbP4P7sM5g0yW4bC5Rn9eSv50zisxPOotJvkvKPZ1PNvdeRPhS9tmRTVMFBZ8Inr0T/H2uLlgK9ZsZTqhN01I5zHb2TXVu0OlZeWmpnz9dvPgNwxRV8c/VNfLmqgu1dZIy4uff63JH5DUG9vvy1JZv2WE/fWv0SPedANa+rZwbUQK9UJ4h3Stn6Fsanq3fidgkFfbJwiSfm67anxdLsRL/Rw+DZZ+Gmm6B+Ncxhh8Hjj8NRR1EIFEZsf3SsaOsa/l57XEJB3+xG7/WsD9YAEAga3C6bkMgfNMz5eG2z3fSR1L+P5TU+iqt8VPns5L7rDxnW/kqrbk03tVGqE8Rz6VT45LeQMYSMaVi6Fct127tOONKktLuHwejLzoGf/9wG+R494KGHbLf9UUdFXed4ibauTd/rYMiwelslpdU2W58/GGRXtZ+QMYChvNZPZW0AF1BeG4j6fTx3ZD6by2oblukN6p3Ja0s2dak12yr5aIteqU4Qz27Z8N6BLK8HXyCE22XYVFpLXnZ61NeNpbchUqt49sWj7A5zd94JDz8MQWem8rhx8OCDMGhQ1HWNp+YyBELzdW30Xqd58AWDuEXYWFpDbpaX9cXVeFyCINQFQs74uqEuECI3y9uw3rqtaWwXrS/lwL167jGxMV6bCanuSVv0SnWCeC4FC+8dGJybSTBkMAZq/IGYrhttb0PEVvE/v+abx56Bgw6yQT0YhAMOgHffhRdeSIogP33ecsprA2R4XPiCwWYT2IRn7Pt09U58AfuBJT83g2AIDKbhZ1ntD7JPH/szCIRCCHYaQtAY8nMzmn0fm+tZWL65LKFJgFRq0kCvVCeI557e4et6c7O8DBuQg9sliEhM1412nXDTTGH77drM9Dk3ccCvLodNmyAjA6ZPt5ntTj456vp1hPp7zkn3EDI2kU19ApumiX/CA7DHJXyzvZKSqjrystPZv382LrFr4vv28HL44F7kZWcwbEAOaW6bHEdE6JnhabF3pblsa7X+UJdfs62Sj3bdK9VJ4jVzt+nkN4/LxaDemTF/cIg2a159prA0Xy0/fmMuP3rzOdICfvvg2LF2A5p9942tch2k/p4H52ayeptdv984gY2ta9NhjIK+2azcUkFRcTW9s7ykud3kh73X4TPxRwzswaqtlSBQ0Cc7rHdlz/exuWxrmV4P1b5Aw3FrPwul2kJb9Ep1MfHsHYjlekPyssif/yHTpl7Ima8/SVrAz7bcATw+5UH45z8THuQj7RFf32tR3wPi9bioDYTomeFpVNemwxi5WV6G75VDMGQivjfh750/ZDh0cC8Oze9JwJgW38fmelEOGtgjrj9bpUAT5iilmgifJJbtdQNClS/AkLwsrtwnjbxpN1Hw0TsA+N0enh39U2YffSGTf3I4lx8zNOH33twe8W1JYNNZ+7R3lWxrquvokG1qlVKpJ3yM2iPCsk3lLNtYRoYJMubVZzjopNENQX7Rvt/jp7+czZ9+dCUDBvZh0frSBN9982Pfi9aXtqml3Fn58+PdK6NUS3SMXqkkk8h0m+GBctnGKrxuYWTRV9w251H2214EwM7sXF69eAqfjT6NfiL0w6ZqTYaZ4S3tNNaWORKduatbV8+2proODfRKJZH2prRt74eE8ECZVbqT2957krO+fB+AoLh467hzuGf0RQwuGEiPsJzsyTIzPB75CjQAq1SjXfdKJZHmup7nzi9q9dz2ZrgDGyira3yc8MErvP7YlQ1B/ouBw7ngyke46dgr6blXn4RuD9uSRG9dq1Qy0ha9Ukmkpa7n1sQjn/7E7BIybpnMsO9WAbArI4f7fngZf/veqRhxkWYMvTLTmHLK8E7p3o5WZ3a9K9VVaKBXqg06a9y8PV3P0XxIaFqfn4/ozff/9CCHPvFEww5zLx16CjOOv4xdWb0QF7gRMjxClS8Ydfd2Z8470K53pRrTrnulWhGPLvG2ak/Xc1sz3DWqT7aXEe/+g2HHFdpd5Yxh3aD9uPiyB5g29jrKsnshImSnuemZmYY/RNRj8fF4/yKtjVdKtY0GeqVa0Z5x82i1Z9lVWz8k1NfnwJ3ruWXG1fzqud/Ru3IXtRlZ/O2SG7jl1mdYvf/heD1ucDZpqfWH8AVCeFwS9Xh3e9+/zvygpVQq0q57pVrRnnHzWMTa9dzW8entW3Zyxft/5tR/vYg7ZHsAFh55MrPHTqS4dz/6ZaUzWFys3lZpN4AJBPGHDBkC1588LOp7a+/7F4+5B0p1ZxrolWrFkLws1u6ooqTKR40/SGaam7xsL0P7ZSf61vbQ4ocEY+C11/jTvdeQW7INgK0D9uaJ86bwj/4HEwwasirqCARC5OdmMWxADhtLazBAjsfFAQN68NoXm1i0vjSqMfb2Lnnr7A9aSqUaDfRKtaJwn1w+WLmdNJeLNLdQ4wtSVFvFBYWDO/1eYp7UtmYNTJ4Mb79NLlCX5uXvp0/glRPGsbzUB/4Qw/fKocYfoqi4CoCBvTPxuFzsqKzFOFvhxrK2v62b5jz96VrmfLyWXTV+ememcdVxQ7n8mKFxWRuvVHemY/RKtWLR+lIK8rLITHPjDxoy09wU5GV1esrXmMaqa2vhzjvhkEPg7bdt2RlnsPxf/+XjC3/JN2V+MjwuDhzYg7zsdPJ7Z1LQJ5tdNf6GOQL9e6TTv2dmzGPsbZl38PSna7n/nVVU1QXJSrMfBu5/ZxVPf7pW18Yr1U7aoleqFRtKqhnYO5P83N0tyESkfI16rPrtt+FXv4Jvv7XHQ4bYLWTPPJMjRBi/tphPV+/EFwyxsbQGsLu1DeyVgcctTDvDjvcv3VhGj3QPe+dlkZvlBaLvOg8fUqjvlZj+xvKGXok5H68lzeUi3WPbHukegQDM+XgtC249WdfGK9UOGuiVakWydB23eaz6u+9gyhR49VV77PHAr38N06ZBtp1XUN874HYJYsAXCLF6WyXDBuTgcbnI9noaUvH2SPdQ69/9eG6WN+b6N5fit6TKR0564z9HaW5hV43d517XxisVO+26V6oV48cUsKOyli82lLJwXTFfbChlR2Vtp3cdt7pO3u+HBx6Agw7aHeSPP56l8z5i0iHnMfbpJQ1r0Ot7Bwr6ZBEKARhcAkU7q6j2BQDT0HswODez4fW+K6luV9d5pKV2gZAhEDKUVvsprw3gC4ZsdYKG3plp0b9RSqlGtEWvVBuYkMEAdlW5Pe5sLU5q++QTmDgRvv7aPnnAAHjwQRaMPo3pb6wgy9t4XL+yzs++fXNwiYf9+8Om0lpq/AFMCKaNHcH0N5Y39B7kZaezf3/YWFpDRZ3dm721rvPmJg3W90qUVvvs9Wr9+AIhMHbJfiAUorI2RHqaCwNcddywjn5blUp52qJXqhVz5xeR4fUQMoYaf4iK2gA7q/w89O6qTr2PSJPa7hjdj9F33gDHHWeDvMtlZ9evXAkXX8zcBesjtqC3lNXxnzU7+XT1TlZurQAgv3cmxwzry+ihffboPcjLTmffvjmceGB/Zl88qtUg39ykwSF5WWwpq2X1tkp8gRBB5wOUyyUM7JlOmssG+JCBm04bzuXHDO3gd1Wp1KcteqVasWJLOVtKa/CHDCJ2OXp1XYAvNuxiwdriTh07bhirDgZhzhw47VbYtcs+eOSRNo3tyJENz286rl9a7WNjSTUhYwiGDGAgBBg/5XV+Lvj+3kDbl8RF0tKkwfFjCrhq7iIA3AKBkEGAdI8LfwiOGdaXkDHsqKzTIK9UnGigV6oVNb4gAadrWUQQsS1OQ+dmZ6vvDvf+bwlTXn2YfdbZQExuLtx3H1x5JQuKSpn7/OKGLvNsr4equmBDsN1YWoOI4ELwprnwBw2BUIgQsG+fbBatL+XyY1rOstdct3x9+Qcrtzc7S3/00D7kZadRVRek1h8izeXC44aMNDc1ftuDoGvklYqvdgV6EekNPAkcgv27dzmwCngJKACKgAuMMaXO828BrgCCwLXGmHec8lHAs0Am8CZwnTHGiEg6MBcYBRQDFxpjitpzz0pFKyPNRcjYlmf9GD0Y3CKdtsRuwdpiHnp5IZe/9RSnfPJ3XM4Oc9vPu4j+sx+Gfv1YsLaYqa8spaw2gD8YYlNpDV6XkJXhATLITndTWRfAJeASyPC4yEwTDOALhhjYK6NRfSLNdG9u1vy5I/N5bcmmNs3SHzGoV8MqhpKqOtZsr8IXCJGR5gqb6Nd6z4FSqm3aO0b/CPC2MeZA4HBgBTAVeN8YMwx43zlGREYA44CDgdOB2SLidq7zOHAVMMz5Ot0pvwIoNcbsDzwEzGjn/SoVtRGDepHucREy4A8ZQiGDCwiGYENxdcfvpmYMK3//GH+85xJO+/g1XMbw3eD9+c2vn+COs2+Afv0AeOjdVWyv9GGMId3twhhDhS9IusfVMK7fM8PD4N6Z9MhII+h8WAiGbBKgtrSkm9ugZs7Ha9s8Sz88AU7vLC/5vTMQgZyMtKg28VFKtU3MLXoR6QkcB1wGYIzxAT4ROQs43nnac8CHwM3AWcCLxpg6YJ2IrAGOFJEioKcxZr5z3bnA2cBbzjl3ONd6BXhURMQY0/lTnlW3Up+OtbiqjlAIgs5vnAs7pB0KQZob9uuXHXVK2OZE7BKv2QqTJnHZxx8DUJuRxT/O/gXvn3QhfrebHWEt8BVbKkhzCx6X/fzuEcEQYvOuWt6+/ocNrzF93nLystPYuCtAMBTCGMNevTLYUVmLiGHsrE+aTa/b3Fr+XTV+Dkq3n9tbm6XfdFhgaP8c7jjrEA3uSnWQ9nTdDwV2AM+IyOHAYuA6YIAxZguAMWaLiPR3np8PLAg7f6NT5ne+b1pef853zrUCIlIG9AF2tuO+lWpRfTpWMTQK8oIN8mC7vrO9HvKydwe99ozXP/3pWh5+bzWBkCHb68ZTVcmmpx8k9PHfcAUCAPx31Em8evEUduXa/1JVtYE9W+BNPwI3OQ4PsrUBO06e6fXQKzONbWUBjJEW89k3lzyod2Zao7kAednppLnd9O3hZfbFo/aorybAUarztCfQe4CRwGRjzEIReQSnm74ZEqHMtFDe0jmNLyxyFbbrnyFDhrR0z0q1as7HaxEDtYFQo182EeiV4aGyLkjPDA/+sLX0/mCQT1fvbNQaBvZooTdX9vB7qzEGMt3Cscs+5qa3n2Cvcufz7P77s2LavdxTNoAsr4dsYyLOgj9oYE+WbSxDxOB2CcGQwR80HDq4V6P61QfY8PsorvQ15LOH5tPrNjcb/6rjhvLakk17lOtYu1KJ155AvxHYaIxZ6By/gg3020RkoNOaHwhsD3v+3mHnDwY2O+WDI5SHn7NRRDxAL6Ck6Y0YY+YAcwAKCwu1W1+1S0mVj4CzvjtcyIBb7GdPf9CQ6bVd1aXVPlZtrSQ9zdXQGp76ylLEJfTLyWixbPq85WSn27Xtwyq2cdMbj3H06s8BqPV4eeXUS7nk1Uc5KCODaXt07TdOWjPllAO45bUvKav2UxcI4nW7GNArnSmnNA62kSbUfblpFwft1YPwPwmR0uu2NBt/xKBemo9eqSQUc6A3xmwVke9EZLgxZhVwErDc+ZoA3Of8+w/nlNeBv4rIH4BB2El3nxljgiJSISKjgYXAeGBW2DkTgPnAecAHOj6vOpqInVu/e4b9bmW1fgIhqPIFyM1OI2QMRTurQKCgT1bDBLXV2wMIMLRvDkCzZQDffreT6/77Ny77+EXSgza3+6fDjuSu065m/9GHcUlGBtB6d/fooX2499zDGoJtttcNSKPNY0YP7RNxnXtmmpv1xdWNhiKam5zX3H1od7xSyam96+gnA8+LiBdYC/wcO1/pZRG5AtgAnA9gjPlaRF7GfhAIANcYY+pTb01k9/K6t5wvgKeAPzsT90qws/aV6lC5WR62V/giPhYM2UQvAJt31eIPGmoDQdJcwprtVWSm1ZKfm4E/GNrj3EhlP1j9OQ88cx9DSrcAsKVnPx788UTeGTYGcQl3RZlPvj7YNrcMbtrYEREn1O2Tl8XKbRVU1Aa0612pFCOp1kAuLCw0ixYtSvRtqCTTXJKXSC7843/5cmMZtf5Qo8kibpeQ5hLS09y4XYIvECIQCiEiuEXwuoWgMQRDYIzB63FxxJDchusu2VCKAEcMySW3ZBvjXniIwkUfABBwuXn1+At59OgLKcaLxyVcf/KwmLPDTXp+8R6T5ipq7Qx4IOJjIoY+OekN71HhPrksWl/apvcsXDTvtVIqPkRksTGmMNJjmhlPpbyWWreREsJsr6hDEHpmeEDseLw/GCQrzY2I4HHZJr3XLVT5QmR77X+joAG3y0UwFCJkDL2y0hq1kHtlePCYID+cN5cL5j1FRp3dA778B0ex7s7f89HOdHqVVHNolMExUmBtaUvbaWeMiDihLvz9iOY9i/W9Vkp1Dg30KuW1lHu9afCZO7+IfjkZ5GZ52VhaQ40/iFsEvxHKawOkuYUMjwuvx03QOLnvMRwwoEfD8zPSXORkpHPvuYeGjZd7OG7HKi77y+8ZunUdAOU989h++3T2n3I1h4swO8K9t9Y6bi6wZqc3Tn1bWu2jaGcVgZBh7vwizh2Z36S13njiXDTvWazvtVKqc2igV0Bqd7e21Lpt7rku8ZCb5aW02sc3WytwuQSXsfumV/mCBI3BJS4y09x43S5ys7wNed3ru8jrx8sXfbaS0sk3cMpndupJSIQ3jzmbATMf4Pvfa75rvi2t4+YCKxiqfXYKjD8YZNXWShA4oH8OOyt8vLZkU4ut7Gjes3icp5TqOLpNrWpxW9FU0HTLVWh+RnnT524srWlIFetxuzDGdtH7g4b83hn0zfY2dNGHjGmc7jUYhCeeYMQJRzYE+bX7jmD6b59l7kX/xzNflza8zoK1xUx6fjFjZ33SkFK3uXSzc+cXNZy3oaSa7HQ34bLT3VT5gg1b2n67o4r0NBfDB+TQJyc94nXa857F4zylVMfRQK/aFFC6svDc6iFj2LSrhpVby1m+uWyPPPVNn1tW46MuEMLjEnLSPWSluxtm3Q/tn8N95x3Ovece1miP+GljRzC6tAjGjIGJE8mqrqAqqwdzx0/lnmlPsb7goEat3EgftG557Uv+vXI7y7eUsWxjGSVVdcCereOWAuvooX2YffEohvTJ4nt79260dK61VnbT96Fpvvp4n6eU6jjada+6RHdre4YWwpO8rNhSQXFlHYN6ZTCwd+Ye3eFNE8KAkO4WMtNsqznT48aFkJ3ubpTateFedu2CadNg9my7cT0w/9if8NTYX2L69294fngrt2n3eyAUYltZHYGgwet24QsGWbO9iv37Q5rb3ah13JZ945tLW9tSK7ulxDhtfa81cY5SyUEDvYopEHSmeMzkrg/idtlZerOTxZp+oNhRXkuVL0ggFMItdvmcwZCR1qQzzBh4/nm48UbY7iSDPOQQmD2bFZLPZ++tJrC2mGyvmz7ZXjxuV0MwbvpBa2NpDWluAVwN2fhcLkNRcTX5vTMbBfH6wPrQu6tYvN4OBRw0sGejW2vLh4GW3rNoaeIcpZKLdt2rpO9ujefQQnNj2htKqiN2odf4Q+RmpuF1u/EFDV63m8G9MxkxKCx//PLlcMIJcOmlNsjn5MADD8CSJSzIH8FrSzYxqHcm2V47dr65rJZzR+Y3BMOm3e81/iAI5KR7GDYgB6/HRTBkCIZMsx9uquqCHLhXT0btk4sxNJpjUf9hYI/hBQ3GSnUL2qJXSd/dGuvQQqTu/vreC38wyKbSWmr8QTxu4YABORFnsA/qncnmXTUcuFfPJq3hAqishN/9Dv7wB3B2mOP88+3xYLt9Q/g183vbfdoragMsWl/K5cfYU5q2uNNcQm0gxNC+GQ2z+cNn8jfVliVtbWllp/LKC6W6Mw30Ckju7tZYhhaa6+4/d2Q+c/9bxPZKH2luwSVQ5w+xvaKO7RV1FPTJbnSdgb0yqAuE6NvDuzsAjh7G6KUfw3XXwXff2Sfuvz88+iicdlqj89vyIaXpB61hA3qwrayGNLebUDM71UX7Gq3RRDdKpS4N9CrpxTLG3Fwrd9H6Ugb0yqS8NkCN32awcwnsKK+jLhBiW3kdOekeBudmkpvlpaouyEEDe+yeeLd2LUyeAG++aY/T0+HWW+Gmm8DZfCZcWz+kNP2gtWfruvkelpZ6KdpKE90olbo00KukF8vQQmut3LxsL0XF1YSM3aUuZOxOdR5jqPEF+WZrBYPzsvC4xH6gqK2F3/8e7rnHfg/wox/BrFmw337N3kdnTIQbP6aAqa8sjdhLsWBtcZuu0xVWXiilYqOBXnUJ0Q4ttNSSXrujkjU7qgC7WU39nnJuF3g9LtLdbspq/azbWcXAXul8PudFDn/pD2QWrbVPHDwYZs6Es88GZ396aH6Mu6PnP4we2qehl8IfMmSmudmvfyYel6vNLfJkX3mhlIqdBnqVkpprSRfuM4APV+1oeF743o3BkLOLW4YgGPaqLOH+d57lyEXvAxDyeHDdcAP85jd2Zn2Y1sa4O7r7u8oX4PC9e+MK++ARMqbNLfJYex6UUslPl9epLiFSitiWNLekbJGz1tzjsq35pkIGqipruPi/r/HG41c1BPnlw77H3dOfhxkz9gjykPjsgu1NPatL8JRKXdqiV0kv1hnhkVrS099YTrbXjQjU+kMIEAjtbtcfufFr7vzX4xy0owiAsp55/O3Ca/nP6NPZUeVr9rUSPcYdjxZ5Mq+8UErFTgO96lSxrNWO54zwIXlZBIKG2tIaMtJc+AN2hD6vuoxbPnyG85e9B0AI4a8jf8zCy6dQnd2TqtpAi63jRI9xJ3suBKVU4migV50m1pZ5PFvL9S3f/NxMiivrqA6FOG/xW9z00XP0rq0E4KtBw7j15El8PWgYx2X1oKohU2DzreNkGOPWFrlSKhIN9KrTxNoyj2drObzlO3zzN1z/2sPs++3XAJRn5PDoKZfzyhGnUxU09PR62FFZ16bWsbaolVLJSgO96jSxtsybtpa37Kphc1ktfSq9THp+cdSpWkfnuRm94Fm7w1zIdt2/duhJzDjxcspyepPldjOoRxr3nntYdNdtpkWtqWWVUomkgV410lFBacHaYnZW1LF2RxU5Xg/5uRnkZae3qWUe3lpevrmMkio/g3pnMrBXRlSpWhd8u5PP736Un708k75Vdvb9ugEFPHvx/7F038PwlVSDP8iwAT2Yckp8WuOaWlYplWhijGn9WV1IYWGhWbRoUaJvo0sKD0rh48ytBaXWPhzUXzcQMmwsqUZEMBgG987E43ZFFfTsNrONu/EragMNeWtWbCkH4KCBPZhyyvCG6/7vX/MxkyZxxLf/A6A6LYOHj7mIvxx5FgcO6UNulrfhWn17eBvtNd+eDz/N3W/T11BKqfYQkcXGmMJIj+k6etUglrXgkbZ2Dd8iNfy6+b0zOWCvHmR63YQM7KrxR92yjbTNrD8Y5IsNpSzbWIZgk9Ut21TO1FeW8tlXG2DqVA798bENQf69g4/lvGuf4skfnIvP5WFjaU3DtZoOJbSlftHer6aWVUp1Ju26Vw1iGUNvywS78OvWb7saMoYdlXUxLY9r2kJeX1yNMTZ9rcdlm/Zighzxxcfsd//FULwVN7A+dyC/PflqPhrqtKSNzR5X49+daKbpUEJ7l/YletmdUkppoFcNYglKbflwEM9gN35MAbe89iVrtvvxBUN43S4q6wK4XeB2gny/HRu56c3HOeHbzwEIedN59dRLmDb8DOo83j2uWVsXaHY72PYu7UuGZXdKqe5Nu+5Vg/FjCqj2BaiotYGvomH9eEGz57Ql9Wpz1y3cJzeqtLb1TMhgsClsfcEQgaDBFzDUVlRz6ft/5u+PX90Q5D/cdxSn/PxRph5yTsQgDxAwNJv2VVPLKqW6Op2MpxqJduJZWyfwNb1u4T65vLZkU9QT/8Int60vrqSouIZgyHD0ui+4693HGVq6GYDNPfpy10lX8a/hY0CEUAu/5gKsu++MdtVPKaUSqaXJeBroVbvFMis91tnoY2d9Qr+cdHZV+1i2qZy+ZTuY9sFTjF35CQB+l5unCs9i5tE/o9qbaSfnsXsr2nr1G9oYIN3jYtX0H8W1fkop1ZlaCvTtHqMXETewCNhkjBkrInnAS0ABUARcYIwpdZ57C3AFEASuNca845SPAp4FMoE3geuMMUZE0oG5wCigGLjQGFPU3ntW8VUf9OqDYf0s/Y5Ia1s/3r91ZxUTFv6dKZ8+T47PzppfOPhgfnPqRL7pV4DHBYRsII/0Uba+TIALCwe3Wj8N7EqprioeY/TXASvCjqcC7xtjhgHvO8eIyAhgHHAwcDow2/mQAPA4cBUwzPk63Sm/Aig1xuwPPATMiMP9qjiLZQlarGPf48cUsM/KL3hm9kR+88GT5Phq2JnVixvOmMK4i+7jm34FgN1bvuk2tO4mBWku4dLRQ7jr7EPbWlWllOpy2tWiF5HBwBnA3cANTvFZwPHO988BHwI3O+UvGmPqgHUisgY4UkSKgJ7GmPnONecCZwNvOefc4VzrFeBRERGTauMNXVwsS9Bimo2+Ywejp9/M6GeeAewOc3854sc8cNyllGfsuUd8U2keF1kuF/m5mQztlx1TwhrtxldKdTXtbdE/DNxE4yHQAcaYLQDOv/2d8nzgu7DnbXTK8p3vm5Y3OscYEwDKgD3+qorIVSKySEQW7dixo51VUtGKJSlMVLPRQyGYMweGDwcnyFce+j3GXfEQvz114h5B3iV2TX39crt6gaBhr14ZDOyVEVPCmvYmz1FKqUSIuUUvImOB7caYxSJyfFtOiVBmWihv6ZzGBcbMAeaAnYzXhntJaZ3d6oy0Tn5LWS27qn2MnfVJs/fQprHvL76AiRNh4UIAKjNz+OeFv2LfW6dQ/sYK2Fq5xykhA75ACBH7C2SAnk62vx0VdRRX1hEImag3xGlv8hyllEqE9rTojwbOdLreXwROFJG/ANtEZCCA8+925/kbgb3Dzh8MbHbKB0cob3SOiHiAXkBJO+455SWi1dl0nfymXTUUFVfROzMt9nsoK4Nrr4XCwoYg/9EPfsRt97zM339wJtPfWkVplY+0Zn6DDWCMbd0LEAyFCIZClNX4qQ2EGNo3W9PZKqW6hZgDvTHmFmPMYGNMAXaS3QfGmEuA14EJztMmAP9wvn8dGCci6SKyL3bS3WdO936FiIwWEQHGNzmn/lrnOa/R7VvsLYklX317Ne2G31VtP2SUVPtZtL6UouIqAiHTtnswBv76V9tNP2sWhEJszh/K7VMeY+7Vd1LZu29DnXZW+gg0XTfnSHMJHpeQm+Uly+smEIRqXxCPSxg+IIc+OelRvzftTZ6jlFKJ0BEpcO8DXhaRK4ANwPkAxpivReRlYDkQAK4xxtT/1ZzI7uV1bzlfAE8Bf3Ym7pVgP1CoFrQ3ZWuswrvhT3jg3+wor8PjduF1u/AFQmwsqaauuahcb8UKuOYa+Pe/7XFWFtxxBxPTCsnrld3oU2lJVR3BZj7yCZDpdVNZF6DGH8QXCBEIGURgSF4medm73x9NZ6uUSnVxCfTGmA+xs+sxxhQDJzXzvLuxM/Sbli8CDolQXovzQUG1TaI2UQmfF7B5Vy0mFMIXDBE0BrfYkfLNu2oij9lXVcH06fDgg+D327Kf/hQeegj23pv8CMl11pdUI9iu+aYB3+0SXCJkprmpC4QIhgxpbiHd42ZLeR09M9Magn0s6Wwbz3+Iz771SinVUXRTmxSTiFZneJrYfjnprNxSTiAELgwugUDIEALcEmo0Zj/tjIMY/dV/7Fj8hg32YkOHwqOPwo92Z6qLVKdA0JDhEXwhcGMaBXu3S/AFQng9gstJ1TBsgJ2Zv3JLBUXF1fTO8sb03mjyHKVUV6Ob2qSYRGyiUj8vwB8M8vWmcoJOD30Iu2FMfYe9x+VqmDewT/l2ss8/F84+2wb59HS4/Xb46qtGQb65OvXO9ABiJ9o1adFnpbnYp28WtYEQGWkuhg3Iadged/heOQRDRjeYUUp1G9qiT0HNtTo7atndhpJqPCJ8u6MKt6vx+keX0LChjCGEx+/jtLf/wth/PoPXX2cfOO00O/Fu2LBW61RfBxGhJhBq6L6vf42BPb3snZdDtS/A4YN7YwyNuvzT3G6OGdY3pmQ5SinVFWmLvpvoyGV3Q/KyWF9SjdtlW+3hyQ/Cl7gdtW4pd/72Is597Qm8/jpKc/vD3/4Gb73VYpCPVAe3S/B67CuFjL1+hkcIhnavNAAT9ba7SimVajTQdxMduexu/JgCquoCVNYGKK3xNbToXQIuFwyp28XMf8zg2RduY6+tGwi63Lx64jhWf7gQzjsPJFJepJbrUOsP0cProVdmGh6XrU8wBDur6li2sQxfIEiVL6h7wSuluj3tuu8mOnrZncct+Jz+8/qw7TEhxn/+T67/9Hly6uzrfD30MP7+i1s5+YKTOTLKgBteh8w0N75gELfLRcgYKusCCOARwRcM8s32Sg7N76mT55RS3Z4G+m6iI5fdzZ1fxJDcLDbtqsXtgmDQMHzdV/zuncc4aEcRALtyerPzt9M5+NeTOLgNLfhI8wnC65Cfm8Ga7VUEQyFc2Al5IuB2i52VHzJ8s62SBWuLNdArpbo17brvJpqmqY3nePWGkmoG9s5k//7Z9Kut5I55D/PKX/6Pg3YUERLh45N+yuqPPmf//7umTd30zc0nKNwnt6EOvbO85PfOQARcLqFXpocMZ908QE66/V43nVFKdXfaou8mOjLZy5C8LIrLajlr0Vuc97dHyakqB2D9vgdR/odHeLEqjw3/2cKQFWVtmunf3OYxi9aXNqrD0P453HHWIcydX8TOCh9FxVWkuV14XEIgFCLT7W6YhxBNPXUrWqVUKtFA34101Hj11T3L8U6bzIFFXwNQlZnDc2f8gsxfTeTVpVvJ8jZumbc2Ia6l+QTN1WH6vOVU1gXI8LgIhEIEQ5DfNyPqeQhNk/+09Z6VUipZade9il1ZGVx3HYedfXJDkP/g+6dx1wOvMnLGbXy+sTymmf7Rbh5T31vRM8NDbSCE1+1m//7Z5GWnRz0PIRGbAimlVEfSQK+iZwy88AIceCDMnAmhEIwYAR9+yImfvc2MSacyemifmLd1jWU+weihfXh43BEM7ZtNQd9semd5Y5qHoFvRKqVSjQZ6FZ2VK+Hkk+Gii2DrVrvD3IwZ8MUX8MMfNnpqrNu6xprGNx7pf3UrWqVUqpFU2969sLDQLFq0KNG3kXqqq+0Ocw88sHuHuXPPtTvMDRkS8ZTw8e7wDXaSeby7pXsGdJKeUiopichiY0xhpMe0Ra9a9/rrtmv+3nttkB86FN54A159tdkgD4nZYKe9mrtnoMNSCCulVEfSWfdJIpolXZ22/KuoyG4h+89/2mOvF6ZOtV+ZmW26RFfMTBfpnic9vzjikr9ol+4ppVRn0xZ9Eohmw5mO3JymQV0d3HOPbcXXB/lTT7VbyN55Z5uDfCrRSXpKqa5KA30SiGZJV4cv/3r/fTj8cLjtNqipgfx8ePllFsx+nkmflTN21idMen5xt+uy1kl6SqmuSgN9EoimtdhhLcvNm+FnP7Mz6letArcbbrwRVqxgwagTmf7Gim49Pt2RKYSVUqojaaBPAtG0FuPesgwE4JFH7Jr4F1+0ZUcfbZfLPfAA9OjB3PlFBEKGouIqFq0vpai4ikDIdKskMl1xYqFSSoFOxksK48cUMH3ecoBGS7rGjzmgXc9t1fz5MHEiLF1qj/v2hd//HsaPtxvJO1ZsKWdHeR0etwuv24UvEGJjSXXDBjLdRVecWKiUUtqiTwLRtBbj0rIsLoZf/AKOOsoGeRH45S9tl/1llzUK8gA1viDBkKHaF2BXjY9qX4BgyFDjC7Sz5koppTqatuiTRDStxZhblqEQPP20XR5X7IyvjxwJjz8ORx7Z7GnGGOqCIQQQIGgMAQyplmxJKaVSkQb6FNCmdfX/+5/tpl+wwB736gV33w1XX20n3rVAREh3uwgaG+TdIrjFliullEpuGui7uPCUrWkuYcG3xXywcjuHD+7FlFOGM7pvGvz2tzBrlm3RA1xyiR2L32uvNr1GptdNZW2AdLcLt0sIhgyBYIhMr/76KKVUstO/1F1c/br6QCjEmu1VuF1CusfFN1sr+PiuWYx86wm827fZJx90EMyeDccfH9VrHDSwJ+meKkqqfNT4g2SmudmrVwZD+2XHv0JKKaXiSgN9F7ehpJp+Oel8vdkGeY9LGLLjO26a9yij1/3PPikrC26/Ha6/3qaxjVL9TP+CPtlNZvoXxLMqSimlOkDMs+5FZG8R+beIrBCRr0XkOqc8T0TeFZHVzr+5YefcIiJrRGSViJwWVj5KRJY5j80UZ/BXRNJF5CWnfKGIFLSjrimpfl19jT9IdqCOSe89w0uPXd0Q5P972LGwYgXcdFNMQR50DblSSnVl7WnRB4AbjTFLRKQHsFhE3gUuA943xtwnIlOBqcDNIjICGAccDAwC3hORA4wxQeBx4CpgAfAmcDrwFnAFUGqM2V9ExgEzgAvbcc8pp761fdLqhfzfG4+RX7YdgK19BvLMhTfw3VEncFQLO8y1la4hV0qprinmQG+M2QJscb6vEJEVQD5wFnC887TngA+Bm53yF40xdcA6EVkDHCkiRUBPY8x8ABGZC5yNDfRnAXc413oFeFRExOi6rgajXRXM/ec95L33NgA+dxp/P+UiXv/RZZThZpp2ryulVLcWlzF6p0v9CGAhMMD5EIAxZouI9Heelo9tsdfb6JT5ne+bltef851zrYCIlAF9gJ3xuO9EiNsWsz4fPPgg/O535NXUALDrmON5+KzJLErvx5C8LCZ31Pa1Simluox2B3oRyQFeBa43xpS3sLY60gOmhfKWzml6D1dhu/4ZEodu6o4SvhQufHOYqMe7P/gArrkGVq60x4MGwcMP0/u887hD17YrpZQK064UuCKShg3yzxtjXnOKt4nIQOfxgcB2p3wjsHfY6YOBzU754Ajljc4REQ/QCyhpeh/GmDnGmEJjTGG/fv3aU6UO1e4tZrdsgYsugpNOskHe7YYbbrDfn3++TWWrlFJKhWnPrHsBngJWGGP+EPbQ68AE5/sJwD/Cysc5M+n3BYYBnznd/BUiMtq55vgm59Rf6zzgg648Ph/zFrOBAMycaXeYe+EFW3bUUbBkie2+79Gjg+5YKaVUV9eervujgUuBZSLyP6fsVuA+4GURuQLYAJwPYIz5WkReBpZjZ+xf48y4B5gIPAtkYifhveWUPwX82Zm4V4Kdtd9lDcnLYmeFjx4Zu9/2VreYXbDApq793//scd++cP/9MGHCHpvPKKWUUk1JF24gR1RYWGgWLVqU6NuIKHyMPjzxTMQx+uJiuOUW+NOf7LGI3XHu3nshL6/zb14ppVTSEpHFxpjCSI9pk7ATtSnxTCgETz0Fw4fvDvJHHGH3jv/jHzXIK6WUioqmwO1kLSaeWbrUdtPPn2+Pe/a0O8xNnNjqDnNKKaVUJNqiTwbl5TBlCowatTvIX3wxrFoFv/qVBnmllFIx0xZ9IhkDL79sg/yWLbbswAPtDnMnnJDYe1NKKZUStEWfKKtWwamnwrhxNshnZtqJdkuXapBXSikVN9qi72zV1XDPPXaJnN9vy84+Gx5+GPbZJ5F3ppRSKgVpoO9M8+bB5MlQVGSPCwpg1iwYOzaRd6WUUiqFadd9Z1i/3rbaf/ITG+S9Xpg2Db7+WoO8UkqpDqUt+o7k88Ef/gB33QXODnOcfDI8+qhdJ6+UUkp1MA30HeXf/4ZJk3bvMDdwIDz0EFxwgW4+o5RSqtNo1328bd0Kl1wCJ564e4e5KVPs9xdeqEFeKaVUp9IWfbwEAvD443bsvbzclo0ZY8sOPzyx96aUUqrb0kAfDwsX2jS1X3xhj/v0scvnLrtMd5hTSimVUBqF2qO4GH75S9tyrw/yv/iFTYZz+eUa5JVSSiWctuhjEQrBc8/BTTfBzp227Hvfs930o0cn9NaUUkqpcBroo/Xll7ab/r//tcc9e8L06bbMo2+nUkqp5KJ9y21VUQE33AAjR+4O8hddZGfTT56sQV4ppVRS0ujUGmPgb3+zS+Q2b7Zlw4fbHeZOPDGx96aUUkq1Qlv0LfnmGzjtNLv+ffNmu8PcPffY7nsN8koppboAbdFHUlNjt4ydMcOmsQU46yy7w1xBQSLvTCmllIqKBvqm3njDjrmvW2ePCwpg5ky7IY1SSinVxWjXfb0NG+Ccc+xucuvWQVoa3Hab3WFOg7xSSqkuSlv0Pp/dbOauu6C62paddBI89pjuMKeUUqrL696B/sMP7Q5zK1bY44ED7bayuvmMUkqpFNE9u+7rd5g74QQb5F0uuP56uyZ+3DgN8koppVJG92rRB4M2Te1ttzXeYW72bJvCVimllEox3SfQL1xou+mXLLHHeXl2h7mf/1w3n1FKKZWyUj/ClZTA1Vfblnt9kL/ySrvD3BVXaJBXSimV0rpElBOR00VklYisEZGpbTopFIJnn7Uz5//4R5vK9vDDbZ76P/0J+vbt2JtWSimlkkDSB3oRcQOPAT8CRgA/E5ERLZ60bBn88Ie2W37nTujRAx55BBYtsi17pZRSqpvoCmP0RwJrjDFrAUTkReAsYHnEZ2/cCEccYSfeAfzsZ/Dgg3bpnFJKKdXNJH2LHsgHvgs73uiURbZtmw3yw4fDe+/BX/+qQV4ppVS31RVa9JEWtZtGTxC5CrjKOawT+IpVq+Dkkzv85pJEX2Bnom+iE2l9U193q7PWN/V1dJ33ae6BrhDoNwJ7hx0PBjaHP8EYMweYAyAii4wxhZ13e4nX3eqs9U193a3OWt/Ul8g6d4Wu+8+BYSKyr4h4gXHA6wm+J6WUUqpLSPoWvTEmICK/At4B3MDTxpivE3xbSimlVJeQ9IEewBjzJvBmG58+pyPvJUl1tzprfVNfd6uz1jf1JazOYoxp/VlKKaWU6pK6whi9UkoppWKUUoE+plS5SUJE9haRf4vIChH5WkSuc8rzRORdEVnt/Jsbds4tTl1XichpYeWjRGSZ89hMEbvvroiki8hLTvlCESno9Io2ISJuEflCROY5xylbXxHpLSKviMhK5+c8JsXrO8X5Xf5KRF4QkYxUq6+IPC0i20Xkq7CyTqmjiExwXmO1iExIYH1/7/xOfykifxeR3qlSX+d196hz2GO/FhEjIn3DypKvzsaYlPjCTtT7FhgKeIGlwIhE31cU9z8QGOl83wP4Bpvy935gqlM+FZjhfD/CqWM6sK9Td7fz2GfAGGwOgreAHznlk4AnnO/HAS8lQb1vAP4KzHOOU7a+wHPAlc73XqB3qtYXm9RqHZDpHL8MXJZq9QWOA0YCX4WVdXgdgTxgrfNvrvN9boLqeyrgcb6fkUr1ba7OTvne2Eni64G+yVznhPwR6KAfxhjgnbDjW4BbEn1f7ajPP4BTgFXAQKdsILAqUv2cX7gxznNWhpX/DPhj+HOc7z3Y5A2SwDoOBt4HTmR3oE/J+gI9sYFPmpSnan3rM1rmOfcyDxsQUq6+QAGNA1+H1zH8Oc5jfwR+loj6NnnsHOD5VKpvc3UGXgEOB4rYHeiTss6p1HUfXarcJOZ03RwBLAQGGGO2ADj/9nee1lx9853vm5Y3OscYEwDKgD4dUom2eRi4CQiFlaVqfYcCO4BnxA5VPCki2aRofY0xm4AHgA3AFqDMGPMvUrS+TXRGHZP1793l2NYqpHB9ReRMYJMxZmmTh5KyzqkU6FtNldsViEgO8CpwvTGmvKWnRigzLZS3dE6nE5GxwHZjzOK2nhKhrMvUF/tJfSTwuDHmCKAK263bnC5dX2dc+ixs9+UgIFtELmnplAhlXaa+bRTPOiZd3UXkNiAAPF9fFOFpXb6+IpIF3Ab8NtLDEcoSXudUCvStpspNdiKShg3yzxtjXnOKt4nIQOfxgcB2p7y5+m50vm9a3ugcEfEAvYCS+NekTY4GzhSRIuBF4EQR+QupW9+NwEZjzELn+BVs4E/V+p4MrDPG7DDG+IHXgKNI3fqG64w6JtXfO2ei2FjgYuP0M5O69d0P+wF2qfP3azCwRET2IknrnEqBvkunynVmYD4FrDDG/CHsodeBCc73E7Bj9/Xl45wZm/sCw4DPnK7CChEZ7VxzfJNz6q91HvBB2H/KTmWMucUYM9gYU4D9WX1gjLmE1K3vVuA7ERnuFJ2E3Wo5JeuL7bIfLSJZzn2eBKwgdesbrjPq+A5wqojkOr0npzplnU5ETgduBs40xlSHPZSS9TXGLDPG9DfGFDh/vzZiJ1JvJVnr3FmTGTrjC/gxdrb6t8Btib6fKO/9GGy3zJfA/5yvH2PHat4HVjv/5oWdc5tT11U4Mzid8kLgK+exR9mdGCkD+BuwBjsDdGii6+3c1/HsnoyXsvUFvgcscn7G/w87kzaV63snsNK51z9jZyKnVH2BF7BzEPzYP/hXdFYdsePha5yvnyewvmuwY8n/c76eSJX6NlfnJo8X4UzGS9Y6a2Y8pZRSKoWlUte9UkoppZrQQK+UUkqlMA30SimlVArTQK+UUkqlMA30SimlVArTQK+UUkqlMA30SimlVArTQK+UUkqlsP8PlnlJrq4oO6QAAAAASUVORK5CYII=\n",
      "text/plain": [
       "<Figure size 576x360 with 1 Axes>"
      ]
     },
     "metadata": {
      "needs_background": "light"
     },
     "output_type": "display_data"
    }
   ],
   "source": [
    "import matplotlib.pyplot as plt\n",
    "\n",
    "plt.figure(figsize=(8,5))\n",
    "\n",
    "plt.xlim([0,148000])\n",
    "plt.ylim([0,148000])\n",
    "plt.title(\"Neural network - 1\")\n",
    "plt.scatter(y = y_test, x = y_pred_m1, alpha = 0.7)\n",
    "x_a = np.arange(0,148000, 0.01)\n",
    "y_a = x_a\n",
    "plt.plot(x_a, y_a, color = \"r\", linewidth = 2.25)\n",
    "plt.show()"
   ]
  },
  {
   "cell_type": "code",
   "execution_count": 229,
   "id": "69d8a884",
   "metadata": {},
   "outputs": [],
   "source": [
    "from keras.layers import AlphaDropout, BatchNormalization, Input, Dense, Concatenate, Dropout\n",
    "from keras.models import Model\n",
    "from keras.activations import LeakyReLU"
   ]
  },
  {
   "cell_type": "code",
   "execution_count": 230,
   "id": "6673cfe3",
   "metadata": {},
   "outputs": [
    {
     "name": "stdout",
     "output_type": "stream",
     "text": [
      "Model: \"model\"\n",
      "__________________________________________________________________________________________________\n",
      " Layer (type)                   Output Shape         Param #     Connected to                     \n",
      "==================================================================================================\n",
      " input_2 (InputLayer)           [(None, 17)]         0           []                               \n",
      "                                                                                                  \n",
      " dense_5 (Dense)                (None, 32)           576         ['input_2[0][0]']                \n",
      "                                                                                                  \n",
      " dense_6 (Dense)                (None, 25)           450         ['input_2[0][0]']                \n",
      "                                                                                                  \n",
      " batch_normalization (BatchNorm  (None, 32)          128         ['dense_5[0][0]']                \n",
      " alization)                                                                                       \n",
      "                                                                                                  \n",
      " batch_normalization_1 (BatchNo  (None, 25)          100         ['dense_6[0][0]']                \n",
      " rmalization)                                                                                     \n",
      "                                                                                                  \n",
      " concatenate (Concatenate)      (None, 57)           0           ['batch_normalization[0][0]',    \n",
      "                                                                  'batch_normalization_1[0][0]']  \n",
      "                                                                                                  \n",
      " dense_7 (Dense)                (None, 20)           1160        ['concatenate[0][0]']            \n",
      "                                                                                                  \n",
      " dense_8 (Dense)                (None, 1)            21          ['dense_7[0][0]']                \n",
      "                                                                                                  \n",
      "==================================================================================================\n",
      "Total params: 2,435\n",
      "Trainable params: 2,321\n",
      "Non-trainable params: 114\n",
      "__________________________________________________________________________________________________\n"
     ]
    }
   ],
   "source": [
    "input_to_nn = Input(shape = input_shape)\n",
    "\n",
    "hidden_1 = Dense(32,  activation=LeakyReLU(0.0025))(input_to_nn)\n",
    "bn1 = BatchNormalization()(hidden_1)\n",
    "\n",
    "hidden_2 = Dense(25, activation = LeakyReLU(0.0005) )(input_to_nn)\n",
    "bn2 = BatchNormalization()(hidden_2)\n",
    "\n",
    "concat = Concatenate()([bn1, bn2])\n",
    "\n",
    "dense1 = Dense(20, activation = \"relu\",kernel_regularizer=\"l2\")(concat)\n",
    "d3 = Dropout(0.15)(dense1)\n",
    "dense2 = Dense(1, activation = \"relu\")(dense1)\n",
    "\n",
    "model2 = Model(inputs = [input_to_nn], outputs = [dense2])\n",
    "\n",
    "model2.summary()"
   ]
  },
  {
   "cell_type": "code",
   "execution_count": 231,
   "id": "5857fe84",
   "metadata": {
    "scrolled": true
   },
   "outputs": [
    {
     "data": {
      "image/png": "iVBORw0KGgoAAAANSUhEUgAABEAAAAJzCAYAAAAPwWZ2AAAABmJLR0QA/wD/AP+gvaeTAAAgAElEQVR4nOzdfXRU1b3/8c/hQa3amxQ1UfFyrVrRVg3aFoLVSwm0Vu6dwVpjSVJEa6KTqogyejUmy8UKF6kmtoDUmKRX25gHjbfQTFvaCqmwtAR6qxlUFKqUSVsxUx9m6rNEzu8Pfud0JpmESZjMmZm8X2vNInPOmX2+ZyfM3vOdffY2TNM0BQAAAAAAkMHGOR0AAAAAAADAaCMBAgAAAAAAMh4JEAAAAAAAkPFIgAAAAAAAgIw3wekAAGCsev3113XLLbfok08+cToUAMBhWLhwoVwul9NhAAAOgREgAOCQzs5OtbW1OR1GWtq2bZu2bdvmdBiIob29XT09PU6HkfJ6enrU3t7udBhIgPb2dt7LASBNMAIEABz2+OOPOx1C2ikpKZEkNTc3OxwJ+jMMQ4sXL1ZxcbHToaS0lpYWlZSU8P8/A1jvRwCA1McIEAAAAAAAkPFIgAAAAAAAgIxHAgQAAAAAAGQ8EiAAAAAAACDjkQABAAAAAAAZjwQIAABIOVVVVaqqqnI6jJRiGEbUI5ZgMKja2tokR5b6amtrFQ6HY+6Lp14BAJmBBAgAAEA/4XA4ZT8Mm6Yp0zQHbA8Gg7r77rt1/vnn2x/mB0si9f/Qn6rXKh38XXR1damhoUFutzvm/ljXYxiG2traJElz587VwoULFQwGB7x+sPoEAGSeCU4HAAAA0F91dbWj59+yZYuj5x+ucDis0tJSVVRUKD8/X6FQSBs2bFBRUZGkgfVpmqaCwaByc3PV29urnJwcJ8KOS01NjSRp+fLlMfe/9NJLg762oKBAkpSXl6eKigqVlpaqqalJWVlZiQ8UAJDyGAECAAAQIRwOq6GhwekwhqWxsVF5eXnKz8+XJGVlZWnBggWSDiYOrJEQkaykRyonP6SDyZuhEmJ79+5VIBCwR3KYpqne3l5VVlZGXVt+fr4mT56sxsbGZIQNAEhBJEAAAEBKCQaDamtrs2936P/c5/PJMAy53W719PTYx/h8PvuYhoYGGYah8vJy7d692y471i0f/bfV1NTI5/NF7ZNSd16SYDAor9er2bNnx9xfU1OjoqKimEmQWMLhsNra2uxrb2hoiLp1JJ7fR+SxtbW19v7Ozs4RXuXgCgoKNGXKlKhtnZ2duuKKKwYcW1hYKK/XG/NWGABA5iMBAgAAUkppaamKiorsJETk866uLrlcLgUCAfl8Pt1zzz2SpNzcXLndbvuYsrIyhUIhSdLUqVPtJEhvb++A8wUCgajnkaMN0mF+iG3btkmSzjjjjJj7ly5dqsrKShUVFcnv9x+yvIULF+qdd96xR1L4fD6Vlpbak4jG8/uQDiY/SktLNXnyZJmmqSVLlmjOnDlxxTAcsUawbN68WXl5eQO2W3Vk1RkAYGwhAQIAAFJKR0fHoM+tWzysb/zr6uokKSpJEXkbiMfjkSQ7mRLrw3L/0QODOdStGE7Zvn27pKGvw+v1yuVyadq0aVEjYvrr7OyUz+fT/PnzJR2sr4qKCvl8Pm3YsEFSfL+PyLKsW3Gs+TieeOKJYV/jcPj9fs2aNSvmPmvuj6HqAACQuUiAAACAjGWNAvB6vQ5HMnoGmxw0UlZWlj33xVC3gLS3t0uKThSdffbZkqSWlpZhxWUd3/8Wo3jiPRxPPPGEnWzpz0qAZPLfAwBgcCRAAAAAxoCcnBx1d3cPuKUlUuQIDouVNLBG0cTLOj5yctLRvqXISuyk+sSuAABnkAABAAAZz7oVZqzLy8tTR0eHfD6fvbxsJJfLJUkxR4iMtA6TebvJYJOfAgAgkQABAAAZzPrwPW/ePIcjGT1WIiPWiI5YXC6XWltbY96KUlxcLEnas2ePvc0qt7CwcFhx1dfXS5KamprsMqxVYUbLYJOf9ldZWTlqMQAAUhcJEAAAkFL6L7ka+dz6IB35Yb//aAVruddwOKympia5XC57ZIP0z5EMVnKkq6vL3ldeXi4peiSE9YE9VZfBPfPMMyUNTIBY9RJrNMeCBQtiJgEuvfRSuVwurVixwn7dhg0b5PF47Hk14v19WBOpLl++XNnZ2TIMQ7m5uXYixVoeN55VYSLLHyzRM9TkpxZrmd7p06cf8pwAgMxDAgQAAKSU3NzcqJ8jn2dnZ0f92/946eCknW63W9nZ2ZoyZYqampqi9t95551yuVyaOnWqfD6f8vPz7VERy5Ytk/TPpXDXrFmjhQsXJvYCE2zGjBmSpNdee83eZiUbpIP1Y01AGqm6ujoqMST9c7JUl8sV9bqVK1fax8T7+8jJyVEgELATLR6PR4FAwF4xJhQKyePxHDKpZBhGVPlWMqW/oSY/tVh1ZNUZAGBsMcxUX9weADJUS0uLSkpKRnVCwExVUlIiSWpubnY4EvRnGIaam5vtWymSfW5JafF/aiT//4e6PmuUytKlS4cVRzgctic5dYrb7R6w9PFoqaqqUnZ2dsx6GunfD+9HAJA+GAECAACQ5kpLS7V58+ao23ni4XTyo6urSxUVFUk5l9/vl9/vV2lpaVLOBwBIPSRAAABA2us/b8hYY926smLFirjm1EgFnZ2dmjRpkvLz80f9XLt371ZdXZ0aGxsdT/oAAJxDAgQA0kiqTsIIOK3/vCGZzDCMmHNg5OTkqKmpSRs3bnQgquErKCiwJ3AdbT6fT8uWLVNOTs6AfYPVJwAg85AAAQDELRwOj/iDQk9Pj8rLy2UYhsrLy9XZ2Zng6AZnfcDp/3BC/zpMpdjSmWmaUY9MFM81ZmVlDXsekLFg6dKlMZMf0tj42wEAHEQCBADSSHV1tb06hRO2bNkyoteFw2H5/X49+OCDCoVCmjVrlubMmSOfz5fgCGMzTVOhUMh+HgqFHPug078OTdNUb2+v/dzJ2AAAADIZCRAAQFzC4bAaGhpG9NotW7bYy21mZWVpwYIFkg6u/pAskff9OzUHwGB1GPnNNPMTAAAAjA4SIACQJoLBoNra2uykQf/nPp9PhmHI7Xarp6fHPsbn89nHNDQ02Leg7N692y471q0X/bfV1NTYIzaGe5uGlfzoz+PxxF3GaEinOrRYSRTr9VVVVQoGg6qtrY06n7UsqqSofZHXZW13u932LUmR1xsOh1VeXs68MwAAIDOYAABHNDc3m8N5G3a5XKYk+zWRz7du3WqapmkGAgFTkunxeEzTNO39kceEQiHT4/GYksxdu3aZpmmavb29UWVHlhW5rf/zkQqFQqYks6OjY0SvLy4uNouLi4f9uv7xp1Idxlu31nl7e3sHxLp169ao55FcLpfZ29trx+pyuczW1lbTNE1z06ZNpiSzu7t7QJ10d3fHLG8wkszm5ua4jx+rhvv/H6lrpO9HAIDkYwQIAKSJjo6OQZ9by0hOmTJFklRXVydJUXNJWMdkZWXZIy+s0QixJge0yhoNf/zjH+VyufTv//7vo3aOeKRjHR5//PHyeDzKyckZEGt+fr5qampUV1dnj/SQJL/fr+LiYjvGzs5O+Xw++1akgoICSdITTzwRVSdnn3228vLy9OCDDyb8OgAAAJLNME1mWgMAJ7S0tKikpGRYE15at0xYr+n/PN5jEl3WcLndblVUVNgJheEqKSmRJDU3Nw/rdfFcY6xtyajD4dZtT0+P2tvb5fV6o17n9/s1bdo01dfXq6ysTNLBW2AKCwvthInb7R50AlrTNA/r98wKNhiLiouLh/1+BABIvglOBwAAGFva2trkcrlGnPzAwXlIfD6fampq7ASIJS8vTx6PR9ddd52uvPJKSdIrr7wSNRrFSn6M1ncgixcv1kUXXTQqZWeKp59+WqtXr9bjjz/udCg4TKtXr3Y6BABAnEiAAMAYluxJSP1+v1588UVHl/JNtGTVYXl5uR588EG1tbXpuuuuUyAQGPQWG4/Ho7q6Om3YsEHHHHOMFi1aFPO43bt368wzz0x4rDNmzFBhYWHCy80k+/fvlyTqKQOsX7/e6RAAAHFiDhAAGIOs1UvmzZuXtHMGg0Ft3LgxKvnh9/tVXl6etBgSKZl12NXVpVmzZkmSioqKJA09v4g1CqSoqEgNDQ0DRtvU19dLkpqamhQOhyX9c1UYAACATEUCBADSRDAYjPo58rn1Idb6t//x0sFbT6xjmpqa5HK5opantUYyWB/su7q67H1WksI6frgfloPBoEpLS+X1eqOWap02bVrSkjCRdRP5ob//NifqsP95InV1dWnmzJk6++yzo17f09MTtQxv/zKsUR+xliCeP3++JGn58uXKzs6WYRjKzc1VYWHhkLEAAACkMxIgAJAmcnNzo36OfJ6dnR31b//jpYMrerjdbmVnZ2vKlClqamqK2n/nnXfK5XJp6tSp8vl8ys/Pl8vlUmtrq5YtWyZJ9uiNNWvWaOHChXHHfvfddw866ebUqVPjLmekDMOIqpvID/2R2yL/lZJTh/3jiEwQGYahmTNnSpJOPfXUqNc3NDQoOztblZWV8ng8+vDDD6Nisc5tjRyJlJOTo0AgoMrKSkkHEzfWLTWRsbjd7kHrFAAAIN2wCgwAOGQkq8CMRKJWbkklI10FZqTSsQ7D4bDuuOOOpC9haxiGmpubVVxcnNTzpptk/f/H6Ev2+xEAYOQYAQIAQAZ6/PHHmWATAAAgAgkQAMhg/ecNwfClUx1WVVXZt8709PSooKDA6ZCQQP1vj4qFyWxjq62tjZrfJ1I89QoAyAwkQAAgg/WfNyTR+n9wGOyRzka7DhPJWhmmvr4+o5Yajlc4HB7Vv7fRLj9epmnGvHUmGAzq7rvv1vnnn2//36uqqopZRjr9Pw2Hw+rq6lJDQ0PMeWms30ushzVx8dy5c7Vw4cKYSczB6hMAkHkmOB0AAGD0jHanfix8aEinaywrK1NZWZnTYThmy5YtaV3+4QiHwyotLVVFRYXy8/MVCoW0YcMGe9nk/gkx0zQVDAaVm5ur3t5e5eTkOBF2XGpqaiQdXLUolpdeemnQ11qjoPLy8lRRUaHS0lI1NTUpKysr8YECAFIeI0AAAEDaC4fDamhoSNvyD1djY6Py8vKUn58vScrKytKCBQskHUwcWCMhIllJj1ROfkgHkzdDjWjau3evAoGAPZLDNE319vaqsrIy6try8/M1efJkNTY2JiNsAEAKIgECAAAcFQ6H1dbWZt+20NDQEHWrQqzbNPpvq6mpsZdatrYHg0H5fD77tomGhgYZhqHy8nLt3r37sMuXDs67MthtJskSDAbl9Xo1e/bsmPtrampUVFQUMwkSy6F+H8FgUG1tbXa9+nw+GYYht9utnp6eAbHV1tba+zs7O0d4lYMrKCiwb/+ydHZ26oorrhhwbGFhobxeb8rP5wMAGB0kQAAAgKMWLlyod955x/7m3ufzqbS01J60sre3d8BrAoFA1PPIEQLWKIDc3Fy53W75fD51dXWprKxMoVBIkjR16lQ7CTLS8lPFtm3bJElnnHFGzP1Lly5VZWWlioqK5Pf7D1neoX4fpaWlKioqsuvV5XIpEAjI5/PpnnvuscsJBoMqLS3V5MmTZZqmlixZojlz5sQVw3DEGsGyefNm5eXlDdhu1ZFVZwCAsYUECAAAcExnZ6d8Pp/mz58v6eCH2YqKCvl8Pm3YsMHe1l//b/xjiUxSRN4a4vF4JMke0THS8qVD356RDNu3b5c0dMxer1cul0vTpk2LGv3SXzy/j46ODvt4q16tc9fV1Q0oy7oVx5qP44knnhj2NQ6H3+/XrFmzYu6z5v4Yqg4AAJmLBAgAAHBMe3u7pOgkxNlnny1JamlpGZVzWiMDvF7vqJSfbINNDhopKyvLnvtiqFtAEvn7sI7vfztRPPEejieeeGLQJaCtBEim/O4BAMNDAgQAADgmcsSAxfqQao3QQGLk5OSou7t7wC0tkRL5+7COj5ycdLRvH7ISO6k+sSsAwBkkQAAAgGNcLpckxRyRYN2qMlpGu/xUlJeXp46ODvl8Pnt52Uij8ftI5u0mg01+CgCARAIEAAA4qLi4WJK0Z88ee5s1MqGwsHBUzml9IJ83b96olJ9sViIj1oiOWFwul1pbW2PeipLI30d9fb0kqampyS7DWhVmtAw2+Wl/lZWVoxYDACB1kQABAACOufTSS+VyubRixQp71MGGDRvk8Xii5nGwRh9YyYuuri57X3l5uaTo0Qv9P2RbS8CGw2E1NTXJ5XLZxx9O+amwDO6ZZ54paWACxKrPWKM5FixYEDMJEM/vI7I865yR57b2WxOpLl++XNnZ2TIMQ7m5uXYixVoeN55VYSLLHyzRM9TkpxZrmd7p06cf8pwAgMxDAgQAADjGmpzT5XIpNzfXnihz5cqVUcfdeeedcrlcmjp1qnw+n/Lz8+2RDMuWLZP0z6Vq16xZo4ULF0a9/uyzz5bb7VZ2dramTJmipqamhJbvpBkzZkiSXnvtNXublWyQFFWvkaqrq6OSQFJ8vw+rXEnKzs6O+jdyf05OjgKBgJ1o8Xg8CgQC9ooxoVBIHo/nkAkkwzCiyreSKf0NNfmpxaojq84AAGOLYabSQvYAMIa0tLSopKRkVCcEzFQlJSWSpObmZocjQX+GYai5udm+lcJp1gflVPt/NpL//0NdizUiZenSpcOKIxwO25OcOsXtdkctrTuaqqqqlJ2dHbOeRvq3wvsRAKQPRoAAAACkudLSUm3evDnq1p14OJ386OrqUkVFRVLO5ff75ff7VVpampTzAQBSDwkQAACQkSLnqog1D0YmsW5dWbFiRVxzaqSCzs5OTZo0Sfn5+aN+rt27d6uurk6NjY2OJ30AAM4hAQIAADJS5FwVkT+nO8MwYs6BkZOTo6amJm3cuNGBqIavoKDAnsB1tPl8Pi1btkw5OTkD9g1WnwCAzDPB6QAAAABGQ6rN+3G44rmerKysYc8DMhYMVSeZ9ncCABgcI0AAAAAAAEDGIwECAAAAAAAyHgkQAAAAAACQ8UiAAAAAAACAjMckqADgsPb2dqdDSDs9PT2S0qvuTNMcMytNbNu2TRMnTnQ6DEcd6ve9bds2Sen1N4zY2tvbVVhY6HQYAIA4GCZTXwOAI7Zv364ZM2Y4HQYA4DDdddddWr58udNhAAAOgQQIAACj4M0339Tq1au1Zs0a9fX1qby8XLfffruOO+44p0NDEvj9flVXV2vdunWaOnWq7rjjDhUVFY35kTEAADiJBAgAAAm0b98+1dbW6qGHHtKRRx6pxYsX68Ybb9SkSZOcDg0OeOmll/T9739fLS0tmjx5srxer6699lodddRRTocGAMCYQwIEAIAE2Lt3r+699149/PDD+sxnPqOlS5fq+uuv17HHHut0aEgBe/fuVU1NjX784x8rKytLt956q8rLy/XpT3/a6dAAABgzSIAAAHAYrG/4m5ubdcopp+j222/XNddcwzf8iKm3t1c/+MEP9OCDD2r8+PG64YYbdPPNN+v44493OjQAADIeCRAAAEbgueee03//93/bczz813/9l0pKSjRhAgus4dDefvttrV27VqtWrdIHH3yg6667TkuXLtXkyZOdDg0AgIw1zukAAABIJ08//bTmzZunCy64QHv27NFjjz2mF154QYsWLSL5gbh95jOfUWVlpfbu3avly5ervb1dp512msrKyvTKK684HR4AABmJBAgAAHH4zW9+o69+9au6+OKL9Y9//EO/+tWv9Mc//lFXXHGFxo2jOcXIHHPMMVqyZIleffVVrV27Vk899ZTOOussFRcXa8eOHU6HBwBARqHHBgDAIA4cOKD169fry1/+sr7xjW/oqKOO0lNPPaWnn35al156qQzDcDpEZIgjjjhCpaWlevnll9XU1KSdO3dq2rRpcrvd2rp1q9PhAQCQEUiAAADQT19fn5qbm3XeeefpW9/6lk455RT94Q9/0K9//WvNmjXL6fCQwcaPH6+ioiI999xz6ujo0BtvvKELL7xQs2fP1pNPPul0eAAApDUSIAAA/H8fffSR6uvrddZZZ+nqq6/WtGnTtGPHDq1bt05f+tKXnA4PY4hhGPrP//xP/f73v9fvfvc7HXHEEfr617+u6dOna926dTpw4IDTIQIAkHZIgAAAxrz33ntPP/jBD3T66afrpptu0pw5c/Tyyy/r0Ucf1Re+8AWnw8MY99WvflW/+c1v9Ic//EGnnHKKrrjiCp177rlqampSX1+f0+EBAJA2WAYXADBmhcNhrVmzRqtXr9b777+vsrIyeb1eliJFStu5c6dWrlyp1tZW/eu//qtuu+02XXPNNTrqqKOcDg0AgJRGAgQAMOYEg0GtWrVKDzzwgAzD0I033qibb75ZJ5xwgtOhAXHbu3ev7rvvPv3P//yPsrOzdeutt8rj8ejTn/6006EBAJCSSIAAAMaMv/71r6qpqVFDQ4OOPfZY3Xzzzbrxxhv1L//yL06HBozY66+/rvvvv191dXWaOHGibrzxRi1evFjHHXec06EBAJBSSIAAADLeq6++qpUrV+qnP/2pcnJy5PV6VVZWpqOPPtrp0ICEeeutt7R27VqtWrVKH330ka677jrdeuut3NIFAMD/RwIEAJCxnn/+ea1cuVKPPfaYTj31VN1xxx266qqrdMQRRzgdGjBq3nvvPT300EO6//779cYbb2jRokW6/fbbdfrppzsdGgAAjmIVGABAxtm+fbsuu+wy5eXlaceOHfrpT3+qXbt2qbS0lOQHMt4xxxyjW2+9Va+++qrWrFmjTZs26ayzzlJJSYmef/55p8MDAMAxJEAAABnjqaee0te+9jXNmDFD+/bt089+9jPt2LFDxcXFGj9+vNPhAUl15JFHqqysTLt27dJPfvITPf/888rLy9P8+fPV1dXldHgAACQdCRAAQFozTVO//OUv9ZWvfEWzZ89WX1+ffvvb32rbtm267LLLZBiG0yECjho/fryKi4vl9/u1fv16BYNBzZw5U3PmzNGmTZucDg8AgKQhAQIASEsHDhxQe3u7LrjgArlcLn3mM5/RM888o9/97nf62te+5nR4QMoxDENut1tbt25VZ2enxo0bp7lz52rGjBlav369mBYOAJDpSIAAANLK/v379cgjj+jzn/+8FixYoM997nN69tln9Ytf/EIXXnih0+EBaWH27Nl68skntW3bNp188sn61re+pXPPPVfNzc3q6+tzOjwAAEYFCRAAQFr48MMPtXbtWn3uc5/Tddddp5kzZ2rnzp16/PHHNW3aNKfDA9LS9OnTtW7dOu3YsUPnn3++rr76ap155pmqq6vTRx995HR4AAAkFMvgAgBS2jvvvKO6ujrV1tYqHA7r2muvldfr1amnnup0aEDG+fOf/6x7771XDz/8sCZNmqSlS5fq+uuv17HHHut0aAAAHDYSIACAlPTWW29p9erVWrNmjfbv3y+Px6Nbb71VJ554otOhARlv3759uv/++/XQQw9p4sSJuummm7R48WJNmjTJ6dAAABgxEiAAgJTy+uuvq7a21v7gtXjxYt1000188AIc8NZbb2nNmjVavXq1Pv74Y11//fVaunSpTjrpJKdDAwBg2EiAAABSwt69e1VTU6Mf//jHys7Otofef/rTn3Y6NGDMe/fdd/XQQw/p/vvv15tvvqlrrrlGt912m0477TSnQwMAIG4kQAAAjnr55Ze1cuVKtbS0aPLkyfJ6vbr22mt11FFHOR0agH4++ugjPfLII7r33nvV09Ojb3/727rzzjv1hS98wenQAAA4JFaBAQA44rnnntOVV16pL3zhC+rq6lJ9fb12796tG264geQHkKKOPPJIXX/99dq1a5ceeeQR+f1+nXvuufrmN7+pbdu2OR0eAABDIgECAEiq3//+9/qP//gPffGLX9Sf/vQntbW1aefOnbr66qs1ceJEp8MDEIcJEyaopKREO3bs0Lp167Rv3z7l5+dr7ty56uzsdDo8AABiIgECAEiKJ598Ul/96lf1la98RaFQSL/4xS/07LPPqrCwUOPG0RwB6cgwDM2fP19dXV3auHGjTNPUnDlzNHPmTHV0dIg7rQEAqYQeJwBg1JimqfXr12vGjBn6+te/riOOOEJPPfWUnnnmGc2bN0+GYTgdIoAEmTNnjjZt2qSuri7l5ubqsssu03nnnaeWlhb19fU5HR4AACRAAACJ19fXp5aWFp133nm6/PLLdfLJJ2vbtm367W9/q1mzZjkdHoBRNGPGDK1fv147duzQeeedp0WLFumss85SfX29PvroI6fDAwCMYSRAAAAJ8/HHH6uhoUFnnXWWrrrqKp133nn2HAHTp093OjwASXTOOeeoublZL7/8subOnavFixfrtNNO0/333693333X6fAAAGMQy+ACAA7b+++/r/r6etXW1ioYDOqqq67SHXfcodNPP93p0ACkiNdee021tbWqr6/XkUceqcWLF+vGG2/UpEmTnA4NADBGkAABAIxYOBzW2rVr9cMf/lDvvfeeysrK5PV6dcoppzgdGoAU9eabb2rNmjVas2aN9u/fL4/Ho1tuuUUnnXSS06EBADIcCRAAwLD9/e9/16pVq/TAAw9Ikm644QYtWbJEJ5xwgsORAUgX77zzjh566CHdf//9evvtt3XNNdfotttu02c/+1mnQwMAZCgSIACAuP3tb39TTU2NGhoadPTRR+vmm2/WjTfeqKysLKdDA5CmPvzwQz388MO677779Je//EVFRUW644479PnPf97p0AAAGYYECADgkF599VV9//vf109+8hOdcMIJ8nq9Kisr0zHHHON0aAAyRF9fn9ra2rRy5Uq99NJLcrvdqqio0Je//GWnQwMAZAhWgQGAMWjXrl0yDEM33XTTkMe9+OKLKikp0VlnnaXOzk6tWbNGe/bs0ZIlS0h+AEioCRMm6Dvf+Y527Nih//3f/9Xf/vY3TZ8+XV//+tf11FNPDfnaxx9/XIZh6IknnkhOsACAtEQCBADGmF27duniiy+WJD3wwAN64403Bhzzhz/8Qd/85jd17rnnyql3QiwAACAASURBVO/365FHHtHLL7+s6667TkcccUSyQwYwhowbN06XXXaZtm/frieffFJ9fX2aPXu2Zs6cKZ/Pp1iDl3/0ox9Jkr797W+rvb092SEDANIECRAAGENefvllXXTRRXr77bclSRMnTtSqVavs/Zs3b9Yll1yi6dOn629/+5t+9rOfaceOHSopKdGECROcChvAGDV37lx1dnZq69atOuGEEzR//nxNmzZNra2t+uSTTyRJ27dv1+bNmyVJBw4c0IIFC/TYY485GTYAIEUxBwgAjBEvv/yyLr74YoVCIfX19dnbjz32WD3yyCP6wQ9+oGeeeUazZs1SRUWFvv71rzsYLQAMtGPHDn3/+9/XY489ps9+9rO6/fbbtX79ej355JPav3+/fdy4ceP06KOPqqioyMFoAQCphgQIAIwBL730ki6++GKFw+Go5Id08L778ePHq6CgQHfddZe+8pWvOBQlAMTHmpj5kUceiUp8RBo3bpx++tOfqqSkJMnRAQBSFQkQAMhwQyU/LNnZ2Xrttdf0qU99KsnRAcDIXX755frFL34xZBLkkUce0cKFC5McGQAgFTEHCABksJdeekkXXXTRkMkPSXrnnXfU2NiYxMgA4PC8+uqr+vnPfz5o8kM6OCfI1VdfrZ/85CdJjAwAkKpIgABAhtq5c6cuuugi/eMf/xgy+SFJn3zyiVasWKGPP/44SdEBwOG59957NX78+EMed+DAAX33u9/Vww8/nISoAACpjFtgACAD7dy5UxdffHFcyY9IjzzyiBYtWjSKkQHA4Xvrrbd03HHHDes1hmGosbFR3/3ud0cpKgBAqmNNQwDIMH/84x/1pS99KWqbYRiaOHGiJGn//v2yct+GYWjSpEk65ZRTdPTRRzMBKoC0kJWVpTlz5uj1119Xb2+v3nzzTUV+p3fEEUdIkvr6+nTgwAFJkmmauvbaa/Xaa6+psrLSkbgBAM5iBAgS6sgjj2QIPQAM4a677tLy5cudDgOjjPYQAIZGewgnMAIECfXxxx/rsssuU3FxsdOhZIQrr7xSixcv1kUXXeR0KCmB+ojPhg0b9PDDD6u1tTWu++ORPCUlJfrzn//sdBhIAtrDxErU+38oFNL+/ft1wgknJCgyZ9Aexufpp5/W6tWr9fjjjzsdCvqhPYRTSIAg4QoLC1VYWOh0GBljxowZ1GcE6uPQ9u/fr4cfflgLFixwOhT0s379eqdDQBLRHiYW7//RqI9Ds1YIop5SD+0hnMIqMAAAAAAAIOORAAEAAAAAABmPBAgAAAAAAMh4JEAAAAAAAEDGIwECAAAAAAAyHgkQAGNOVVWVqqqqnA4jZQWDQdXW1jodRsqpra1VOBx2OgwASBjaw6HRHsZGe4h0RgIEAJIsHA7LMAynw4gpGAzq7rvv1vnnny/DMGQYxqCdY2t/5CNVhcNhdXV1qaGhQW63O+b+WNdjGIba2tokSXPnztXChQsVDAaTHT4AZCTaw+SjPcRYN8HpAAAg2aqrqx09/5YtWxw9/2DC4bBKS0tVUVGh/Px8hUIhbdiwQUVFRZIG1ptpmgoGg8rNzVVvb69ycnKcCDsuNTU1kqTly5fH3P/SSy8N+tqCggJJUl5enioqKlRaWqqmpiZlZWUlPlAASCLaw9hoD2OjPUQmYAQIACRROBxWQ0OD02HE1NjYqLy8POXn50uSsrKytGDBAkkHO0rWNz+RrE5eKnf2pIOd1aE6+nv37lUgEJBpmvajt7dXlZWVUdeWn5+vyZMnq7GxMRlhA0DGoj10Bu0hxjoSIADGlGAwqLa2NnvYZ//nPp9PhmHI7Xarp6fHPsbn89nHNDQ0yDAMlZeXa/fu3XbZsYa+9t9WU1Mjn88XtU9y/j7sYDAor9er2bNnx9xfU1OjoqKimJ2+WMLhsNra2uxrbGhoiBoqG0+9Rx5bW1tr7+/s7BzhVQ6uoKBAU6ZMidrW2dmpK664YsCxhYWF8nq9DP0FkNZoD2OjPaQ9RIYzgQSSZDY3NzsdRsagPqMloj5cLpcpybTe/iKfb9261TRN0wwEAqYk0+Px2Oftf0woFDI9Ho8pydy1a5dpmqbZ29sbVXZkWZHb+j83TdOsrKw0KysrD+vaLM3NzQPKP5SOjg5TkhkIBAbss8qqrKw0JZnd3d0x90dyuVxmfX29aZoH68Xlcpkul8sMhUL2/kPVe+RrW1tbTdM0zU2bNsWMIV6x6n4wkXFEsuLs6OgY9vmLi4vN4uLiYb8O6Yf378SiPqPRHsaH9nBwtIcYq0iAIKHooCQW9RktUfURTwcsnmO6u7tNSWZNTc1hl5VII+nwWZ25WKztoVDI7qhZndzI/RarU9bb22tv27p1qynJ7rhZrztUXbW2tsY8ZqSd43jrvru7OyrWSKFQaMDvPV50+MYO3r8Ti/qMRnsYH9rDwdEeYqziFhgAGKG8vDxJktfrdTiSwzfYZGiRsrKy7Ht9hxry2t7eLin6Puizzz5bktTS0jKsuKzj+w+djifew/HEE0/Yk731Z032lgm/dwBIBNpD2kMgXZAAAQDELScnR93d3fL5fCotLVU4HB5wTF1d3YBtVifJut87XtbxZsRkbNZjtFgd2VSfyA4A4BzaQyA9kQABgMPk8XicDiGp8vLy1NHRIZ/PZy+nF8nlcklSzG/ERlpXkZPrjbbBJnsDAAyN9jAa7SGQekiAAMAIWZ2QefPmORzJ4bM6brG+wYrF5XKptbU15tDb4uJiSdKePXvsbVa5hYWFw4qrvr5ektTU1GSXYc2CP1o2b95sD+ceSmVl5ajFAADphPaQ9hBIFyRAAIwp/Zeei3xudSgiOz39v7Wxlr0Lh8NqamqSy+Wyv+GR/vmNjtUZ7OrqsveVl5dLiv5GyOq4OL3s35lnnilpYIfPuv5Y314tWLAgZqfn0ksvlcvl0ooVK+zXbdiwQR6Px76PON56nz9/vqSD9zhnZ2fLMAzl5ubaHUdrOUC/33/Ia4wsf7COrd/v16xZs4Ysx1qWcPr06Yc8JwCkKtrD2GgPD6I9RKYiAQJgTMnNzY36OfJ5dnZ21L/9j5cOTl7mdruVnZ2tKVOmqKmpKWr/nXfeKZfLpalTp8rn8yk/P9/+dmjZsmWSpOrqaknSmjVrtHDhwsRe4AjNmDFDkvTaa6/Z26zOlXSwHqwJ1yJVV1dHdXilf04O53K5ol63cuVK+5h46z0nJ0eBQMDuWHo8HgUCAU2ZMkWSFAqF5PF4DtlZNgwjqnyr89jfUJO9Waw6suoMANIR7WFstIcH0R4iUxnmaM6cgzHHMAw1NzfbQ/5weKjPaE7Wh9U5SIe3zJaWFpWUlAw7Vuvbt6VLlw7rdeFw2J7UzSlut1sdHR1JOVdVVZWys7OHXU+SVFJSIklqbm5OdFhIMbx/Jxb1GY32MD60h6OL9hDpiBEgAABJUmlpqTZv3hw1TDkeTnf2urq6VFFRkZRz+f1++f1+lZaWJuV8AIDkoz08NNpDpCsSIEg5wWBQbW1tcrvdTocCSBp4n3SmsobqrlixIq57iFNBZ2enJk2apPz8/FE/1+7du1VXV6fGxkbHO7kYG2gPkWpoD1MX7SEQHxIgSDl33323ioqKhr0+eirx+/0yDMN+WJN9jabI8/V/1NbWyufzxT2jOaL1v086k+Xk5KipqUkbN250OpS4FBQU2BPWjTafz6dly5YpJycnKecDMqE9tPj9fjU0NMjtdsecbyCRaA9HD+1h6qI9BOJDAgQp58EHH3Q6hMO2ffv2qOfJWBbONE319vbaz0OhkEzTlGmamjt3rhoaGrRw4cKM/sZmtFj1aD0yXVZW1oju5810S5cupbOHpMqE9lA6OJ9CVVWVTjzxRD3wwAOj/j5Kezh6aA8h0R4ivZEAAUbBiSeeGNVB6D8r+GiJbIwihyTm5eWpsbFR0sH7WvnmCwCQDOXl5QqFQvYyqdaKFaON9hAAEAsJEDguHA6rra1NhmHI7Xbb68X3Z60Rbx3X2dlpb4+8R9rn89nHWOuTW6zXNzQ0KBgMDhiGO9g5hqOnp0dut1tVVVXDnjxrNOXk5GjJkiXy+XzasmVL1L50qVsAyGSZ1h5ay3FWV1en1DwBtIcAMIaZQAJJMpubm4f1GpfLZXo8HjMUCpmmaZqtra2mJDPyz7O3t9d0uVxma2uraZqmuWnTJlOS2d3dbbpcLvv4rVu3mqZpmoFAwJRkejweu4yamhozEAiYpmmaoVDIrKysjPscw9HR0WHHI8l0uVxmb2/vsMqwjKQ++9ddpFAoNKBe0qluR1IfY1Fzc/OgfwNwVnFxsVlcXOx0GEiCsd4ednd3m5LMjo4Os76+3m4PN23aNKw6sdAeDrw22sNDoz1MXbSHcArvCEio4TbIVrJg165d9jarUxLZYFmdwP7nqqystH+OtT9ym6SoRERvb++wzjEcoVDI7O7utjs+9fX1wy7DOn8iO3yx9qdT3dLhiw8dvtRFh2/sGOvtYU1NTdQH+1AoZHo8nqgEwnDQHg6Mnfbw0GgPUxftIZwyYeCYECB5fvWrX0lS1KzVsYbJtrS0SNKAYaTLly9XdXV1XOfyeDzKzc1Va2urLr30UuXk5ERN4JWIc0ReQ15envLy8jRlyhT5fD6VlZUNq4xkSbe63bZtmyZOnDis14w127ZtkyS1t7c7HAn66+npSdocCEgvmdYeer1eSQfn3LCuxePxqK6uTj/5yU+SslTncKVL3VpoDw+N9jB10R7CMc7mX5BpNMxvJDTItzP9tw923FD7+2/btWtX1BDWmpqauGI5XNY3eCMx3Pq0XjPY+axYIr9pSqe6tcrhwSOdH3zjNTZIY7s9jPd6hlMe7eHAcnjwSOcH7SGcwCSoSCuDTQgXjzPPPFMdHR3q7u6Wx+OR1+tVbW1tQs8Ri/WtVyr44x//KEmaPXv2gH3pUrfNzc0DluHjEf1obm6WJMfj4DHwUVxcfNj/BwAp9d+zrXYv1ioryVoZbSi0h2PjQXuYug/aQziFBAgcVV9fL0ny+/1xHdfU1GR3pqxZ1ONlGIbC4bDy8vL04IMPqru72x6im6hzxBIOh1VYWHhYZSRCMBjUD3/4Q7lcLhUUFNjb07luASBTZFp7aLV7e/futbdZZTn9wYf2EADGMBNIIGl4Q1StGdRdLpc9a7o1I7r0z5nVrUnE+j8CgUDUPmvm/MiJ46zJyKSDQ12t8wQCgaihqUOdI16tra1RM9wHAgGzo6Mj7tf3N9z6jLxuqy5M07RnsI+1Ik261O1I6mOsYtK31MWkb2PHWG8PTdM0Kysro9qd+vp60+VyDasMC+3h4dXHWEV7mLpoD+EURoDAUVOmTFEgENDkyZP1b//2byovL9c555wjl8ul1tZWLVu2TJKUk5OjQCCgyspKSQeH1gYCAU2ZMkW5ubl2ednZ2VH/Soraf9NNN6m9vV2GYai9vV1Lly619w11jngdc8wxmjNnjgzDUFVVld5+++2kDfU1DCPqurOzs2UYhgzD0MaNG1VRUaGOjg7l5OREvS5d6hYAMlmmtYeSVF1dLZfLpdzcXHvSz6ampmGVMRK0hwCAwRimaZpOB4HMYRiGmpubHR/emimoz2jUR3xaWlpUUlIi3t5TT0lJiSTZ96Ujc/F+lVjUZzTqIz60h6mL9hBOYQQIAAAAAADIeCRAAAAAAABAxiMBAsTBunf4UA8gE7AiQWy1tbUxl/QExhLaQ4wltIex0R4inZEAAeJgxrmmOTJXOBwe1U79aJcfr2AwqLvvvlvnn3++/UGmqqoq5rHp9KEnGAyqqqrKjrOtrW3AMT09PSovL5dhGCovL1dnZ2fU/rlz52rhwoUKBoPJChtIObSHoD0cKJ3aw0O1dRa/3x91PeXl5fY+2kOkMxIgABCHLVu2pHX58QiHwyotLdWiRYtUUFCgUCik1tZWLV++PGanzzRN9fb2SpJ6e3tT9kNPMBjUnj17VF1dLdM01draqqKioqhv9cLhsPx+vx588EGFQiHNmjVLc+bMkc/ns4/Jy8tTRUWFSktL+eYLwJhFe5i+7WE8bZ1l+/btUc/nzZtn/0x7iHRGAgQADiEcDquhoSFty49XY2Oj8vLylJ+fL0nKysrSggULJEnLly+POWrCWkay/3KSqWTPnj32NUmyr8nr9drbtmzZYi9ZHXndbrc7qqz8/HxNnjxZjY2Nox02AKQc2sP0bg/jbesk6cQTT4wa1WW9zkJ7iHRFAgRARguHw2pra7OHcDY0NEQN2Yw1XLX/tpqaGvvbEWt7MBiUz+ezOw0NDQ32ENHdu3cfdvmSVFVVNehw20QLBoPyer2aPXt2zP01NTUqKiqK2emL5VD1HgwG1dbWZtefz+eTYRhyu93q6ekZEFttba29f7DhuoOJTH5YsUlSZWWlva1/x87i8XgGbCssLJTX62XoL4C0QnsYn0xuD+Nt63p6euR2u1VVVaWurq5By6M9RDoiAQIgoy1cuFDvvPOOPTzV5/NFDdm0hqxGCgQCUc+rq6vtn61vQnJzc+V2u+Xz+dTV1aWysjKFQiFJ0tSpU+1O30jLT7Zt27ZJks4444yY+5cuXarKykoVFRXJ7/cfsrxD1XtpaamKiors+nO5XAoEAvL5fLrnnnvscoLBoEpLSzV58mSZpqklS5Zozpw5ccUQS09Pj2pqauwYB2PFGTnk12LVkVVnAJAOaA/jM1baQ2nwts4qc/ny5Zo5c6bcbnfMJAftIdKSCSSQJLO5udnpMDIG9RltuPWxadMmU5LZ29trb9u6daspyWxtbY0qt//bYf9t8RxjmqbZ3d1tSjJramoOu/yRam5uHnZZlZWVg77G2h4KhUyXy2VKMnft2jVgvyWR9d7a2hrzmMrKymFdn2maZiAQsMvv/zvqb9OmTabL5TJDodCAfaFQ6JCvH0xxcbFZXFw87Nch/fD+nVjUZzTaw/jQHg7tUG1dd3e3XR/19fUxj6E9RLphBAiAjNXe3i4p+n7cs88+W5LU0tIyKufMy8uTFD2/RDpYvnz5IY/Jysqy7/UdashrIuvdOr7/MOl44u1vypQpMk1T3d3dqqyslNfrHfRe8x/+8IeqqKhQVlbWgH3WtnT7HQMYu2gP4zcW2kPLodq6vLw8VVdXq76+PuZEqbSHSEckQABkrLq6ugHbrMY6VkOOQ8vJyVF3d/eAIbyRElnv1vFmApfZzMvLs29/ue666wbsb2trk8vlGjB3CACkK9rDxEv39nA4bd2VV17J3wkyBgkQABnLmuwr1jczsSa3TKTRLt9JeXl56ujokM/ns+fTiDQa9R45kV4inHnmmTG3+/1+vfjiiyorK0vo+QDASbSHoyNd28PhtnVZWVkZ/XvE2EICBEDGKi4ulnRwGVSL9Q1NYWHhqJzT6pjEmjwzlVkdt1jfYMXicrnU2toac+htIuu9vr5ektTU1GSXYc2CfzisslpbW+1twWBQGzdujJqEz+/3q7y8PGYZkavIAEAqoz2MX6a3h8Nt66yYh4qX9hDphAQIgIx16aWXyuVyacWKFfa3Lxs2bJDH41FBQYF9nPWthtVZi1zyzeoQRH6L07+zYS2FFw6H1dTUJJfLFbXU3EjLT+ayf9aIiP4dPqveYn17tWDBgpidnnjqPbI865yR57b2z58/X9LBe5yzs7NlGIZyc3Ptjpi1HOBQs+C73W7V1tbaywmGw2HV1NSosrJSCxYssM9XWloqr9cbdX/1tGnTBnTerXKmT58+6DkBIJXQHsYvk9vDeNq6tra2qOV1e3p6tGXLlqi/k8h9Eu0h0oxDk68iQ4lZ2hOK+ow2kvro7e016+vr7dnUW1tbB8x2HggE7NncOzo6TNM0TZfLZba2ttozt1uz2VdWVtrbrDK7u7vt19fX1yes/MrKyhHN7j6SWe97e3tNSebWrVvtbdb1RT5icblcMcsbqt5jlTvYuQKBgD0LvcfjMQOBgL2vsrLS9Hg8MWOwdHR0DFj9JfI6TdM0PR5PzOtVvxn+TfOfM/hHzuofL2a9Hzt4/04s6jMa7WF8aA+jxdPWRbaZlZWVZnd396Dl0R4iHRmm6cAC28hYhmGoubnZHvKHw0N9Rku1+rBmYE+1t9GWlhaVlJQMOy7rm7alS5cO63XhcDjmDPLJ5Ha71dHRkZRzVVVVKTs7e9j1JEklJSWSpObm5kSHhRSTau9X6Y76jJZq9UF7eBDtYfxoD+EUboEBAEiSSktLtXnz5qghyfFwurPX1dWlioqKpJzL7/fL7/ertLQ0KecDACQf7eGh0R4iXZEAAYARiLxnN9b9wOkoKytLjY2NWrFixZD3EKeSzs5OTZo0KSlL1u7evVt1dXVqbGx0vJMLAKmC9jA10B4C8SEBAgAjkJubG/PndJeTk6OmpiZt3LjR6VDiUlBQMOiStonm8/m0bNky5eTkJOV8AJAOaA9TA+0hEJ8JTgcAAOko1e5zTqSsrKwR3c+b6agTABiI9nDsoU6QzhgBAgAAAAAAMh4JEAAAAAAAkPFIgAAAAAAAgIxHAgQAAAAAAGQ8JkFFwpWUlGj9+vVOh5ExVq9eTX3qn5OsUR+H1tPTI0m68sorHY4E/bW3t6u4uNjpMJAktIeJxft/tGTVh2maMgxj1M8zGmgPUxftIZximJk8dTOSrqKiQq+88orTYSDDfPzxx3ryySeVn5+v4447zulwgMOycOFCuVwup8PAKKM9RCZ44YUX9I9//EMXXnih06EgA9EewgkkQACkvOXLl6u2tlZ/+ctfdOyxxzodDgAAY8LPf/5zXX755XrxxRd11llnOR0OABw25gABkNI++OADrV27VjfccAPJDwAAksjlcum0007T/fff73QoAJAQJEAApLRHH31Ub731lm644QanQwEAYEwZN26cbr/9dj366KPat2+f0+EAwGEjAQIgZR04cEC1tbVatGiRTjrpJKfDAQBgzPnOd76jT3/60/rRj37kdCgAcNhIgABIWT6fT7t379aSJUucDgUAgDHpU5/6lG666SatXbtW7777rtPhAMBhYRJUACnroosu0vHHH8+yhwAAOOiNN97QqaeeqnvuuUc33XST0+EAwIgxAgRASurq6tIzzzyjW2+91elQAAAY044//nh997vfVW1trfr6+pwOBwBGjBEgAFLS5Zdfrn379mnr1q1OhwIAwJj36quv6qyzzlJzc7OuvPJKp8MBgBEhAQIg5bzyyiuaOnWqHnvsMV1xxRVOhwMAACR9+9vf1p/+9Cc9++yzTocCACNCAgRAyrn++uvV2dmpXbt2adw47tQDACAV/N///Z++/OUvq7OzU7Nnz3Y6HAAYNhIgAFLKG2+8oSlTpqimpkbf+973nA4HAABEmD17to488kj9+te/djoUABg2vloFkFJWrVqlY445Rtdcc43ToQAAgH5uu+02/fa3v9ULL7zgdCgAMGwkQACkjA8++EB1dXW64YYb9KlPfcrpcAAAQD+XXnqpzj77bN13331OhwIAw0YCBEDKaGxs1Hvvvacbb7zR6VAAAEAMhmHo9ttvV1tbm/761786HQ4ADAsJEAApoa+vT6tXr9Y111yj448/3ulwAADAIIqKinTcccdp1apVTocCAMNCAgRASvjZz36mPXv26JZbbnE6FAAAMIQjjjhCt9xyixobGxUKhZwOBwDiRgIEQEqora3V5ZdfrjPOOMPpUAAAwCGUlZWpr69PjY2NTocCAHEjAQLAcU899ZS2b9+upUuXOh0KAACIQ3Z2tjwej1atWqWPP/7Y6XAAIC6GaZqm00EAGNtcLpf+8Y9/aPPmzU6HAgAA4tTT06MzzjhDjY2Nuuqqq5wOBwAOiQQIAEft3LlT55xzjtatW6f58+c7HQ4AABiGRYsW6dlnn9WOHTtkGIbT4QDAkEiAAHDUd7/7XW3btk0vvPACHScAANJMd3e3LrjgAm3YsEGXXHKJ0+EAwJBIgABwzL59+3TqqafqgQceUFlZmdPhAACAEfjGN76hjz/+WJ2dnU6HAgBDYhJUAI5ZtWqVjjvuOC1atMjpUAAAwAh5vV797ne/03PPPed0KAAwJEaAAHDEu+++q3/913+V1+vVXXfd5XQ4AADgMFxwwQX63Oc+p8cee8zpUABgUIwAAeCI+vp69fX16YYbbnA6FAAAcJi8Xq9+9rOfKRAIOB0KAAyKBAiApOvr69OqVat07bXXKjs72+lwAADAYbryyit18sknq7a21ulQAGBQJEAAJF1ra6tee+013XrrrU6HAgAAEmDChAm65ZZb9PDDD+vtt992OhwAiIkECICk+8EPfqDCwkJNmTLF6VAAAECClJaWasKECVq7dq3ToQBATCRAACTVb37zGz333HO67bbbnA4FAAAk0LHHHqvvfe97+tGPfqQPPvjA6XAAYABWgQGQVN/4xjfU19enjRs3Oh0KAABIsH379unUU0/VAw88oLKyMqfDAYAoJEAAJM1zzz2nCy64QL/+9a91ySWXOB0OAAAYBWVlZXr66af14osvatw4BpwDSB0kQAAkzVVXXSW/36/u7m4ZhuF0OAAAYBTs3LlT55xzjtatW6f58+c7HQ4A2EiAAEiKnp4enX766frxj3+sq666yulwAADAKLrsssv0xhtv6Omnn3Y6FACwMSYNQMI98cQTA+b4WLVqlU4++WQtWLDAoagAAECy3HLLLXrmmWfU1dVlb3v//fe1Zs0aPf/88w5GBmAsYwQIgISzbm/5whe+oDvuuEOXXHKJTjvtNN19993yer0ORwcAAJJh5syZOumkk1RXV6e1a9dq1apVCofDKioqUktLi9PhARiDSIAASKgPPvhARx99tCRp3LhxMk1TkyZN0v79+/XSSy/p5JNPdjhCAACQDKtXr1ZlZaU+/PBDSdL+/fslSfPmzdMvf/lLJ0MDMEZxCwyAhNq3b5/984EDB2Sapt58802999570CsAKQAAIABJREFUmjp1qu644w699tprDkYIAABG0+9//3tddtllWrJkiT788EPt37/fTn5I0l/+8hcHowMwljECBEBCdXV1aebMmYPunzhxovbv3y+v16v77rsviZEBAIDR9O677+qzn/2s3njjDbu9jyUnJ0e9vb1Jjg4AGAECIMEiR4DEYnWGdu7cmYxwAABAkvT19emNN96QpEGTH5L01ltvJSskAIhCAgRAQgWDQU2cOHHQ/RMmTNAll1yidevWJTEqAAAw2rKzs/Xyyy9r0qRJmjBhwqDH9fX16c0330xiZABwEAkQAAn1+uuva9y42G8tEyZM0IUXXqh169bpiCOOSHJkAABgtE2dOlVPPfWUjjnmGI0fP37Q44LBYBKjAoCDSIAASKjXX39dBw4cGLB94sSJ+uIXv6gNGzboU5/6lAORAQCAZDj33HO1ceNGHXXUUYMmQQ51yywAjAYSIAAS6vXXXx9w3+/EiRN1zjnn6De/+Y29RC4AAMhcX/rSl/Tb3/5WEyZMGDAy1DAMJkEF4AgSIAASqv/SdhMnTtTpp5+uJ598UllZWQ5FBQAAku3CCy/Ur371K02cOFGGYdjbJ06cSAIEgCNIgABIqMgOzcSJEzVlyhRt2bJFxx13nINRAQAAJxQUFGjdunUaP368nQQxDEOvv/66w5EBGItIgABIqL///e+SDiY/TjrpJD311FM64YQTHI4KAAA45dJLL9Vjjz1mJ0D6+voYAQLAESRAACTMu+++q48++kiSNGnSJG3evFmnnHKKw1EBAACnXX755Xr00Uc1btw4ffLJJ/rrX//qdEgAxiDDNE0zckNfX586Ojr0ySefOBUTgDS1b98+3XzzzZKk1atX68QTT3Q4IgCHa/z48XK73ZowYcKolL9161Y+CAFjSGdnp+rq6iRJjz/+uMPRAMhUg/VfBiRA1q9fr29+85tJDQ4AAKSudevW6bLLLhuVsiMnRgQAAEiUWP2XAV/nvP/++5KkfnkRICW1tLSopKSEv1ekJP4+41dSUiJJam5udjgS9GcYht03GC3Nzc0qLi4e1XMAqYT2AamMv8/40X9JXYP1X5gDBAAAAAAAZDwSIAAAAAAAIOORAAEAAAAAABmPBAgAAAAAAMh4JEAAAAAAAEDGIwECAAAAAAAyHgkQAEgDVVVVqqqqcjqMlBUMBlVbW+t0GCmntrZW4XDY6TAAAGMU/Zeh0X+JbTT7LyRAAACHFA6HZRiG02HEFAwGdffdd+v888+XYRgyDGPQzpa1P/KRqoLBoKqqquw429raBhzT09Oj8vJyGYah8vJydXZ2Ru2fO3euFi5cqGAwmKywAQBIGfRfku9QfROL3++Pup7y8nJ732j2X0iAAEAaqK6uVnV1tWPn37Jli2PnHko4HFZpaakWLVqkgoIChUIhtba2avny5TE7EaZpqre3V5LU29sr0zSTHXJcgsGg9uzZo+rqapmmqdbWVhUVFUV9SxQOh+X3+/Xggw8qFApp1qxZmjNnjnw+n31MXl6eKioqVFpaykgQAEDS0X+JLVP7L/H0TSzbt2+Pej5v3jz759Hsv5AAAQAMKRwOq6GhwekwYmpsbFReXp7y8/MlSVlZWVqwYIEkafny5TFHTeTk5ET9m4r27NljX5Mk+5q8Xq+9bcuWLXK5XJKir9vtdkeVlZ+fr8mTJ6uxsXG0wwYAIGXQf0m+ePsmknTiiSfKNE37Yb3OMlr9FxIgAJDigsGg2tra7Maj/3Ofzyfj/7F3t8Fxlffdx3/rJyihlQodmeJGzSSpjadNBSXFJgmhyM7N2MlZdwApekAxoJVn3UkoHetNPKt6PFIdZir1zh1eRLO7MlB5JRG7aaItIbS2OjYJlklJtU3TGBMcViQ0WqbJbklLibHP/UI9h304K+1Kqz27q+9nRmPrnLPX+e+1R7vX+e/14PHI6/VqdnbWPiYajdrHhEIhu3vhhQsX7LKdulJmbxscHLQz9+nb3R7Xm0gk1Nvbq7vuustx/+DgoNrb2x0bEU5SqZQmJibs5xgKhTK6XhZS7+nHDg0N2fvzdf/MJz35YcUmSYFAwN6W3VCw+P3+nG0tLS3q7e1lKAwAoGxovzir5fZLoW2T2dlZeb1e9fX1aXp6Om95K9J+MbNEIhHTYTNQkbheUclKdX0ahmFKsstK//3s2bOmaZpmPB43JZl+v980TdPen35MMpk0/X6/Kcl86aWXTNM0zbm5uYyy08tK35b9u2maZiAQMAOBwLKfn2maZkdHh9nR0VHUYyYnJ01JZjwez9lnxRoIBExJ5szMjOP+dIZhmMFg0DTN+XoxDMM0DMNMJpP2/sXqPf2x4+Pjpmma5qlTpxxjKFQ8Hrefh/W6OUkmk6Ykc3Jy0rGMfPsWI8mMRCJFP65SygcqEe0XVDLaL4Wj/bKwfG0Tqw6sH8MwzLm5uZzHr0T7hQQIqhrXKypZKa/PQj7QCzlmZmbGlGQODg4uu6xSWkoDwmocOLG2J5NJ+4M/PXmQ/TjrQz79w/fs2bOmJLshYD1usboaHx93PGYpja30xlz265bt1KlTGQ2edFYDZKHH50MCBCg92i+oZLRfCkf7ZWGLtU1mZmbs+rCSONnHlLr9whAYAFhFmpqaJGXOJVGtBgYGFj2mrq7OHju6UBfK48ePS8ocV7t161ZJ0tjYWFFxWcdnd8UtJN5sjY2NMk1TMzMzCgQC6u3tzTue+Ytf/KIOHjyourq6nH3Wtlp43QEAqw/tl+pqv1gWa5s0NTWpv79fwWDQcaLUlWi/kAABANS0hoYGzczMKBqN5p1NfHh4OGeb9aHr9IG8EOt4M21iL+tnqZqamtTV1SVJ2rdvX87+iYkJGYaRM3cIAACoTtXefimmbdLa2lp0vEtFAgQAViGniTJrWVNTkyYnJxWNRjU4OJiz35q0y+kblqXWVfpkbaWwefNmx+2xWEzf//731dPTU9LzAQBQaWi/ZKrU9kuxbZO6urqyvbYkQABgFbE+1NLXWq9WVkOg0PXhDcPQ+Pi4Y1fOjo4OSfPLz1qscltaWoqKKxgMSpJGR0ftMqxZ1ZfDKmt8fNzelkgkdPLkSfX399vbYrGY9u/f71hG+ioyAABUC9ov1dN+KbZtYsW8ULylbL+QAAGACpe9lFn679YHVPqHaPa3ANYyaqlUSqOjozIMI2OZMivjbjUu0pcjsz6s0r9hsD4I3V5GzuoRkd2AsJ6/07chbW1tjh+iu3btkmEYOnLkiP24Z555Rn6/X83NzTnlLVTve/bskTQ/Zra+vl4ej0cbN260P9it5eVisVje5+b1ejU0NGQvT5dKpTQ4OKhAIKC2tjb7fD6fT729vRnjdW+++eacBqJVzm233Zb3nAAAlBLtF2e13H4ppG0yMTGRsbzu7Oyszpw5Y8ebbiXaLyRAAKDCbdy4MeP/6b/X19dn/Jt9vDQ/GZbX61V9fb0aGxs1Ojqasf/zn/+8DMPQli1bFI1GtX37dvvbhsOHD0uSncV/7LHH7Lko3LZt2zZJ0uuvv25vsz6spfl6sCbwStff35+zTr012ZhhGBmPe/TRR+1jCq33hoYGxeNxu6Hi9/sVj8fV2NgoSUomk/L7/Qs2vnp6etTb26vf/u3flsfjUTgc1ic/+cmMb1MOHTqUd7zsli1bMn636siqMwAAVhrtF2e13H4ppG3ynve8Rzt27JDH41FfX59+/vOf5zwvy0q0Xzxm1qwmY2Nj6uzsXNZkbUC5cL2ikrl9fVofgtXw99HZ2SlJikQiRT3O+jbnwIEDRT0ulUo5zkheTl6vV5OTk2U5V19fn+rr64uuJ2n+OopEInY321Jb6fKBSuT25wOwELevT9ov+dF+KVy+9gU9QAAAVcvn8+n06dMZ3V4L4XbjYXp6WgcPHizLuWKxmGKxmHw+X1nOBwAAFkb7ZXEr1X5ZdgIkkUhoYmJCXq+3FPFU3fkrhVM9lGN8m9tj6KrVartuuT7LL3vcba2yun4eOXJkwTGplWRqakrXXXddWZasvXDhgoaHhxUOh11vNJWC2++dbp+/UvCevnqttr8BrvXyo/1SuWql/bJuuQUcOnTIcf3hpUilUqqvry+qu1Mpz1/NylEPS3l9Ko3TeDrL4OCgfu3Xfq3opSRX4rqdmprSjh07JM3Pepw+7t/i9Fwq9bXh+iy/7HG3tVwvDQ0NGh0dVTgcVlNTk9vhLMppkq+VEo1GdfjwYTU0NJTtnCuJNkdlWM3v6alUSj/4wQ/0ve99T9FotGzdwGm/uGM1X+tuof1SuWqm/WJmiUQipsPmBUkq+jFOJicnl1ROqc5f7Va6Hpb6+qykpVyvc3NzjnV16tQpU5I5Pj5eVHkrdd0mk0lzfHzclGQGAgHHY6znMjc3V/T5y43rEwvp6OgwOzo63A4DDiSZkUikYsqnzVEZVuN7ummaZiAQMAOBwLKfP+0X2i+WSrzWab8UjvZL5crXvqiYOUBSqZRCoZDbYSCPWnp98mUSrazm2NhYwWWtZL3U1dXZy10ODAzYS4Gls55LrXy7u1S1dH0CWHm8Z1S2Sn59+vv7HXs1lAPtl9pTydc6UKtKmgCx1lf2eDzav3+/vW6vxfojt9YD7uvrs8d2DQ4O2kvmWPvTHzcxMWFvX+iNIhqN2ucvdtxY9jg/qyyv1+v4XLJjyh6zFo1G5fV6lUqltH//fvv5Op0jvb6scrPrcKH6W+y5SO/Wa/aPdUyxr0++caCF1E2h9eyG7KWbKuG6HRwcVHt7u2MjwgnXZ+1enwDm0ebgPb3Qulkt7+m0X7jWV8u1DixLdpeQ5QyBOXv2rGma893aDMPI6drm9/vtbfF43JRk+v3+nHKyGYaR0YXO7/dn/J59/pdeeimn7EJYMaeX5RSndWwwGMx4voZhmMlk0rGsmZkZ0+/3Z2yfmZkxTdM0z549a59jofMWU3/p50nfn/56WF3u4vF40eXnO8dS6mahel7MUrvo5bvW5NCF1O3r1irb6nJrXTfZ+7PPzfVZvdfnakQX0sqlCh0CQ5uD9/Sl1M1C9VyMfNdPoWi/0H7J9zpUwrVO+6VwtF8qV772xYrNAWK9GVp/qKY5/wa40B+8UznWGML0N5azZ8+ahmEs+LilfjAVUpY11jI7puwPH+tx1htTsfFmbyu2/haqA+v1OXXq1JLLd9pWbN0sVgeLWW4DIvsnEAjkvF5uX7fW78lk0v5we+mll3L2W7g+88dYLdfnakQDonLla0C4VT5tDt7TLeV+Ty/l42m/0H4pJkbaL5WL9kvlyte+WPYqMPls3rxZkrRv3z57VmprzOTs7KyOHz9eUDnWeMb0MYLbt28v26zbTqzY02PaunWrpPl4rXGPllIt3bOU+nOSSCTU29urwcHBjNl8S1F+sXXjtvm/jXmJREKPPfaYurq6FA6H7edQKdettVzWxo0b1dvbmxFjOq7P/Ny6PltbW1ek3Fpy7tw5SdQVloY2x7t4T6/cNkcp0X7hWqf9Uhlov1Sfsk+CGgqF9NnPflaGYRR0fPZ4xkrgtByW9Sa80vEWW39OHnvsMUnSgQMHSl6+m3WzXA0NDfrc5z6naDRq15GlUq7bhoYGzczMKBqNyufzKZVK5RzD9ZlfNV+fAIpXKe/dy8F7en68p8+j/bJ8XOvAKpLdJaSUy+BKmWPOrG511pi47Mc5lWN1mcseN7jY+fPFtJTnkr3NaayxdVwhYysLjTd7W7H151RmMBjMKCPdUl6fUtbNUl6zUo+hddrn9nXrFKc1vtQaV+t0bq7P6r0+VyO6kFYu5elC6lb5tDnePY739PK+p5fy8bRfaL8UEyPtl8pF+6Vy5WtfrFgPkFgsJkm688477W3t7e2SpMbGxoLLsTKlw8PDdrZ4dnZW+/fvL1WoRevo6JAkXbx40d5mxdbS0rJi511K/aWbnp7Wvn37dOrUKccyllu+5F7dlIo1S7bf77e3VeJ1axiGxsfHNTAwkLOP6zO/ar8+ATijzVF6vKdXF9ovS8e1Dqwy2RmRpWT8rKykNeGPNTPx4OCg43HxeNyeJEhp2cz07Kb12PTZ3a0fv99vT6I0NzeXU04ymczZVoj0sqyJlZzKsiZzMgzD3jY+Pp6RgU0va7FzOD0Hp20L1V/28dm/W7NAZ78m1nFLeX3y1X0xdbNQPRdiKder0/lNc37iKusbifRJuty8bq3j8tWJ0zcoXJ/VfX2uVnyDUrmU5xsUt8qnzcF7ulvv6Zb0x2dPxFko2i+0Xyr5Wqf9UjjaL5UrX/uiJAkQ05yfndj6A/b7/RmzH1tmZmZMab7b29zcnD0rstUlLHu/xTrW2pc9g3T6T75thSimrLm5Obu7mzQ/A3P6h1H6Y5xmzl7sHE7bFqq/7OOzf7I/zIot32l/Kepmua9ZsdfrYnUUDAZzui+6dd3me52ypV9f6efm+qy+63M1owFRuaTKSoCYJm0O3tPdeU93euxSyjBN2i+mSfulkq912i+Fo/1SuSTn9oXnf3faxsbG1NnZqazNQEXiekUl4/osXGdnpyQpEom4HAmyeTweRSIRuwt2tZUPVCI+H1DJuD4LR/ulcuVrX5R9FRgAAAAAAIByIwECAKh6iURCQ0NDbodRcYaGhhyXmwQAAO6j/eJsJdsvqyIB4vF4CvoBgFqSSqVW9L1tpcsvVCKR0KFDh3TLLbfY7+d9fX2Ox1bTe38ikVBfX58d58TERM4x1uoMHo9H+/fv19TUVMb+nTt3qqurS4lEolxhr3q0OaoPrxlQWWi/5Kqm96TF2iaWWCyW8XzSV5tayfbLqkiAmPOTvS76AwC15MyZM1VdfiFSqZR8Pp/27t2r5uZmJZNJe4lFp0aEaZqam5uTJM3NzVXse38ikdDFixfV398v0zQ1Pj6u9vb2jG+JUqmUYrGYvvzlLyuZTOrOO+/Ujh07FI1G7WOampp08OBB+Xw+eoKUCW2O6sNrBlQW2i/V234ppG1ieeGFFzJ+3717t/3/lWy/rIoECACsNqlUSqFQqGrLL1Q4HFZTU5O2b98uSaqrq1NbW5skaWBgwLHXRENDQ8a/lejixYv2c5JkP6fe3l5725kzZ2QYhqTM5+31ejPK2r59uzZt2qRwOLzSYQMAsCy0X6q7/VJo20SSbrjhhowks/U4y0q1X0iAAECFSaVSmpiYsLsEhkKhjC6ATt0fs7cNDg7a2XZreyKRUDQatT+EQqGQ3eXwwoULyy5fkvr6+vJ23yy1RCKh3t5e3XXXXY77BwcH1d7e7tiIcLJYvScSCU1MTNj1F41G5fF45PV6NTs7mxPb0NCQvT9f98980pMfVmySFAgE7G3ZDQWL3+/P2dbS0qLe3l6GwgAAVgztl8LUcvul0LbJ7OysvF6v+vr6ND09nbe8lWi/kAABgArT1dWlN9980+7uGI1GM7oAWl0g08Xj8Yzf+/v77f9bmfWNGzfK6/UqGo1qenpaPT09SiaTkqQtW7bYjYilll9u586dkyR98IMfdNx/4MABBQIBtbe3KxaLLVreYvXu8/nU3t5u159hGIrH44pGo/rCF75gl5NIJOTz+bRp0yaZpqlHHnlEO3bsKCgGJ7OzsxocHLRjzMeKM70LqcWqI6vOAAAoNdovhVkt7Rcpf9vEKnNgYEC33367vF6vY5JjRdovZpZIJGI6bAYqEtcrKtlSrs9Tp06Zksy5uTl729mzZ01J5vj4uL1NUk7Z2dsKOcY0TXNmZsaUZA4ODi67/KXq6OgwOzo6inpMIBDIe35rezKZNA3DMCWZL730Us5+SynrfXx83PGYQCBQ1PMzTdOMx+N2+dmvUbZTp06ZhmGYyWQyZ18ymVz08flIMiORSNGPq5TygUpE+wWVjPZL4Wi/LGyxtsnMzIxdH8Fg0PGYUrdf6AECABXk+PHjkjLHd27dulWSNDY2tiLnbGpqkpQ5v0Q1GBgYWPSYuro6e+zoQl0oS1nv1vHZ3W4LiTdbY2OjTNPUzMyMAoGAent7845d/uIXv6iDBw+qrq4uZ5+1rdpeYwBAdaD9UrjV0H6xLNY2aWpqUn9/v4LBoONEqSvRfiEBAgAVZHh4OGeb9ebv9MGAxTU0NGhmZianS2i6Uta7dbxZwlUkmpqa7OEv+/bty9k/MTEhwzBy5g4BAKAcaL+UXrW3X4ppm7S2tpbtOiEBAgAVxJo8yinT7zS5ZSmtdPluampq0uTkpKLRqD2fRrqVqPf0idlKYfPmzY7bY7GYvv/976unp6ek5wMAoFC0X1ZGtbZfim2b1NXVle11JAECABWko6ND0vwyqBYr49/S0rIi57Q+6Jwmz6xkVkOg0PXhDcPQ+Pi4Y1fOUtZ7MBiUJI2OjtplWLOqL4dV1vj4uL0tkUjo5MmTGZO6xWIx7d+/37GM9FVkAAAoFdovhav19kuxbRMr5oXiLWX7hQQIAFSQXbt2yTAMHTlyxM7mP/PMM/L7/WpubraPs7Lk1od/+hJi1gdM+rcC2R9e1tJqqVRKo6OjMgwjY+mypZZfzmXkrB4R2Q0Iq96cvg1pa2tz/BAtpN7Ty7POmX5ua/+ePXskzY+Zra+vl8fj0caNG+0Pdmt5uYVmVfd6vRoaGrKXp0ulUhocHFQgEFBbW5t9Pp/Pp97e3ozxujfffHNOY9Aq57bbbst7TgAAlor2S+Fquf1SSNtkYmIiY3nd2dlZnTlzJuM6Sd8nlbj9kj0rKrNSo5pwvaKSLfX6nJubM4PBoD079/j4eM7s2fF43J4dfHJy0jRN0zQMwxwfH7dnArdmRw8EAvY2q8yZmRn78cFgsGTlBwKBJc0WvpRZ1Ofm5kxJ5tmzZ+1t1vNL/3FiGIZjeQvVu1O5+c4Vj8ftWc39fr8Zj8ftfYFAwPT7/Y4xWCYnJ3NWf0l/nqZpmn6/3/H5KmvGeNN8d0b49FniCyVWgQFKjvYLKhntl8LRfslUSNskvY0TCATMmZmZvOWtRPvF8787bWNjY+rs7HRlTWSgWFyvqGSVeH1aM3pXUkyS1NnZKUmKRCJFPc765ubAgQNFPS6VSjnOSF5OXq9Xk5OTZTlXX1+f6uvri64naf6aiUQidjfbUlvp8oFKVImfD4ClEq9P2i/zaL8ULl/7giEwAICq5fP5dPr06YwuroVwu/EwPT2tgwcPluVcsVhMsVhMPp+vLOcDAAALo/2yuJVqv5AAAYBVIn0MaL715KtNXV2dwuGwjhw5suCY1EoyNTWl6667rixL1l64cEHDw8MKh8OuN5oAAFgK2i+VoVbaLyRAAGCV2Lhxo+P/q11DQ4NGR0d18uRJt0MpSHNzc94lbUstGo3q8OHDamhoKMv5AAAoNdovlaFW2i/rSl4iAKAiVdq42VKqq6tb0vjQWkedAACqHe2X1Wcl64QeIAAAAAAAoOaRAAEAAAAAADWPBAgAAAAAAKh5JEAAAAAAAEDNIwECAAAAAABqXs4qMNdcc40kyePxlD0YYKm4XlHJuD4LNzY25nYIcGC1DVZKZ2enOjs7V/QcQCXi8wGVjOuzcLRfKpNT+8VjZq0r9M4772hyclKXL18uW2AAUM1efvllTUxM6F//9V9VX1+v5uZm3XXXXSuydjlQbmvXrpXX69W6dTnfmZTE2bNn9eMf/3hFygYqzX//93/r+eef18mTJ3Xx4kX95m/+pgzD0M6dO90ODQBqSr72S04CBACwNK+88opGRkb05JNP6qc//amam5u1b98+eb1eXXXVVW6HBwBwyfPPP69QKKQTJ07o8uXLuvfee9XT06M77riDb9kBoIxIgABAib3zzjt6+umnFQqF9M1vflPXX3+97r//fvX09Oimm25yOzwAQBm88cYbOnbsmILBoM6fP6+bb75Z3d3d6urqUl1dndvhAcCqRAIEAFbQT37yEx09elQjIyOKx+O644471N3drdbWVv3Kr/yK2+EBAEroypUrOnXqlEKhkCYnJ3X11Verra1NPT09uvXWW90ODwBWPRIgAFAGV65c0cmTJxUOh/W1r31N11xzje6//351d3frlltucTs8AMAy/PjHP9bjjz+uo0eP6tVXX9VHP/pR+Xw+tba2rvgkwgCAwpEAAYAySyQS+uu//muNjIzo/PnzuvXWW7Vv3z59+tOfpls0AFSJS5cu2cMdn332WYY7AkAVIAECAC4xTVPPPfecwuGwTpw4obVr16qlpUU9PT26/fbb3Q4PAODg5Zdftie8TiQS2rlzp3w+n/bs2aMNGza4HR4AYAEkQACgAiSTSR07dkzhcFixWEy/+7u/K5/Pp8985jO67rrr3A4PAFa1t956S1/96lcVDAb13HPP6bd+67f0wAMPyOfzqbGx0e3wAAAFIgECABXmO9/5jsLhsMbHx/XLX/5S99xzj3w+n+666y6WSwSAMorFYgqHw4pEIvrFL36hT33qU/L5fLr77ru1du1at8MDABSJBAgAVKhf/OIXeuqppzQyMqKzZ8/qAx/4gHw+n/bu3avf/M3fdDs8AKhJqVRKTz31lILBoF588UVt3rxZDz30kB588EE1NDS4HR4AYBlIgABAFfje976ncDisY8eO6c0339Tu3bu1b98+voUEgBJ5/vnnFQqFdOLECV2+fFn33nuvenp6dMcdd9D7DgBqBAkQAKgib7/9tk6cOKFwOKzTp08zDh0AluGNN97QsWPHFAwGdf78ed18883q7u5WV1cXq3IBQA0iAQIAVeqHP/yhwuGwnnjiCb3xxhv6P//n/6i7u1t79uzR+vXr3Q4PACrSlStXdOrUKYVCIU1OTurqq69WW1ubenp6dOutt7odHgBgBZEAAYAqd+nSJf3d3/2dwuGwvvnNb+o3fuM39MADD+ihhx7Sli1b3A4PACrCj3/8Yz3++OMaGRlRPB7XRz/6Ufl8PrW2tuqaa65xOzwAQBmQAAGAGjI7O6vHH39cR48e1WuvvaY77rhD+/bt0z3zpojvAAAgAElEQVT33KNf+ZVfcTs8ACirS5cu6emnn1YoFNKzzz6r66+/Xvfff796enp00003uR0eAKDMSIAAQA26cuWKvvnNb2pkZETRaFTXXnutOjs7tW/fPn3oQx9yOzwAWFEvv/yyRkZG7CGCO3fulM/n0549e7Rhwwa3wwMAuIQECADUuLm5OT3xxBMaGRnRyy+/rNtuu00+n0/t7e269tpr3Q4PAErirbfe0le/+lUFg0E999xzeu9736u9e/cySTQAwEYCBABWCdM0dfr0aYXDYf3N3/yN1q1bp7a2Nvl8Pm3bts3t8ABgSWKxmL1M+H/913/pU5/6lHw+H8uEAwBykAABgFXoZz/7mY4dO6ZwOKzvfe97+tCHPqSenh51dnbquuuuczs8AFhQKpXSU089pWAwqBdffFFbtmzRgw8+qAcffFANDQ1uhwcAqFAkQABglZuenlY4HNZTTz2ly5cv65577lFPT48+/vGPy+PxuB0eANief/55hUIhHT9+XFeuXNG9996rnp4e3XHHHbxfAQAWRQIEACBJ+sUvfqGxsTGFw2F95zvf0ebNm/XQQw/xjSoAVyUSCUUiEQWDQZ0/f1633HKLHnroIXV1damurs7t8AAAVYQECAAgx7/8y78oFArZY+q9Xq+6u7t19913a82aNW6HB6DGXblyRadOnVIoFNLk5KSuvvpqtbW1qaenR7feeqvb4QEAqhQJEABAXm+99Zb+5m/+RqFQyF5Vobu7Ww888ACrKgAouddee81etSoej+tjH/uYuru71draqmuuucbt8AAAVY4ECACgIOfPn9fRo0f15JNP6j/+4z909913q6enR5/85Ce1fv16t8MDUKUuXbqkp59+WqFQSM8++6yuv/563X///erp6dFNN93kdngAgBpCAgQAUJRLly7pa1/7mkZGRvQP//APamho0N69e9XT06MPfOADbocHoEpcuHBBR48e1RNPPKE33nhDn/jEJ9Td3a09e/Zow4YNbocHAKhBJEAAAEsWj8c1MjKixx9/XD/5yU/0R3/0R/L5fLr33nt11VVXuR0egArz1ltv6atf/aqCwaA9rG7v3r3y+XwMqwMArDgSIACAZbt8+bK++c1vKhQK6Rvf+IZ+9Vd/VV1dXfL5fPq93/s9t8MD4LKZmRmNjIzYEysbhmFPrLx27Vq3wwMArBIkQAAAJfX666/rySef1MjIiF555RXdfvvt8vl8am1t1bXXXut2eADKJJVK6amnnlIwGNSLL76oLVu26MEHH2RpbQCAa0iAAABWhGmampqaUjgc1t/+7d/qqquuspex/PCHP+x2eABWyLe//W2Fw2EdP35cV65c0X333Sefz6c77rhDHo/H7fAAAKsYCRAAwIr72c9+pieffFLhcFj/9m//pptvvlnd3d3q6upSXV2d2+EBWKZEIqFIJKJgMKjz58/rlltu0UMPPcTfOACgopAAAQCU1dmzZxUMBu1vh1taWtTd3a2Pf/zjbocGoAhXrlzRqVOnFAqFNDk5qauvvlrt7e3y+Xy69dZb3Q4PAIAcJEAAAK5IpVKamJhQKBTSiy++qJtuukk+n09dXV3MDwBUsNdee01PPPGERkZGFI/H9bGPfUzd3d1qbW3VNddc43Z4AADkRQIEAOC67373uxoZGVEkEtFbb72lPXv2qKenRzt27NCaNWvcDg9Y9S5duqSnn35aoVBIzz77rK6//nrdf//96unp0U033eR2eAAAFIQECACgYrz11lt66qmnNDIyom9961t63/vep4ceekjd3d268cYb3Q4PWHUuXLigo0eP6oknntAbb7yhT3ziE+ru7taePXu0YcMGt8MDAKAoJEAAABXp/PnzCgaDOnbsmH72s59p165d8vl8+tSnPqW1a9e6HR5Qs9566y199atfVTAY1HPPPaf3vve92rt3r3w+nxobG90ODwCAJSMBAgCoaG+//ba+/vWvKxQKaWpqSjfccIMeeOABPfTQQ/rABz7gdnhAzZiZmdHIyIiOHTum//qv/5JhGOru7tbdd99N0hEAUBNIgAAAqsbFixd19OhRPf744/rpT3+q5uZm+Xw+/fEf/7Guuuoqt8MDqk4qldJTTz2lYDCoF198UVu2bNGDDz6oBx98kMmIAQA1hwQIAKDqXL58WU8//bTC4bC+8Y1v6Nd//dfV1dWlnp4ebd261e3wgIr37W9/W+Fw2F6O+r777pPP59Mdd9whj8fjdngAAKwIEiAAgKr2+uuv6+jRozp69Kh+9KMf6aMf/ah8Ph9LcgJZEomEIpGIgsGgzp8/r1tuuUUPPfSQurq6VFdX53Z4AACsONYWBABUtRtvvFGBQEA//OEP9Q//8A+68cYb5ff7deONN+pP/uRP9OKLLxZUzrFjx/S+971P58+fX+GIgeX5yle+os2bNyuZTC567JUrV/T3f//3am1tVWNjow4fPqw/+qM/0j/90z/pu9/9rj772c+S/AAArBokQAAANWHNmjXauXOnvvKVr2h2dlZ//ud/rn/8x3/Uhz/8YX34wx/W8PCwUqlU3seHw2HF43Ft27ZNp0+fLmPkQOH+8i//Up/+9Kf18ssv69ixY3mPe+2119Tf36/3v//9uvvuu/Xv//7vGh4e1uuvv64vf/nLuvXWW8sYNQAAlYEhMACAmvbcc89pZGREX/nKV+TxeNTa2qqenh595CMfsY959dVX9f73v1+maWrNmjVas2aNjh49qq6uLhcjB971zjvvaP/+/RoZGZFpmvJ4PLrpppv0b//2b/Yxly5d0t/93d8pHA7r2Wef1fXXX6+uri75fD7ddNNNLkYPAEBlIAECAFgVUqmUjh07ppGREf3zP/+ztm7dqp6eHn3mM5/R//t//0+PPvqoLl26ZB/v8Xj053/+5zp06BCTQsJVqVRK99xzj06fPq3Lly9n7HvhhRdUV1eno0eP6oknntAbb7yhT3ziE+ru7taePXu0YcMGl6IGAKDykAABAKw6L774ooLBoJ566in9z//8j6666ir953/+Z85xa9asUVtbmx5//HFuJOGK2dlZ3X333XrllVcyEnSStGHDBr3vfe/Tyy+/rPe+97164IEH1N3drcbGRpeiBQCgspEAAQCsWr/4xS/U19enL37xi3mPWbdunbZt26bJyUldd911ZYwOq913vvMd7dq1S//5n/+Zk/ywXHXVVYpEIvrjP/5jrV27tswRAgBQXZgEFQCwal177bV65ZVXtG7durzHvPPOO3rhhRf0h3/4h3rllVfKGB1Ws7/927/Vxz/+cSWTybzJD2l+3o9UKkXyAwCAAtADBACwav30pz/Vb/3Wb+XMq+Bk3bp1uvbaa/WNb3xDt99+exmiw2r1V3/1V+rt7ZUkLdZMW7NmjT784Q/r3Llz5QgNAICqRg8QAMCqNTw8XFDyQ5rvCfLmm2/qzjvv1Fe+8pUVjgyr0eXLl+X3+9Xb2yvTNBdNfkjSlStX9MILL2SsBgMAAJzRAwRA2R08eFA//OEP3Q4D0PPPP6+f/OQnefevWZP7PcGVK1ckSb//+7+vLVu2rFhsWH2efvpp/fd//7ekha89Jx/5yEe0adOmFYsNKMTatWv1f//v/9UNN9zgdigA4IgECICys5YUbWlpcTkSFGN2dlbnzp2rqdft8uXL+p//+R9dvnxZly9f1jvvvKMrV67o0qVLMk1Tly5d0pUrV/TOO+/o8uXL9r433nhDTU1NVdvIt4ZLbNu2zeVIKt/x48e1bdu2sqys8u1vf1tvv/22fv3Xf13r1q3TmjVrtHbtWvv/69evl8fjyfjX2n7NNdeseHzAYo4fP65IJKKOjg63QwEAR/lnfQOAFUQDqfqMjY2ps7OT4R81oLOzU9L83yEW5vF49PDDD/N+BRTA+oIDACoVc4AAAAAAAICaRwIEAAAAAADUPBIgAAAAAACg5pEAAQAAAAAANY8ECAAAAAAAqHkkQAAAwJL19fWpr6/P7TAqhsfjyfhxkkgkNDQ0VObIKt/Q0JBSqVTJyqOenS1Uz4VcvwBQzUiAAACAqpVKpSryRs00TZmmmbM9kUjo0KFDuuWWW+ybzHwJpOyb0Up8npZEIqG+vj47zomJiZxjZmdntX//fnk8Hu3fv19TU1MZ+3fu3Kmuri4lEomSxFOL9bxYHVpisVjG89m/f7+9b6F6znfdAkCtIAECAACWrL+/X/39/a6d/8yZM66du1ipVEo+n0979+5Vc3OzksmkxsfHNTAw4Hhzbpqm5ubmJElzc3MVe2OaSCR08eJF9ff3yzRNjY+Pq729PaP3RSqVUiwW05e//GUlk0ndeeed2rFjh6LRqH1MU1OTDh48KJ/Pt6yeILVaz4XUoeWFF17I+H337t32/0tVzwBQjUiAAACAqpRKpRQKhdwOo2DhcFhNTU3avn27JKmurk5tbW2SpIGBAcdeEw0NDRn/VqKLFy/az0mS/Zx6e3vtbWfOnJFhGJIyn7fX680oa/v27dq0aZPC4fCS46nVei60DiXphhtusHtzmKZpP85SinoGgGpEAgQAACxJIpHQxMSEfQOW/Xs0GpXH45HX69Xs7Kx9TDQatY8JhUJ2F/0LFy7YZTsNR8jeNjg4aH/7nb69EuclSSQS6u3t1V133eW4f3BwUO3t7Y43505SqZQmJibs5x0KhTKGNBTyWqQfOzQ0ZO/PN6win/TkhxWbJAUCAXtb9g24xe/352xraWlRb2/vkobC1HI9F1qHs7Oz8nq96uvr0/T0dN7yllPPAFC1TAAoM0lmJBJxOwwUKRKJmHxs1IaOjg6zo6Nj2eUYhmFKsq+L9N/Pnj1rmqZpxuNxU5Lp9/tN0zTt/enHJJNJ0+/3m5LMl156yTRN05ybm8soO72s9G3Zv5umaQYCATMQCCz7+VnlF/N+5RSPaZrm5OSkKcmMx+OOjzHN+bglmTMzM4770xmGYQaDQdM05+vKMAzTMAwzmUza+xd7LdIfOz4+bpqmaZ46dcoxhkLF43H7eVivpZNkMmlKMicnJx3LyLdvMaulnk0zfx1adWD9GIZhzs3N5Tx+oXrOdx0vhs93AJWOliyAsqOBVJ1IgNSOUiVATDP3RsnpxqmQY2ZmZkxJ5uDg4LLLKqVSJUCsm+58jzHN+Rta64Y6PXmQ/Tjr5jn9pvbs2bOmJPsGO18s2dvGx8cdj1lKAik9QZX9WmY7depURiIhnXVjv9Dj81kN9Zwe30J1ODMzY9eHlcTJPiZfPZMAAVCrGAIDAABc19TUJClz3ohaMjAwsOgxdXV19pwMCw1NOH78uKTM+Sq2bt0qSRobGysqLuv47OFFhcSbrbGxUaZpamZmRoFAQL29vXnnaPniF7+ogwcPqq6uLmeftW0p18JqqGfLYnXY1NSk/v5+BYNBx4lSl1PPAFCtSIAAAABUiIaGBs3MzCgajeZdpWN4eDhnm3Uz63SjuxDreDNtwkzrZ6mamprU1dUlSdq3b1/O/omJCRmGkTN3SDlVez0XU4etra1FxwsAtYoECAAAqBhOk2KuNk1NTZqcnFQ0GtXg4GDOfmsyTKeeC0utv/QJaEth8+bNjttjsZi+//3vq6enp6TnW4pqredi67Curo6/KwD4XyRAAACA66wbw927d7scycqwbrCdeho4MQxD4+PjjkMkOjo6JM0vP2uxym1paSkqrmAwKEkaHR21y7BWK1kOq6zx8XF7WyKR0MmTJ9Xf329vi8Vi2r9/v2MZ6avIFKrW67nYOrRiXijepdQzAFQrEiAAAGBJspcDTf/duslLvxHN/ibdWoo0lUppdHRUhmFkLPVpfWttJUfSl/S0bvjSv6W3biYrcRlcq0dE9o25VSdOvQza2tocb0537dolwzB05MgR+3HPPPOM/H6/mpubc8pb6LXYs2ePpPm5KOrr6+XxeLRx40b7htlatjUWi+V9bl6vV0NDQ/ayr6lUSoODgwoEAmpra7PP5/P51NvbmzEPxs0335yT9LLKue222+xthcQh1XY9F1KHExMTGcvrzs7O6syZM3a86ZzqGQBqHQkQAACwJBs3bsz4f/rv9fX1Gf9mHy/NTyjp9XpVX1+vxsZGjY6OZuz//Oc/L8MwtGXLFkWjUW3fvt3+xv7w4cOSZH8T/thjj9nzTlSibdu2SZJef/11e5t1EyzN1401MWa6/v7+jKSQ9O4knoZhZDzu0UcftY8p9LVoaGhQPB63EwB+v1/xeFyNjY2SpGQyKb/fv2BCqaenR729vfrt3/5teTwehcNhffKTn8zopXDo0KG881Bs2bIl43erjqw6KzSO9MfUYj0XUofvec97tGPHDnk8HvX19ennP/95zvOyONUzANQ6j7mcWa4AYAk8Ho8ikYjdvRjVYWxsTJ2dncuaHBGVobOzU5IUiURcOb91I1kN11Kx71cLPTerh8qBAweKiiGVSjmu9FFOXq9Xk5OTZTlXX1+f6uvrHeupkDio58IsVM9L/Rvl8x1ApaMHCAAAQBn4fD6dPn06YyhPIdy+KZ+entbBgwfLcq5YLKZYLCafz7fkOKjnxS1UzwBQy0iAAACAssmeN2Q1sYZUHDlyZNG5LCrF1NSUrrvuurIsWXvhwgUNDw8rHA7nJCOKiYN6XthC9QwAtY4ECAAAKJvseUNqlTVBZbaGhgaNjo7q5MmTLkRVvObm5rxL2pZaNBrV4cOH1dDQsOw4qOf8FqrnfNctANQKEiAAsAJSqZQrjUi3zluI6elp9fX12Q3svr4+xWIxJRKJio1Z4rUsNdM0M35qTSHPr66uruj5KVaDAwcOON6ULxX17Gyheq71v08AIAECACvgzJkzq+q8i+nr69OTTz6prq4uu2H9uc99TrOzsxXfC4DXEgAAoDasczsAAKg1qVRKoVBo1Zx3MVZPj+yVDRoaGmQYhs6ePavbb7/dpegWxmsJAABQO+gBAqAqpFIpTUxM2MMnnG4OnY7JnnBxYmJCXq9X0vw4aI/HI6/Xq9nZ2aLOZ92gpg/nsM41ODioaDQqKXc8dSKR0NDQkH3eqampomIr9XlX2vT0tAYGBhZc2cBp0j9ey8p7LQEAAKqeCQBlJsmMRCJFPcYwDDMQCNi/+/3+jN+tY4LBoGmapjk3N2cahmEahmEmk0l7vyRTknn27FnTNE0zHo+bkky/31/U+fx+vynJnJubcyzDOk86K6bx8XHTNE3z1KlTpiRzZmam4NhKfd5iRCKRnLIXEwgE7HiLwWu5sq9lR0eH2dHRUdRjVqulvF8BqxV/LwAqHQkQAGVXbANpfHw85yb67NmzpmEY9u/WjWD2MZLsm0Xr3Nk3ldnbCjlfIBBY8GbV6TxWudnntm7GC4ltJc5bqKUkQJziWQyv5dLPWygSIIXjhg4oHH8vACodCRAAZVdsA8n6Rn0h1rfp6ZLJpCkp42a3kBvTQs5nicfj5uDgYEE3r+k9A7J/Co1tJc5bqHIlQHgtl37eQnV0dOQthx9++OFnOT8kQABUMo9pssYVgPLyeDyKRCLq6Ogo+HhJCy7Jl++Y7O1OxxVyjJNQKKRoNKrBwUFt2bKl6PMU8hyctpX6vIUaGxtTZ2dnUeXs379fw8PDSiaTqqurK+gxvJYr/1p2dnZqdnZWDz/88LLKWQ1aW1v18MMP62Mf+5jboQAVr7W1tajPdwAoN1aBAVDxDMNQNBpVLBZTU1PTgsckEgk1NDRk7PP7/SU/38TEhPbt26d4PK7Gxsaiyr9w4YI2b95c1GPcPu9S7d69W8PDw3r11Vfz1mU2XsuVPa+lsbFRLS0tyypjtdi2bRt1BQBADWAVGAAVzzAMSdLw8LBSqZQkaXZ2Vvv377ePsb5tunjxor3NOrbYG5dCztfe3i5JRd24BoNBSdLo6KhdrrWiR6HcOu9SGYYhwzA0PDyc95jZ2dmMWHgtV/a8AAAAq1Y5xtkAQDoVOUbYWvlCaWOM/X6/+dJLL9nHJJNJe6UQa8LL8fHxjEkm5+bm7Mdbq4lYc0tI706UWcj5rP3xeNx86aWXcsqw9s/NzZmDg4M550//icfjBcdW6vMWYylzgKTXZ3Ydmub8/Bfpr5n1vHktV/a1ZBLUwhX7fgWsZvy9AKh0JEAAlN1SGkhzc3P2kqqBQCDnRto6JhgM2jeF4+Pj9g2odd70n3zbCjnfzMyMvc861u/32zei2fst8XjcLjf9+EJjK/V5i7HUBIhpzicAJicn7QlOJdlL3TrFwmu5sq8lCZDCcUMHFI6/FwCVjklQAZRdsZOgojIsZRJUVKbOzk5JUiQScTmSysf7FVA4/l4AVDrmAAEAAAAAADWPBAgAAAAWxGS7zoaGhuwJiQEAlY8ECAAAKKtUKiWPx1O15a82iURChw4d0i233CKPxyOPx6O+vj7HY6396T+VLBaLZcSavkKUdR05/UxMTEiSdu7cqa6uLiUSCbeeAgCgCCRAAABAWZ05c6aqy19NUqmUfD6f9u7dq+bmZiWTSY2Pj2tgYMAxCWKapubm5iRJc3NzFT9n0AsvvJDx++7du+3//+AHP8j7uObmZklSU1OTDh48KJ/PR08QAKgCJEAAAEDZpFIphUKhqi1/tQmHw2pqatL27dslSXV1dWpra5MkDQwM2D0h0jU0NGT8W8luuOEGmfOrIso0TRmGYe979dVXFY/HM/bPzc0pEAhkPLft27dr06ZNCofDbjwFAEARSIAAAICCpFIpTUxM2MMAQqFQRtd/p2EP2dsGBwcVjUYz9iUSCUWjUXm9XklSKBSyhyNcuHBh2eVLUl9fX95hG3CWSCTU29uru+66y3H/4OCg2tvbHZMgTha7fhKJhCYmJuzrIBqNyuPxyOv1anZ2Nie2oaEhe//U1FTRz292dlZer1d9fX2anp7O2d/c3KzGxsaMbVNTU7rvvvtyjm1paVFvby9DYQCgwpEAAQAABenq6tKbb75pfxMejUYzuv5bQx/SxePxjN/7+/vt/1vfqm/cuFFer1fRaFTT09Pq6elRMpmUJG3ZssVOgiy1fCzNuXPnJEkf/OAHHfcfOHBAgUBA7e3tisVii5a32PXj8/nU3t5uXweGYSgejysajeoLX/iCXU4ikZDP59OmTZtkmqYeeeQR7dixo6AY0lnHDwwM6Pbbb5fX681IYDj1YDl9+rSamppytlt1ZNUZAKAykQABAACLmpqaUjQa1Z49eyTN3xwePHhQ0WhUzzzzjL0tW/Y36E7SkxTpQy38fr8k2T06llq+NJ8YSU+OYHHW/BgL1XFvb68Mw9DNN9+c0VsnWyHXz+TkpH28dR1Y5x4eHs4pyxqKY83HceLEiaKen2EYSiaTmpmZUSAQUDQa1de//vW8x8diMd15552O++rq6iRpwToAALiPBAgAAFjU8ePHJWUmIbZu3SpJGhsbW5FzWt+09/b2rkj5WNjAwMCix9TV1dlzXyw0BKSU1491fPbwp0LizVZXV6empib19/crGAzayTYnJ06csJMtTuVIXKsAUOlIgAAAgEWlfwNvsW76FrppRO1raGjQzMxMzpCWdKW8fqzj0ycnLcVwp9bW1ryxWImdapjYFQCQHwkQAACwKGt1DKdv+K2hKitlpcvH8jU1NWlyclLRaFSDg4M5+1fi+in1cJP0YVfZ8k1+CgCoLiRAAADAojo6OiRJFy9etLdZ3/S3tLSsyDmtG9zdu3evSPlYmJXIcOrR4cQwDI2PjzsORSnl9RMMBiVJo6OjdhnWqjDLkUql8saSb/LTbIFAYFkxAABWFgkQAACwqF27dskwDB05csT+Fv+ZZ56R3+/PmBfB+gbdSl6kLy+6f/9+SZm9AbJvWq0lVVOplEZHR2UYhn38cspnGdzibd68WVJuAsR6/Z16c7S1tTkmAQq5ftLLs86Zfm5rvzWR6sDAgOrr6+XxeLRx40Y7eWEtj7vQqjATExMZS+fOzs7qzJkzjnN8LDT5afrjJem2225b8DgAgLtIgAAAgEVZk10ahqGNGzfaE08++uijGcd9/vOfl2EY2rJli6LRqLZv3273DDh8+LCkd5eqfeyxx9TV1ZXx+K1bt8rr9aq+vl6NjY0aHR0tafko3LZt2yRJr7/+ur3NSjZIyrgO0vX392ckraTCrh+rXEmqr6/P+Dd9f0NDg+LxuJ1o8fv9isfj9ooxyWRSfr9/wYTXe97zHu3YsUMej0d9fX36+c9/nhOzZaHJTy1WHVl1BgCoTB5zuTNGAUCRPB6PIpGI3SUa1WFsbEydnZ3LnmgQ7uvs7JQkRSIRlyN5l3VDXGnX12p/v7J60Bw4cKCox6VSKXuSU7d4vd6MpXVXUl9fn+rr64uup1qz2v9eAFQ+eoAAAADAkc/n0+nTpzOGGhXC7eTH9PS0Dh48WJZzxWIxxWIx+Xy+spwPALB0JEAAAICr0ud+cJpXAu6xhq4cOXJkwTk1KsnU1JSuu+46bd++fcXPdeHCBQ0PDyscDrue9AEALI4ECAAAcFX63A/p/0dlaGho0OjoqE6ePOl2KAVpbm62J3BdadFoVIcPH1ZDQ0NZzgcAWJ51bgcAAABWt0qb9wO56urqVv38Fk6oEwCoLvQAAQAAAAAANY8ECAAAAAAAqHkkQAAAAAAAQM0jAQIAAAAAAGoek6ACcMXx48e1fv16t8NAEc6dOydp/rVDdZudnZXEa1moc+fO8X4FAEAN8JhMvQ6gzK666ir98pe/dDsMAABQYufOndNtt93mdhgA4IgECAAAWDEej0eRSEQdHR1uhwIAAFY55gABAAAAAAA1jwQIAAAAAACoeSRAAAAAAABAzSMBAgAAAAAAah4JEAAAAAAAUPNIgAAAAAAAgJpHAgQAAAAAANQ8EiAAAAAAAKDmkQABAAAAAAA1jwQIAAAAAACoeSRAAAAAAABAzSMBAgAAAAAAah4JEAAAAAAAUPNIgAAAAAAAgJpHAgQAAAAAANQ8EujiNaUAACAASURBVCAAAAAAAKDmkQABAAAAAAA1jwQIAAAAAACoeSRAAAAAAABAzSMBAgAAAAAAah4JEAAAAAAAUPNIgAAAAAAAgJpHAgQAAAAAANQ8EiAAAAAAAKDmkQABAAAAAAA1jwQIAAAAAACoeSRAAAAAAABAzSMBAgAAAAAAah4JEAAAAAAAUPNIgAAAAAAAgJpHAgQAAAAAANQ8EiAAAAAAAKDmkQABAAAAAAA1b53bAQAAgNowMzOjZ599Nmd7NBrVa6+9Zv/+wQ9+UPfee285QwMAAJDHNE3T7SAAAED1+9M//VN96Utf0lVXXZX3mLfffluSRPMDAACUG0NgAABASdxzzz2S5pMc+X42bNigz372sy5HCgAAViN6gAAAgJK4cuWKNm3apJ/+9KcLHvetb31LH/3oR8sUFQAAwDx6gAAAgJJYs2aNOjs7tWHDhrzH3HjjjfrIRz5SxqgAAADmkQABAAAl097erl/+8peO+9avX6/PfOYz8ng8ZY4KAACAITAAAKDE3v/+9+tHP/qR475/+Zd/0Yc+9KEyRwQAAEAPEAAAUGIPPPCA1q9fn7P9d37nd0h+AAAA15AAAQAAJdXe3q5Lly5lbFu/fr327t3rUkQAAAAMgQEAACugqalJ3/ve92Q1Mzwej374wx/q/e9/v8uRAQCA1YoeIAAAoOT27t2rtWvXSppPfvzBH/wByQ8AAOAqEiAAAKDk2tradPnyZUnS2rVr1dXV5XJEAABgtSMBAgAASu7GG2/UHXfcIUm6cuWKPv3pT7scEQAAWO1IgAAAgBXR2dkpSbr11lt1ww03uBwNAABY7ZgEFQBqSCAQ0F/8xV+4HQYAVKwNGzbo7bffdjsMAIAL1rkdAACgdH70ox9p/fr1ikQibodSE770pS9Jkh5++GGXI6kMS6mPVCqlX/u1X5PH41mpsCpSa2urHn74YX3sYx9zOxSkGRsb09e+9jW3wwAAuIQECADUmJaWFrW0tLgdRk2wbpSoz3nUR3G2bdtGXVWYS5cukQABgFWMOUAAAAAAAEDNIwECAAAAAABqHgkQAAAAAABQ80iAAAAAAACAmkcCBAAAAAAA1DwSIAAAoOz6+vrU19fndhgVKZFIaGhoyO0wKs7Q0JBSqZTbYQAAqhgJEAAAsOqkUil5PB63w8iRSCR06NAh3XLLLfJ4PPJ4PHkTRdb+9J9KFovFMmLdv3+/vc96PZx+JiYmJEk7d+5UV1eXEomEW08BAFDl1rkdAAAAWH36+/tdPf+ZM2dcPb+TVColn8+ngwcPavv27Uomk3rmmWfU3t4uKbfOTNNUIpHQxo0bNTc3p4aGBjfCLtgLL7yQ8fvu3bvt///gBz/I+7jm5mZJUlNTkw4ePCifz6fR0VHV1dWtTKAAgJpFDxAAALCqpFIphUIht8PIEQ6H1dTUpO3bt0uS6urq1NbWJkkaGBiwe0Kks5IelZ78kKQbbrhBpmnaP4Zh2PteffVVxePxjP1zc3MKBAIZz2379u3atGmTwuGwG08BAFDlSIAAAICySiQSmpiYkNfrdfw9Go3K4/HI6/VqdnbWPiYajdrHhEIhexjFhQsX7LKdhoNkbxscHFQ0Gs3YJ7k7L0kikVBvb6/uuusux/2Dg4Nqb293TII4SaVSmpiYsJ9fKBTKGDpSSJ2nHzs0NGTvn5qaKvr5zc7Oyuv1qq+vT9PT0zn7m5ub1djYmLFtampK9913X86xLS0t6u3tZSgMAKBoJEAAAEBZ+Xw+tbe320mI9N+np6dlGIbi8bii0ai+8IUvSJI2btwor9drH9PT06NkMilJ2rJli50EmZubyzlfPB7P+D19KInV28Bt586dkyR98IMfdNx/4MABBQIBtbe3KxaLLVpeV1eX3nzzTbsnRTQalc/nsycRLaTOpfnkh8/n06ZNm2Saph555BHt2LGjoBjSWccPDAzo9ttvl9frzUhgOPVgOX36tJqamnK2W3Vk1RkAAIUiAQIAAMpqcnIy7+/W8A+rN8Dw8LAkZSQp0oeI+P1+SbKTKU430tk9C/Lp7+93bW4Sa36MhWLt7e2VYRi6+eabM3q9ZJuamlI0GtWePXskzdfJwYMHFY1G9cwzz0gqrM7Ty7KG4ljzcZw4caKo52cYhpLJpGZmZhQIBBSNRvX1r3897/GxWEx33nmn4z5r7o+F6gAAACckQAAAQNWyegj09va6HMnyDAwMLHpMXV2dPffFQkNAjh8/LikzGbR161ZJ0tjYWFFxWcdnDyMqJN5sdXV1ampqUn9/v4LBoJ20cnLixAk72eJUjlT9rzkAoPxIgAAAAFSJhoYGzczM5AxpSZfeg8NiJQ0WSjo4sY5Pn5y0FMOGWltb88ZiJXaqYWJXAEB1IQECAACqnjUUZjVoamrS5OSkotGoBgcHc/Zbq6s49RBZaj2VerhJ+vClbPkmPwUAYLlIgAAAgKpl3Zjv3r3b5UiWx0pkOPXocGIYhsbHxx2HonR0dEiSLl68aG+zym1paSkqrmAwKEkaHR21y7BWhVmOVCqVN5Z8k59mCwQCy4oBALD6kAABAABllb0ca/rv1k12eiIguyeDtRRsKpXS6OioDMOwez1I7/ZysJIj6cuu7t+/X1JmLwnrZt7NZXA3b94sKTcBYj13p94cbW1tjkmAXbt2yTAMHTlyxH7cM888I7/fb8+rUWidWxOpDgwMqL6+Xh6PRxs3brSTF9byuAutCjMxMZGxdO7s7KzOnDnjOMfHQpOfpj9ekm677bYFjwMAIBsJEAAAUFYbN27M+H/67/X19Rn/Zh8vzU/o6fV6VV9fr8bGRo2Ojmbs//znPy/DMLRlyxZFo1Ft377d7jFx+PBhSe8uhfvYY4+pq6urtE9wCbZt2yZJev311+1tVrJBmq8DawLSdP39/RnJH+ndyVINw8h43KOPPmofU2idNzQ0KB6P24kWv9+veDxurxiTTCbl9/sXTBy95z3v0Y4dO+TxeNTX16ef//znOTFbFpr81GLVkVVnAAAUymMudxYrAEDF6OzslCRFIhGXI6kN1Gcmt+vDupGvhqaLx+NRJBKxh6MUwuqJcuDAgaLOlUql7ElO3eL1enOWN14pfX19qq+vL7qepPlVbTo7O6viGgIAlB49QAAAACqAz+fT6dOnM4bsFMLt5Mf09LQOHjxYlnPFYjHFYjH5fL6ynA8AUFtIgAAAciQSCU1MTMjr9bodCiApd96QWmQNXTly5MiCc2pUkqmpKV133XXavn37ip/rwoULGh4eVjgcdj3pAwCoTiRAAAA5Dh06pPb2dkWjUbdDKVoqlZLH43H8sSbPXCn5zuvxeDQ0NKRoNFrwKh/IlD1vSK1qaGjQ6OioTp486XYoBWlubrYncF1p0WhUhw8fVkNDQ1nOBwCoPSRAAAA5vvzlL7sdwpL94Ac/yLtvsckVl8s0Tc3Nzdm/J5NJmaYp0zS1c+dOhUIhdXV11WwPhpVk1aP1U8vq6uqWNL9FrTtw4ADJDwDAspAAAQDUlFdffVXxeDzjZnlubk6BQKAsN0/p50jvpt/U1KRwOCxpfq4HeoIAAACUFwkQAIBSqZQmJibk8Xjk9Xp14cIFx+MSiYSGhobs46ampuzt6XOGRKNR+5jZ2dmMMqzHh0IhJRKJnKU9852jUM3NzfYSnZapqSndd999RZWzEhoaGvTII48oGo3qzJkzGfuqoW4BAACqGQkQAIC6urp0+vRpJZNJTU5O6rvf/W7OMYlEQj6fT5s2bZJpmnrkkUe0Y8cOe0UGa86Q6elpGYaheDyuaDSqL3zhC3YZQ0NDamlpkWmaam1t1WOPPVbwOQrl1Mvj9OnTampqKqJGVs6tt94qSfrGN75hb6uWugUAAKhmJEAAYJWLRqOKRqP6sz/7M3vIxq5du3KOm5qaUjQaVVtbm6R359M4ceKEJicn7eOs1SCsXhjDw8P2vt7eXl199dWS5oeHfO5znyv4HEsVi8V05513LvnxpWbVcXq9VGvdAgAAVJN1bgcAAHCX1RMhfSUHpyUmx8bGJClnWMXAwID6+/sLOpff79fGjRs1Pj6uXbt2qaGhIWNCy1KcI9uJEydykgGVpprqdnZ2VsePHy/4+NXs3LlzWr9+vdthIM25c+fcDgEA4CISIACwyqX3IliItSTuclbg+LM/+zP95Cc/UXt7uyRpcHAwY7WLUpwjnbXaSiWtHGFNfhoIBOxt1VS33/rWt/Stb31rWWWsFl/60pf0pS996f+3d0ehbZ33/8c/Z81YtzGkdUNq6+LchJhAQWnHEoeNljiB4NCjbDBvlj21UOQiDzrSv3VTYxOMjZsLG8J6EWMZShC2xZyLzQfqG9eQMDqlELBgvfFFN7nQYV3p0MvS6Xfh/znVsWRHdizLOn6/wNg+5+g5jx6l4PPp83yfZncDAAD8fyyBAQDsy24FUutx9uxZLS8va319XclkUqlUStPT04d6j0rHpfhppcePH0uSLl++XHWuFca2r6+vaktavqq/JGl+fr7p/eDL+zU/P/9U//4BAK2NAAQATrjZ2VlJemIxTOe6TCbjzmJwdhWpl2EYsm1bkUhEd+/e1fr6ulKp1KHeo9JxKn4qbb+XO3fuyDRNtwaH1JpjCwAA0GoIQADghLt27ZokaXR01N1WtXJ71MHBQUnSjRs3JG3XjAgGgzIMQ+FwWD09Pe5SE+m7JR7Od0me81NTU+59fvrTn2pqaso9t9c99qtZxU8r33flz86OLpI0NzfneU2rjS0AAEArIgABgBOuvb1dhUJBbW1tOn36tAYHB/Xyyy/LNE0tLi5qbGxM0nYdjUKh4NauSCaTKhQKam9vVzgcdtsLBoOe75I85999910tLS3JMAwtLS156lTsdY/9un//vmeWxVEwDMPzvp2gwTAMra6uanh4WMvLy1U1SVptbAEAAFqRUXYWqgIAWl5/f78ksc79kDCeXoxH/QzD0Pz8vPr6+prdFVRYWFhQf3+/+PMXAE4mZoAAAAAAAADfIwABAAAAAAC+RwACAGgJTi2NJ30BrY7deWqbnp72FAAGAGC/CEAAAC2hXC7X9QX/sm27oSFXo9uvR7FY1K1bt/TKK6+4od7o6GjNa1spANzc3NTg4KAMw9Dg4KBnp6lKlmUpGo0qGo3KsizPuatXryoej3t2PgIAYD8IQAAAQEt4+PBhS7f/JLZtK5FI6K233lJXV5dKpZIWFxc1MTFRMwQpl8va2tqSJG1tbR3bANC2beXzed29e1elUkmvv/66rly5UhVwZLNZpdNpZTIZZTIZffzxx0qn0+75SCSi4eFhJRIJZoIAAA6EAAQAABx7tm17HoZbrf16zM3NKRKJqLOzU5IUCATU29srSZqYmFA2m616jbOl8s6tlY+Thw8fyjRNSd73FI1G3Ws2NzcVi8U0PDysQCCgQCCgZDKpd955R/l83r2us7NTbW1tmpubO9o3AQDwBQIQAADQULZtK5vNuss00um0ZxlDrSUcO49NTU25Mwac48Vi0V0yIUnpdNpdYrGxsfHU7UvS6OjorktQDlOxWFQqldLly5drnp+amlIsFqsZgtTypDEvFovKZrPu2FmWJcMwFI1Gtbm5WdW36elp9/xuy1d244QfOyWTSffnTz/9VJL04osvusdeeOEFSdJnn33meV1PT49SqRRLYQAA+0YAAgAAGioej+vrr792l2xYluVZxuAs46hUKBQ8v4+Pj7s/O/VewuGwWysil8tpYGBApVJJktTR0eGGIAdt/yg9evRIknTmzJma54eGhjQyMqJYLOaZEbGbJ415IpFQLBZzx840TRUKBVmWpQ8++MBtp1gsKpFIqK2tTeVyWTdv3tSVK1fq6sNunD5cv37dPfbgwQNJUnt7u3vMmdWyc6mMM0bOmAEAUC8CEAAA0DBra2uyLEs3btyQtP1QOzw8LMuytLKy4h7bqfJBeDeVIUXlshFnZoHz4HzQ9qXtYKQyHGkUZ5bDXv1KpVIyTVPnz5/3zHDZqZ4xX15edq93xs6598zMTFVbzrKVrq4uSdL9+/f3/R4djx8/lmmaeu2119xjlffcaWcAEggEJGnPMQAAoBYCEAAA0DBLS0uSvCHEuXPnJEkLCwsNuWckEpG0HRi0iomJiSdeEwgE3NoXey0BOcwxd67fuWSonv7u5s6dO26tj4NwXtdKny8A4HggAAEAAA1T6//sOw+wO//PPp4sFAppfX29aklLpcMcc+f6w9pyOpvNyjRNd9aJY7c6IZK3VggAAE+DAAQAADSM82Bba7ZCox9s/frgHIlEtLy8LMuyNDU1VXW+EWN+GMtN8vm8Pv/8cw0MDFSdq9Vnpxjrq6+++tT3BgBAIgABAAAN1NfXJ0n64osv3GPOrIWenp6G3NN5WK8ssnncOUFGrRkdtZimqcXFxZpLUQ5zzGdnZyVJmUzGbcPZFWY/isWiVldXPfVU8vm8BgcHJUnXrl2r6vNXX33lObfTyMjIvvoAAAABCAAAaJju7m6ZpqnJyUn3/+6vrKwomUy6BTWl72YmOOFFLpdzzzkPyZWzBHY+gDvbw9q2rUwmI9M0PcsqDtr+UW2De/bsWbf/lZwxqzWbo7e3t2YIUM+YV7bn3LPy3s55p5DqxMSEgsGgDMNQOBx2gxRne9y9doVxdpJJpVKeWiLnz593Q6r29nbNzs7q3r17sm1btm3r3r17mp2drSoM68wMuXDhwq73BACgFgIQAADQME7hTtM0FQ6H3SKat2/f9lz3/vvvyzRNdXR0yLIsdXZ2urMcxsbGJH23Ve2HH36oeDzuef25c+cUjUYVDAbV3t6uTCZzqO032sWLFyV9N+tBkhs2SPKMXaXx8fGq+hn1jLnTriQFg0HP98rzoVBIhULBDVqSyaQKhYIbSpRKJSWTyT1Dolu3bu1ae6Sjo8P9eWBgQNevX1cwGFQ8HldPT0/N5TLOGDljBgBAvYzyUW90DwBomP7+fknS/Px8k3viD4yn13EcD+fh/rj9OWMYhubn593lKPVwZp0MDQ3t6162bR94R5XDEo1GPVvrNtLo6KiCweC+x0na3tWmv7//2P17AQAcDWaAAAAAHAOJREIPHjzwLM+pR7PDj1wup+Hh4SO5Vz6fVz6fVyKROJL7AQD8hQAEAAC0pMo6FrVqZLQaZ+nK5OTknjU1jpO1tTU999xzVdvaNsLGxoZmZmY0NzfX9NAHANCaCEAAAEBLqqxjUflzKwuFQspkMlpdXW12V+rS1dXlFnBtNMuyNDY2plAodCT3AwD4z6lmdwAAAOAg/FrHIRAIHKi+hd8xJgCAp8UMEAAAAAAA4HsEIAAAAAAAwPcIQAAAAAAAgO8RgAAAAAAAAN+jCCoA+MzCwoK++eabZnfDFx49eiRJ+v3vf9/knhwPjMf+/OUvf9Hf/va3ZncDFZaWlprdBQBAExllv5ZQB4ATyLIsZTKZZncDcK2ururll1/W888/3+yuAJKkM2fOaHJystndAAA0AQEIAABoGMMwND8/r76+vmZ3BQAAnHDUAAEAAAAAAL5HAAIAAAAAAHyPAAQAAAAAAPgeAQgAAAAAAPA9AhAAAAAAAOB7BCAAAAAAAMD3CEAAAAAAAIDvEYAAAAAAAADfIwABAAAAAAC+RwACAAAAAAB8jwAEAAAAAAD4HgEIAAAAAADwPQIQAAAAAADgewQgAAAAAADA9whAAAAAAACA7xGAAAAAAAAA3yMAAQAAAAAAvkcAAgAAAAAAfI8ABAAAAAAA+B4BCAAAAAAA8D0CEAAAAAAA4HsEIAAAAAAAwPcIQAAAAAAAgO8RgAAAAAAAAN8jAAEAAAAAAL5HAAIAAAAAAHyPAAQAAAAAAPgeAQgAAAAAAPA9AhAAAAAAAOB7BCAAAAAAAMD3CEAAAAAAAIDvEYAAAAAAAADfIwABAAAAAAC+Z5TL5XKzOwEAAFrf3Nyc/vSnP6mjo8M99uWXX+pnP/uZfvSjH0mS/vvf/+pXv/qV/v73vzermwAA4IQ61ewOAAAAf9ja2tI333yjf/3rX57jtm17frcs6yi7BQAAIIklMAAA4JDEYjEZhrHnNadOndLt27ePqEcAAADfYQkMAAA4NL/85S/1+PFj7fbnhWEY+ve//63Tp08fcc8AAMBJxwwQAABwaP74xz/qmWeeqXnue9/7ni5cuED4AQAAmoIABAAAHJo//OEP+t///lfznGEYeuutt464RwAAANsIQAAAwKF5/vnn9frrr+86C6Snp+eIewQAALCNAAQAAByqN998s6oGyDPPPKPLly/r5z//eZN6BQAATjoCEAAAcKh++9vfVs0AKZfLevPNN5vUIwAAAAIQAABwyAKBgLq7u3Xq1Cn32Pe//3395je/aWKvAADASUcAAgAADl08Hte3334rSTp16pTeeOMN/eQnP2lyrwAAwElGAAIAAA7dG2+8oR/+8IeSpG+//Vb9/f1N7hEAADjpCEAAAMChe/bZZ/W73/1OkvTjH/9Y169fb3KPAADASXfqyZcAAFrFl19+qVwu1+xuAJKkl156SZJ0+vRpLS8vN7k3wLaXXnpJly5danY3AABNYJR37lMHAGhZb7/9tj766KNmdwMAjjX+/AWAk4kABAB8xKmzMD8/3+Se+APj6cV41M8wDM3Pz6uvr6/ZXUGFhYUF9ff3E4AAwAlFDRAAAAAAAOB7BCAAAAAAAMD3CEAAAAAAAIDvEYAAAAAAAADfIwABAAAAAAC+RwACAAAAAAB8jwAEAAAcudHRUY2Ojja7G8dSsVjU9PR0s7tx7ExPT8u27WZ3AwDQwghAAADAiWPbtgzDaHY3qhSLRd26dUuvvPKKDMOQYRi7BkXO+cqv42pzc1ODg4MyDEODg4NaW1ureZ1lWYpGo4pGo7Isy3Pu6tWrisfjKhaLR9FlAIAPEYAAAIAjNz4+rvHx8abd/+HDh027925s21YikdBbb72lrq4ulUolLS4uamJiomYIUi6XtbW1JUna2tpSuVw+6i7XxbZt5fN53b17V6VSSa+//rquXLlSFXBks1ml02llMhllMhl9/PHHSqfT7vlIJKLh4WElEglmggAADoQABAAAnCi2bXserI+Lubk5RSIRdXZ2SpICgYB6e3slSRMTE8pms1WvCYVCnu/H0cOHD2WapiTve4pGo+41m5ubisViGh4eViAQUCAQUDKZ1DvvvKN8Pu9e19nZqba2Ns3NzR3tmwAA+AIBCAAAOFLFYlHZbNZ9AN75u2VZMgxD0WhUm5ub7jXO8ghJSqfT7nKKjY0Nt+1ay0F2HpuamnJnH1Qeb2ZdkmKxqFQqpcuXL9c8PzU1pVgsVjMEqcW2bWWzWff9pdNpz9KResa88trp6Wn3/G7LV3bjhB87JZNJ9+dPP/1UkvTiiy+6x1544QVJ0meffeZ5XU9Pj1KpFEthAAD7RgACAACOVCKRUCwWc0OIyt9zuZxM01ShUJBlWfrggw8kSeFw2K0LkcvlNDAwoFKpJEnq6OhwQxBnSUilQqHg+b1y6U25XD4WS0cePXokSTpz5kzN80NDQxoZGVEsFvPMiNhNPB7X119/7S6TsSzLs3SknjGXtsOPRCKhtrY2lctl3bx5U1euXKmrD7tx+nD9+nX32IMHDyRJ7e3t7jFnVsvOpTLOGDljBgBAvQhAAADAkVpeXt71d2f5h/MgPDMzI0mekKJyiYgzi8B5SK61FKTyoXovzaxL4sxy2KuvqVRKpmnq/PnznlkvO62trcmyLN24cUPS9pgMDw/LsiytrKxIqm/MK9tylq10dXVJku7fv7/v9+h4/PixTNPUa6+95h6rvOdOOwOQQCAgSXuOAQAAtRCAAACAlhWJRCRthwOtbGJi4onXBAIBt/bFXktAlpaWJHnDoHPnzkmSFhYW9tUv5/qdy4jq6e9u7ty549b6OAjnda3+mQMAjh4BCAAAQIsIhUJaX1+vWtJSqdZsCic02Dmb4kmc652lQpVfB5HNZmWapjvrxLFbnRDJWysEAICnQQACAABa3kl6SI5EIlpeXpZlWZqamqo674QJtWaIHHScDmO5ST6f1+eff66BgYGqc7X67BRjffXVV5/63gAASAQgAACghTkP5pUFNVuRE2TUmtFRi2maWlxcrLkUpa+vT5L0xRdfuMecdnt6evbVr9nZWUlSJpNx23B2hdmPYrGo1dVVT42VfD6vwcFBSdK1a9eq+vzVV195zu00MjKyrz4AAEAAAgAAjtTO7Vgrf3cesiuDgJ0zGZytYG3bViaTkWmaniUUziwHJxzJ5XLuOeeBu3LGgfMw38xtcM+ePSupOgBx3nut2Ry9vb01Q4Du7m6ZpqnJyUn3dSsrK0omk24R03rH3CmkOjExoWAwKMMwFA6H3SDF2R53r11hnJ1kUqmUp5bI+fPn3eCqvb1ds7Ozunfvnmzblm3bunfvnmZnZ6sKwzozQy5cuLDrPQEAqIUABAAAHKlwOOz5ufL3YDDo+b7zemm7oGc0GlUwGFR7e7symYzn/Pvvvy/TNNXR0SHLstTZ2enOmBgbG5P03Va4H374oeLx+OG+wQO4ePGipO9mPUhywwZpewycAqSVxsfHq+pnOMVSTdP0vO727dvuNfWOeSgUUqFQcIOWZDKpQqHghhKlUknJZHLP4OjWrVu71h7p6Ohwfx4YGND169cVDAYVj8fV09NTc7mMM0bOmAEAUC+jfNAqVgCAY6e/v1+SND8/3+Se+APj6dXs8XAe5FvhTxfDMDQ/P+8uR6mHMxNlaGhoX/eybfvAO6oclmg0WrW9caOMjo4qGAzue5yk7V1t+vv7W+LfEADg8DEDBAAA4BhIJBJ68OCBZ8lOPZodfuRyOQ0PDx/JvfL5vPL5vBKJxJHcDwDgLwQgAIAqxWJR2WxW0Wi02V0BJFXXDfEjZ+nK5OTknjU1jpO1tTU999xzVdvaNsLG4KJNrwAAC1dJREFUxoZmZmY0NzfX9NAHANCaCEAAAFVu3bqlWCy267r9VmBZlqLRqAzDUDQadQtnNlJlgcedX9PT07Isq+5dPuC1s26IX4VCIWUyGa2urja7K3Xp6upyC7g2mmVZGhsbUygUOpL7AQD8hwAEAFDl7t27ze7CU5menlY0GtX4+LjK5bLGx8cVi8X2vXXnfpXLZW1tbbm/l0ollctllctlXb16Vel0WvF43LczGBrJGUfny88CgcCB6lv43dDQEOEHAOCpEIAAAHwnlUpJkiKRiOf7gwcPGn7vyge0ymn6kUhEc3NzkrZrPTATBAAA4GgRgAAAZNu2stmsu1xkY2Oj5nXFYlHT09PudWtra+7xypohlmW512xubnracF6fTqdVLBartvbc7R77MTU1JUluMUmnD87Wp80SCoV08+ZNWZalhw8fes61ytgCAAC0qlPN7gAAoPni8bja2tpUKpUUCARq1ssoFotKJBLq6+tTuVzW2tqarly5ovX1dY2Ojrr1QnK5nEzTVKFQ0OnTp9XW1uYuqZmenlZPT4+GhoZk27YbVNRzD2cWRz2GhoZUKpV06dIl/fOf/9R//vMfbW1tHYvp87/4xS8kSR9//LFM05TUWmMLAADQqpgBAgAnnGVZsixL7733nrtko7u7u+q6tbU1WZal3t5eSdvFDyXp/v37Wl5edq9zdoNob2+XJM3MzLjnUqmUnn32WUnby0Pefffduu+xX+Pj40omk7p06ZI+//xz/eAHP9h3G43gjHHluLTa2AIAALQio+z3SmIAcIL09/dLkubn5+t+zeDgoGZmZqoKSzrLJ5zj0Wh0111hyuVy1fW12nDutbi4qO7u7qqtLJ90j/2Ynp5WW1uburu7NTU1pXw+r0wms6/tMw8ynlL1+37S+VYZ2/7+fv3jH//QxYsX67r+JFtaWtLFixfdsArHw+bmph49euT7QroAgNqYAQIAJ1zlLIK9OA/PO3fj2M+DxHvvvSfTNBWLxRQMBqt2ZTmMe0hSNptVKpVyg4B4PC7LsvTXv/51X+00glP8dGRkxD3WSmMLAADQqqgBAgDYl42NDZ09e/ZArz179qyWl5eVz+c1MzPj7tayc8vPp7mHJMViMUnfLTcJh8OSpHfeeUcDAwMHbvcwPH78WJJ0+fLlqnOtMLa//vWv9z0j5iQyDEN//vOf1dfX1+yuoMLCwoI7swsAcPIwAwQATrjZ2VlJUj6fr+u6TCbjzmJwdhWpl2EYsm1bkUhEd+/e1fr6uvugflj3kOQWF3U4QcjO40etWCzqzp07Mk3TrcEhtdbYAgAAtCoCEAA44a5duyZJGh0ddbdVrdwedXBwUJJ048YNSdLExISCwaAMw1A4HFZPT4+KxaJ7vfNw7XyX5Dk/NTXl3uenP/2pZ7eSve6xHzdv3pQkdzcbZztc53gjVb7vyp/z+bwSiYQkaW5uzvOaVhpbAACAVkUAAgAnXHt7uwqFgtra2nT69GkNDg7q5ZdflmmaWlxc1NjYmCQpFAqpUCi4tSuSyaQKhYLa29vdJSaSFAwGPd8lec6/++67WlpakmEYWlpa8izR2Ose+9HV1aVPPvlEDx48kGEYunfvnj755BPPrItGMAzD876doMEwDK2urmp4eFjLy8tV2/G20tgCAAC0KnaBAQAfOeiuJaiN8fRiPOpnGIbm5+epAXLMODVA+PMXAE4mZoAAAAAAAADfIwABAAA45k5iwdrp6WlPvRsAAJ4WAQgAoCU4tTSe9AX/sm27oZ9xo9s/qGKxqFu3bumVV15x/52Pjo7WvLaV/puwbVu5XE7pdFrRaLTq/NWrVxWPxz2FfgEAeBqnmt0BAADqwZp9PHz4sKXbPwjbtpVIJDQ8PKzOzk6VSiWtrKwoFotJksbHxz3Xl8tlFYtFhcNhbW1tVRXcPU6cXYomJiZqno9EIhoeHlYikVAmk3G3swYA4KCYAQIAAI4927aVTqdbtv2DmpubUyQSUWdnpyQpEAiot7dX0nZw4Gz1XMkJPY5z+CFthzc7A5ydOjs71dbWVrV1NAAAB0EAAgAAGsq2bWWzWXdJRjqd9ixrqLVcY+exqakpWZblOVcsFmVZlrt8Ip1OyzAMDQ4OamNj46nbl6TR0dFdl5s0WrFYVCqV0uXLl2uen5qaUiwWqxmC1PKkz6FYLCqbzbrjaVmWDMNQNBrV5uZmVd+mp6fd82trawd8l0/W09OjVCrFUhgAwFMjAAEAAA0Vj8f19ddfq1wua2trS5ZlKZFIuAUut7a2ql5TKBQ8v1fOFCiXyyqXywqHw4pGo7IsS7lcTgMDAyqVSpKkjo4ONwQ5aPvN9ujRI0nSmTNnap4fGhrSyMiIYrGY8vn8E9t70ueQSCQUi8Xc8TRNU4VCQZZl6YMPPnDbKRaLSiQSamtrU7lc1s2bN3XlypW6+nAQzvt3xgMAgIMiAAEAAA2ztrYmy7J048YNSdvLMoaHh2VZllZWVtxjO7W3tz+x7cqQonKJSDKZlCR3RsdB25fqW6bRKJ999pmkvfuaSqVkmqbOnz/vmfWyUz2fw/Lysnu9M57OvWdmZqracpbidHV1SZLu37+/7/dYD6f2x17vDwCAehCAAACAhllaWpLkDSHOnTsnSVpYWGjIPSORiKTtcKCV7VYctFIgEHDrY+y1TOQwPwfn+p3LiOrp70E4AUirf54AgOYjAAEAAA1TOXPA4TzQOjM08HRCoZDW19erlrRUOszPwbneWSpU+QUAwHFGAAIAABrGNE1JqjkzwVmq0iiNbv84iUQiWl5elmVZ7vaylRrxObAkBQDQaghAAABAw/T19UmSvvjiC/eYM0Ohp6enIfd0HsyvX7/ekPaPihNk1JrRUYtpmlpcXKy5FOUwP4fZ2VlJUiaTcdtwdoVppJGRkYa2DwDwPwIQAADQMN3d3TJNU5OTk+7sg5WVFSWTSbd4pvTdLAQnvMjlcu65wcFBSd5ZDDsftp2tYG3bViaTkWma7vVP034zt8E9e/aspOoAxBnHWrM5ent7awYF9XwOle0596y8t3PeKaQ6MTGhYDAowzAUDofdIMXZHreeXWEq298t6HG24L1w4cIT2wMAYC8EIAAAoGGcIp2maSocDrsFM2/fvu257v3335dpmuro6JBlWers7HRnNIyNjUn6bqvaDz/8UPF43PP6c+fOKRqNKhgMqr29XZlM5lDbb4aLFy9Kkr766iv3mBM2SPKMZ6Xx8XFP+CPV9zk47UpSMBj0fK88HwqFVCgU3KAlmUyqUCi4O8aUSiUlk8knBkeGYXjad8KUnZz374wHAAAHZZSpWAUAvtHf3y9Jmp+fb3JP/IHx9DqO4+E8MB+3P2cMw9D8/Ly79OSgnJkoQ0ND+3qdbdtukdNmiUajnq11D2p0dFTBYHDfY1DLwsKC+vv7j92/FwDA0WAGCAAAwDGVSCT04MEDz5KdejQ7/MjlchoeHn7qdvL5vPL5vBKJxCH0CgBw0hGAAACAllRZs6JWPQw/cJauTE5O1lVT4zhYW1vTc889p87OzqdqZ2NjQzMzM5qbm2t6oAMA8AcCEAAA0JIqa1ZU/uw3oVBImUxGq6urze5KXbq6utwCrk/DsiyNjY0pFAodQq8AAJBONbsDAAAAB3GS6jgEAoFDqYHRSk7a+wUANB4zQAAAAAAAgO8RgAAAAAAAAN8jAAEAAAAAAL5HAAIAAAAAAHyPAAQAAAAAAPieUT5JJdQBwOfefvttffTRR83uBgAca/z5CwAnEwEIAPjIl19+qVwu1+xuAMCx9dJLL+nSpUvN7gYAoAkIQAAAAAAAgO9RAwQAAAAAAPgeAQgAAAAAAPA9AhAAAAAAAOB7pyT9v2Z3AgAAAAAAoJH+D4AoeNG4eNyWAAAAAElFTkSuQmCC\n",
      "text/plain": [
       "<IPython.core.display.Image object>"
      ]
     },
     "execution_count": 231,
     "metadata": {},
     "output_type": "execute_result"
    }
   ],
   "source": [
    "from keras.utils.vis_utils import plot_model\n",
    "\n",
    "plot_model(model2, show_shapes=True, show_layer_names=True)"
   ]
  },
  {
   "cell_type": "code",
   "execution_count": 232,
   "id": "646f6cb6",
   "metadata": {},
   "outputs": [
    {
     "name": "stdout",
     "output_type": "stream",
     "text": [
      "Epoch 1/50\n",
      "24/24 [==============================] - 1s 9ms/step - loss: 68825.6641 - mean_squared_logarithmic_error: 81.9849 - val_loss: 72834.5938 - val_mean_squared_logarithmic_error: 62.4034\n",
      "Epoch 2/50\n",
      "24/24 [==============================] - 0s 4ms/step - loss: 68587.4453 - mean_squared_logarithmic_error: 47.6853 - val_loss: 72151.4609 - val_mean_squared_logarithmic_error: 26.9873\n",
      "Epoch 3/50\n",
      "24/24 [==============================] - 0s 4ms/step - loss: 67233.2266 - mean_squared_logarithmic_error: 23.4097 - val_loss: 68996.8359 - val_mean_squared_logarithmic_error: 15.3308\n",
      "Epoch 4/50\n",
      "24/24 [==============================] - 0s 4ms/step - loss: 63022.0469 - mean_squared_logarithmic_error: 8.4735 - val_loss: 62334.0078 - val_mean_squared_logarithmic_error: 7.4020\n",
      "Epoch 5/50\n",
      "24/24 [==============================] - 0s 4ms/step - loss: 53453.4531 - mean_squared_logarithmic_error: 3.2980 - val_loss: 51543.7266 - val_mean_squared_logarithmic_error: 3.4313\n",
      "Epoch 6/50\n",
      "24/24 [==============================] - 0s 4ms/step - loss: 37013.7578 - mean_squared_logarithmic_error: 1.1780 - val_loss: 31209.9473 - val_mean_squared_logarithmic_error: 1.3395\n",
      "Epoch 7/50\n",
      "24/24 [==============================] - 0s 4ms/step - loss: 23921.5547 - mean_squared_logarithmic_error: 0.5643 - val_loss: 30759.9492 - val_mean_squared_logarithmic_error: 0.9133\n",
      "Epoch 8/50\n",
      "24/24 [==============================] - 0s 4ms/step - loss: 22234.8984 - mean_squared_logarithmic_error: 0.3790 - val_loss: 23305.6992 - val_mean_squared_logarithmic_error: 0.4907\n",
      "Epoch 9/50\n",
      "24/24 [==============================] - 0s 4ms/step - loss: 20152.4102 - mean_squared_logarithmic_error: 0.3443 - val_loss: 19564.4863 - val_mean_squared_logarithmic_error: 0.2918\n",
      "Epoch 10/50\n",
      "24/24 [==============================] - 0s 4ms/step - loss: 18122.8965 - mean_squared_logarithmic_error: 0.1813 - val_loss: 17347.1387 - val_mean_squared_logarithmic_error: 0.1220\n",
      "Epoch 11/50\n",
      "24/24 [==============================] - 0s 4ms/step - loss: 19012.7734 - mean_squared_logarithmic_error: 0.2632 - val_loss: 19881.0098 - val_mean_squared_logarithmic_error: 0.1746\n",
      "Epoch 12/50\n",
      "24/24 [==============================] - 0s 5ms/step - loss: 17992.1367 - mean_squared_logarithmic_error: 0.1416 - val_loss: 19080.2344 - val_mean_squared_logarithmic_error: 0.1357\n",
      "Epoch 13/50\n",
      "24/24 [==============================] - 0s 4ms/step - loss: 18650.4004 - mean_squared_logarithmic_error: 0.1936 - val_loss: 15552.4199 - val_mean_squared_logarithmic_error: 0.0842\n",
      "Epoch 14/50\n",
      "24/24 [==============================] - 0s 4ms/step - loss: 18481.1367 - mean_squared_logarithmic_error: 0.1606 - val_loss: 19507.5859 - val_mean_squared_logarithmic_error: 0.1685\n",
      "Epoch 15/50\n",
      "24/24 [==============================] - 0s 4ms/step - loss: 17874.7598 - mean_squared_logarithmic_error: 0.1487 - val_loss: 19708.6055 - val_mean_squared_logarithmic_error: 0.1815\n",
      "Epoch 16/50\n",
      "24/24 [==============================] - 0s 4ms/step - loss: 17354.3203 - mean_squared_logarithmic_error: 0.1251 - val_loss: 15290.8516 - val_mean_squared_logarithmic_error: 0.0811\n",
      "Epoch 17/50\n",
      "24/24 [==============================] - 0s 4ms/step - loss: 17670.0918 - mean_squared_logarithmic_error: 0.2293 - val_loss: 18455.4551 - val_mean_squared_logarithmic_error: 0.1387\n",
      "Epoch 18/50\n",
      "24/24 [==============================] - 0s 4ms/step - loss: 16259.6533 - mean_squared_logarithmic_error: 0.1358 - val_loss: 14183.9658 - val_mean_squared_logarithmic_error: 0.0675\n",
      "Epoch 19/50\n",
      "24/24 [==============================] - 0s 4ms/step - loss: 17828.3867 - mean_squared_logarithmic_error: 0.1977 - val_loss: 15864.5244 - val_mean_squared_logarithmic_error: 0.0975\n",
      "Epoch 20/50\n",
      "24/24 [==============================] - 0s 4ms/step - loss: 16661.0938 - mean_squared_logarithmic_error: 0.1043 - val_loss: 14509.8359 - val_mean_squared_logarithmic_error: 0.0779\n",
      "Epoch 21/50\n",
      "24/24 [==============================] - 0s 4ms/step - loss: 16364.0947 - mean_squared_logarithmic_error: 0.1402 - val_loss: 15985.8311 - val_mean_squared_logarithmic_error: 0.0950\n",
      "Epoch 22/50\n",
      "24/24 [==============================] - 0s 4ms/step - loss: 16624.4414 - mean_squared_logarithmic_error: 0.1359 - val_loss: 14367.7812 - val_mean_squared_logarithmic_error: 0.0756\n",
      "Epoch 23/50\n",
      "24/24 [==============================] - 0s 4ms/step - loss: 14423.6143 - mean_squared_logarithmic_error: 0.0970 - val_loss: 13739.2773 - val_mean_squared_logarithmic_error: 0.0642\n",
      "Epoch 24/50\n",
      "24/24 [==============================] - 0s 4ms/step - loss: 15796.5186 - mean_squared_logarithmic_error: 0.1031 - val_loss: 14787.3311 - val_mean_squared_logarithmic_error: 0.0734\n",
      "Epoch 25/50\n",
      "24/24 [==============================] - 0s 4ms/step - loss: 15422.3955 - mean_squared_logarithmic_error: 0.0941 - val_loss: 13632.0645 - val_mean_squared_logarithmic_error: 0.0570\n",
      "Epoch 26/50\n",
      "24/24 [==============================] - 0s 4ms/step - loss: 16189.2832 - mean_squared_logarithmic_error: 0.1181 - val_loss: 18482.5762 - val_mean_squared_logarithmic_error: 0.1494\n",
      "Epoch 27/50\n",
      "24/24 [==============================] - 0s 4ms/step - loss: 14816.3076 - mean_squared_logarithmic_error: 0.1085 - val_loss: 12696.3926 - val_mean_squared_logarithmic_error: 0.0521\n",
      "Epoch 28/50\n",
      "24/24 [==============================] - 0s 4ms/step - loss: 15913.6094 - mean_squared_logarithmic_error: 0.1028 - val_loss: 27635.1816 - val_mean_squared_logarithmic_error: 0.2546\n",
      "Epoch 29/50\n",
      "24/24 [==============================] - 0s 4ms/step - loss: 17188.7617 - mean_squared_logarithmic_error: 0.1086 - val_loss: 14647.8047 - val_mean_squared_logarithmic_error: 0.0665\n",
      "Epoch 30/50\n",
      "24/24 [==============================] - 0s 4ms/step - loss: 15778.2021 - mean_squared_logarithmic_error: 0.1246 - val_loss: 16204.5547 - val_mean_squared_logarithmic_error: 0.0877\n",
      "Epoch 31/50\n",
      "24/24 [==============================] - 0s 4ms/step - loss: 15932.3574 - mean_squared_logarithmic_error: 0.1403 - val_loss: 19735.6016 - val_mean_squared_logarithmic_error: 0.1400\n",
      "Epoch 32/50\n",
      "24/24 [==============================] - ETA: 0s - loss: 14083.2061 - mean_squared_logarithmic_error: 0.08 - 0s 4ms/step - loss: 15471.7031 - mean_squared_logarithmic_error: 0.1034 - val_loss: 13243.1484 - val_mean_squared_logarithmic_error: 0.0543\n",
      "Epoch 33/50\n",
      "24/24 [==============================] - 0s 4ms/step - loss: 15531.2490 - mean_squared_logarithmic_error: 0.0943 - val_loss: 13952.9980 - val_mean_squared_logarithmic_error: 0.0696\n",
      "Epoch 34/50\n",
      "24/24 [==============================] - 0s 4ms/step - loss: 14597.6270 - mean_squared_logarithmic_error: 0.1073 - val_loss: 12079.6396 - val_mean_squared_logarithmic_error: 0.0471\n",
      "Epoch 35/50\n",
      "24/24 [==============================] - 0s 4ms/step - loss: 16113.5166 - mean_squared_logarithmic_error: 0.0975 - val_loss: 12831.3174 - val_mean_squared_logarithmic_error: 0.0591\n",
      "Epoch 36/50\n",
      "24/24 [==============================] - 0s 4ms/step - loss: 15314.0947 - mean_squared_logarithmic_error: 0.1046 - val_loss: 11943.6934 - val_mean_squared_logarithmic_error: 0.0545\n",
      "Epoch 37/50\n",
      "24/24 [==============================] - 0s 4ms/step - loss: 14473.0117 - mean_squared_logarithmic_error: 0.0839 - val_loss: 13429.5322 - val_mean_squared_logarithmic_error: 0.0668\n",
      "Epoch 38/50\n",
      "24/24 [==============================] - 0s 4ms/step - loss: 15150.7939 - mean_squared_logarithmic_error: 0.2221 - val_loss: 12174.4023 - val_mean_squared_logarithmic_error: 0.0499\n",
      "Epoch 39/50\n",
      "24/24 [==============================] - 0s 4ms/step - loss: 14889.0273 - mean_squared_logarithmic_error: 0.0989 - val_loss: 12172.5381 - val_mean_squared_logarithmic_error: 0.0497\n",
      "Epoch 40/50\n",
      "24/24 [==============================] - 0s 4ms/step - loss: 14446.2998 - mean_squared_logarithmic_error: 0.0919 - val_loss: 13170.9658 - val_mean_squared_logarithmic_error: 0.0623\n",
      "Epoch 41/50\n",
      "24/24 [==============================] - 0s 4ms/step - loss: 14748.3955 - mean_squared_logarithmic_error: 0.1052 - val_loss: 12073.4590 - val_mean_squared_logarithmic_error: 0.0476\n",
      "Epoch 42/50\n",
      "24/24 [==============================] - 0s 4ms/step - loss: 14525.8955 - mean_squared_logarithmic_error: 0.1087 - val_loss: 12565.2861 - val_mean_squared_logarithmic_error: 0.0613\n",
      "Epoch 43/50\n",
      "24/24 [==============================] - 0s 5ms/step - loss: 14027.7207 - mean_squared_logarithmic_error: 0.0816 - val_loss: 12667.1348 - val_mean_squared_logarithmic_error: 0.0537\n",
      "Epoch 44/50\n",
      "24/24 [==============================] - 0s 4ms/step - loss: 13364.1748 - mean_squared_logarithmic_error: 0.0705 - val_loss: 12185.7012 - val_mean_squared_logarithmic_error: 0.0521\n",
      "Epoch 45/50\n",
      "24/24 [==============================] - 0s 4ms/step - loss: 15176.4932 - mean_squared_logarithmic_error: 0.0912 - val_loss: 12014.6914 - val_mean_squared_logarithmic_error: 0.0536\n",
      "Epoch 46/50\n",
      "24/24 [==============================] - 0s 4ms/step - loss: 15355.2842 - mean_squared_logarithmic_error: 0.0922 - val_loss: 12518.0000 - val_mean_squared_logarithmic_error: 0.0507\n",
      "Epoch 47/50\n",
      "24/24 [==============================] - 0s 4ms/step - loss: 13345.2588 - mean_squared_logarithmic_error: 0.0635 - val_loss: 12358.4551 - val_mean_squared_logarithmic_error: 0.0447\n",
      "Epoch 48/50\n",
      "24/24 [==============================] - 0s 4ms/step - loss: 13620.3955 - mean_squared_logarithmic_error: 0.0871 - val_loss: 13286.1064 - val_mean_squared_logarithmic_error: 0.0535\n",
      "Epoch 49/50\n",
      "24/24 [==============================] - 0s 4ms/step - loss: 13089.1475 - mean_squared_logarithmic_error: 0.0739 - val_loss: 12529.2539 - val_mean_squared_logarithmic_error: 0.0453\n",
      "Epoch 50/50\n",
      "24/24 [==============================] - 0s 4ms/step - loss: 13794.6582 - mean_squared_logarithmic_error: 0.0775 - val_loss: 12426.0537 - val_mean_squared_logarithmic_error: 0.0445\n"
     ]
    }
   ],
   "source": [
    "import tensorflow as tf\n",
    "\n",
    "plot_model(model2, show_shapes=True, show_layer_names=True)\n",
    "\n",
    "model2.compile(loss = tf.keras.losses.MAE, \n",
    "    optimizer = tf.optimizers.Adam(learning_rate = 0.015), \n",
    "    metrics=[tf.keras.metrics.MSLE])\n",
    "\n",
    "hist2 = model2.fit(x_train , y_train, epochs = 50, batch_size = 32, validation_data= (x_test ,y_test))"
   ]
  },
  {
   "cell_type": "code",
   "execution_count": 233,
   "id": "5e8819a4",
   "metadata": {},
   "outputs": [
    {
     "data": {
      "image/png": "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\n",
      "text/plain": [
       "<Figure size 864x288 with 1 Axes>"
      ]
     },
     "metadata": {
      "needs_background": "light"
     },
     "output_type": "display_data"
    }
   ],
   "source": [
    "plots(hist2)"
   ]
  },
  {
   "cell_type": "code",
   "execution_count": 234,
   "id": "caf49f13",
   "metadata": {},
   "outputs": [
    {
     "data": {
      "text/plain": [
       "(0.7195160380678136, 0.044549476, 15.12306034564972)"
      ]
     },
     "execution_count": 234,
     "metadata": {},
     "output_type": "execute_result"
    }
   ],
   "source": [
    "from sklearn.metrics import r2_score, mean_absolute_percentage_error\n",
    "y_pred_m2 = model2.predict(x_test)\n",
    "r2_score(y_test, y_pred_m2), mean_squared_log_error(y_test, y_pred_m2), mean_absolute_percentage_error(y_test, y_pred_m2)*100"
   ]
  },
  {
   "cell_type": "code",
   "execution_count": 235,
   "id": "ad75aa2f",
   "metadata": {},
   "outputs": [
    {
     "data": {
      "image/png": "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\n",
      "text/plain": [
       "<Figure size 576x360 with 1 Axes>"
      ]
     },
     "metadata": {
      "needs_background": "light"
     },
     "output_type": "display_data"
    }
   ],
   "source": [
    "import matplotlib.pyplot as plt\n",
    "\n",
    "plt.figure(figsize=(8,5))\n",
    "\n",
    "plt.xlim([0,148000])\n",
    "plt.ylim([0,148000])\n",
    "plt.title(\"Neural network - 2\")\n",
    "plt.scatter(y = y_test, x = y_pred_m2, alpha = 0.7)\n",
    "x_a = np.arange(0,148000, 0.01)\n",
    "y_a = x_a\n",
    "plt.plot(x_a, y_a, color = \"r\", linewidth = 2.25)\n",
    "plt.show()"
   ]
  },
  {
   "cell_type": "code",
   "execution_count": 236,
   "id": "37702561",
   "metadata": {},
   "outputs": [
    {
     "data": {
      "text/plain": [
       "array([0.125     , 0.        , 0.        , 0.35714286, 0.        ,\n",
       "       0.14285714, 0.        , 0.        , 0.        , 0.42105263,\n",
       "       0.3254717 , 0.        , 0.33333333, 0.06666667, 0.49186992,\n",
       "       0.41666667, 0.09836066])"
      ]
     },
     "execution_count": 236,
     "metadata": {},
     "output_type": "execute_result"
    }
   ],
   "source": [
    "x_test[0]"
   ]
  },
  {
   "cell_type": "code",
   "execution_count": 237,
   "id": "ef46f7d0",
   "metadata": {},
   "outputs": [
    {
     "data": {
      "text/plain": [
       "Index(['Type', 'Dedicated Graphic Memory Capacity', 'Processor Brand',\n",
       "       'Processor Name', 'SSD', 'RAM', 'Expandable Memory', 'Operating System',\n",
       "       'Touchscreen', 'Screen Size', 'Weight', 'max_res', 'gpu_brand',\n",
       "       'company', 'Storage', 'battery_back', 'gpu_processor'],\n",
       "      dtype='object')"
      ]
     },
     "execution_count": 237,
     "metadata": {},
     "output_type": "execute_result"
    }
   ],
   "source": [
    "df1.columns"
   ]
  },
  {
   "cell_type": "code",
   "execution_count": null,
   "id": "92f49f8b",
   "metadata": {},
   "outputs": [],
   "source": []
  },
  {
   "cell_type": "code",
   "execution_count": 238,
   "id": "ae33628a",
   "metadata": {},
   "outputs": [
    {
     "name": "stdout",
     "output_type": "stream",
     "text": [
      "Score for fold 1: loss of 10931.25390625\n",
      "Score for fold 2: loss of 11873.53125\n",
      "Score for fold 3: loss of 15539.9326171875\n",
      "Score for fold 4: loss of 10170.7822265625\n",
      "Score for fold 5: loss of 12030.7578125\n",
      "Score for fold 6: loss of 11152.138671875\n",
      "Score for fold 7: loss of 11370.9365234375\n",
      "Score for fold 8: loss of 16230.9248046875\n",
      "Score for fold 9: loss of 12886.798828125\n",
      "Score for fold 10: loss of 12362.732421875\n"
     ]
    }
   ],
   "source": [
    "from sklearn.model_selection import cross_val_score, cross_validate\n",
    "from sklearn.metrics import mean_squared_log_error\n",
    "\n",
    "from sklearn.model_selection import KFold\n",
    "import numpy as np\n",
    "\n",
    "num_folds = 10\n",
    "\n",
    "inputs = np.concatenate((x_train, x_test), axis=0)\n",
    "targets = np.concatenate((y_train, y_test), axis=0)\n",
    "\n",
    "kfold = KFold(n_splits=num_folds, shuffle=True)\n",
    "\n",
    "loss_per_fold = []\n",
    "\n",
    "fold_no = 1\n",
    "for train, test in kfold.split(inputs, targets):\n",
    "    \n",
    "    input_to_nn = Input(shape = input_shape)\n",
    "    hidden_1 = Dense(32,  activation=LeakyReLU(0.0025))(input_to_nn)\n",
    "    bn1 = BatchNormalization()(hidden_1)\n",
    "\n",
    "    hidden_2 = Dense(25, activation = LeakyReLU(0.0005) )(input_to_nn)\n",
    "    bn2 = BatchNormalization()(hidden_2)\n",
    "\n",
    "    concat = Concatenate()([bn1, bn2])\n",
    "\n",
    "    dense1 = Dense(20, activation = \"relu\",kernel_regularizer=\"l2\")(concat)\n",
    "    d3 = Dropout(0.15)(dense1)\n",
    "    dense2 = Dense(1, activation = \"relu\")(dense1)\n",
    "\n",
    "    model2 = Model(inputs = [input_to_nn], outputs = [dense2])\n",
    "\n",
    "    \n",
    "    model2.compile(loss = tf.keras.losses.MAE, \n",
    "    optimizer = tf.optimizers.Adam(learning_rate = 0.015), \n",
    "    metrics=[tf.keras.metrics.MSLE])\n",
    "    \n",
    "    model2.fit(inputs[train], targets[train], epochs = 50, batch_size = 32, verbose = 0)\n",
    "    \n",
    "    scores = model2.evaluate(inputs[test], targets[test], verbose=0)\n",
    "    print(f'Score for fold {fold_no}: {model2.metrics_names[0]} of {scores[0]}')\n",
    "\n",
    "    loss_per_fold.append(scores[0])\n",
    "\n",
    "    fold_no = fold_no + 1"
   ]
  },
  {
   "cell_type": "code",
   "execution_count": 239,
   "id": "b4c5b8c5",
   "metadata": {},
   "outputs": [
    {
     "data": {
      "image/png": "iVBORw0KGgoAAAANSUhEUgAAAYQAAAD4CAYAAADsKpHdAAAAOXRFWHRTb2Z0d2FyZQBNYXRwbG90bGliIHZlcnNpb24zLjMuNCwgaHR0cHM6Ly9tYXRwbG90bGliLm9yZy8QVMy6AAAACXBIWXMAAAsTAAALEwEAmpwYAAA3CUlEQVR4nO3dd3yc1Zno8d+jXmdkq1nNuBeNjO3Y9ACm2BCSpSSw1ywJJGFDQshNIY0kezd7dy8hpCwJ2UBCC5BCCZDAboBQLVNMMSDhKlmuI0u2RrZGvc+5f8w7ZizGkizN6J3yfD8ffTw+874zZ8byPPOe55zniDEGpZRSKsnuDiillIoOGhCUUkoBGhCUUkpZNCAopZQCNCAopZSypNjdgYkqKCgws2bNsrsbSikVU955551WY0xhqPtiNiDMmjWLjRs32t0NpZSKKSKy91j36ZCRUkopQAOCUkopiwYEpZRSgAYEpZRSFg0ISimlAA0ISimlLBoQlFJKARoQlFJRrsbtZeOew3Z3IyFoQFBKRbUf/GUTX33oPXTvlsjTgKCUilq9A8NsP9BJU3sfW5o67O5O3NOAoJSKWpub2hn2+a8Mntt60ObexD8NCEqpqFXr9gIwtzCb57YcsLczCUADglIqar3n9lKWl8nak2ay/UAn7sM9dncpro0ZEETkPhFpEZHNI9r/t4jUicgWEflJUPv3RKTBuu+CoPYVIrLJuu92ERGrPV1EHrHa3xSRWWF8fUqpGFbr9rK0wsnqymIAntdho4gazxXC/cCFwQ0icg5wCXCiMcYF/MxqrwTWAi7rnDtEJNk67U7gOmC+9RN4zGuBNmPMPOA24NZJvB6lVJxo7eqnsa2XZRV5zCrIZkFxDs9t1WGjSBozIBhj1gMjJwFfD/zYGNNvHdNitV8CPGyM6TfG7AYagJNFpARwGGM2GP/csQeBS4POecC6/RhwXuDqQSmVuGr2eQFYWp4HwJrKGby9p4227gH7OhXnJppDWACcaQ3xVIvISVZ7GeAOOq7Raiuzbo9sP+ocY8wQ0A7kh3pSEblORDaKyEaPxzPBriulYkFto5fkJGFJuROA1ZXFDPsML21vGeNMNVETDQgpwDTgVODbwKPWt/pQ3+zNKO2Mcd/RjcbcZYxZaYxZWVgYcgc4pVScqHF7WVCcS1aaf2PHJWVOih3pmkeIoIkGhEbgCeP3FuADCqz2iqDjyoEmq708RDvB54hICuDkw0NUSqkE4vMZatxellU4j7QlJQmrK4tZv8ND3+Cwjb2LXxMNCH8FzgUQkQVAGtAKPAWstWYOzcafPH7LGNMMdIrIqdaVxNXAk9ZjPQVcY92+HHjJ6Bp1pRLa7kPddPYNsawi76j21ZUz6BkY5rWGVns6FufGM+30IWADsFBEGkXkWuA+YI41FfVh4BrramEL8CiwFXgWuMEYEwjl1wP34E807wSesdrvBfJFpAG4EbgpbK9OKRWTjiSURwSEU+dMJyc9RYeNIiRlrAOMMVce465PH+P4m4GbQ7RvBKpCtPcBV4zVD6VU4qht9JKdlsz8otyj2tNTklm1sJAXth1k2GdITtIJieGkK5WVUlGnxu1lSbkz5Af+6spiWrsGqHG32dCz+KYBQSkVVfoGh9nW3PGh4aKAVQuLSEkSLXYXARoQlFJRZWtzB4PDhuXHCAjOzFROm5vP81s0IISbBgSlVFQJJJSXVUw75jGrK4vZ1dpNQ0vXFPUqMWhAUEpFldpGL8WOdGY4M455zPmLtdhdJGhAUEpFFf+CtLxRjynNy2RJmVOL3YWZBgSlVNQ43D3A3kM9x0woB1tdWUyN20tLZ1/kO5YgNCAopaJGbaMXYMwrBIA1rmKMgRe3abG7cNGAkOC+/vB73PZ8vd3dUArwJ5RF4ESr5PVoFhbnUjE9U7fWDCMNCAnM2zPAU7VNPLO52e6uKAX4rxDmF+WQkz5mEQVEhNWLZ/DazkN09w9NQe/inwaEBPbKjlZ8Bhpauugd0OqRyl7GGGrHkVAOtsZVzMCQj/X1uj9KOGhASGDV1n8in4HtBzps7o1KdHsP9dDWMziuhHLAyhOmkZeVqquWw0QDQoLy+QzV9R6Wz8wDYHOTBgRlr+NJKAekJCdx7qIiXtrewuCwLzIdSyAaEBLUtgMdeDr7ufLkmeRlpbK1qd3uLqkE994+LxmpSSwszh374CBrKmfQ3jvI27t1X63J0oCQoALDRasWFOIqdbBFrxCUzWobvSwpc5KSfHwfS2ctKCA9JUmHjcJAA0KCWlfnobLEQZEjg6pSJ9ubO/WSW9lmYMjHlqaO4xouCshKS+HM+QU8v/Ugutni5GhASEAdfYO8u7eNsxcWAlBZ6mBg2KeFwpRttjV3MDDkG7Wg3WhWVxaz39vL1ma90p0MDQgJ6PWGVoZ8hlUL/AGhqsy/kfnm/ZpHUPYIJJSXVjgndP65i4oR0WJ3k6UBIQFV13vISU/hIyf4v43Nzs8mKy1Z8wjKNjX7vBTkpFOWlzmh8wtz01kxc5oGhEnSgJBgjDFU13k4Y14+qVbyLilJqCxxsEVnGimb+CucOhGZ+B7JqyuL2dLUQWNbTxh7llg0ICSYHS1dNLX3sWph0VHtrlIHW5s68Pk0KaemVnvPILtauyeUUA62utK/R8ILepUwYRoQEkx1nX+66VlW/iDAVeqke2CYvYf125WaWh8sSJtYQjlgTmEO84pyeH6bBoSJ0oCQYKrrPcwvyvnQWK2rzAFoYllNvVq3F4Al5RNLKAdbXVnMG7sO094zOOnHSkRjBgQRuU9EWkRkc1Dbv4nIfhGpsX4uCrrveyLSICJ1InJBUPsKEdlk3Xe7WIOFIpIuIo9Y7W+KyKwwv0Zl6e4f4q3dh1m1sPBD980vyiU1WTSxrKZcjdvL3MJsnJmpk36s1ZXFDPsML9fpHgkTMZ4rhPuBC0O032aMWWb9PA0gIpXAWsBlnXOHiCRbx98JXAfMt34Cj3kt0GaMmQfcBtw6wdeixvDGrkMMDPs4e0HRh+5LS0li4YxcTSyrKWWMocbtPa6CdqNZVp5HYW66bq05QWMGBGPMemC8RUIuAR42xvQbY3YDDcDJIlICOIwxG4x/KeGDwKVB5zxg3X4MOE8mM9VAHdO6Og+ZqcmcNDv0WK2rxMmWpg5d7ammTGNbL4e6B1gepoCQlCScv7iY6joP/UNa0v14TSaH8BURed8aUgp8wpQB7qBjGq22Muv2yPajzjHGDAHtQH6oJxSR60Rko4hs9Hi0/vnxMMawrr6F0+fmk56SHPKYqjIHh7sHaG7XPWrV1Kix8geTTSgHW+MqpntgmNd3HgrbYyaKiQaEO4G5wDKgGfi51R7qm70ZpX20cz7caMxdxpiVxpiVhYUfHgdXx7bnUA/uw71HylWEUlnqT+ppHkFNlVq398hwZbicPjef7LRkntuis42O14QCgjHmoDFm2BjjA+4GTrbuagQqgg4tB5qs9vIQ7UedIyIpgJPxD1GpcVpnJdlWhcgfBCwuySVJdKaRmjo1bi9VpQ7SUsI34TE9JZmzFxbywraDuq7mOE3oX8HKCQRcBgRmID0FrLVmDs3Gnzx+yxjTDHSKyKlWfuBq4Mmgc66xbl8OvGR0EDvsqus9zC7IZmZ+1jGPyUpLYU5hjl4hqCkxOOxj0/72sCWUg62pnIGns//IGgc1PmPuZC0iDwGrgAIRaQR+CKwSkWX4h3b2AF8EMMZsEZFHga3AEHCDMSaQ2bke/4ylTOAZ6wfgXuD3ItKA/8pgbRhelwrSNzjMhp2HuPLkmWMe6yp16EYjakrUHeikf8g36RXKoZyzsIjkJOG5rQdZPjN8+Yl4N2ZAMMZcGaL53lGOvxm4OUT7RqAqRHsfcMVY/VAT9+buw/QP+UbNHwRUlTp5sqaJw90DTM9Om4LeqUQVSCgvD2NCOcCZlcops6fz/NaDfPfCRWF//HilK5UTQHWdh7SUJE6dHXLy1lFcpf4Vy7oeQUVardvL9Ow0KqZPrMLpWNZUFtPQ0sUuj+7zMV4aEBLAuvoWTp2TT2Za6OmmwVylgb0RNI+gIqvG7WVp+eQqnI7mfKvYnZbEHj8NCHHOfbiHXZ5uzl4wvmm6zqxUyqdl6hWCiqjOvkEaPF1hXX8wUvm0LCpLHBoQjoMGhDhXXe9fwBeqftGxVJU6daaRiqhNje0YM/Ed0sZrjauYd/a14ensj+jzxAsNCHFuXZ2H8mmZzCnIHvc5rlIHu1u76eofimDPVCJ778gK5byIPs/qymKMgZe261XCeGhAiGMDQz5e39nK2QsKj2ucNlAKe5tuWK4ipNbtZVZ+FnlZkZ3JVlnioCwvU4eNxkkDQhzbuOcwPQPDH9odbSxVRxLLmkdQ4ReocBrpqwMAEWF1ZTGv7GilZ0CveMeiASGOVdd7SE0WTps79nTTYEWODApy0jWPoCKiub2Pls7+KQkI4J9+2j/kY31965Q8XyzTgBDHqus9nDRrOjnpY64//JCqModeIaiICOyQFomSFaGcNHs6zsxUHTYaBw0Icaq5vZftBzrHPd10JFepg4aWLvoGtaa8Cq8at5fUZKHSWgQZaanJSZy7qIgXtx9kaNg3Jc8ZqzQgxKn11nTT8ZSrCKWq1MmQz1B/sDOc3VKK99xeKkscx9yXIxJWVxbj7Rlk4962KXvOWKQBIU6tq/Mww5HBwuKJ1Zl36d4IKgKGhn1samyfsvxBwFkLCklLSdI9EsagASEODQ77eHXH8U83DVYxPZPcjBTNI6iw2tHSRe/gMMtm5k3p8+akp3DG3Hye33ZAt4gdhQaEOFTj9tLZP3Rcq5NHEhFcpQ69QlBhdSShXJ435c+9unIG7sO91Okw6DFpQIhD6+paSE4STp9XMKnHcZU62X6gQxNxKmxq3F6cmanMPo6V8+FyfmURIuiw0Sg0IMSh6noPH5mZhzMzdVKPU1XmoG/Qx67W7jD1TCW6GreXpRV5EatwOpqi3AyWVeTp9NNRaECIMy2dfWze33Hcq5ND+SCxrHkENXnd/UPUH+xkWXlkC9qNZnVlMZv2t9Pk7bWtD9FMA0KcecVajTnR9QfB5hRkk5GapHsjqLDYtL8dn2HKE8rB1lTOAOCFbXqVEIoGhDhTXe+hICedypLJL/pJSU5i0QyHXiGosLAzoRwwryiHOQXZOmx0DBoQ4siwz7B+h4ezFhSQlBSeMdrATCOdqqcmq8btpWJ6Jvk56bb2Y7WrmA07D9HeO2hrP6KRBoQ48n6jF2/PYFiGiwKqypx09g3hPqxjrmpy/BVOI7dD2nitqSxmyGdYV9did1eijgaEOFJd70EEzpofvoDgsurN6LCRmoyDHX00t/ex1MaEcsCyimkU5KTpsFEIGhDiyLo6D0vL85iWHb5NRxYU55KSJGzWgKAmocbKHyy3MaEckJwknL+4mHV1HvqHtHhjMA0IcaKte4DaRu+kVieHkpGazLyiHF2xrCal1u0lJUmOTGW22+rKYrr6h3hj12G7uxJVxgwIInKfiLSIyOYQ931LRIyIFAS1fU9EGkSkTkQuCGpfISKbrPtuF2tlioiki8gjVvubIjIrTK8toazf4cGY8Ew3HamqzKlTT9Wk1Li9LCrJJSN16iqcjuaMeQVkpibz/NYDdnclqoznCuF+4MKRjSJSAawG9gW1VQJrAZd1zh0iEvgNuBO4Dphv/QQe81qgzRgzD7gNuHUiLyTRVdd7mJaVyokRmNLnKnXQ2tVPS0df2B9bxb9hn+F9GyqcjiYjNZmzFxTy/NaD+Hw6gy5gzIBgjFkPhLquug34DhD8bl4CPGyM6TfG7AYagJNFpARwGGM2GP/8xQeBS4POecC6/Rhwntixrj2G+XyG9fWtnDm/kOQwTTcNFrjM1zyCmohdni66+odsXX8QyurKYg529LNJK/oeMaEcgohcDOw3xtSOuKsMcAf9vdFqK7Nuj2w/6hxjzBDQDoTcBFhErhORjSKy0ePxTKTrcWlrcwetXf0RGS4CjuxstUWHjdQEvBdFCeVg5y4qIjlJdLZRkOMOCCKSBfwA+NdQd4doM6O0j3bOhxuNucsYs9IYs7KwMDIffrGo2tod7awIBYSc9BRmF2RrYllNSK3bS256CnMKcuzuylGmZadx0qxpPKd5hCMmcoUwF5gN1IrIHqAceFdEZuD/5l8RdGw50GS1l4doJ/gcEUkBnIQeolLHsK6uhaoyB4W5kVsB6ip16JCRmpAat5cTK5xhWz0fTqsrZ1B/sIs9WtEXmEBAMMZsMsYUGWNmGWNm4f9A/4gx5gDwFLDWmjk0G3/y+C1jTDPQKSKnWvmBq4EnrYd8CrjGun058JLROgnj1t47yLv7vBEbLgpwlTppbOulvUeX+6vx6x0YZvuBzqhKKAdbU1kMoMNGlvFMO30I2AAsFJFGEbn2WMcaY7YAjwJbgWeBG4wxgZUf1wP34E807wSesdrvBfJFpAG4Ebhpgq8lIb3e0Mqwz4Sl3PVoqsp0xbI6flua2hn2mahLKAdUTM9i0YxcDQiWlLEOMMZcOcb9s0b8/Wbg5hDHbQSqQrT3AVeM1Q8V2ro6D7kZKSyP8DewD/ZG6Jj0TmwqcQRWKNtZ8nosayqL+a+XGzjU1W974T276UrlGGaMobrew5nzC0hJjuw/5fTsNEqdGZpHUMflPbeXsrxMinIz7O7KMa1xzcBn4MXtWuxOA0IMqz/YxYGOvojnDwIqS50600gdl1q3l6UV0VGu4lhcpQ5KnRk6bIQGhJgWKN8bqemmI7lKHez0dNEzMDQlz6diW2tXP41tvVGbUA4QEc6vLOaVHR56BxK72J0GhBhWXe9h0YxcSpyZU/J8VWVOjIFtzZ1T8nwqtkXDDmnjtaZyBn2DPl7ZkdgLXjUgxKiu/iHe3nN4yoaL4IO9EbZqHkGNQ43bS3KSsCQK9kAYyylzppObkZLww0YaEGLUhp2HGBw2nB3mctejKXFmMD07TSufqnGpcXtZUJxLVtqYkxltl5qcxDkLi3hxewvDCVzsTgNCjKqubyErLZmVJ0yfsucUEf8ey816haBG5/MZat1elkV5QjnYGlcxh7sHeGdvm91dsY0GhBhkjGFdnYfT5xaQljK1/4SuUid1BzoZGPJN6fOq2LL7UDcdfUNRn1AOdvaCQlKTJaH3SNCAEIN2tXbT2NYb9t3RxsNV6mBw2LCjRRPL6tiOJJRjKCDkZqRy+twCntt6kEStnqMBIQatq/PPhJjKhHKAS0thq3GocXvJTktmflGu3V05Lqsri9l7qIcdLV12d8UWGhBiUHW9h7mF2VRMz5ry556Vn012WrLWNFKjqnF7WVLujMiGTZG0OsGL3WlAiDF9g8O8uesQZy+IbDG7Y0lKEipLHbpiWR1T3+Aw25o7Ymq4KKDYkcHSijye25KYeQQNCDFmw65D9A/5pnS66UiuUidbmzsSenqeOratzR0MDpuIF1yMlDWVxdQ2tnMwAfcQ14AQY6rrPGSkJnHK7KmbbjqSq9RBz8Awew7ppiLqwwIJ5WUV0+ztyAQl8rCRBoQYs77ew6lz8slITbatD1Vl/rnlm3VzchVCjdtLsSOdGc7orXA6mvlFOczKz+I5DQgqmu071MOu1m5W2TC7KNi8ohzSUpLYqnkEFUKN2xtT6w9GEhFWVxazYWcrnX2JtUOgBoQYUl3vr256doR3RxtLanISC4tzdW8E9SFt3QPsPdQTkwnlYKsrZzA47N9vJJFoQIgh6+o8zJyexaz8qZ9uOlJVmX+mUaIu4FGh1TR6AWL6CgFgxQnTmJ6dxnNbEmvYSANCjOgfGub1nYdYtbAQEfvndleWOvH2DLLf22t3V1QUqXV7EYETY6Dk9WiSk4TzFhXxcl1LQpVp0YAQIzbuaaN3cNiW1cmhVAVWLGseQQWpcXuZX5RDTnr0Vzgdy+rKYjr7hnhz9yG7uzJlNCDEiHV1LaQlJ3Ha3Hy7uwLAohkOkkQDgvqAMYEKp3l2dyUszpxfSEZqUkJNP9WAECOq6z2cPHt61NSWz0xLZl5RDlt06qmy7DvcQ1vPYMwnlAMy05I5c34hzydQsTsNCDGgydtL/cGuqBkuCnCVOvUKQR1Rc2RBWp6t/QinNZXFNLf3JcymUGMGBBG5T0RaRGRzUNt/iMj7IlIjIs+JSGnQfd8TkQYRqRORC4LaV4jIJuu+28XKjIpIuog8YrW/KSKzwvwaY15g6psd5a5H4yp1cKCjj9aufru7oqLAe/u8ZKT6pyTHi/MWF5MkJMweCeO5QrgfuHBE20+NMScaY5YB/wP8K4CIVAJrAZd1zh0iElhSeydwHTDf+gk85rVAmzFmHnAbcOtEX0y8qq7zUOrMYF5Rjt1dOYqr1L9iWa8SFEBto5clZU5SkuNn4GF6dhorT5ieMKuWx/yXM8asBw6PaAv+BMgGAgNslwAPG2P6jTG7gQbgZBEpARzGmA3GPxj3IHBp0DkPWLcfA86TaJhXGSUGh3281tDK2QuLomK6abBKa6aRlrBQA0M+tjR1xNVwUcAaVzHbD3TiPtxjd1cibsKhXERuFhE3cBXWFQJQBriDDmu02sqs2yPbjzrHGDMEtAPRMZUmCry7t43O/qGoyx8AODNTmTk9S0tYKLYf6GBgyBc3CeVggWJ3iXCVMOGAYIz5gTGmAvgj8BWrOdRXWDNK+2jnfIiIXCciG0Vko8eTGEvK19V7SEkSzpgXnTHSVerQzXJUXCaUA07Iz2ZBcU5C7JEQjsG+PwGfsm43AhVB95UDTVZ7eYj2o84RkRTAyYghqgBjzF3GmJXGmJWFhdH3jTkSqus8rDhhGrkZqXZ3JaSqMid7DvXQkWBFwNTRavZ5KchJpywv0+6uRMSayhm8vecwbd0DdncloiYUEERkftBfLwa2W7efAtZaM4dm408ev2WMaQY6ReRUKz9wNfBk0DnXWLcvB14yiTLpdwwtHX1sbe6wdTOcsQTyCNt02Cih1TR6WVbhjLo8V7isrizGZ+Dpzc12dyWixjPt9CFgA7BQRBpF5FrgxyKyWUTeB9YAXwMwxmwBHgW2As8CNxhjhq2Huh64B3+ieSfwjNV+L5AvIg3AjcBN4Xpxse7IdFObtsscjyprptFmDQgJq71nkF2e7rgcLgpYUuZkXlEOP/jLZr74+41sa47P3/cxl70aY64M0XzvKMffDNwcon0jUBWivQ+4Yqx+JKLqeg+FueksLoneed2FuekU5aZrHiGBvb/fC8TuDmnjkZQkPH796dz36m7ue3U3f9/yChctmcHXzlvAwhnR+//zeMXPhOE4M+wzvLKjlbMXREd109G4Sh1sSZCVnOrDavZ5AVhS7rS3IxHmzEzlG6sX8Op3z+Wr585jfX0rF/5yPTf86V12HOy0u3thoQEhStW4vbT3Dkbd6uRQqsqcNHi66BscHvtgFXdq3F7mFmbjzIzOiQ/h5sxK5cY1C3nlO+fw5VVzWbe9hTW/WM9XH3qPhpYuu7s3KRoQolR1vYckgY/OK7C7K2NylToY9hnqDsTHtyQ1fsYYahu9cbn+YCzTstP49gWLeOW75/LFs+by/NaDrLmtmm88UsPu1m67uzchGhCiVHVdC8tnTiMvK83urozJdSSxrHmERNPY1ktr1wDLEzAgBEzPTuOmjy3ile+ewz+fOYdnNjdz3s/X8c1Ha9l7KLYCgwaEKHSoq5/397dH5erkUMqnZeLMTNWaRgmo9siWmfGbUB6vgpx0vn/RYl75zrl8/ozZ/M/7TZz782q+81htzJS90IAQhV5taMUYYiYgiIiVWNYrhERTs89LWkpSXM20mazC3HT+5ROVvPKdc7j6tBP4a00T5/xsHTc9/j6NbdEdGDQgRKF1dR6mZ6expCx2Zm24Sh1sO9DJ4HDi7D+r/AnlqlIHaSn6UTJSkSODH/6Di/XfPoerTpnJE+/u55yfreP7f9lEU5TuRa7/ilHG5zOsr/dw1vwCkpKie7ppMFepk4EhHzs9sT3LQo3f4LCPzU3tCZlQPh4znBn830uqWPftVfyvkyr480Y3q366jv/z1800t0dXYNCAEGU2N7VzqHsgqstVhFJV5i9hoesREkfdgU76Bn1xvUI5nErzMvl/ly7h5W+t4lMrynnorX2c/dN1/NtTWzjY0Wd39wANCFGnus6DCJw1P7YCwuyCHDJTk3WmUQIJJJSXa0L5uJRPy+KWT/oDw2XLyvj9G3s56ycv8+//vZWWTnsDgwaEKFNd72FJmZP8nHS7u3JckpOExSW5OtMogdTs8zI9O42K6fFZ4TTSKqZncevlJ/LyN1dx8dJSHtiwh7N+8jI3/22rbdvSakCIIu09g7y7r41VMTK7aCRXqZNtTR34fFqsNhHUuL0sLY/fCqdTZWZ+Fj+9Yikv3ng2Fy0p4d5Xd3PmrS9zy9PbODTFgUEDQhR5taEVnyHm8gcBVWUOOvuH2Bcjc67VxHX2DdLg6dKEchjNKsjmP/9xGc/feDYXuIq565VdnPmTl7n12e1Ttg+DBoQoUl3fgiMjhaXleXZ3ZUICK5Z12Cj+bWpsx5j43CHNbnMLc/jF2uU8/42zOG9xMb+p3slHb32Jn/29Dm9PZAODBoQoYYyhut7DmQsKSUmOzX+W+cU5pCSJJpYTwHtxvGVmtJhXlMuvrlzO379+FqsWFvFfLzdw5q0v85/P19PeG5kdCmPzkycObT/QycGO/phZnRxKekoyC4o1sZwIat1eZuVnxUStrVi3oDiXX1/1EZ752pmcMa+A21/cwZ83uiPyXGNukKOmxrq6wO5osRsQwL9i+aXtLRhjNNkYp4wx1Li9nD433+6uJJTFJQ5+85kVbGlqZ3ZBdkSeQ68QokR1fQuLSxwUOTLs7sqkVJU5OdQ9wMEOe6bNqcg70NFHS2e/DhfZxFXqJCstMt/lNSBEga7+ITbuaYvp4aIAV6m1YlnzCHErsEOazjCKPxoQosBrDa0M+UxM7I42lsUlDkRgs5awiFs1bi+pyUKlFfxV/NCAEAWq6z3kpKew4oTYLwGQnZ7C7IJsvUKIYzVuL5UlDtJTku3uigozDQg2M8ZQXefhjHn5pMbodNORXKVOnWkUp4Z9hk372zV/EKfi4xMohu30dLHf28vZC4rs7krYVJU62O/tnbLVlWrq7GjppGdgmGUz8+zuiooADQg2C0w3jdVyFaHoiuX4dSShHKOr6dXoxgwIInKfiLSIyOagtp+KyHYReV9E/iIieUH3fU9EGkSkTkQuCGpfISKbrPtuF2uSuoiki8gjVvubIjIrvC8xulXXe5hflENZXvxUjNSZRvGrxu3FkZESsXnwyl7juUK4H7hwRNvzQJUx5kSgHvgegIhUAmsBl3XOHSISyDzdCVwHzLd+Ao95LdBmjJkH3AbcOtEXE2t6BoZ4c9fhuJhuGmxadhpleZlsjrErhMFhH4++7Z7yCpOxpMbtZWlFni46jFNjBgRjzHrg8Ii254wxQ9Zf3wDKrduXAA8bY/qNMbuBBuBkESkBHMaYDcYYAzwIXBp0zgPW7ceA8yRBftve3HWYgWEfqxbGT/4gwFXqiLkrhAc37OU7j7/PZXe8TkNLp93diTrd/UPUH+xkuSaU41Y4cgifB56xbpcBwUU2Gq22Muv2yPajzrGCTDsQck28iFwnIhtFZKPH4wlD1+21rq6FzNRkVs6K/emmI7lKnexu7aa7f2jsg6OAt2eA21/cwYnlTnoGhrnsjtd5ZUfs/46F0+b97fgMmlCOY5MKCCLyA2AI+GOgKcRhZpT20c75cKMxdxljVhpjVhYWxv4wS3W9h9Pm5pORGn/zuV2lDoyBbc2xMWz0Xy810NE3yK2fOpG/3nA6ZXmZfPZ3b/OHN/ba3bWoUWNVONWEcvyacEAQkWuATwBXWcNA4P/mXxF0WDnQZLWXh2g/6hwRSQGcjBiiikd7WrvZc6gnLlYnh1JVFjszjfYe6uaBDXu4YkU5i0sclE/L4s9fOo2z5hfwL3/dzL//91aGdRc4atxeKqZnxtz2rmr8JhQQRORC4LvAxcaY4O2xngLWWjOHZuNPHr9ljGkGOkXkVCs/cDXwZNA511i3LwdeCgowcau63ppuGmcJ5YBiRzr52Wls3h/9eYRbn91OSlIS31yz8EhbbkYqd1+9ks+ePov7XtvNdQ9upCtGhr8ipdbtZVlF/A1vqg+MZ9rpQ8AGYKGINIrItcB/AbnA8yJSIyK/ATDGbAEeBbYCzwI3GGOGrYe6HrgHf6J5Jx/kHe4F8kWkAbgRuClcLy5avbuvjdteqGdhcS4n5Mfn9D0RwVUW/SuW39l7mKc3HeCLZ8+heESl2ZTkJP7tYhf/cYmLdfUervjNBpq8vTb11F4tHX00tfextNxpd1dUBI1ZQ9UYc2WI5ntHOf5m4OYQ7RuBqhDtfcAVY/UjXry8vYXr//gOxY4M7r56pd3diShXqYO71++if2g4KuveGGP4f3/bRlFuOtedNeeYx33mtFnMzM/mK398l0t+/Rr3XL0y4Sp9BnZIW64J5bimK5Wn0BPvNvLPD25kXlEOj33pdGbmZ9ndpYiqKnUy5DPsONhld1dC+p/3m3lvn5dvrVk4Zn35sxcU8viXTyc9JYn/ddcGntnUPEW9jA61bi8pSXJkFbqKTxoQpsjd63dx46O1nDJ7Og994VQKc+M/MRfNK5b7Boe59dntLJqRy6dWlI99Av6tDP96wxlUlji4/o/v8uuXG0iAdBfgTygvKsmNyxlx6gMaECLM5zP86Olt3Pz0Nj6+pITffe4kcjNS7e7WlJg5PYvc9JSo3BvhwQ17aGzr5V8+Xkly0vjXQRbkpPOnL5zKxUtL+enf6/j2Y+8zMOSLYE/t5/MZ3m/UCqeJQPdUjqDBYR/fffx9nnh3P1efdgI//AfXcX34xLqkJGFxFK5YPtw9wK9eamDVwkI+Or/guM/PSE3ml2uXMacwm1+8sIN9h3v47adXMC07Pjec3+npoqt/SNcfJAC9QoiQnoEhrntwI0+8u58bVy/g/16cWMEgwFXqYFtzZ1TN47/9xR109w/x/YsWT/gxRISvn7+AX65dRo3by2V3vMZOT3TmSiZLE8qJQwNCBLR1D3DVPW9SXe/hR5ct4avnzU/YYmBVpU56B4fZ3RodH5a7PF384Y29rD15JguKcyf9eJcsK+OhL5xCZ98Ql/36NV7f2RqGXkaXWreX3PQU5hTk2N0VFWEaEMKsydvLFb/dwJamDu646iP80ykz7e6SrVxl/sRytOQRfvzMdtJTkvjG+QvC9pgrTpjOX284g2JHBlff+xaPvL0vbI8dDWrcXk6scJKUgFe4iUYDQhjtONjJp+58nYPtfTz4+ZO5sKrE7i7Zbl5hDukpSVGRR3hj1yGe23qQ61fNDfssr4rpWTz+5dM5bW4+3318E7c8vQ1fFA2TTVTf4DDbD3RqQjlBaEAIk3f2tnHFbzcw5DM88sXTOHVOyIKtCSclOYlFM3JtX7EcmO1V4szg2o8eexHaZDgyUvndZ0/iM6eewG/X7+JLf3iHnoHYLnexeX87wz6jCeUEoQEhDF7afpCr7nmDvMxUHv/S6VRa8++Vn6vMyeb97bbO2X+qton3G9v59gULyUyL3Fz6lOQk/v0SFz/8h0pe2HaQf/ztBg6090Xs+SItUOFUrxASgwaESXr8nUa+8OA7/tXH18f/6uOJcJU66OgborHNnjpAfYPD/OTZ7VSVObh0WdnYJ0ySiPC5M2ZzzzUr2e3p5pJfvxoTRf5CqXF7KXVmUDSizpOKTxoQJuGu9Tv55p9rOXWOf/VxgZYFDilQ7sCuPMK9r+6mqb2PH1xUOaWJ0XMXFfPY9aeTLMIVv9nAc1sOTNlzh0uN26sb4iQQDQgT4PMZbv7bVn709HY+fmIJ9302cVYfT8SiGbkkJ4kteYTWrn7uXLeT8xcXc9rcqc/rLC5x8NevnMGCGbl88Q/vcNf6nTFT7qK1q5/Gtl4dLkogGhCO0+Cwj2/9uZa7X9nNNaedwK/WLo/KSp7RJCM1mXmFObYMm/zihXp6B4e56WOLpvy5A4pyM3jkulO5aEkJP3p6O997YhODw9Ff7qJWd0hLOFq64jj0DAzx5T++y7o6D99cvYCvnDsvYRecHS9XmYNXd0ztoq2Glk4eesvNVafMZF6RvYuqMlKT+dXa5cwpyOZXLzWw73APd161AmdW9FxZ9g0Os7W5g1q3l1q3lzd2HSZJYInugZAwNCCMU1v3AJ9/4G1q3V5u+eQSrjw5sRecHS9XqZMn3t1PS2cfRblTk6C85entZKUm87Xz5k/J840lKUn45pqFzC7I5qbHN3HZHa9x32dPYlbB1G+S5PMZdnq6qHF7qW30UutuZ1tzB0PW2omi3HSWVeSxxjV2aXAVP/Rfehz2e3u5+t43cbf1csdVK7iwaobdXYo5VUdKYXdQtDDyAeH1hlZe3N7CTR9bFHV7AH/yI+WUT8vii7/fyKV3vMZvP72CUyK8buVAe1/Qh7+X9xvbj2wJmpOewonlTr5w1hyWluexrCKPGU6dVZSINCCMYcfBTq6+7y26+oZ48PMn64KzCQqszdja1ME5C4si+lzDPv9OaGV5mXz29FkRfa6JOnm2v9zF5+9/m0/f+ya3fPJELh/nvgxj6egbZFNjuz8AWEHgYEc/AKnJwuISB5ctL2NpRR7LKpzMKcjRshQK0IAwqnf2tvH5+98mLSWJR754mi44m4TcjFROyM+aksTyX97bz9bmDn65dllUb+hyQn42T1x/Bl/+0zt868+17PJ08a01C4/rw7l/aJjtzZ3UNnqPBICdnu4j988pyOb0uQUsLXeytCKPxSWOqH5PlL00IBzDS9sP8uU/vssMRwa/v/YUKqbrgrPJqip1sinCAaF3YJif/b2OpRV5XLy0NKLPFQ7OrFTu/9zJ/OuTW7hj3U72HOrm51csC7ma2ucz7D7UfSTpW9PYzramDgasGUsFOf5x/8C3/xPL8qIqaa2inwaEEB57p5HvPv4+lSUOfve5k3TBWZhUljr426Zm2nsHcWZG5oPq7ld2caCjj1/90/KYmQGWmpzEjy6rYm5hNjc/vY39bRu4++qVAEclfWsbvXT2+cf9s9OSWVLu5HMfncWy8jyWVuRR4syImdesopMGhBF+W72TW57Zzhnz8vntZ1aSk65vUbhUlfmnL25t6ojIIrGWjj5+U72TC10zOGnW9LA/fiSJCP985hxOyM/maw+/x0dvffnIN/+UJGFRSS4XLy21xv3zmFuYk5AbLqnI0k87i89nuOWZbdz9ym4+cWIJP//HpbrgLMxcR2YatUckINz2Qj0DQz5bF6FN1urKYv78pdN4+C03swqyWVbhxFXq1HF/NSU0IOBfffydx97nL+/t5xpr72OddRF+BTnpzHBkRKSERd2BTh552801p8+yZV5/OLlKnfzHpboYTE29MUtXiMh9ItIiIpuD2q4QkS0i4hORlSOO/56INIhInYhcENS+QkQ2WffdLtZgp4iki8gjVvubIjIrjK9vTD0DQ/zzAxv5y3v7+daaBfzbxRoMIslV6ohIkbubn95GTnpK1CxCUyoWjaeW0f3AhSPaNgOfBNYHN4pIJbAWcFnn3CEigWvdO4HrgPnWT+AxrwXajDHzgNuAW4/7VUxQW/cA/3T3m7yyw8Mtn1zCV85N3L2Pp4qr1EFDSxe9A8Nhe8zqeg/r6z189bz55GWlhe1xlUo0YwYEY8x64PCItm3GmLoQh18CPGyM6TfG7AYagJNFpARwGGM2GH+pxweBS4POecC6/RhwnkzBp/J+by+X/+Z1tjZ3cMdVK7QUxRRxlTnxGdh+IDzDRsM+wy1Pb2Pm9Cw+c9oJYXlMpRJVuKudlgHuoL83Wm1l1u2R7UedY4wZAtqBkBlHEblORDaKyEaPxzPhTtYf7ORTd7xOS2c/v//8yVqKYgoFEsubw5RH+PNGN9sPdPLdCxfpJAClJincASHUN3szSvto53y40Zi7jDErjTErCwsLJ9TBd/Ye5orfbGDYGB794mkRryGjjlaWl0leVipbw5BH6O4f4ufP17PihGlctESDulKTFe6A0AhUBP29HGiy2stDtB91joikAE5GDFGF057WHvKz03ji+tNZXKKlKKaaiOAqdbB5/+SvEH67fheezn5+8PHFmvtRKgzCHRCeAtZaM4dm408ev2WMaQY6ReRUKz9wNfBk0DnXWLcvB14yEdxS6lMrynn6a2dqKQobVZU6qTvQOalNYg6093HX+p18/MQSPjJzWhh7p1TiGs+004eADcBCEWkUkWtF5DIRaQROA/4mIn8HMMZsAR4FtgLPAjcYYwLTSa4H7sGfaN4JPGO13wvki0gDcCNwU9he3THoIh97VZY6GBj2seNg14Qf42fP1eHzwU0Xxu4iNKWizZgL04wxVx7jrr8c4/ibgZtDtG8EqkK09wFXjNUPFT8CJSy2NLVPqILslqZ2Hn+3kS+cOUev9JQKI91TWU252fnZZKUlT2jFsjGGHz29DWdmKjecMy8CvVMqcWlAUFMuKcm/SctEViy/XNfCaw2H+Np58yNWMVWpRKUBQdmiqtTB1qYOfL7xzx8YGvbxo6e3M7sgm6tO0UVoSoWbBgRlC1epk+6BYfYc6h77YMvDb7tpaOnipo8tIi1Ff3WVCjf9X6Vs4SoLlMIeXx6hs2+Q256v5+RZ01lTWRzJrimVsDQgKFvML8olNVnYPM48wm+qd3Koe4B/+YQuQlMqUjQgKFukpSSxcEYuW8dxhdDk7eWeV3Zz6bJSTizPi3znlEpQGhCUbVwlTrY0dTDWwvSf/r0OA3zrgoVT0zGlEpQGBGUbV5mDw90DNLf3HfOY9xu9/OW9/Vz70dmUT9NFaEpFkgYEZRtXaWDFcuhhI2MMN/9tG/nZaXx51dyp7JpSCUkDgrLN4pJcRGDz/tCJ5ee3HuTN3Yf5+uoF5GboIjSlIk0DgrJNVloKcwtzQl4hDA77+PEz25lbmM2VJ1WEOFspFW4aEJStXKWhS1j86c197Grt5vsXLSYlWX9NlZoK+j9N2aqq1Elzex+HuweOtLX3DvKLF+o5fW4+5y4qsrF3SiUWDQjKVoE9loOvEu54uQFv7yDfv0gXoSk1lTQgKFsF9kMIbKnpPtzD717bwyeXlx/ZN0EpNTU0IChb5WWlUT4t88gVwk/+XkdSEnxbF6EpNeU0ICjb+RPLHby3r43/rm3iujPnMMOZYXe3lEo4GhCU7apKnexu7eZfn9xCQU46152ti9CUsoMGBGW7QCnsTfvb+eaaBeSkj7nVt1IqAjQgKNtVWSUsFhbn8o8rdRGaUnbRr2LKdkWODL5+/nzOW1RMcpJOM1XKLhoQVFT4+vkL7O6CUglvzCEjEblPRFpEZHNQ23QReV5Edlh/Tgu673si0iAidSJyQVD7ChHZZN13u1grjkQkXUQesdrfFJFZYX6NSimlxmE8OYT7gQtHtN0EvGiMmQ+8aP0dEakE1gIu65w7RCTZOudO4DpgvvUTeMxrgTZjzDzgNuDWib4YpZRSEzdmQDDGrAcOj2i+BHjAuv0AcGlQ+8PGmH5jzG6gAThZREoAhzFmg/Fvj/XgiHMCj/UYcJ5ovQKllJpyE51lVGyMaQaw/gxUICsD3EHHNVptZdbtke1HnWOMGQLagfxQTyoi14nIRhHZ6PF4Jth1pZRSoYR72mmob/ZmlPbRzvlwozF3GWNWGmNWFhYWTrCLSimlQploQDhoDQNh/dlitTcCwRPJy4Emq708RPtR54hICuDkw0NUSimlImyiAeEp4Brr9jXAk0Hta62ZQ7PxJ4/fsoaVOkXkVCs/cPWIcwKPdTnwkpVnUEopNYXGXIcgIg8Bq4ACEWkEfgj8GHhURK4F9gFXABhjtojIo8BWYAi4wRgzbD3U9fhnLGUCz1g/APcCvxeRBvxXBmvD8sqUUkodF4nVL+Mi4gH2TvD0AqA1jN2Jdfp+HE3fjw/oe3G0eHg/TjDGhEzCxmxAmAwR2WiMWWl3P6KFvh9H0/fjA/peHC3e3w8tbqeUUgrQgKCUUsqSqAHhLrs7EGX0/Tiavh8f0PfiaHH9fiRkDkEppdSHJeoVglJKqRE0ICillAISMCCIyIXWXg0NInKT3f2xi4hUiMjLIrJNRLaIyNfs7lM0EJFkEXlPRP7H7r7YTUTyROQxEdlu/Z6cZnef7CIi37D+n2wWkYdEJMPuPkVCQgUEa2+GXwMfAyqBK609HBLREPBNY8xi4FTghgR+L4J9DdhmdyeixC+BZ40xi4ClJOj7IiJlwFeBlcaYKiCZOK2okFABATgZaDDG7DLGDAAP49+PIeEYY5qNMe9atzvx/2cvG/2s+CYi5cDHgXvs7ovdRMQBnIW/tAzGmAFjjNfWTtkrBci0CnBm8UFxzriSaAHhWPs1JDRr29LlwJs2d8VuvwC+A/hs7kc0mAN4gN9ZQ2j3iEi23Z2ygzFmP/Az/HXbmoF2Y8xz9vYqMhItIIx774VEISI5wOPA140xHXb3xy4i8gmgxRjzjt19iRIpwEeAO40xy4FurK1yE421Z/wlwGygFMgWkU/b26vISLSAcKz9GhKSiKTiDwZ/NMY8YXd/bHYGcLGI7ME/lHiuiPzB3i7ZqhFoNMYErhofwx8gEtH5wG5jjMcYMwg8AZxuc58iItECwtvAfBGZLSJp+BNDT9ncJ1tY+1LcC2wzxvyn3f2xmzHme8aYcmPMLPy/Fy8ZY+LyW+B4GGMOAG4RWWg1nYe/rH0i2gecKiJZ1v+b84jTBPuY+yHEE2PMkIh8Bfg7/pkC9xljttjcLbucAXwG2CQiNVbb940xT9vXJRVl/jfwR+vL0y7gczb3xxbGmDdF5DHgXfyz894jTktYaOkKpZRSQOINGSmllDoGDQhKKaUADQhKKaUsGhCUUkoBGhCUUkpZNCAopZQCNCAopZSy/H8dfBIlWZ0PCgAAAABJRU5ErkJggg==\n",
      "text/plain": [
       "<Figure size 432x288 with 1 Axes>"
      ]
     },
     "metadata": {
      "needs_background": "light"
     },
     "output_type": "display_data"
    }
   ],
   "source": [
    "plt.plot(loss_per_fold)\n",
    "# plt.plot(sum(loss_per_fold)/len(loss_per_fold))\n",
    "plt.show()"
   ]
  },
  {
   "cell_type": "code",
   "execution_count": 240,
   "id": "51fd083d",
   "metadata": {},
   "outputs": [
    {
     "data": {
      "text/plain": [
       "12454.97890625"
      ]
     },
     "execution_count": 240,
     "metadata": {},
     "output_type": "execute_result"
    }
   ],
   "source": [
    "sum(loss_per_fold)/len(loss_per_fold)"
   ]
  },
  {
   "cell_type": "code",
   "execution_count": null,
   "id": "dcb3ee62",
   "metadata": {},
   "outputs": [],
   "source": []
  },
  {
   "cell_type": "code",
   "execution_count": 241,
   "id": "77d994a8",
   "metadata": {},
   "outputs": [
    {
     "name": "stdout",
     "output_type": "stream",
     "text": [
      "Score for fold 1: loss of 13291.8076171875\n",
      "Score for fold 2: loss of 9377.6533203125\n",
      "Score for fold 3: loss of 13516.09765625\n",
      "Score for fold 4: loss of 8782.2412109375\n",
      "Score for fold 5: loss of 9581.4423828125\n",
      "Score for fold 6: loss of 11780.1279296875\n",
      "Score for fold 7: loss of 11468.0947265625\n",
      "Score for fold 8: loss of 14550.3583984375\n",
      "Score for fold 9: loss of 13565.3037109375\n",
      "Score for fold 10: loss of 12185.6455078125\n"
     ]
    }
   ],
   "source": [
    "from sklearn.model_selection import cross_val_score, cross_validate\n",
    "from sklearn.metrics import mean_squared_log_error\n",
    "\n",
    "from sklearn.model_selection import KFold\n",
    "import numpy as np\n",
    "\n",
    "num_folds = 10\n",
    "\n",
    "inputs = np.concatenate((x_train, x_test), axis=0)\n",
    "targets = np.concatenate((y_train, y_test), axis=0)\n",
    "\n",
    "kfold = KFold(n_splits=num_folds, shuffle=True)\n",
    "\n",
    "loss_per_fold2 = []\n",
    "\n",
    "fold_no = 1\n",
    "for train, test in kfold.split(inputs, targets):\n",
    "    \n",
    "    model1 = Sequential()\n",
    "\n",
    "    model1.add(keras.Input(shape=input_shape))\n",
    "    model1.add(layers.Dense(128, activation='elu', kernel_regularizer=\"l2\"))\n",
    "    model1.add(layers.Dense(64, activation='relu', kernel_regularizer=\"l2\"))\n",
    "    model1.add(layers.Dense(16, activation='elu', kernel_regularizer=\"l2\"))\n",
    "    model1.add(layers.Dense(8, activation='relu', kernel_regularizer=\"l2\"))\n",
    "    model1.add(layers.Dense(units = 1, activation = \"elu\"))\n",
    "    \n",
    "    model1.compile(loss = tf.keras.losses.MAE, \n",
    "    optimizer = tf.optimizers.Adam(learning_rate = 0.025), \n",
    "    metrics=[tf.keras.metrics.MSLE])\n",
    "\n",
    "\n",
    "    batch_size = 32\n",
    "    epochs = 35\n",
    "\n",
    "    model1.fit(inputs[train], targets[train], batch_size=batch_size, epochs=epochs, verbose = 0)\n",
    "\n",
    "    scores = model1.evaluate(inputs[test], targets[test], verbose=0)\n",
    "    print(f'Score for fold {fold_no}: {model1.metrics_names[0]} of {scores[0]}')\n",
    "\n",
    "    loss_per_fold2.append(scores[0])\n",
    "    \n",
    "    fold_no = fold_no + 1"
   ]
  },
  {
   "cell_type": "code",
   "execution_count": 242,
   "id": "c47d2aee",
   "metadata": {},
   "outputs": [
    {
     "data": {
      "image/png": "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\n",
      "text/plain": [
       "<Figure size 432x288 with 1 Axes>"
      ]
     },
     "metadata": {
      "needs_background": "light"
     },
     "output_type": "display_data"
    }
   ],
   "source": [
    "plt.plot(loss_per_fold2)\n",
    "# plt.plot(sum(loss_per_fold)/len(loss_per_fold))\n",
    "plt.show()"
   ]
  },
  {
   "cell_type": "code",
   "execution_count": 243,
   "id": "d0bc8cb3",
   "metadata": {},
   "outputs": [
    {
     "data": {
      "text/plain": [
       "11809.87724609375"
      ]
     },
     "execution_count": 243,
     "metadata": {},
     "output_type": "execute_result"
    }
   ],
   "source": [
    "sum(loss_per_fold2)/len(loss_per_fold2)"
   ]
  },
  {
   "cell_type": "code",
   "execution_count": 245,
   "id": "b56aaa8e",
   "metadata": {},
   "outputs": [
    {
     "name": "stdout",
     "output_type": "stream",
     "text": [
      "Fitting 5 folds for each of 45 candidates, totalling 225 fits\n"
     ]
    },
    {
     "data": {
      "text/plain": [
       "GridSearchCV(cv=5, estimator=SVR(), n_jobs=-1,\n",
       "             param_grid={'C': [0.01, 10, 1000, 100000.0, 250000.0],\n",
       "                         'epsilon': [0.01, 1000, 4500],\n",
       "                         'kernel': ['linear', 'poly', 'rbf']},\n",
       "             verbose=1)"
      ]
     },
     "execution_count": 245,
     "metadata": {},
     "output_type": "execute_result"
    }
   ],
   "source": [
    "from sklearn.svm import SVR\n",
    "from sklearn.model_selection import GridSearchCV\n",
    "\n",
    "svr = SVR()\n",
    "grid = {\"kernel\":['linear', 'poly', 'rbf'], \"C\":[0.01,10,1000,1e5,2.5e5], \"epsilon\":[0.01,1000,4500]}\n",
    "grid_search = GridSearchCV(estimator = svr, param_grid = grid, cv = 5, n_jobs = -1, verbose = 1)\n",
    "\n",
    "grid_search.fit(x_train, y_train)"
   ]
  },
  {
   "cell_type": "code",
   "execution_count": 246,
   "id": "d113fa57",
   "metadata": {
    "scrolled": true
   },
   "outputs": [
    {
     "data": {
      "text/plain": [
       "0.7592450877891761"
      ]
     },
     "execution_count": 246,
     "metadata": {},
     "output_type": "execute_result"
    }
   ],
   "source": [
    "grid_search.best_score_"
   ]
  },
  {
   "cell_type": "code",
   "execution_count": 247,
   "id": "25b77103",
   "metadata": {},
   "outputs": [
    {
     "data": {
      "text/plain": [
       "{'C': 250000.0, 'epsilon': 4500, 'kernel': 'rbf'}"
      ]
     },
     "execution_count": 247,
     "metadata": {},
     "output_type": "execute_result"
    }
   ],
   "source": [
    "grid_search.best_params_"
   ]
  },
  {
   "cell_type": "code",
   "execution_count": 248,
   "id": "5800430f",
   "metadata": {},
   "outputs": [
    {
     "data": {
      "text/plain": [
       "SVR(C=150000.0, epsilon=4500)"
      ]
     },
     "execution_count": 248,
     "metadata": {},
     "output_type": "execute_result"
    }
   ],
   "source": [
    "svr_f = SVR(C = 150000.0, epsilon=4500, kernel=\"rbf\")\n",
    "svr_f.fit(x_train, y_train)"
   ]
  },
  {
   "cell_type": "code",
   "execution_count": 249,
   "id": "5502615d",
   "metadata": {},
   "outputs": [
    {
     "data": {
      "text/plain": [
       "(0.038791784844956566, 11503.245551469672, 0.7573377512024473)"
      ]
     },
     "execution_count": 249,
     "metadata": {},
     "output_type": "execute_result"
    }
   ],
   "source": [
    "y_pred_svr = svr_f.predict(x_test)\n",
    "mean_squared_log_error(y_test, y_pred_svr), mean_absolute_error(y_test, y_pred_svr), r2_score(y_test, y_pred_svr)"
   ]
  },
  {
   "cell_type": "code",
   "execution_count": null,
   "id": "1c07b8ce",
   "metadata": {},
   "outputs": [],
   "source": []
  },
  {
   "cell_type": "code",
   "execution_count": 250,
   "id": "2169b4a4",
   "metadata": {},
   "outputs": [],
   "source": [
    "def voting_regressor(models, x_val, weights = []):\n",
    "    \n",
    "    if len(weights) == 0:\n",
    "        n = len(models)\n",
    "        y_pred = np.zeros(shape = x_val.shape[0])\n",
    "        for model in models:\n",
    "            y_pred_model = model.predict(x_val)\n",
    "\n",
    "            if y_pred_model.shape != (x_val.shape[0],):\n",
    "                y_pred_model = y_pred_model.reshape(x_val.shape[0],)\n",
    "\n",
    "            y_pred += y_pred_model\n",
    "\n",
    "        y_pred = y_pred/n\n",
    "        return y_pred\n",
    "    \n",
    "    else:\n",
    "        y_pred = np.zeros(shape = x_val.shape[0])\n",
    "        for i in range(len(models)):\n",
    "            y_pred_model = models[i].predict(x_val)\n",
    "\n",
    "            if y_pred_model.shape != (x_val.shape[0],):\n",
    "                y_pred_model = y_pred_model.reshape(x_val.shape[0],)\n",
    "\n",
    "            y_pred += y_pred_model*weights[i]\n",
    "\n",
    "        return y_pred"
   ]
  },
  {
   "cell_type": "code",
   "execution_count": null,
   "id": "fdd21adf",
   "metadata": {},
   "outputs": [],
   "source": []
  },
  {
   "cell_type": "code",
   "execution_count": 251,
   "id": "fee883fe",
   "metadata": {},
   "outputs": [
    {
     "data": {
      "text/plain": [
       "(9161.894073021625, 0.8427403148521337)"
      ]
     },
     "execution_count": 251,
     "metadata": {},
     "output_type": "execute_result"
    }
   ],
   "source": [
    "voting_regr_pred = voting_regressor(models=[svr_f, rf, model2], weights=[0.3, 0.4, 0.3], x_val = x_test)\n",
    "\n",
    "mean_absolute_error(y_test, voting_regr_pred), r2_score(y_test, voting_regr_pred)\n",
    "# voting_regr_pred"
   ]
  },
  {
   "cell_type": "markdown",
   "id": "9e7eb12d",
   "metadata": {},
   "source": [
    "### Training the entire data availible "
   ]
  },
  {
   "cell_type": "code",
   "execution_count": 252,
   "id": "33f628ec",
   "metadata": {},
   "outputs": [
    {
     "data": {
      "text/plain": [
       "RandomForestRegressor(max_depth=10, n_estimators=45)"
      ]
     },
     "execution_count": 252,
     "metadata": {},
     "output_type": "execute_result"
    }
   ],
   "source": [
    "rf_final  = RandomForestRegressor(max_depth = 10, min_samples_split= 2, n_estimators = 45, bootstrap = True)\n",
    "rf_final.fit(X, Y)"
   ]
  },
  {
   "cell_type": "code",
   "execution_count": 253,
   "id": "abbc4cde",
   "metadata": {},
   "outputs": [],
   "source": [
    "Y = np.asarray(Y).astype('float32')\n",
    "X = np.asarray(X).astype('float32')"
   ]
  },
  {
   "cell_type": "code",
   "execution_count": 254,
   "id": "7a686ba9",
   "metadata": {},
   "outputs": [],
   "source": [
    "input_to_nn = Input(shape = input_shape)\n",
    "\n",
    "hidden_1 = Dense(32,  activation=LeakyReLU(0.0025))(input_to_nn)\n",
    "bn1 = BatchNormalization()(hidden_1)\n",
    "\n",
    "hidden_2 = Dense(25, activation = LeakyReLU(0.0015) )(input_to_nn)\n",
    "bn2 = BatchNormalization()(hidden_2)\n",
    "\n",
    "concat = Concatenate()([bn1, bn2])\n",
    "#concat = Concatenate()([bn1, bn2, bn3])\n",
    "\n",
    "dense1 = Dense(20, activation = \"relu\",kernel_regularizer=\"l2\")(concat)\n",
    "d3 = Dropout(0.15)(dense1)\n",
    "dense2 = Dense(1, activation = \"relu\")(dense1)\n",
    "\n",
    "# output = Dense(10, activation = \"softmax\")(dense2)\n",
    "\n",
    "model2_final = Model(inputs = [input_to_nn], outputs = [dense2])"
   ]
  },
  {
   "cell_type": "code",
   "execution_count": 255,
   "id": "63158f6e",
   "metadata": {},
   "outputs": [
    {
     "data": {
      "image/png": "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\n",
      "text/plain": [
       "<IPython.core.display.Image object>"
      ]
     },
     "execution_count": 255,
     "metadata": {},
     "output_type": "execute_result"
    }
   ],
   "source": [
    "plot_model(model2_final, show_shapes=True, show_layer_names=True)"
   ]
  },
  {
   "cell_type": "code",
   "execution_count": 256,
   "id": "3d1bcd8a",
   "metadata": {},
   "outputs": [
    {
     "name": "stdout",
     "output_type": "stream",
     "text": [
      "Epoch 1/250\n",
      "27/27 [==============================] - 2s 12ms/step - loss: 68952.6328 - mean_squared_logarithmic_error: 101.9624 - val_loss: 74893.4375 - val_mean_squared_logarithmic_error: 71.3273\n",
      "Epoch 2/250\n",
      "27/27 [==============================] - 0s 4ms/step - loss: 68949.5547 - mean_squared_logarithmic_error: 87.9715 - val_loss: 74891.3438 - val_mean_squared_logarithmic_error: 69.9224\n",
      "Epoch 3/250\n",
      "27/27 [==============================] - 0s 4ms/step - loss: 68945.7109 - mean_squared_logarithmic_error: 79.5782 - val_loss: 74890.8672 - val_mean_squared_logarithmic_error: 71.1888\n",
      "Epoch 4/250\n",
      "27/27 [==============================] - 0s 3ms/step - loss: 68940.3125 - mean_squared_logarithmic_error: 72.0819 - val_loss: 74889.7344 - val_mean_squared_logarithmic_error: 72.4328\n",
      "Epoch 5/250\n",
      "27/27 [==============================] - 0s 4ms/step - loss: 68933.1406 - mean_squared_logarithmic_error: 66.0013 - val_loss: 74886.1719 - val_mean_squared_logarithmic_error: 72.6825\n",
      "Epoch 6/250\n",
      "27/27 [==============================] - 0s 3ms/step - loss: 68923.2344 - mean_squared_logarithmic_error: 59.9859 - val_loss: 74874.3672 - val_mean_squared_logarithmic_error: 60.1167\n",
      "Epoch 7/250\n",
      "27/27 [==============================] - 0s 4ms/step - loss: 68909.6875 - mean_squared_logarithmic_error: 54.0122 - val_loss: 74857.7812 - val_mean_squared_logarithmic_error: 52.9190\n",
      "Epoch 8/250\n",
      "27/27 [==============================] - 0s 4ms/step - loss: 68893.9219 - mean_squared_logarithmic_error: 49.8485 - val_loss: 74839.2422 - val_mean_squared_logarithmic_error: 48.7779\n",
      "Epoch 9/250\n",
      "27/27 [==============================] - 0s 4ms/step - loss: 68874.5938 - mean_squared_logarithmic_error: 45.9652 - val_loss: 74816.9688 - val_mean_squared_logarithmic_error: 45.1771\n",
      "Epoch 10/250\n",
      "27/27 [==============================] - 0s 4ms/step - loss: 68850.1719 - mean_squared_logarithmic_error: 42.2387 - val_loss: 74788.4297 - val_mean_squared_logarithmic_error: 41.4301\n",
      "Epoch 11/250\n",
      "27/27 [==============================] - 0s 4ms/step - loss: 68823.2500 - mean_squared_logarithmic_error: 39.3566 - val_loss: 74760.3125 - val_mean_squared_logarithmic_error: 39.1927\n",
      "Epoch 12/250\n",
      "27/27 [==============================] - 0s 4ms/step - loss: 68790.2344 - mean_squared_logarithmic_error: 36.6166 - val_loss: 74725.3750 - val_mean_squared_logarithmic_error: 36.5628\n",
      "Epoch 13/250\n",
      "27/27 [==============================] - 0s 4ms/step - loss: 68752.2656 - mean_squared_logarithmic_error: 34.0529 - val_loss: 74678.3281 - val_mean_squared_logarithmic_error: 33.5508\n",
      "Epoch 14/250\n",
      "27/27 [==============================] - 0s 4ms/step - loss: 68711.6406 - mean_squared_logarithmic_error: 32.0260 - val_loss: 74636.5312 - val_mean_squared_logarithmic_error: 31.7708\n",
      "Epoch 15/250\n",
      "27/27 [==============================] - 0s 5ms/step - loss: 68661.1797 - mean_squared_logarithmic_error: 29.8556 - val_loss: 74583.0234 - val_mean_squared_logarithmic_error: 29.5572\n",
      "Epoch 16/250\n",
      "27/27 [==============================] - 0s 4ms/step - loss: 68603.6250 - mean_squared_logarithmic_error: 27.8928 - val_loss: 74524.0547 - val_mean_squared_logarithmic_error: 27.7649\n",
      "Epoch 17/250\n",
      "27/27 [==============================] - 0s 4ms/step - loss: 68545.2812 - mean_squared_logarithmic_error: 26.4447 - val_loss: 74449.3672 - val_mean_squared_logarithmic_error: 25.9568\n",
      "Epoch 18/250\n",
      "27/27 [==============================] - 0s 5ms/step - loss: 68473.3281 - mean_squared_logarithmic_error: 24.6801 - val_loss: 74371.6172 - val_mean_squared_logarithmic_error: 24.3707\n",
      "Epoch 19/250\n",
      "27/27 [==============================] - 0s 4ms/step - loss: 68396.2422 - mean_squared_logarithmic_error: 23.2149 - val_loss: 74291.8672 - val_mean_squared_logarithmic_error: 23.0709\n",
      "Epoch 20/250\n",
      "27/27 [==============================] - 0s 5ms/step - loss: 68315.0547 - mean_squared_logarithmic_error: 22.0368 - val_loss: 74200.6406 - val_mean_squared_logarithmic_error: 21.7186\n",
      "Epoch 21/250\n",
      "27/27 [==============================] - 0s 4ms/step - loss: 68221.8438 - mean_squared_logarithmic_error: 20.8222 - val_loss: 74100.8672 - val_mean_squared_logarithmic_error: 20.5407\n",
      "Epoch 22/250\n",
      "27/27 [==============================] - 0s 4ms/step - loss: 68126.5625 - mean_squared_logarithmic_error: 19.7829 - val_loss: 74006.5391 - val_mean_squared_logarithmic_error: 19.5031\n",
      "Epoch 23/250\n",
      "27/27 [==============================] - 0s 4ms/step - loss: 68020.9531 - mean_squared_logarithmic_error: 18.8955 - val_loss: 73883.1719 - val_mean_squared_logarithmic_error: 18.3983\n",
      "Epoch 24/250\n",
      "27/27 [==============================] - 0s 4ms/step - loss: 67896.7266 - mean_squared_logarithmic_error: 17.5219 - val_loss: 73758.3984 - val_mean_squared_logarithmic_error: 17.4617\n",
      "Epoch 25/250\n",
      "27/27 [==============================] - ETA: 0s - loss: 68437.9766 - mean_squared_logarithmic_error: 17.050 - 0s 4ms/step - loss: 67776.3281 - mean_squared_logarithmic_error: 16.8138 - val_loss: 73624.7188 - val_mean_squared_logarithmic_error: 16.5237\n",
      "Epoch 26/250\n",
      "27/27 [==============================] - 0s 4ms/step - loss: 67655.4609 - mean_squared_logarithmic_error: 16.1538 - val_loss: 73482.7734 - val_mean_squared_logarithmic_error: 15.7047\n",
      "Epoch 27/250\n",
      "27/27 [==============================] - 0s 4ms/step - loss: 67501.8438 - mean_squared_logarithmic_error: 15.3717 - val_loss: 73324.4141 - val_mean_squared_logarithmic_error: 14.9220\n",
      "Epoch 28/250\n",
      "27/27 [==============================] - 0s 4ms/step - loss: 67337.3281 - mean_squared_logarithmic_error: 14.3085 - val_loss: 73170.0547 - val_mean_squared_logarithmic_error: 14.2848\n",
      "Epoch 29/250\n",
      "27/27 [==============================] - 0s 4ms/step - loss: 67186.0938 - mean_squared_logarithmic_error: 13.8826 - val_loss: 72969.1641 - val_mean_squared_logarithmic_error: 13.4751\n",
      "Epoch 30/250\n",
      "27/27 [==============================] - 0s 4ms/step - loss: 67015.9062 - mean_squared_logarithmic_error: 13.1381 - val_loss: 72776.1250 - val_mean_squared_logarithmic_error: 12.8613\n",
      "Epoch 31/250\n",
      "27/27 [==============================] - 0s 5ms/step - loss: 66829.7969 - mean_squared_logarithmic_error: 12.5259 - val_loss: 72567.6250 - val_mean_squared_logarithmic_error: 12.1736\n",
      "Epoch 32/250\n",
      "27/27 [==============================] - 0s 5ms/step - loss: 66637.2422 - mean_squared_logarithmic_error: 12.0139 - val_loss: 72357.9219 - val_mean_squared_logarithmic_error: 11.6456\n",
      "Epoch 33/250\n",
      "27/27 [==============================] - 0s 4ms/step - loss: 66450.1172 - mean_squared_logarithmic_error: 11.5741 - val_loss: 72187.1719 - val_mean_squared_logarithmic_error: 11.6042\n",
      "Epoch 34/250\n",
      "27/27 [==============================] - 0s 4ms/step - loss: 66222.1484 - mean_squared_logarithmic_error: 10.8787 - val_loss: 71945.8438 - val_mean_squared_logarithmic_error: 10.6377\n",
      "Epoch 35/250\n",
      "27/27 [==============================] - 0s 4ms/step - loss: 66013.2500 - mean_squared_logarithmic_error: 10.5703 - val_loss: 71710.6641 - val_mean_squared_logarithmic_error: 10.1136\n",
      "Epoch 36/250\n",
      "27/27 [==============================] - 0s 5ms/step - loss: 65756.5000 - mean_squared_logarithmic_error: 9.9425 - val_loss: 71443.0547 - val_mean_squared_logarithmic_error: 9.6429\n",
      "Epoch 37/250\n",
      "27/27 [==============================] - 0s 4ms/step - loss: 65490.3359 - mean_squared_logarithmic_error: 9.5120 - val_loss: 71196.4609 - val_mean_squared_logarithmic_error: 9.2255\n",
      "Epoch 38/250\n",
      "27/27 [==============================] - 0s 4ms/step - loss: 65204.6133 - mean_squared_logarithmic_error: 8.9128 - val_loss: 70904.5078 - val_mean_squared_logarithmic_error: 8.8115\n",
      "Epoch 39/250\n",
      "27/27 [==============================] - 0s 4ms/step - loss: 64956.2969 - mean_squared_logarithmic_error: 8.6635 - val_loss: 70644.6797 - val_mean_squared_logarithmic_error: 8.4328\n",
      "Epoch 40/250\n",
      "27/27 [==============================] - 0s 4ms/step - loss: 64668.6406 - mean_squared_logarithmic_error: 8.3866 - val_loss: 70382.5938 - val_mean_squared_logarithmic_error: 8.0834\n",
      "Epoch 41/250\n",
      "27/27 [==============================] - 0s 4ms/step - loss: 64415.1680 - mean_squared_logarithmic_error: 8.0818 - val_loss: 70109.7891 - val_mean_squared_logarithmic_error: 7.7207\n",
      "Epoch 42/250\n",
      "27/27 [==============================] - 0s 4ms/step - loss: 64086.9805 - mean_squared_logarithmic_error: 7.7805 - val_loss: 69742.8281 - val_mean_squared_logarithmic_error: 7.3293\n",
      "Epoch 43/250\n",
      "27/27 [==============================] - 0s 4ms/step - loss: 63797.3789 - mean_squared_logarithmic_error: 7.6136 - val_loss: 69480.9922 - val_mean_squared_logarithmic_error: 7.3477\n",
      "Epoch 44/250\n",
      "27/27 [==============================] - 0s 4ms/step - loss: 63399.9062 - mean_squared_logarithmic_error: 7.0267 - val_loss: 69091.0469 - val_mean_squared_logarithmic_error: 6.8088\n",
      "Epoch 45/250\n",
      "27/27 [==============================] - 0s 4ms/step - loss: 63067.7500 - mean_squared_logarithmic_error: 6.7883 - val_loss: 68767.5781 - val_mean_squared_logarithmic_error: 6.5035\n",
      "Epoch 46/250\n",
      "27/27 [==============================] - 0s 4ms/step - loss: 62728.2188 - mean_squared_logarithmic_error: 6.5435 - val_loss: 68375.9141 - val_mean_squared_logarithmic_error: 6.4152\n",
      "Epoch 47/250\n",
      "27/27 [==============================] - 0s 5ms/step - loss: 62314.5312 - mean_squared_logarithmic_error: 6.1772 - val_loss: 67902.3359 - val_mean_squared_logarithmic_error: 5.9169\n",
      "Epoch 48/250\n",
      "27/27 [==============================] - 0s 5ms/step - loss: 61938.4102 - mean_squared_logarithmic_error: 5.9573 - val_loss: 67574.0156 - val_mean_squared_logarithmic_error: 5.6740\n",
      "Epoch 49/250\n",
      "27/27 [==============================] - 0s 4ms/step - loss: 61488.1055 - mean_squared_logarithmic_error: 5.5878 - val_loss: 67158.7969 - val_mean_squared_logarithmic_error: 5.4620\n",
      "Epoch 50/250\n",
      "27/27 [==============================] - 0s 3ms/step - loss: 61115.2578 - mean_squared_logarithmic_error: 5.4520 - val_loss: 66785.0703 - val_mean_squared_logarithmic_error: 5.2120\n",
      "Epoch 51/250\n",
      "27/27 [==============================] - 0s 4ms/step - loss: 60716.3633 - mean_squared_logarithmic_error: 5.3622 - val_loss: 66280.9609 - val_mean_squared_logarithmic_error: 5.0368\n",
      "Epoch 52/250\n",
      "27/27 [==============================] - 0s 4ms/step - loss: 60272.7461 - mean_squared_logarithmic_error: 5.2379 - val_loss: 65814.3672 - val_mean_squared_logarithmic_error: 4.8311\n",
      "Epoch 53/250\n",
      "27/27 [==============================] - 0s 4ms/step - loss: 59778.8164 - mean_squared_logarithmic_error: 4.9401 - val_loss: 65509.4531 - val_mean_squared_logarithmic_error: 4.6008\n",
      "Epoch 54/250\n",
      "27/27 [==============================] - 0s 4ms/step - loss: 59307.5547 - mean_squared_logarithmic_error: 4.5968 - val_loss: 64954.1406 - val_mean_squared_logarithmic_error: 4.4013\n",
      "Epoch 55/250\n",
      "27/27 [==============================] - 0s 4ms/step - loss: 58902.8555 - mean_squared_logarithmic_error: 4.6713 - val_loss: 64218.3906 - val_mean_squared_logarithmic_error: 4.2258\n",
      "Epoch 56/250\n",
      "27/27 [==============================] - 0s 5ms/step - loss: 58295.9062 - mean_squared_logarithmic_error: 4.2934 - val_loss: 63565.1133 - val_mean_squared_logarithmic_error: 4.0126\n",
      "Epoch 57/250\n",
      "27/27 [==============================] - 0s 4ms/step - loss: 57802.3164 - mean_squared_logarithmic_error: 4.1730 - val_loss: 63112.8047 - val_mean_squared_logarithmic_error: 3.8919\n",
      "Epoch 58/250\n",
      "27/27 [==============================] - 0s 4ms/step - loss: 57327.6953 - mean_squared_logarithmic_error: 4.0815 - val_loss: 62721.5391 - val_mean_squared_logarithmic_error: 3.7484\n",
      "Epoch 59/250\n",
      "27/27 [==============================] - 0s 4ms/step - loss: 56844.3828 - mean_squared_logarithmic_error: 4.0454 - val_loss: 62183.4336 - val_mean_squared_logarithmic_error: 3.6121\n",
      "Epoch 60/250\n",
      "27/27 [==============================] - 0s 4ms/step - loss: 56231.1992 - mean_squared_logarithmic_error: 3.8044 - val_loss: 61820.3047 - val_mean_squared_logarithmic_error: 3.5619\n",
      "Epoch 61/250\n",
      "27/27 [==============================] - 0s 4ms/step - loss: 55650.5938 - mean_squared_logarithmic_error: 3.4871 - val_loss: 61058.0859 - val_mean_squared_logarithmic_error: 3.4235\n",
      "Epoch 62/250\n",
      "27/27 [==============================] - 0s 5ms/step - loss: 55035.3398 - mean_squared_logarithmic_error: 3.4424 - val_loss: 60572.4062 - val_mean_squared_logarithmic_error: 3.1113\n",
      "Epoch 63/250\n",
      "27/27 [==============================] - ETA: 0s - loss: 54763.7148 - mean_squared_logarithmic_error: 3.36 - 0s 4ms/step - loss: 54512.0781 - mean_squared_logarithmic_error: 3.3025 - val_loss: 59857.7383 - val_mean_squared_logarithmic_error: 2.9899\n",
      "Epoch 64/250\n",
      "27/27 [==============================] - 0s 5ms/step - loss: 53906.7734 - mean_squared_logarithmic_error: 3.1819 - val_loss: 58970.4062 - val_mean_squared_logarithmic_error: 2.9051\n",
      "Epoch 65/250\n",
      "27/27 [==============================] - 0s 4ms/step - loss: 53471.1094 - mean_squared_logarithmic_error: 3.1722 - val_loss: 58037.0625 - val_mean_squared_logarithmic_error: 2.7306\n",
      "Epoch 66/250\n",
      "27/27 [==============================] - 0s 4ms/step - loss: 52914.5547 - mean_squared_logarithmic_error: 3.0901 - val_loss: 57599.3633 - val_mean_squared_logarithmic_error: 2.5426\n",
      "Epoch 67/250\n",
      "27/27 [==============================] - 0s 4ms/step - loss: 52238.9531 - mean_squared_logarithmic_error: 2.9443 - val_loss: 56861.1758 - val_mean_squared_logarithmic_error: 2.4383\n",
      "Epoch 68/250\n",
      "27/27 [==============================] - 0s 4ms/step - loss: 51730.2852 - mean_squared_logarithmic_error: 2.7934 - val_loss: 56372.3711 - val_mean_squared_logarithmic_error: 2.3673\n",
      "Epoch 69/250\n",
      "27/27 [==============================] - 0s 4ms/step - loss: 51067.5117 - mean_squared_logarithmic_error: 2.7183 - val_loss: 55607.2891 - val_mean_squared_logarithmic_error: 2.3310\n",
      "Epoch 70/250\n",
      "27/27 [==============================] - 0s 5ms/step - loss: 50442.6641 - mean_squared_logarithmic_error: 2.6294 - val_loss: 54851.1055 - val_mean_squared_logarithmic_error: 2.2280\n",
      "Epoch 71/250\n",
      "27/27 [==============================] - 0s 4ms/step - loss: 49853.8359 - mean_squared_logarithmic_error: 2.4733 - val_loss: 53973.6133 - val_mean_squared_logarithmic_error: 2.1688\n",
      "Epoch 72/250\n",
      "27/27 [==============================] - 0s 4ms/step - loss: 49146.8516 - mean_squared_logarithmic_error: 2.4237 - val_loss: 53678.1758 - val_mean_squared_logarithmic_error: 2.1275\n",
      "Epoch 73/250\n",
      "27/27 [==============================] - 0s 4ms/step - loss: 48606.6094 - mean_squared_logarithmic_error: 2.4583 - val_loss: 53353.5391 - val_mean_squared_logarithmic_error: 1.9568\n",
      "Epoch 74/250\n",
      "27/27 [==============================] - 0s 5ms/step - loss: 47805.2422 - mean_squared_logarithmic_error: 2.2062 - val_loss: 52639.5117 - val_mean_squared_logarithmic_error: 1.9803\n",
      "Epoch 75/250\n",
      "27/27 [==============================] - 0s 4ms/step - loss: 47268.2578 - mean_squared_logarithmic_error: 2.1940 - val_loss: 51557.3438 - val_mean_squared_logarithmic_error: 1.9010\n",
      "Epoch 76/250\n",
      "27/27 [==============================] - 0s 4ms/step - loss: 46700.9570 - mean_squared_logarithmic_error: 2.1567 - val_loss: 50691.2227 - val_mean_squared_logarithmic_error: 1.7894\n",
      "Epoch 77/250\n",
      "27/27 [==============================] - 0s 4ms/step - loss: 46302.9297 - mean_squared_logarithmic_error: 2.2518 - val_loss: 50192.4648 - val_mean_squared_logarithmic_error: 1.7726\n",
      "Epoch 78/250\n",
      "27/27 [==============================] - 0s 4ms/step - loss: 45752.1055 - mean_squared_logarithmic_error: 2.1206 - val_loss: 49918.7891 - val_mean_squared_logarithmic_error: 1.8901\n",
      "Epoch 79/250\n",
      "27/27 [==============================] - 0s 4ms/step - loss: 45150.9297 - mean_squared_logarithmic_error: 1.9979 - val_loss: 49683.4648 - val_mean_squared_logarithmic_error: 1.9898\n",
      "Epoch 80/250\n",
      "27/27 [==============================] - 0s 4ms/step - loss: 44446.6680 - mean_squared_logarithmic_error: 1.9160 - val_loss: 48761.6289 - val_mean_squared_logarithmic_error: 1.4698\n",
      "Epoch 81/250\n",
      "27/27 [==============================] - 0s 4ms/step - loss: 43788.8711 - mean_squared_logarithmic_error: 1.8597 - val_loss: 47624.5469 - val_mean_squared_logarithmic_error: 1.4799\n",
      "Epoch 82/250\n",
      "27/27 [==============================] - 0s 4ms/step - loss: 43404.9648 - mean_squared_logarithmic_error: 1.9154 - val_loss: 47585.1875 - val_mean_squared_logarithmic_error: 1.3897\n",
      "Epoch 83/250\n",
      "27/27 [==============================] - 0s 4ms/step - loss: 42727.4492 - mean_squared_logarithmic_error: 1.7948 - val_loss: 47285.8125 - val_mean_squared_logarithmic_error: 1.4152\n",
      "Epoch 84/250\n",
      "27/27 [==============================] - 0s 4ms/step - loss: 42212.4883 - mean_squared_logarithmic_error: 1.7568 - val_loss: 46947.2266 - val_mean_squared_logarithmic_error: 1.3487\n",
      "Epoch 85/250\n",
      "27/27 [==============================] - 0s 3ms/step - loss: 41920.4453 - mean_squared_logarithmic_error: 1.7057 - val_loss: 46706.7227 - val_mean_squared_logarithmic_error: 1.3039\n",
      "Epoch 86/250\n",
      "27/27 [==============================] - 0s 4ms/step - loss: 41297.0195 - mean_squared_logarithmic_error: 1.6887 - val_loss: 45995.5508 - val_mean_squared_logarithmic_error: 1.2789\n",
      "Epoch 87/250\n",
      "27/27 [==============================] - 0s 4ms/step - loss: 41271.0195 - mean_squared_logarithmic_error: 1.6814 - val_loss: 45215.9648 - val_mean_squared_logarithmic_error: 1.1932\n",
      "Epoch 88/250\n",
      "27/27 [==============================] - 0s 4ms/step - loss: 40740.0586 - mean_squared_logarithmic_error: 1.6543 - val_loss: 45281.6875 - val_mean_squared_logarithmic_error: 1.2710\n",
      "Epoch 89/250\n",
      "27/27 [==============================] - 0s 4ms/step - loss: 40443.9805 - mean_squared_logarithmic_error: 1.5914 - val_loss: 44418.8867 - val_mean_squared_logarithmic_error: 1.1507\n",
      "Epoch 90/250\n",
      "27/27 [==============================] - 0s 3ms/step - loss: 39824.7617 - mean_squared_logarithmic_error: 1.5281 - val_loss: 44870.6016 - val_mean_squared_logarithmic_error: 1.3826\n",
      "Epoch 91/250\n",
      "27/27 [==============================] - 0s 4ms/step - loss: 39421.0117 - mean_squared_logarithmic_error: 1.5745 - val_loss: 44477.8320 - val_mean_squared_logarithmic_error: 1.0768\n",
      "Epoch 92/250\n",
      "27/27 [==============================] - 0s 4ms/step - loss: 39055.5469 - mean_squared_logarithmic_error: 1.5029 - val_loss: 43621.4375 - val_mean_squared_logarithmic_error: 1.0402\n",
      "Epoch 93/250\n",
      "27/27 [==============================] - 0s 4ms/step - loss: 38716.7734 - mean_squared_logarithmic_error: 1.3544 - val_loss: 43725.8281 - val_mean_squared_logarithmic_error: 1.0201\n",
      "Epoch 94/250\n",
      "27/27 [==============================] - 0s 4ms/step - loss: 38226.7383 - mean_squared_logarithmic_error: 1.4053 - val_loss: 43682.4922 - val_mean_squared_logarithmic_error: 1.3139\n",
      "Epoch 95/250\n",
      "27/27 [==============================] - 0s 4ms/step - loss: 38254.8008 - mean_squared_logarithmic_error: 1.4089 - val_loss: 42272.9258 - val_mean_squared_logarithmic_error: 0.9823\n",
      "Epoch 96/250\n",
      "27/27 [==============================] - ETA: 0s - loss: 38760.6406 - mean_squared_logarithmic_error: 1.54 - 0s 3ms/step - loss: 37710.9609 - mean_squared_logarithmic_error: 1.4476 - val_loss: 41672.8867 - val_mean_squared_logarithmic_error: 0.9431\n",
      "Epoch 97/250\n",
      "27/27 [==============================] - 0s 4ms/step - loss: 37266.9180 - mean_squared_logarithmic_error: 1.2656 - val_loss: 41186.9805 - val_mean_squared_logarithmic_error: 1.1088\n",
      "Epoch 98/250\n",
      "27/27 [==============================] - 0s 4ms/step - loss: 36906.2148 - mean_squared_logarithmic_error: 1.2487 - val_loss: 41516.7109 - val_mean_squared_logarithmic_error: 1.7097\n",
      "Epoch 99/250\n",
      "27/27 [==============================] - 0s 4ms/step - loss: 36419.5898 - mean_squared_logarithmic_error: 1.2102 - val_loss: 41138.7109 - val_mean_squared_logarithmic_error: 1.2680\n",
      "Epoch 100/250\n",
      "27/27 [==============================] - 0s 4ms/step - loss: 36565.6406 - mean_squared_logarithmic_error: 1.2158 - val_loss: 38604.6523 - val_mean_squared_logarithmic_error: 0.8918\n",
      "Epoch 101/250\n",
      "27/27 [==============================] - 0s 4ms/step - loss: 36263.9062 - mean_squared_logarithmic_error: 1.3031 - val_loss: 38111.9883 - val_mean_squared_logarithmic_error: 0.8014\n",
      "Epoch 102/250\n",
      "27/27 [==============================] - 0s 4ms/step - loss: 35915.0391 - mean_squared_logarithmic_error: 1.2186 - val_loss: 38434.6562 - val_mean_squared_logarithmic_error: 0.8978\n",
      "Epoch 103/250\n",
      "27/27 [==============================] - 0s 4ms/step - loss: 35739.5469 - mean_squared_logarithmic_error: 1.2924 - val_loss: 38482.7461 - val_mean_squared_logarithmic_error: 1.0406\n",
      "Epoch 104/250\n",
      "27/27 [==============================] - 0s 4ms/step - loss: 35562.6289 - mean_squared_logarithmic_error: 1.1697 - val_loss: 38635.9609 - val_mean_squared_logarithmic_error: 1.4740\n",
      "Epoch 105/250\n",
      "27/27 [==============================] - 0s 4ms/step - loss: 34997.4609 - mean_squared_logarithmic_error: 1.0863 - val_loss: 37429.2891 - val_mean_squared_logarithmic_error: 1.0260\n",
      "Epoch 106/250\n",
      "27/27 [==============================] - 0s 4ms/step - loss: 35089.8125 - mean_squared_logarithmic_error: 1.1641 - val_loss: 37127.7891 - val_mean_squared_logarithmic_error: 0.9065\n",
      "Epoch 107/250\n",
      "27/27 [==============================] - 0s 4ms/step - loss: 34625.8438 - mean_squared_logarithmic_error: 0.9991 - val_loss: 35193.3750 - val_mean_squared_logarithmic_error: 1.0016\n",
      "Epoch 108/250\n",
      "27/27 [==============================] - 0s 4ms/step - loss: 34772.5703 - mean_squared_logarithmic_error: 1.0858 - val_loss: 35788.6055 - val_mean_squared_logarithmic_error: 1.0701\n",
      "Epoch 109/250\n",
      "27/27 [==============================] - 0s 4ms/step - loss: 34191.9297 - mean_squared_logarithmic_error: 1.1627 - val_loss: 36139.1719 - val_mean_squared_logarithmic_error: 1.1977\n",
      "Epoch 110/250\n",
      "27/27 [==============================] - 0s 4ms/step - loss: 34323.2188 - mean_squared_logarithmic_error: 1.0740 - val_loss: 34442.9219 - val_mean_squared_logarithmic_error: 0.8572\n",
      "Epoch 111/250\n",
      "27/27 [==============================] - 0s 4ms/step - loss: 34167.2500 - mean_squared_logarithmic_error: 1.0723 - val_loss: 35025.7773 - val_mean_squared_logarithmic_error: 1.4474\n",
      "Epoch 112/250\n",
      "27/27 [==============================] - 0s 4ms/step - loss: 33643.9141 - mean_squared_logarithmic_error: 0.9995 - val_loss: 34625.2383 - val_mean_squared_logarithmic_error: 1.1816\n",
      "Epoch 113/250\n",
      "27/27 [==============================] - 0s 4ms/step - loss: 33178.1562 - mean_squared_logarithmic_error: 1.0416 - val_loss: 36003.0000 - val_mean_squared_logarithmic_error: 1.3833\n",
      "Epoch 114/250\n",
      "27/27 [==============================] - 0s 4ms/step - loss: 33680.4531 - mean_squared_logarithmic_error: 0.9662 - val_loss: 36727.4531 - val_mean_squared_logarithmic_error: 1.4216\n",
      "Epoch 115/250\n",
      "27/27 [==============================] - 0s 4ms/step - loss: 33233.2852 - mean_squared_logarithmic_error: 0.9625 - val_loss: 34909.4648 - val_mean_squared_logarithmic_error: 1.3403\n",
      "Epoch 116/250\n",
      "27/27 [==============================] - ETA: 0s - loss: 33310.9258 - mean_squared_logarithmic_error: 0.96 - 0s 4ms/step - loss: 32740.5234 - mean_squared_logarithmic_error: 0.9583 - val_loss: 34642.0625 - val_mean_squared_logarithmic_error: 1.3782\n",
      "Epoch 117/250\n",
      "27/27 [==============================] - 0s 4ms/step - loss: 32548.8066 - mean_squared_logarithmic_error: 0.9592 - val_loss: 35286.4922 - val_mean_squared_logarithmic_error: 1.2318\n",
      "Epoch 118/250\n",
      "27/27 [==============================] - 0s 4ms/step - loss: 32566.5020 - mean_squared_logarithmic_error: 0.9349 - val_loss: 33628.5820 - val_mean_squared_logarithmic_error: 1.2366\n",
      "Epoch 119/250\n",
      "27/27 [==============================] - 0s 4ms/step - loss: 32652.3574 - mean_squared_logarithmic_error: 0.9209 - val_loss: 33940.2812 - val_mean_squared_logarithmic_error: 1.1262\n",
      "Epoch 120/250\n",
      "27/27 [==============================] - 0s 4ms/step - loss: 32426.5332 - mean_squared_logarithmic_error: 0.9183 - val_loss: 33381.3047 - val_mean_squared_logarithmic_error: 0.9887\n",
      "Epoch 121/250\n",
      "27/27 [==============================] - 0s 4ms/step - loss: 32585.2266 - mean_squared_logarithmic_error: 0.9365 - val_loss: 33824.4336 - val_mean_squared_logarithmic_error: 1.2640\n",
      "Epoch 122/250\n",
      "27/27 [==============================] - 0s 3ms/step - loss: 31612.8711 - mean_squared_logarithmic_error: 0.9086 - val_loss: 34393.7773 - val_mean_squared_logarithmic_error: 1.2802\n",
      "Epoch 123/250\n",
      "27/27 [==============================] - 0s 3ms/step - loss: 31350.5781 - mean_squared_logarithmic_error: 0.8096 - val_loss: 31246.6895 - val_mean_squared_logarithmic_error: 0.5113\n",
      "Epoch 124/250\n",
      "27/27 [==============================] - 0s 3ms/step - loss: 30542.8496 - mean_squared_logarithmic_error: 0.5464 - val_loss: 30178.8379 - val_mean_squared_logarithmic_error: 0.7030\n",
      "Epoch 125/250\n",
      "27/27 [==============================] - 0s 3ms/step - loss: 29560.2910 - mean_squared_logarithmic_error: 0.3852 - val_loss: 30662.7227 - val_mean_squared_logarithmic_error: 0.7302\n",
      "Epoch 126/250\n",
      "27/27 [==============================] - 0s 3ms/step - loss: 28193.6309 - mean_squared_logarithmic_error: 0.3463 - val_loss: 30236.2227 - val_mean_squared_logarithmic_error: 0.7048\n",
      "Epoch 127/250\n",
      "27/27 [==============================] - 0s 4ms/step - loss: 28007.5312 - mean_squared_logarithmic_error: 0.3391 - val_loss: 31374.0430 - val_mean_squared_logarithmic_error: 0.6484\n",
      "Epoch 128/250\n",
      "27/27 [==============================] - 0s 3ms/step - loss: 28485.9395 - mean_squared_logarithmic_error: 0.3735 - val_loss: 30733.1621 - val_mean_squared_logarithmic_error: 0.4056\n",
      "Epoch 129/250\n",
      "27/27 [==============================] - 0s 4ms/step - loss: 27875.8633 - mean_squared_logarithmic_error: 0.3630 - val_loss: 29775.9258 - val_mean_squared_logarithmic_error: 0.4129\n",
      "Epoch 130/250\n",
      "27/27 [==============================] - 0s 3ms/step - loss: 27683.4961 - mean_squared_logarithmic_error: 0.3415 - val_loss: 28809.3066 - val_mean_squared_logarithmic_error: 0.3882\n",
      "Epoch 131/250\n",
      "27/27 [==============================] - 0s 3ms/step - loss: 27836.3066 - mean_squared_logarithmic_error: 0.4388 - val_loss: 29838.8281 - val_mean_squared_logarithmic_error: 0.3821\n",
      "Epoch 132/250\n",
      "27/27 [==============================] - 0s 3ms/step - loss: 26964.7617 - mean_squared_logarithmic_error: 0.3579 - val_loss: 30219.6895 - val_mean_squared_logarithmic_error: 0.4205\n",
      "Epoch 133/250\n",
      "27/27 [==============================] - 0s 3ms/step - loss: 27246.7344 - mean_squared_logarithmic_error: 0.4157 - val_loss: 30769.6758 - val_mean_squared_logarithmic_error: 0.4572\n",
      "Epoch 134/250\n",
      "27/27 [==============================] - 0s 3ms/step - loss: 26309.2539 - mean_squared_logarithmic_error: 0.3382 - val_loss: 30360.7227 - val_mean_squared_logarithmic_error: 0.4079\n",
      "Epoch 135/250\n",
      "27/27 [==============================] - 0s 3ms/step - loss: 26140.2891 - mean_squared_logarithmic_error: 0.3114 - val_loss: 28693.8379 - val_mean_squared_logarithmic_error: 0.4172\n",
      "Epoch 136/250\n",
      "27/27 [==============================] - 0s 3ms/step - loss: 25480.9688 - mean_squared_logarithmic_error: 0.3219 - val_loss: 28823.0332 - val_mean_squared_logarithmic_error: 0.4975\n",
      "Epoch 137/250\n",
      "27/27 [==============================] - 0s 4ms/step - loss: 24591.7910 - mean_squared_logarithmic_error: 0.2791 - val_loss: 28464.0742 - val_mean_squared_logarithmic_error: 0.4947\n",
      "Epoch 138/250\n",
      "27/27 [==============================] - 0s 4ms/step - loss: 24149.6191 - mean_squared_logarithmic_error: 0.2596 - val_loss: 28625.8242 - val_mean_squared_logarithmic_error: 0.4958\n",
      "Epoch 139/250\n",
      "27/27 [==============================] - 0s 4ms/step - loss: 23532.9180 - mean_squared_logarithmic_error: 0.2558 - val_loss: 29610.8750 - val_mean_squared_logarithmic_error: 0.4206\n",
      "Epoch 140/250\n",
      "27/27 [==============================] - 0s 4ms/step - loss: 23167.9805 - mean_squared_logarithmic_error: 0.2556 - val_loss: 27506.5137 - val_mean_squared_logarithmic_error: 0.4072\n",
      "Epoch 141/250\n",
      "27/27 [==============================] - 0s 4ms/step - loss: 22865.1406 - mean_squared_logarithmic_error: 0.2647 - val_loss: 27344.7500 - val_mean_squared_logarithmic_error: 0.3210\n",
      "Epoch 142/250\n",
      "27/27 [==============================] - 0s 4ms/step - loss: 22652.4395 - mean_squared_logarithmic_error: 0.2632 - val_loss: 26419.1484 - val_mean_squared_logarithmic_error: 0.4071\n",
      "Epoch 143/250\n",
      "27/27 [==============================] - 0s 4ms/step - loss: 21242.7695 - mean_squared_logarithmic_error: 0.1952 - val_loss: 26216.2070 - val_mean_squared_logarithmic_error: 0.4417\n",
      "Epoch 144/250\n",
      "27/27 [==============================] - ETA: 0s - loss: 20720.5332 - mean_squared_logarithmic_error: 0.18 - 0s 3ms/step - loss: 20603.4336 - mean_squared_logarithmic_error: 0.1881 - val_loss: 25501.8438 - val_mean_squared_logarithmic_error: 0.4158\n",
      "Epoch 145/250\n",
      "27/27 [==============================] - 0s 4ms/step - loss: 20221.6621 - mean_squared_logarithmic_error: 0.1809 - val_loss: 26428.0430 - val_mean_squared_logarithmic_error: 0.4235\n",
      "Epoch 146/250\n",
      "27/27 [==============================] - 0s 4ms/step - loss: 19494.4355 - mean_squared_logarithmic_error: 0.1720 - val_loss: 26654.3203 - val_mean_squared_logarithmic_error: 0.4225\n",
      "Epoch 147/250\n",
      "27/27 [==============================] - 0s 4ms/step - loss: 19102.1816 - mean_squared_logarithmic_error: 0.1655 - val_loss: 26121.0195 - val_mean_squared_logarithmic_error: 0.4108\n",
      "Epoch 148/250\n",
      "27/27 [==============================] - 0s 3ms/step - loss: 19799.4961 - mean_squared_logarithmic_error: 0.1896 - val_loss: 28617.3848 - val_mean_squared_logarithmic_error: 0.4146\n",
      "Epoch 149/250\n",
      "27/27 [==============================] - 0s 4ms/step - loss: 19560.2656 - mean_squared_logarithmic_error: 0.1836 - val_loss: 26482.0293 - val_mean_squared_logarithmic_error: 0.3609\n",
      "Epoch 150/250\n",
      "27/27 [==============================] - 0s 4ms/step - loss: 18820.4805 - mean_squared_logarithmic_error: 0.2965 - val_loss: 25661.4121 - val_mean_squared_logarithmic_error: 0.3269\n",
      "Epoch 151/250\n",
      "27/27 [==============================] - 0s 4ms/step - loss: 19291.7832 - mean_squared_logarithmic_error: 0.2037 - val_loss: 25243.4141 - val_mean_squared_logarithmic_error: 0.3388\n",
      "Epoch 152/250\n",
      "27/27 [==============================] - 0s 4ms/step - loss: 18608.5078 - mean_squared_logarithmic_error: 0.1712 - val_loss: 25820.3184 - val_mean_squared_logarithmic_error: 0.3188\n",
      "Epoch 153/250\n",
      "27/27 [==============================] - 0s 3ms/step - loss: 18526.7383 - mean_squared_logarithmic_error: 0.1744 - val_loss: 24751.9824 - val_mean_squared_logarithmic_error: 0.3026\n",
      "Epoch 154/250\n",
      "27/27 [==============================] - 0s 4ms/step - loss: 17938.8516 - mean_squared_logarithmic_error: 0.1522 - val_loss: 25193.9570 - val_mean_squared_logarithmic_error: 0.3018\n",
      "Epoch 155/250\n",
      "27/27 [==============================] - 0s 3ms/step - loss: 18308.7969 - mean_squared_logarithmic_error: 0.1695 - val_loss: 24840.1270 - val_mean_squared_logarithmic_error: 0.3015\n",
      "Epoch 156/250\n",
      "27/27 [==============================] - 0s 4ms/step - loss: 17631.5488 - mean_squared_logarithmic_error: 0.1597 - val_loss: 24873.4688 - val_mean_squared_logarithmic_error: 0.2743\n",
      "Epoch 157/250\n",
      "27/27 [==============================] - 0s 4ms/step - loss: 17116.3848 - mean_squared_logarithmic_error: 0.1429 - val_loss: 24476.1309 - val_mean_squared_logarithmic_error: 0.2927\n",
      "Epoch 158/250\n",
      "27/27 [==============================] - 0s 3ms/step - loss: 17016.3281 - mean_squared_logarithmic_error: 0.1349 - val_loss: 24233.0996 - val_mean_squared_logarithmic_error: 0.2614\n",
      "Epoch 159/250\n",
      "27/27 [==============================] - 0s 4ms/step - loss: 17446.1113 - mean_squared_logarithmic_error: 0.1345 - val_loss: 25776.3672 - val_mean_squared_logarithmic_error: 0.3149\n",
      "Epoch 160/250\n",
      "27/27 [==============================] - 0s 4ms/step - loss: 17112.2090 - mean_squared_logarithmic_error: 0.1353 - val_loss: 26078.8008 - val_mean_squared_logarithmic_error: 0.2956\n",
      "Epoch 161/250\n",
      "27/27 [==============================] - 0s 3ms/step - loss: 17242.5820 - mean_squared_logarithmic_error: 0.1525 - val_loss: 24737.0723 - val_mean_squared_logarithmic_error: 0.2570\n",
      "Epoch 162/250\n",
      "27/27 [==============================] - 0s 3ms/step - loss: 16965.6289 - mean_squared_logarithmic_error: 0.1349 - val_loss: 24172.8066 - val_mean_squared_logarithmic_error: 0.2299\n",
      "Epoch 163/250\n",
      "27/27 [==============================] - 0s 4ms/step - loss: 16717.5742 - mean_squared_logarithmic_error: 0.1302 - val_loss: 24238.3945 - val_mean_squared_logarithmic_error: 0.2401\n",
      "Epoch 164/250\n",
      "27/27 [==============================] - 0s 4ms/step - loss: 17958.4727 - mean_squared_logarithmic_error: 0.1605 - val_loss: 23741.0430 - val_mean_squared_logarithmic_error: 0.2156\n",
      "Epoch 165/250\n",
      "27/27 [==============================] - 0s 3ms/step - loss: 16238.3154 - mean_squared_logarithmic_error: 0.1200 - val_loss: 25057.8184 - val_mean_squared_logarithmic_error: 0.2504\n",
      "Epoch 166/250\n",
      "27/27 [==============================] - ETA: 0s - loss: 16705.8438 - mean_squared_logarithmic_error: 0.15 - 0s 3ms/step - loss: 16851.9902 - mean_squared_logarithmic_error: 0.1478 - val_loss: 26137.1348 - val_mean_squared_logarithmic_error: 0.2780\n",
      "Epoch 167/250\n",
      "27/27 [==============================] - 0s 4ms/step - loss: 16214.7812 - mean_squared_logarithmic_error: 0.1204 - val_loss: 24775.4570 - val_mean_squared_logarithmic_error: 0.2346\n",
      "Epoch 168/250\n",
      "27/27 [==============================] - 0s 4ms/step - loss: 17051.8379 - mean_squared_logarithmic_error: 0.1445 - val_loss: 22521.6797 - val_mean_squared_logarithmic_error: 0.1749\n",
      "Epoch 169/250\n",
      "27/27 [==============================] - 0s 4ms/step - loss: 16679.5820 - mean_squared_logarithmic_error: 0.1205 - val_loss: 22801.4590 - val_mean_squared_logarithmic_error: 0.1887\n",
      "Epoch 170/250\n",
      "27/27 [==============================] - 0s 3ms/step - loss: 16229.0381 - mean_squared_logarithmic_error: 0.1187 - val_loss: 25544.2520 - val_mean_squared_logarithmic_error: 0.2502\n",
      "Epoch 171/250\n",
      "27/27 [==============================] - 0s 3ms/step - loss: 15833.8135 - mean_squared_logarithmic_error: 0.1186 - val_loss: 24676.5840 - val_mean_squared_logarithmic_error: 0.2288\n",
      "Epoch 172/250\n",
      "27/27 [==============================] - 0s 3ms/step - loss: 15797.8135 - mean_squared_logarithmic_error: 0.1120 - val_loss: 23763.0195 - val_mean_squared_logarithmic_error: 0.2004\n",
      "Epoch 173/250\n",
      "27/27 [==============================] - 0s 4ms/step - loss: 16605.2305 - mean_squared_logarithmic_error: 0.1198 - val_loss: 23071.9316 - val_mean_squared_logarithmic_error: 0.1775\n",
      "Epoch 174/250\n",
      "27/27 [==============================] - 0s 4ms/step - loss: 16036.6865 - mean_squared_logarithmic_error: 0.1074 - val_loss: 26191.4180 - val_mean_squared_logarithmic_error: 0.2384\n",
      "Epoch 175/250\n",
      "27/27 [==============================] - 0s 4ms/step - loss: 15561.6182 - mean_squared_logarithmic_error: 0.0963 - val_loss: 23004.0273 - val_mean_squared_logarithmic_error: 0.1730\n",
      "Epoch 176/250\n",
      "27/27 [==============================] - 0s 4ms/step - loss: 15338.0488 - mean_squared_logarithmic_error: 0.0969 - val_loss: 22341.5137 - val_mean_squared_logarithmic_error: 0.1589\n",
      "Epoch 177/250\n",
      "27/27 [==============================] - 0s 4ms/step - loss: 15343.9512 - mean_squared_logarithmic_error: 0.0965 - val_loss: 23219.4023 - val_mean_squared_logarithmic_error: 0.1773\n",
      "Epoch 178/250\n",
      "27/27 [==============================] - 0s 4ms/step - loss: 14993.8076 - mean_squared_logarithmic_error: 0.0959 - val_loss: 25032.7969 - val_mean_squared_logarithmic_error: 0.2096\n",
      "Epoch 179/250\n",
      "27/27 [==============================] - 0s 4ms/step - loss: 14416.8877 - mean_squared_logarithmic_error: 0.0849 - val_loss: 23698.0137 - val_mean_squared_logarithmic_error: 0.1880\n",
      "Epoch 180/250\n",
      "27/27 [==============================] - 0s 4ms/step - loss: 15160.2812 - mean_squared_logarithmic_error: 0.0929 - val_loss: 23372.8652 - val_mean_squared_logarithmic_error: 0.1704\n",
      "Epoch 181/250\n",
      "27/27 [==============================] - 0s 3ms/step - loss: 14929.2451 - mean_squared_logarithmic_error: 0.0983 - val_loss: 21327.4629 - val_mean_squared_logarithmic_error: 0.1427\n",
      "Epoch 182/250\n",
      "27/27 [==============================] - 0s 3ms/step - loss: 14709.6064 - mean_squared_logarithmic_error: 0.0873 - val_loss: 21905.7793 - val_mean_squared_logarithmic_error: 0.1559\n",
      "Epoch 183/250\n",
      "27/27 [==============================] - 0s 4ms/step - loss: 14551.6807 - mean_squared_logarithmic_error: 0.0836 - val_loss: 28519.5410 - val_mean_squared_logarithmic_error: 0.3197\n",
      "Epoch 184/250\n",
      "27/27 [==============================] - 0s 4ms/step - loss: 14792.4629 - mean_squared_logarithmic_error: 0.0800 - val_loss: 23590.0703 - val_mean_squared_logarithmic_error: 0.1883\n",
      "Epoch 185/250\n",
      "27/27 [==============================] - 0s 3ms/step - loss: 14494.2988 - mean_squared_logarithmic_error: 0.0787 - val_loss: 26379.4512 - val_mean_squared_logarithmic_error: 0.2725\n",
      "Epoch 186/250\n",
      "27/27 [==============================] - 0s 4ms/step - loss: 13808.5898 - mean_squared_logarithmic_error: 0.0683 - val_loss: 26357.5488 - val_mean_squared_logarithmic_error: 0.2714\n",
      "Epoch 187/250\n",
      "27/27 [==============================] - 0s 4ms/step - loss: 13964.4424 - mean_squared_logarithmic_error: 0.0694 - val_loss: 24725.1523 - val_mean_squared_logarithmic_error: 0.2196\n",
      "Epoch 188/250\n",
      "27/27 [==============================] - 0s 3ms/step - loss: 13541.1455 - mean_squared_logarithmic_error: 0.0659 - val_loss: 25281.1738 - val_mean_squared_logarithmic_error: 0.2257\n",
      "Epoch 189/250\n",
      "27/27 [==============================] - 0s 4ms/step - loss: 13147.5303 - mean_squared_logarithmic_error: 0.0611 - val_loss: 21912.2441 - val_mean_squared_logarithmic_error: 0.1624\n",
      "Epoch 190/250\n",
      "27/27 [==============================] - 0s 3ms/step - loss: 13316.5215 - mean_squared_logarithmic_error: 0.0600 - val_loss: 27297.7754 - val_mean_squared_logarithmic_error: 0.3032\n",
      "Epoch 191/250\n",
      "27/27 [==============================] - 0s 3ms/step - loss: 13877.5830 - mean_squared_logarithmic_error: 0.0677 - val_loss: 28804.5840 - val_mean_squared_logarithmic_error: 0.3291\n",
      "Epoch 192/250\n",
      "27/27 [==============================] - 0s 4ms/step - loss: 13801.2500 - mean_squared_logarithmic_error: 0.0661 - val_loss: 22965.0840 - val_mean_squared_logarithmic_error: 0.1743\n",
      "Epoch 193/250\n",
      "27/27 [==============================] - 0s 3ms/step - loss: 13467.7012 - mean_squared_logarithmic_error: 0.0666 - val_loss: 24848.2930 - val_mean_squared_logarithmic_error: 0.2096\n",
      "Epoch 194/250\n",
      "27/27 [==============================] - 0s 4ms/step - loss: 13449.6523 - mean_squared_logarithmic_error: 0.0641 - val_loss: 23067.3320 - val_mean_squared_logarithmic_error: 0.1947\n",
      "Epoch 195/250\n",
      "27/27 [==============================] - 0s 4ms/step - loss: 13306.8330 - mean_squared_logarithmic_error: 0.0609 - val_loss: 23107.8203 - val_mean_squared_logarithmic_error: 0.1835\n",
      "Epoch 196/250\n",
      "27/27 [==============================] - 0s 4ms/step - loss: 12473.3398 - mean_squared_logarithmic_error: 0.0551 - val_loss: 21407.4062 - val_mean_squared_logarithmic_error: 0.1498\n",
      "Epoch 197/250\n",
      "27/27 [==============================] - 0s 4ms/step - loss: 13187.8174 - mean_squared_logarithmic_error: 0.0599 - val_loss: 24248.0605 - val_mean_squared_logarithmic_error: 0.2033\n",
      "Epoch 198/250\n",
      "27/27 [==============================] - 0s 3ms/step - loss: 12517.2119 - mean_squared_logarithmic_error: 0.0531 - val_loss: 20109.2695 - val_mean_squared_logarithmic_error: 0.1321\n",
      "Epoch 199/250\n",
      "27/27 [==============================] - 0s 4ms/step - loss: 12821.0674 - mean_squared_logarithmic_error: 0.0562 - val_loss: 21821.5977 - val_mean_squared_logarithmic_error: 0.1624\n",
      "Epoch 200/250\n",
      "27/27 [==============================] - 0s 4ms/step - loss: 12530.5742 - mean_squared_logarithmic_error: 0.0545 - val_loss: 22005.3770 - val_mean_squared_logarithmic_error: 0.1652\n",
      "Epoch 201/250\n",
      "27/27 [==============================] - 0s 3ms/step - loss: 12651.7500 - mean_squared_logarithmic_error: 0.0546 - val_loss: 22253.7695 - val_mean_squared_logarithmic_error: 0.1674\n",
      "Epoch 202/250\n",
      "27/27 [==============================] - 0s 3ms/step - loss: 12671.4580 - mean_squared_logarithmic_error: 0.0531 - val_loss: 20155.8730 - val_mean_squared_logarithmic_error: 0.1365\n",
      "Epoch 203/250\n",
      "27/27 [==============================] - 0s 3ms/step - loss: 12174.6611 - mean_squared_logarithmic_error: 0.0499 - val_loss: 18832.7500 - val_mean_squared_logarithmic_error: 0.1082\n",
      "Epoch 204/250\n",
      "27/27 [==============================] - 0s 3ms/step - loss: 12557.0674 - mean_squared_logarithmic_error: 0.0516 - val_loss: 21004.0254 - val_mean_squared_logarithmic_error: 0.1485\n",
      "Epoch 205/250\n",
      "27/27 [==============================] - 0s 4ms/step - loss: 12321.9365 - mean_squared_logarithmic_error: 0.0510 - val_loss: 19342.3066 - val_mean_squared_logarithmic_error: 0.1230\n",
      "Epoch 206/250\n",
      "27/27 [==============================] - 0s 4ms/step - loss: 11922.3916 - mean_squared_logarithmic_error: 0.0469 - val_loss: 23506.4141 - val_mean_squared_logarithmic_error: 0.1868\n",
      "Epoch 207/250\n",
      "27/27 [==============================] - 0s 4ms/step - loss: 12639.8867 - mean_squared_logarithmic_error: 0.0531 - val_loss: 19874.5039 - val_mean_squared_logarithmic_error: 0.1303\n",
      "Epoch 208/250\n",
      "27/27 [==============================] - 0s 4ms/step - loss: 12532.4268 - mean_squared_logarithmic_error: 0.0524 - val_loss: 18247.9805 - val_mean_squared_logarithmic_error: 0.1011\n",
      "Epoch 209/250\n",
      "27/27 [==============================] - 0s 4ms/step - loss: 12460.4590 - mean_squared_logarithmic_error: 0.0574 - val_loss: 20605.5781 - val_mean_squared_logarithmic_error: 0.1404\n",
      "Epoch 210/250\n",
      "27/27 [==============================] - 0s 4ms/step - loss: 12412.0898 - mean_squared_logarithmic_error: 0.0534 - val_loss: 19525.1660 - val_mean_squared_logarithmic_error: 0.1234\n",
      "Epoch 211/250\n",
      "27/27 [==============================] - 0s 3ms/step - loss: 11912.9990 - mean_squared_logarithmic_error: 0.0481 - val_loss: 21279.3184 - val_mean_squared_logarithmic_error: 0.1462\n",
      "Epoch 212/250\n",
      "27/27 [==============================] - 0s 3ms/step - loss: 12021.8252 - mean_squared_logarithmic_error: 0.0532 - val_loss: 18311.7266 - val_mean_squared_logarithmic_error: 0.1002\n",
      "Epoch 213/250\n",
      "27/27 [==============================] - 0s 4ms/step - loss: 11939.0732 - mean_squared_logarithmic_error: 0.0477 - val_loss: 18265.8242 - val_mean_squared_logarithmic_error: 0.0955\n",
      "Epoch 214/250\n",
      "27/27 [==============================] - 0s 4ms/step - loss: 12225.2783 - mean_squared_logarithmic_error: 0.0553 - val_loss: 18685.6855 - val_mean_squared_logarithmic_error: 0.1088\n",
      "Epoch 215/250\n",
      "27/27 [==============================] - 0s 4ms/step - loss: 11269.7969 - mean_squared_logarithmic_error: 0.0438 - val_loss: 17897.4980 - val_mean_squared_logarithmic_error: 0.0900\n",
      "Epoch 216/250\n",
      "27/27 [==============================] - 0s 4ms/step - loss: 12243.1709 - mean_squared_logarithmic_error: 0.0504 - val_loss: 17879.4180 - val_mean_squared_logarithmic_error: 0.0913\n",
      "Epoch 217/250\n",
      "27/27 [==============================] - 0s 4ms/step - loss: 12521.1699 - mean_squared_logarithmic_error: 0.0519 - val_loss: 19290.3574 - val_mean_squared_logarithmic_error: 0.1159\n",
      "Epoch 218/250\n",
      "27/27 [==============================] - 0s 4ms/step - loss: 12133.0205 - mean_squared_logarithmic_error: 0.0503 - val_loss: 18237.0449 - val_mean_squared_logarithmic_error: 0.0989\n",
      "Epoch 219/250\n",
      "27/27 [==============================] - 0s 4ms/step - loss: 11775.7510 - mean_squared_logarithmic_error: 0.0466 - val_loss: 18638.0469 - val_mean_squared_logarithmic_error: 0.1048\n",
      "Epoch 220/250\n",
      "27/27 [==============================] - 0s 4ms/step - loss: 11925.6543 - mean_squared_logarithmic_error: 0.0502 - val_loss: 18937.8867 - val_mean_squared_logarithmic_error: 0.1089\n",
      "Epoch 221/250\n",
      "27/27 [==============================] - 0s 4ms/step - loss: 11905.4912 - mean_squared_logarithmic_error: 0.0493 - val_loss: 18345.4180 - val_mean_squared_logarithmic_error: 0.1026\n",
      "Epoch 222/250\n",
      "27/27 [==============================] - 0s 4ms/step - loss: 11910.5225 - mean_squared_logarithmic_error: 0.0487 - val_loss: 19349.1973 - val_mean_squared_logarithmic_error: 0.0909\n",
      "Epoch 223/250\n",
      "27/27 [==============================] - 0s 3ms/step - loss: 12347.1670 - mean_squared_logarithmic_error: 0.0496 - val_loss: 20890.9551 - val_mean_squared_logarithmic_error: 0.1307\n",
      "Epoch 224/250\n",
      "27/27 [==============================] - 0s 3ms/step - loss: 11937.8340 - mean_squared_logarithmic_error: 0.0504 - val_loss: 17461.8047 - val_mean_squared_logarithmic_error: 0.0812\n",
      "Epoch 225/250\n",
      "27/27 [==============================] - 0s 4ms/step - loss: 11883.2930 - mean_squared_logarithmic_error: 0.0493 - val_loss: 19423.6191 - val_mean_squared_logarithmic_error: 0.1162\n",
      "Epoch 226/250\n",
      "27/27 [==============================] - 0s 4ms/step - loss: 12158.2461 - mean_squared_logarithmic_error: 0.0495 - val_loss: 17733.4746 - val_mean_squared_logarithmic_error: 0.0865\n",
      "Epoch 227/250\n",
      "27/27 [==============================] - 0s 3ms/step - loss: 11897.3770 - mean_squared_logarithmic_error: 0.0466 - val_loss: 21891.1836 - val_mean_squared_logarithmic_error: 0.1536\n",
      "Epoch 228/250\n",
      "27/27 [==============================] - 0s 4ms/step - loss: 12125.5693 - mean_squared_logarithmic_error: 0.0467 - val_loss: 20563.8477 - val_mean_squared_logarithmic_error: 0.1271\n",
      "Epoch 229/250\n",
      "27/27 [==============================] - 0s 4ms/step - loss: 11907.8066 - mean_squared_logarithmic_error: 0.0484 - val_loss: 19123.4668 - val_mean_squared_logarithmic_error: 0.0900\n",
      "Epoch 230/250\n",
      "27/27 [==============================] - 0s 4ms/step - loss: 11784.4893 - mean_squared_logarithmic_error: 0.0470 - val_loss: 17967.8750 - val_mean_squared_logarithmic_error: 0.0947\n",
      "Epoch 231/250\n",
      "27/27 [==============================] - 0s 3ms/step - loss: 12467.9189 - mean_squared_logarithmic_error: 0.0525 - val_loss: 19498.2305 - val_mean_squared_logarithmic_error: 0.0887\n",
      "Epoch 232/250\n",
      "27/27 [==============================] - 0s 4ms/step - loss: 12657.4004 - mean_squared_logarithmic_error: 0.0585 - val_loss: 18705.4629 - val_mean_squared_logarithmic_error: 0.1076\n",
      "Epoch 233/250\n",
      "27/27 [==============================] - 0s 3ms/step - loss: 12015.1348 - mean_squared_logarithmic_error: 0.0499 - val_loss: 17488.4434 - val_mean_squared_logarithmic_error: 0.0879\n",
      "Epoch 234/250\n",
      "27/27 [==============================] - 0s 3ms/step - loss: 12394.9512 - mean_squared_logarithmic_error: 0.0522 - val_loss: 17656.8125 - val_mean_squared_logarithmic_error: 0.0805\n",
      "Epoch 235/250\n",
      "27/27 [==============================] - 0s 4ms/step - loss: 12052.5576 - mean_squared_logarithmic_error: 0.0513 - val_loss: 18809.3105 - val_mean_squared_logarithmic_error: 0.1079\n",
      "Epoch 236/250\n",
      "27/27 [==============================] - 0s 4ms/step - loss: 11795.2412 - mean_squared_logarithmic_error: 0.0470 - val_loss: 17581.9121 - val_mean_squared_logarithmic_error: 0.0836\n",
      "Epoch 237/250\n",
      "27/27 [==============================] - 0s 3ms/step - loss: 12125.5801 - mean_squared_logarithmic_error: 0.0501 - val_loss: 17458.5273 - val_mean_squared_logarithmic_error: 0.0819\n",
      "Epoch 238/250\n",
      "27/27 [==============================] - 0s 4ms/step - loss: 11846.4189 - mean_squared_logarithmic_error: 0.0471 - val_loss: 18840.0566 - val_mean_squared_logarithmic_error: 0.1084\n",
      "Epoch 239/250\n",
      "27/27 [==============================] - 0s 3ms/step - loss: 12292.2344 - mean_squared_logarithmic_error: 0.1722 - val_loss: 17141.1055 - val_mean_squared_logarithmic_error: 0.0834\n",
      "Epoch 240/250\n",
      "27/27 [==============================] - 0s 3ms/step - loss: 11785.8652 - mean_squared_logarithmic_error: 0.0450 - val_loss: 17479.2070 - val_mean_squared_logarithmic_error: 0.0822\n",
      "Epoch 241/250\n",
      "27/27 [==============================] - 0s 3ms/step - loss: 11922.1641 - mean_squared_logarithmic_error: 0.0459 - val_loss: 17517.1055 - val_mean_squared_logarithmic_error: 0.0811\n",
      "Epoch 242/250\n",
      "27/27 [==============================] - 0s 4ms/step - loss: 11947.3252 - mean_squared_logarithmic_error: 0.0478 - val_loss: 21023.3594 - val_mean_squared_logarithmic_error: 0.1336\n",
      "Epoch 243/250\n",
      "27/27 [==============================] - 0s 3ms/step - loss: 12095.0420 - mean_squared_logarithmic_error: 0.0476 - val_loss: 17236.9531 - val_mean_squared_logarithmic_error: 0.0821\n",
      "Epoch 244/250\n",
      "27/27 [==============================] - 0s 3ms/step - loss: 11436.5146 - mean_squared_logarithmic_error: 0.0463 - val_loss: 17159.1094 - val_mean_squared_logarithmic_error: 0.0845\n",
      "Epoch 245/250\n",
      "27/27 [==============================] - 0s 3ms/step - loss: 11654.8926 - mean_squared_logarithmic_error: 0.0452 - val_loss: 17380.4277 - val_mean_squared_logarithmic_error: 0.0844\n",
      "Epoch 246/250\n",
      "27/27 [==============================] - 0s 3ms/step - loss: 11401.0674 - mean_squared_logarithmic_error: 0.0437 - val_loss: 19307.6016 - val_mean_squared_logarithmic_error: 0.1147\n",
      "Epoch 247/250\n",
      "27/27 [==============================] - 0s 3ms/step - loss: 11687.4258 - mean_squared_logarithmic_error: 0.0482 - val_loss: 17481.2754 - val_mean_squared_logarithmic_error: 0.0864\n",
      "Epoch 248/250\n",
      "27/27 [==============================] - 0s 3ms/step - loss: 11690.0234 - mean_squared_logarithmic_error: 0.0497 - val_loss: 17902.7148 - val_mean_squared_logarithmic_error: 0.0962\n",
      "Epoch 249/250\n",
      "27/27 [==============================] - 0s 3ms/step - loss: 12007.4434 - mean_squared_logarithmic_error: 0.0484 - val_loss: 17168.9727 - val_mean_squared_logarithmic_error: 0.0811\n",
      "Epoch 250/250\n",
      "27/27 [==============================] - 0s 4ms/step - loss: 11917.2998 - mean_squared_logarithmic_error: 0.0513 - val_loss: 17087.1348 - val_mean_squared_logarithmic_error: 0.0787\n"
     ]
    }
   ],
   "source": [
    "from keras.utils.vis_utils import plot_model\n",
    "\n",
    "model2_final.compile(loss = tf.keras.losses.MAE, \n",
    "    optimizer = tf.optimizers.Adam(learning_rate = 0.001), \n",
    "    metrics=[tf.keras.metrics.MSLE])\n",
    "\n",
    "hist2f = model2_final.fit(X , Y, epochs = 250, batch_size = 32, validation_split=0.15, verbose = 1)"
   ]
  },
  {
   "cell_type": "code",
   "execution_count": 257,
   "id": "e795870c",
   "metadata": {},
   "outputs": [
    {
     "data": {
      "image/png": "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\n",
      "text/plain": [
       "<Figure size 864x288 with 1 Axes>"
      ]
     },
     "metadata": {
      "needs_background": "light"
     },
     "output_type": "display_data"
    }
   ],
   "source": [
    "plots(hist2f)"
   ]
  },
  {
   "cell_type": "code",
   "execution_count": 258,
   "id": "9ecedf0f",
   "metadata": {},
   "outputs": [
    {
     "data": {
      "text/plain": [
       "SVR(C=150000.0, epsilon=4500)"
      ]
     },
     "execution_count": 258,
     "metadata": {},
     "output_type": "execute_result"
    }
   ],
   "source": [
    "svr_final = SVR(C = 150000.0, epsilon=4500, kernel=\"rbf\")\n",
    "svr_final.fit(X, Y)"
   ]
  },
  {
   "cell_type": "markdown",
   "id": "8f4a0f13",
   "metadata": {},
   "source": [
    "### Using an ensemble of the 3 final regressors for our final prediction"
   ]
  },
  {
   "cell_type": "code",
   "execution_count": 259,
   "id": "a8dd3278",
   "metadata": {},
   "outputs": [
    {
     "data": {
      "text/plain": [
       "(9435.832059649107, 0.8341665722146208)"
      ]
     },
     "execution_count": 259,
     "metadata": {},
     "output_type": "execute_result"
    }
   ],
   "source": [
    "voting_regr_pred_final = voting_regressor(models=[svr_final, rf_final, model2_final], weights=[0.3, 0.4, 0.3], x_val = X)\n",
    "\n",
    "mean_absolute_error(Y, voting_regr_pred_final), r2_score(Y, voting_regr_pred_final)"
   ]
  },
  {
   "cell_type": "code",
   "execution_count": 372,
   "id": "04312978",
   "metadata": {},
   "outputs": [
    {
     "name": "stdout",
     "output_type": "stream",
     "text": [
      "\n",
      "Note: Type of laptop --> it's corresponding input\n",
      "\n",
      "gaming laptop --> 1\n",
      "thin and light laptop --> 2\n",
      "2 in 1 laptop --> 3\n",
      "notebook --> 4\n",
      "laptop --> 5\n",
      "2 in 1 gaming laptop --> 6\n",
      "business laptop --> 7\n",
      "chromebook --> 8\n",
      "creator laptop --> 9\n",
      "\n",
      "Enter type of laptop: 1\n",
      "\n",
      "Note: Valid laptop brands --> it's corresponding input\n",
      "\n",
      "asus --> 1\n",
      "hp --> 2\n",
      "lenovo --> 3\n",
      "dell --> 4\n",
      "msi --> 5\n",
      "realme --> 6\n",
      "avita --> 7\n",
      "acer --> 8\n",
      "samsung --> 9\n",
      "infinix --> 10\n",
      "lg --> 11\n",
      "apple --> 12\n",
      "nokia --> 13\n",
      "redmibook --> 14\n",
      "mi --> 15\n",
      "vaio --> 16\n",
      "\n",
      "Enter laptop brand: 1\n",
      "\n",
      "Note: Valid CPU brands --> it's corresponding input\n",
      "\n",
      "intel --> 1\n",
      "amd --> 2\n",
      "qualcomm --> 3\n",
      "apple --> 4\n",
      "mediatek --> 5\n",
      "\n",
      "Enter processor brand: 1\n",
      "Enter processor name: core i7\n",
      "\n",
      "Note: Valid GPU brands --> it's corresponding input\n",
      "\n",
      "nvidia --> 1\n",
      "intel --> 2\n",
      "amd --> 3\n",
      "qualcomm --> 4\n",
      "Enter GPU brand: 1\n",
      "\n",
      "Enter GPU name: intel hd\n",
      "Enter GPU memory capacity in GB (ex: for 4gb enter 4): 4\n",
      "Enter RAM capacity (ex: for 16 gb enter 16): 16\n",
      "Enter Storage capacity (input in gb): 1000\n",
      "Enter Storage type (1 for ssd, 0 for hdd): 1\n",
      "Enter storage expandability (1 for yes, 0 for no): 1\n",
      "Enter screen size (in inch): 15\n",
      "Enter screen resolution (ex: 720,1080,1440,2160): 1080\n",
      "Touchscreen (1 for yes, 0 for no): 1\n",
      "Enter laptop weight (in kg): 2\n",
      "Enter battery life (in hrs): 4\n",
      "\n",
      "Note: Valid operating system --> it's corresponding input\n",
      "\n",
      "windows --> 1\n",
      "chrome os --> 2\n",
      "dos --> 3\n",
      "mac --> 4\n",
      "ubuntu --> 5\n",
      "\n",
      "Enter operating system: 1\n",
      "[1, 4, 1, 4, 1, 16, 1, 1, 1, 15.0, 2.0, 1080, 1, 1, 1000, 4, 3]\n"
     ]
    }
   ],
   "source": [
    "user_inp = []\n",
    "\n",
    "while(1):\n",
    "    try:\n",
    "        print(\"\\nNote: Type of laptop --> it's corresponding input\\n\")\n",
    "        print('gaming laptop --> 1')\n",
    "        print('thin and light laptop --> 2')\n",
    "        print('2 in 1 laptop --> 3')\n",
    "        print('notebook --> 4')\n",
    "        print('laptop --> 5')\n",
    "        print('2 in 1 gaming laptop --> 6')\n",
    "        print('business laptop --> 7')\n",
    "        print('chromebook --> 8')\n",
    "        print('creator laptop --> 9\\n')\n",
    "        print(\"Enter type of laptop: \",end='')\n",
    "        typel=int(input())\n",
    "        \n",
    "        print(\"\\nNote: Valid laptop brands --> it's corresponding input\\n\")\n",
    "        print('asus --> 1\\nhp --> 2\\nlenovo --> 3\\ndell --> 4\\nmsi --> 5\\nrealme --> 6\\navita --> 7\\nacer --> 8\\nsamsung --> 9\\ninfinix --> 10\\nlg --> 11\\napple --> 12\\nnokia --> 13\\nredmibook --> 14\\nmi --> 15\\nvaio --> 16\\n')\n",
    "        print(\"Enter laptop brand: \",end='')\n",
    "        laptop_brand=int(input())\n",
    "\n",
    "        print(\"\\nNote: Valid CPU brands --> it's corresponding input\\n\")\n",
    "        print('intel --> 1')\n",
    "        print('amd --> 2')\n",
    "        print('qualcomm --> 3')\n",
    "        print('apple --> 4')\n",
    "        print('mediatek --> 5')\n",
    "        print(\"\\nEnter processor brand: \",end='')\n",
    "        cpu_brand=int(input())\n",
    "\n",
    "        print(\"Enter processor name: \",end='')\n",
    "        cpu_name=input()\n",
    "        cpu_name_enc = processor_name_dict[cpu_name]\n",
    "\n",
    "\n",
    "        print(\"\\nNote: Valid GPU brands --> it's corresponding input\\n\")\n",
    "        print('nvidia --> 1')\n",
    "        print('intel --> 2')\n",
    "        print('amd --> 3')\n",
    "        print('qualcomm --> 4')\n",
    "        print(\"Enter GPU brand: \",end='')\n",
    "        gpu_brand=int(input())\n",
    "\n",
    "        print(\"\\nEnter GPU name: \",end='')\n",
    "        gpu_name=input()\n",
    "        gpu_name_enc = gpu_dict[gpu_name]\n",
    "        \n",
    "        print(\"Enter GPU memory capacity in GB (ex: for 4gb enter 4): \",end='')\n",
    "        gpu_mem=int(input())\n",
    "\n",
    "        print(\"Enter RAM capacity (ex: for 16 gb enter 16): \",end='')\n",
    "        ram=int(input())\n",
    "\n",
    "        print(\"Enter Storage capacity (input in gb): \",end='')\n",
    "        storage=int(input())\n",
    "        \n",
    "        print(\"Enter Storage type (1 for ssd, 0 for hdd): \",end='')\n",
    "        storage_type=int(input())\n",
    "\n",
    "        print(\"Enter storage expandability (1 for yes, 0 for no): \",end='')\n",
    "        storage_ex=int(input())\n",
    "\n",
    "        print(\"Enter screen size (in inch): \",end='')\n",
    "        screen_size=float(input())\n",
    "\n",
    "        print(\"Enter screen resolution (ex: 720,1080,1440,2160): \",end='')\n",
    "        screen_res=int(input())\n",
    "\n",
    "        print(\"Touchscreen (1 for yes, 0 for no): \",end='')\n",
    "        touchscreen=int(input())\n",
    "\n",
    "        print(\"Enter laptop weight (in kg): \",end='')\n",
    "        weight=float(input())\n",
    "\n",
    "        print(\"Enter battery life (in hrs): \",end='')\n",
    "        battery_life=int(input())\n",
    "              \n",
    "        print(\"\\nNote: Valid operating system --> it's corresponding input\\n\")\n",
    "        print('windows --> 1')\n",
    "        print('chrome os --> 2')\n",
    "        print('dos --> 3')\n",
    "        print('mac --> 4')\n",
    "        print('ubuntu --> 5')\n",
    "        print(\"\\nEnter operating system: \",end='')\n",
    "        operating_sys=int(input())\n",
    "\n",
    "        user_inp = [typel,gpu_mem, cpu_brand,\n",
    "                     cpu_name_enc, storage_type, ram, storage_ex, operating_sys,\n",
    "                     touchscreen, screen_size, weight, screen_res,gpu_brand,\n",
    "                     laptop_brand, storage, battery_life, gpu_name_enc]\n",
    "        break\n",
    "    except:\n",
    "        print(\"\\nWrong input. Please try again.\\n\")\n",
    "        continue\n",
    "\n",
    "print(user_inp)"
   ]
  },
  {
   "cell_type": "code",
   "execution_count": 373,
   "id": "21ef305e",
   "metadata": {},
   "outputs": [],
   "source": [
    "def pred_user_inp(x):\n",
    "    x = np.array(x)\n",
    "    x = x.reshape((1,17))\n",
    "    xt = scaler.transform(x)\n",
    "    voting_regr_pred_user = voting_regressor(models=[svr_final, rf_final, model2_final], weights=[0.3, 0.4, 0.3], x_val = xt)\n",
    "    return voting_regr_pred_user"
   ]
  },
  {
   "cell_type": "code",
   "execution_count": 374,
   "id": "3d2c0c0e",
   "metadata": {},
   "outputs": [
    {
     "name": "stdout",
     "output_type": "stream",
     "text": [
      "Expected price is about Rs 137552\n",
      "\n",
      "\n",
      "NOTE :- \n",
      " This is an approximate lower price for the user's laptop specification preferences, there could be a variance of about 15%\n"
     ]
    }
   ],
   "source": [
    "print(\"Expected price is about Rs\", int(pred_user_inp(user_inp)[0]))\n",
    "print(\"\\n\")\n",
    "print(\"NOTE :- \\n This is an approximate lower price for the user's laptop specification preferences, there could be a variance of about 15%\")"
   ]
  },
  {
   "cell_type": "markdown",
   "id": "58c7ab9a",
   "metadata": {},
   "source": [
    "________________________________________________________________________________________________________________________________\n"
   ]
  },
  {
   "cell_type": "markdown",
   "id": "8dca9855",
   "metadata": {},
   "source": [
    "-----------------------------------------------------------------------------------------------  THANK YOU   -----------------------------------------------------------------------------------------------"
   ]
  },
  {
   "cell_type": "code",
   "execution_count": null,
   "id": "fe051a09",
   "metadata": {},
   "outputs": [],
   "source": []
  }
 ],
 "metadata": {
  "kernelspec": {
   "display_name": "Python 3",
   "language": "python",
   "name": "python3"
  },
  "language_info": {
   "codemirror_mode": {
    "name": "ipython",
    "version": 3
   },
   "file_extension": ".py",
   "mimetype": "text/x-python",
   "name": "python",
   "nbconvert_exporter": "python",
   "pygments_lexer": "ipython3",
   "version": "3.8.8"
  }
 },
 "nbformat": 4,
 "nbformat_minor": 5
}
